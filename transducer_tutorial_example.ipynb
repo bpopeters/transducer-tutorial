{
  "nbformat": 4,
  "nbformat_minor": 0,
  "metadata": {
    "accelerator": "GPU",
    "colab": {
      "name": "transducer-tutorial-example.ipynb",
      "provenance": [],
      "collapsed_sections": [],
      "authorship_tag": "ABX9TyNVA774ldGFD9RyVc0qrvd3",
      "include_colab_link": true
    },
    "kernelspec": {
      "display_name": "Python 3",
      "name": "python3"
    }
  },
  "cells": [
    {
      "cell_type": "markdown",
      "metadata": {
        "id": "view-in-github",
        "colab_type": "text"
      },
      "source": [
        "<a href=\"https://colab.research.google.com/github/lorenlugosch/transducer-tutorial/blob/main/transducer_tutorial_example.ipynb\" target=\"_parent\"><img src=\"https://colab.research.google.com/assets/colab-badge.svg\" alt=\"Open In Colab\"/></a>"
      ]
    },
    {
      "cell_type": "markdown",
      "metadata": {
        "id": "BbwgR5UdNkkm"
      },
      "source": [
        "# Transducer implementation in PyTorch\n",
        "\n",
        "*by Loren Lugosch*\n"
      ]
    },
    {
      "cell_type": "markdown",
      "metadata": {
        "id": "yBlJNKsjTtaZ"
      },
      "source": [
        "\n",
        "In this notebook, we will implement a Transducer sequence-to-sequence model for inserting missing vowels into a sentence (\"Hll, Wrld\" --> \"Hello, World\")."
      ]
    },
    {
      "cell_type": "code",
      "metadata": {
        "id": "Q-iHU02C7fAj",
        "colab": {
          "base_uri": "https://localhost:8080/"
        },
        "outputId": "daf572ea-c2f0-454a-d2e5-942812c6e963"
      },
      "source": [
        "import torch\n",
        "import string\n",
        "import numpy as np\n",
        "import itertools\n",
        "from collections import Counter\n",
        "from tqdm import tqdm\n",
        "!pip install unidecode\n",
        "import unidecode\n",
        "\n",
        "# Some training data.\n",
        "# Poor Tolstoy, once again reduced to grist for the neural network mill!\n",
        "!wget https://raw.githubusercontent.com/lorenlugosch/infer_missing_vowels/master/data/train/war_and_peace.txt\n",
        "!pwd\n"
      ],
      "execution_count": 1,
      "outputs": [
        {
          "output_type": "stream",
          "text": [
            "Requirement already satisfied: unidecode in /usr/local/lib/python3.7/dist-packages (1.2.0)\n",
            "--2021-04-15 01:04:02--  https://raw.githubusercontent.com/lorenlugosch/infer_missing_vowels/master/data/train/war_and_peace.txt\n",
            "Resolving raw.githubusercontent.com (raw.githubusercontent.com)... 185.199.108.133, 185.199.109.133, 185.199.110.133, ...\n",
            "Connecting to raw.githubusercontent.com (raw.githubusercontent.com)|185.199.108.133|:443... connected.\n",
            "HTTP request sent, awaiting response... 200 OK\n",
            "Length: 3196229 (3.0M) [text/plain]\n",
            "Saving to: ‘war_and_peace.txt.3’\n",
            "\n",
            "war_and_peace.txt.3 100%[===================>]   3.05M  --.-KB/s    in 0.09s   \n",
            "\n",
            "2021-04-15 01:04:03 (34.2 MB/s) - ‘war_and_peace.txt.3’ saved [3196229/3196229]\n",
            "\n",
            "/content\n"
          ],
          "name": "stdout"
        }
      ]
    },
    {
      "cell_type": "markdown",
      "metadata": {
        "id": "CTfRgwxmjv1B"
      },
      "source": [
        "# Building blocks\n",
        "\n",
        "First, we will define the encoder, predictor, and joiner using standard neural nets.\n",
        "\n",
        "<img src=\"https://lorenlugosch.github.io/images/transducer/transducer-model.png\" width=\"25%\">"
      ]
    },
    {
      "cell_type": "code",
      "metadata": {
        "id": "B7mLFyUG7kJH"
      },
      "source": [
        "NULL_INDEX = 0\n",
        "\n",
        "encoder_dim = 1024\n",
        "predictor_dim = 1024\n",
        "joiner_dim = 1024"
      ],
      "execution_count": 2,
      "outputs": []
    },
    {
      "cell_type": "markdown",
      "metadata": {
        "id": "MABMTjrGY4vz"
      },
      "source": [
        "The encoder is any network that can take as input a variable-length sequence: so, RNNs, CNNs, and self-attention/Transformer encoders will all work.\n"
      ]
    },
    {
      "cell_type": "code",
      "metadata": {
        "id": "KE7j2T5EY33-"
      },
      "source": [
        "class Encoder(torch.nn.Module):\n",
        "  def __init__(self, num_inputs):\n",
        "    super(Encoder, self).__init__()\n",
        "    self.embed = torch.nn.Embedding(num_inputs, encoder_dim)\n",
        "    self.rnn = torch.nn.GRU(input_size=encoder_dim, hidden_size=encoder_dim, num_layers=3, batch_first=True, bidirectional=True, dropout=0.1)\n",
        "    self.linear = torch.nn.Linear(encoder_dim*2, joiner_dim)\n",
        "\n",
        "  def forward(self, x):\n",
        "    out = x\n",
        "    out = self.embed(out)\n",
        "    out = self.rnn(out)[0]\n",
        "    out = self.linear(out)\n",
        "    return out"
      ],
      "execution_count": 3,
      "outputs": []
    },
    {
      "cell_type": "markdown",
      "metadata": {
        "id": "BRknN6QRY9-g"
      },
      "source": [
        "The predictor is any _causal_ network (= can't look at the future): in other words, unidirectional RNNs, causal convolutions, or masked self-attention. "
      ]
    },
    {
      "cell_type": "code",
      "metadata": {
        "id": "hPARF5LmY7-r"
      },
      "source": [
        "class Predictor(torch.nn.Module):\n",
        "  def __init__(self, num_outputs):\n",
        "    super(Predictor, self).__init__()\n",
        "    self.embed = torch.nn.Embedding(num_outputs, predictor_dim)\n",
        "    self.rnn = torch.nn.GRUCell(input_size=predictor_dim, hidden_size=predictor_dim)\n",
        "    self.linear = torch.nn.Linear(predictor_dim, joiner_dim)\n",
        "    \n",
        "    self.initial_state = torch.nn.Parameter(torch.randn(predictor_dim))\n",
        "    self.start_symbol = NULL_INDEX # In the original paper, a vector of 0s is used; just using the null index instead is easier when using an Embedding layer.\n",
        "\n",
        "  def forward_one_step(self, input, previous_state):\n",
        "    embedding = self.embed(input)\n",
        "    state = self.rnn.forward(embedding, previous_state)\n",
        "    out = self.linear(state)\n",
        "    return out, state\n",
        "\n",
        "  def forward(self, y):\n",
        "    batch_size = y.shape[0]\n",
        "    U = y.shape[1]\n",
        "    outs = []\n",
        "    state = torch.stack([self.initial_state] * batch_size).to(y.device)\n",
        "    for u in range(U+1): # need U+1 to get null output for final timestep \n",
        "      if u == 0:\n",
        "        decoder_input = torch.tensor([self.start_symbol] * batch_size).to(y.device)\n",
        "      else:\n",
        "        decoder_input = y[:,u-1]\n",
        "      out, state = self.forward_one_step(decoder_input, state)\n",
        "      outs.append(out)\n",
        "    out = torch.stack(outs, dim=1)\n",
        "    return out"
      ],
      "execution_count": 4,
      "outputs": []
    },
    {
      "cell_type": "markdown",
      "metadata": {
        "id": "ZHPZ3PATZEAW"
      },
      "source": [
        "The joiner is a feedforward network/MLP with one hidden layer applied independently to each $(t,u)$ index.\n",
        "\n",
        "(The linear part of the hidden layer is contained in the encoder and predictor, so we just do the nonlinearity here and then the output layer.)"
      ]
    },
    {
      "cell_type": "code",
      "metadata": {
        "id": "Vlzca1orZDLa"
      },
      "source": [
        "class Joiner(torch.nn.Module):\n",
        "  def __init__(self, num_outputs):\n",
        "    super(Joiner, self).__init__()\n",
        "    self.linear = torch.nn.Linear(joiner_dim, num_outputs)\n",
        "\n",
        "  def forward(self, encoder_out, predictor_out):\n",
        "    out = encoder_out + predictor_out\n",
        "    out = torch.nn.functional.relu(out)\n",
        "    out = self.linear(out)\n",
        "    return out"
      ],
      "execution_count": 5,
      "outputs": []
    },
    {
      "cell_type": "markdown",
      "metadata": {
        "id": "a_-INbhSTApv"
      },
      "source": [
        "# Transducer model + loss function\n",
        "\n",
        "Using the encoder, predictor, and joiner, we will implement the Transducer model and its loss function.\n",
        "\n",
        "<img src=\"https://lorenlugosch.github.io/images/transducer/forward-messages.png\" width=\"25%\">"
      ]
    },
    {
      "cell_type": "markdown",
      "metadata": {
        "id": "bdcKwA_lkzxJ"
      },
      "source": [
        "We can use a simple PyTorch implementation of the loss function, relying on automatic differentiation to give us gradients."
      ]
    },
    {
      "cell_type": "code",
      "metadata": {
        "id": "sYSagKi-gHM4"
      },
      "source": [
        "class Transducer(torch.nn.Module):\n",
        "  def __init__(self, num_inputs, num_outputs):\n",
        "    super(Transducer, self).__init__()\n",
        "    self.encoder = Encoder(num_inputs)\n",
        "    self.predictor = Predictor(num_outputs)\n",
        "    self.joiner = Joiner(num_outputs)\n",
        "\n",
        "    if torch.cuda.is_available(): self.device = \"cuda:0\"\n",
        "    else: self.device = \"cpu\"\n",
        "    self.to(self.device)\n",
        "\n",
        "  def compute_forward_prob(self, joiner_out, T, U, y):\n",
        "    \"\"\"\n",
        "    joiner_out: tensor of shape (B, T_max, U_max+1, #labels)\n",
        "    T: list of input lengths\n",
        "    U: list of output lengths \n",
        "    y: label tensor (B, U_max+1)\n",
        "    \"\"\"\n",
        "    B = joiner_out.shape[0]\n",
        "    T_max = joiner_out.shape[1]\n",
        "    U_max = joiner_out.shape[2] - 1\n",
        "    log_alpha = torch.zeros(B, T_max, U_max+1).to(model.device)\n",
        "    for t in range(T_max):\n",
        "      for u in range(U_max+1):\n",
        "          if u == 0:\n",
        "            if t == 0:\n",
        "              log_alpha[:, t, u] = 0.\n",
        "\n",
        "            else: #t > 0\n",
        "              log_alpha[:, t, u] = log_alpha[:, t-1, u] + joiner_out[:, t-1, 0, NULL_INDEX] \n",
        "                  \n",
        "          else: #u > 0\n",
        "            if t == 0:\n",
        "              log_alpha[:, t, u] = log_alpha[:, t,u-1] + torch.gather(joiner_out[:, t, u-1], dim=1, index=y[:,u-1].view(-1,1) ).reshape(-1)\n",
        "            \n",
        "            else: #t > 0\n",
        "              log_alpha[:, t, u] = torch.logsumexp(torch.stack([\n",
        "                  log_alpha[:, t-1, u] + joiner_out[:, t-1, u, NULL_INDEX],\n",
        "                  log_alpha[:, t, u-1] + torch.gather(joiner_out[:, t, u-1], dim=1, index=y[:,u-1].view(-1,1) ).reshape(-1)\n",
        "              ]), dim=0)\n",
        "    \n",
        "    log_probs = []\n",
        "    for b in range(B):\n",
        "      log_prob = log_alpha[b, T[b]-1, U[b]] + joiner_out[b, T[b]-1, U[b], NULL_INDEX]\n",
        "      log_probs.append(log_prob)\n",
        "    log_probs = torch.stack(log_probs) \n",
        "    return log_prob\n",
        "\n",
        "  def compute_loss(self, x, y, T, U):\n",
        "    encoder_out = self.encoder.forward(x)\n",
        "    predictor_out = self.predictor.forward(y)\n",
        "    joiner_out = self.joiner.forward(encoder_out.unsqueeze(2), predictor_out.unsqueeze(1)).log_softmax(3)\n",
        "    loss = -self.compute_forward_prob(joiner_out, T, U, y).mean()\n",
        "    return loss"
      ],
      "execution_count": 6,
      "outputs": []
    },
    {
      "cell_type": "markdown",
      "metadata": {
        "id": "IK0c2S2xaARd"
      },
      "source": [
        "Let's first verify that the forward algorithm actually correctly computes the sum (in log space, the [logsumexp](https://lorenlugosch.github.io/posts/2020/06/logsumexp/)) of all possible alignments, using a short input/output pair for which computing all possible alignments is feasible.\n",
        "\n",
        "<img src=\"https://lorenlugosch.github.io/images/transducer/cat-align-1.png\" width=\"25%\">"
      ]
    },
    {
      "cell_type": "code",
      "metadata": {
        "id": "RWtkoXH6U8Pm"
      },
      "source": [
        "def compute_single_alignment_prob(self, encoder_out, predictor_out, T, U, z, y):\n",
        "    \"\"\"\n",
        "    Computes the probability of one alignment, z.\n",
        "    \"\"\"\n",
        "    t = 0; u = 0\n",
        "    t_u_indices = []\n",
        "    y_expanded = []\n",
        "    for step in z:\n",
        "      t_u_indices.append((t,u))\n",
        "      if step == 0: # right (null)\n",
        "        y_expanded.append(NULL_INDEX)\n",
        "        t += 1\n",
        "      if step == 1: # down (label)\n",
        "        y_expanded.append(y[u])\n",
        "        u += 1\n",
        "    t_u_indices.append((T-1,U))\n",
        "    y_expanded.append(NULL_INDEX)\n",
        "\n",
        "    t_indices = [t for (t,u) in t_u_indices]\n",
        "    u_indices = [u for (t,u) in t_u_indices]\n",
        "    encoder_out_expanded = encoder_out[t_indices]\n",
        "    predictor_out_expanded = predictor_out[u_indices]\n",
        "    joiner_out = self.joiner.forward(encoder_out_expanded, predictor_out_expanded).log_softmax(1)\n",
        "    logprob = -torch.nn.functional.nll_loss(input=joiner_out, target=torch.tensor(y_expanded).long().to(self.device), reduction=\"sum\")\n",
        "    return logprob\n",
        "\n",
        "Transducer.compute_single_alignment_prob = compute_single_alignment_prob"
      ],
      "execution_count": 7,
      "outputs": []
    },
    {
      "cell_type": "code",
      "metadata": {
        "id": "e8xzM0dZfea9",
        "colab": {
          "base_uri": "https://localhost:8080/"
        },
        "outputId": "4b594710-fcb3-436e-bebb-ac6c15db7b92"
      },
      "source": [
        "# Generate example inputs/outputs\n",
        "num_outputs = len(string.ascii_uppercase) + 1 # [null, A, B, ... Z]\n",
        "model = Transducer(1, num_outputs)\n",
        "y_letters = \"CAT\"\n",
        "y = torch.tensor([string.ascii_uppercase.index(l) + 1 for l in y_letters]).unsqueeze(0).to(model.device)\n",
        "T = torch.tensor([4]); U = torch.tensor([len(y_letters)]); B = 1\n",
        "\n",
        "encoder_out = torch.randn(B, T, joiner_dim).to(model.device)\n",
        "predictor_out = torch.randn(B, U+1, joiner_dim).to(model.device)\n",
        "joiner_out = model.joiner.forward(encoder_out.unsqueeze(2), predictor_out.unsqueeze(1)).log_softmax(3)\n",
        "\n",
        "#######################################################\n",
        "# Compute loss by enumerating all possible alignments #\n",
        "#######################################################\n",
        "all_permutations = list(itertools.permutations([0]*(T-1) + [1]*U))\n",
        "all_distinct_permutations = list(Counter(all_permutations).keys())\n",
        "alignment_probs = []\n",
        "for z in all_distinct_permutations:\n",
        "  alignment_prob = model.compute_single_alignment_prob(encoder_out[0], predictor_out[0], T.item(), U.item(), z, y[0])\n",
        "  alignment_probs.append(alignment_prob)\n",
        "loss_enumerate = -torch.tensor(alignment_probs).logsumexp(0)\n",
        "\n",
        "#######################################################\n",
        "# Compute loss using the forward algorithm            #\n",
        "#######################################################\n",
        "loss_forward = -model.compute_forward_prob(joiner_out, T, U, y)\n",
        "\n",
        "print(\"Loss computed by enumerating all possible alignments: \", loss_enumerate)\n",
        "print(\"Loss computed using the forward algorithm: \", loss_forward)"
      ],
      "execution_count": 8,
      "outputs": [
        {
          "output_type": "stream",
          "text": [
            "Loss computed by enumerating all possible alignments:  tensor(19.4062)\n",
            "Loss computed using the forward algorithm:  tensor(19.4062, device='cuda:0', grad_fn=<NegBackward>)\n"
          ],
          "name": "stdout"
        }
      ]
    },
    {
      "cell_type": "markdown",
      "metadata": {
        "id": "WSBAwQONf3z9"
      },
      "source": [
        "Now let's add the greedy search algorithm for predicting an output sequence.\n",
        "\n",
        "(Note that I've assumed we're using RNNs for the predictor here. You would have to modify this code a bit if you want to use convolutions/self-attention instead.) \n",
        "<br/><br/>\n",
        "<img src=\"https://lorenlugosch.github.io/images/transducer/greedy-search.png\" width=\"50%\">"
      ]
    },
    {
      "cell_type": "code",
      "metadata": {
        "id": "V0xeyb7Jf18_"
      },
      "source": [
        "def greedy_search(self, x, T):\n",
        "  y_batch = []\n",
        "  B = len(x)\n",
        "  encoder_out = self.encoder.forward(x)\n",
        "  U_max = 200\n",
        "  for b in range(B):\n",
        "    t = 0; u = 0; y = [self.predictor.start_symbol]; predictor_state = self.predictor.initial_state.unsqueeze(0)\n",
        "    while t < T[b] and u < U_max:\n",
        "      predictor_input = torch.tensor([ y[-1] ]).to(x.device)\n",
        "      g_u, predictor_state = self.predictor.forward_one_step(predictor_input, predictor_state)\n",
        "      f_t = encoder_out[b, t]\n",
        "      h_t_u = self.joiner.forward(f_t, g_u)\n",
        "      argmax = h_t_u.max(-1)[1].item()\n",
        "      if argmax == NULL_INDEX:\n",
        "        t += 1\n",
        "      else: # argmax == a label\n",
        "        u += 1\n",
        "        y.append(argmax)\n",
        "    y_batch.append(y[1:]) # remove start symbol\n",
        "  return y_batch\n",
        "\n",
        "Transducer.greedy_search = greedy_search"
      ],
      "execution_count": 9,
      "outputs": []
    },
    {
      "cell_type": "markdown",
      "metadata": {
        "id": "82XU9-gr3goI"
      },
      "source": [
        "The code above will work, but training will be very slow because the Transducer loss is written in pure Python. You can use the fast implementation from SpeechBrain instead by running the block below."
      ]
    },
    {
      "cell_type": "code",
      "metadata": {
        "colab": {
          "base_uri": "https://localhost:8080/"
        },
        "id": "qhUQMJ-23f2y",
        "outputId": "f172b0ae-366c-40a1-fb0b-9a6d943d2dc8"
      },
      "source": [
        "!pip install speechbrain\n",
        "!git clone https://github.com/speechbrain/speechbrain.git\n",
        "%cd speechbrain\n",
        "!pip install -r requirements.txt\n",
        "!pip install --editable .\n",
        "%cd /content\n",
        "!pip install numba\n",
        "from speechbrain.nnet.loss.transducer_loss import TransducerLoss\n",
        "transducer_loss = TransducerLoss(0)\n",
        "\n",
        "def compute_loss(self, x, y, T, U):\n",
        "    encoder_out = self.encoder.forward(x)\n",
        "    predictor_out = self.predictor.forward(y)\n",
        "    joiner_out = self.joiner.forward(encoder_out.unsqueeze(2), predictor_out.unsqueeze(1)).log_softmax(3)\n",
        "    #loss = -self.compute_forward_prob(joiner_out, T, U, y).mean()\n",
        "    T = T.to(joiner_out.device)\n",
        "    U = U.to(joiner_out.device)\n",
        "    loss = transducer_loss(joiner_out, y, T, U) #, blank_index=NULL_INDEX, reduction=\"mean\")\n",
        "    return loss\n",
        "\n",
        "Transducer.compute_loss = compute_loss"
      ],
      "execution_count": 10,
      "outputs": [
        {
          "output_type": "stream",
          "text": [
            "Requirement already satisfied: speechbrain in ./speechbrain (0.5.5)\n",
            "Requirement already satisfied: hyperpyyaml in /usr/local/lib/python3.7/dist-packages (from speechbrain) (1.0.0)\n",
            "Requirement already satisfied: joblib in /usr/local/lib/python3.7/dist-packages (from speechbrain) (1.0.1)\n",
            "Requirement already satisfied: numpy in /usr/local/lib/python3.7/dist-packages (from speechbrain) (1.19.5)\n",
            "Requirement already satisfied: packaging in /usr/local/lib/python3.7/dist-packages (from speechbrain) (20.9)\n",
            "Requirement already satisfied: scipy in /usr/local/lib/python3.7/dist-packages (from speechbrain) (1.4.1)\n",
            "Requirement already satisfied: sentencepiece in /usr/local/lib/python3.7/dist-packages (from speechbrain) (0.1.95)\n",
            "Requirement already satisfied: torch in /usr/local/lib/python3.7/dist-packages (from speechbrain) (1.8.1+cu101)\n",
            "Requirement already satisfied: torchaudio in /usr/local/lib/python3.7/dist-packages (from speechbrain) (0.8.1)\n",
            "Requirement already satisfied: tqdm in /usr/local/lib/python3.7/dist-packages (from speechbrain) (4.60.0)\n",
            "Requirement already satisfied: huggingface_hub in /usr/local/lib/python3.7/dist-packages (from speechbrain) (0.0.8)\n",
            "Requirement already satisfied: ruamel.yaml>=0.15 in /usr/local/lib/python3.7/dist-packages (from hyperpyyaml->speechbrain) (0.17.4)\n",
            "Requirement already satisfied: pyyaml>=5.1 in /usr/local/lib/python3.7/dist-packages (from hyperpyyaml->speechbrain) (5.4.1)\n",
            "Requirement already satisfied: pyparsing>=2.0.2 in /usr/local/lib/python3.7/dist-packages (from packaging->speechbrain) (2.4.7)\n",
            "Requirement already satisfied: typing-extensions in /usr/local/lib/python3.7/dist-packages (from torch->speechbrain) (3.7.4.3)\n",
            "Requirement already satisfied: requests in /usr/local/lib/python3.7/dist-packages (from huggingface_hub->speechbrain) (2.23.0)\n",
            "Requirement already satisfied: importlib-metadata; python_version < \"3.8\" in /usr/local/lib/python3.7/dist-packages (from huggingface_hub->speechbrain) (3.10.0)\n",
            "Requirement already satisfied: filelock in /usr/local/lib/python3.7/dist-packages (from huggingface_hub->speechbrain) (3.0.12)\n",
            "Requirement already satisfied: ruamel.yaml.clib>=0.1.2; platform_python_implementation == \"CPython\" and python_version < \"3.10\" in /usr/local/lib/python3.7/dist-packages (from ruamel.yaml>=0.15->hyperpyyaml->speechbrain) (0.2.2)\n",
            "Requirement already satisfied: certifi>=2017.4.17 in /usr/local/lib/python3.7/dist-packages (from requests->huggingface_hub->speechbrain) (2020.12.5)\n",
            "Requirement already satisfied: idna<3,>=2.5 in /usr/local/lib/python3.7/dist-packages (from requests->huggingface_hub->speechbrain) (2.10)\n",
            "Requirement already satisfied: chardet<4,>=3.0.2 in /usr/local/lib/python3.7/dist-packages (from requests->huggingface_hub->speechbrain) (3.0.4)\n",
            "Requirement already satisfied: urllib3!=1.25.0,!=1.25.1,<1.26,>=1.21.1 in /usr/local/lib/python3.7/dist-packages (from requests->huggingface_hub->speechbrain) (1.24.3)\n",
            "Requirement already satisfied: zipp>=0.5 in /usr/local/lib/python3.7/dist-packages (from importlib-metadata; python_version < \"3.8\"->huggingface_hub->speechbrain) (3.4.1)\n",
            "fatal: destination path 'speechbrain' already exists and is not an empty directory.\n",
            "/content/speechbrain\n",
            "Ignoring SoundFile: markers 'sys_platform == \"win32\"' don't match your environment\n",
            "Requirement already satisfied: black==19.10b0 in /usr/local/lib/python3.7/dist-packages (from -r lint-requirements.txt (line 1)) (19.10b0)\n",
            "Requirement already satisfied: flake8==3.7.9 in /usr/local/lib/python3.7/dist-packages (from -r lint-requirements.txt (line 2)) (3.7.9)\n",
            "Requirement already satisfied: pycodestyle==2.5.0 in /usr/local/lib/python3.7/dist-packages (from -r lint-requirements.txt (line 3)) (2.5.0)\n",
            "Requirement already satisfied: pytest==5.4.1 in /usr/local/lib/python3.7/dist-packages (from -r lint-requirements.txt (line 4)) (5.4.1)\n",
            "Requirement already satisfied: yamllint==1.23.0 in /usr/local/lib/python3.7/dist-packages (from -r lint-requirements.txt (line 5)) (1.23.0)\n",
            "Requirement already satisfied: hyperpyyaml>=0.0.1 in /usr/local/lib/python3.7/dist-packages (from -r requirements.txt (line 2)) (1.0.0)\n",
            "Requirement already satisfied: joblib>=0.14.1 in /usr/local/lib/python3.7/dist-packages (from -r requirements.txt (line 3)) (1.0.1)\n",
            "Requirement already satisfied: numpy>=1.17.0 in /usr/local/lib/python3.7/dist-packages (from -r requirements.txt (line 4)) (1.19.5)\n",
            "Requirement already satisfied: packaging in /usr/local/lib/python3.7/dist-packages (from -r requirements.txt (line 5)) (20.9)\n",
            "Requirement already satisfied: pre-commit>=2.3.0 in /usr/local/lib/python3.7/dist-packages (from -r requirements.txt (line 6)) (2.12.0)\n",
            "Requirement already satisfied: scipy>=1.4.1 in /usr/local/lib/python3.7/dist-packages (from -r requirements.txt (line 7)) (1.4.1)\n",
            "Requirement already satisfied: sentencepiece>=0.1.91 in /usr/local/lib/python3.7/dist-packages (from -r requirements.txt (line 8)) (0.1.95)\n",
            "Requirement already satisfied: torch>=1.7.1 in /usr/local/lib/python3.7/dist-packages (from -r requirements.txt (line 9)) (1.8.1+cu101)\n",
            "Requirement already satisfied: torchaudio>=0.7.2 in /usr/local/lib/python3.7/dist-packages (from -r requirements.txt (line 10)) (0.8.1)\n",
            "Requirement already satisfied: tqdm>=4.42.0 in /usr/local/lib/python3.7/dist-packages (from -r requirements.txt (line 11)) (4.60.0)\n",
            "Requirement already satisfied: huggingface_hub>=0.0.6 in /usr/local/lib/python3.7/dist-packages (from -r requirements.txt (line 12)) (0.0.8)\n",
            "Requirement already satisfied: click>=6.5 in /usr/local/lib/python3.7/dist-packages (from black==19.10b0->-r lint-requirements.txt (line 1)) (7.1.2)\n",
            "Requirement already satisfied: attrs>=18.1.0 in /usr/local/lib/python3.7/dist-packages (from black==19.10b0->-r lint-requirements.txt (line 1)) (20.3.0)\n",
            "Requirement already satisfied: regex in /usr/local/lib/python3.7/dist-packages (from black==19.10b0->-r lint-requirements.txt (line 1)) (2019.12.20)\n",
            "Requirement already satisfied: toml>=0.9.4 in /usr/local/lib/python3.7/dist-packages (from black==19.10b0->-r lint-requirements.txt (line 1)) (0.10.2)\n",
            "Requirement already satisfied: pathspec<1,>=0.6 in /usr/local/lib/python3.7/dist-packages (from black==19.10b0->-r lint-requirements.txt (line 1)) (0.8.1)\n",
            "Requirement already satisfied: typed-ast>=1.4.0 in /usr/local/lib/python3.7/dist-packages (from black==19.10b0->-r lint-requirements.txt (line 1)) (1.4.3)\n",
            "Requirement already satisfied: appdirs in /usr/local/lib/python3.7/dist-packages (from black==19.10b0->-r lint-requirements.txt (line 1)) (1.4.4)\n",
            "Requirement already satisfied: pyflakes<2.2.0,>=2.1.0 in /usr/local/lib/python3.7/dist-packages (from flake8==3.7.9->-r lint-requirements.txt (line 2)) (2.1.1)\n",
            "Requirement already satisfied: mccabe<0.7.0,>=0.6.0 in /usr/local/lib/python3.7/dist-packages (from flake8==3.7.9->-r lint-requirements.txt (line 2)) (0.6.1)\n",
            "Requirement already satisfied: entrypoints<0.4.0,>=0.3.0 in /usr/local/lib/python3.7/dist-packages (from flake8==3.7.9->-r lint-requirements.txt (line 2)) (0.3)\n",
            "Requirement already satisfied: more-itertools>=4.0.0 in /usr/local/lib/python3.7/dist-packages (from pytest==5.4.1->-r lint-requirements.txt (line 4)) (8.7.0)\n",
            "Requirement already satisfied: pluggy<1.0,>=0.12 in /usr/local/lib/python3.7/dist-packages (from pytest==5.4.1->-r lint-requirements.txt (line 4)) (0.13.1)\n",
            "Requirement already satisfied: wcwidth in /usr/local/lib/python3.7/dist-packages (from pytest==5.4.1->-r lint-requirements.txt (line 4)) (0.2.5)\n",
            "Requirement already satisfied: importlib-metadata>=0.12; python_version < \"3.8\" in /usr/local/lib/python3.7/dist-packages (from pytest==5.4.1->-r lint-requirements.txt (line 4)) (3.10.0)\n",
            "Requirement already satisfied: py>=1.5.0 in /usr/local/lib/python3.7/dist-packages (from pytest==5.4.1->-r lint-requirements.txt (line 4)) (1.10.0)\n",
            "Requirement already satisfied: pyyaml in /usr/local/lib/python3.7/dist-packages (from yamllint==1.23.0->-r lint-requirements.txt (line 5)) (5.4.1)\n",
            "Requirement already satisfied: ruamel.yaml>=0.15 in /usr/local/lib/python3.7/dist-packages (from hyperpyyaml>=0.0.1->-r requirements.txt (line 2)) (0.17.4)\n",
            "Requirement already satisfied: pyparsing>=2.0.2 in /usr/local/lib/python3.7/dist-packages (from packaging->-r requirements.txt (line 5)) (2.4.7)\n",
            "Requirement already satisfied: identify>=1.0.0 in /usr/local/lib/python3.7/dist-packages (from pre-commit>=2.3.0->-r requirements.txt (line 6)) (2.2.3)\n",
            "Requirement already satisfied: virtualenv>=20.0.8 in /usr/local/lib/python3.7/dist-packages (from pre-commit>=2.3.0->-r requirements.txt (line 6)) (20.4.3)\n",
            "Requirement already satisfied: cfgv>=2.0.0 in /usr/local/lib/python3.7/dist-packages (from pre-commit>=2.3.0->-r requirements.txt (line 6)) (3.2.0)\n",
            "Requirement already satisfied: nodeenv>=0.11.1 in /usr/local/lib/python3.7/dist-packages (from pre-commit>=2.3.0->-r requirements.txt (line 6)) (1.6.0)\n",
            "Requirement already satisfied: typing-extensions in /usr/local/lib/python3.7/dist-packages (from torch>=1.7.1->-r requirements.txt (line 9)) (3.7.4.3)\n",
            "Requirement already satisfied: filelock in /usr/local/lib/python3.7/dist-packages (from huggingface_hub>=0.0.6->-r requirements.txt (line 12)) (3.0.12)\n",
            "Requirement already satisfied: requests in /usr/local/lib/python3.7/dist-packages (from huggingface_hub>=0.0.6->-r requirements.txt (line 12)) (2.23.0)\n",
            "Requirement already satisfied: zipp>=0.5 in /usr/local/lib/python3.7/dist-packages (from importlib-metadata>=0.12; python_version < \"3.8\"->pytest==5.4.1->-r lint-requirements.txt (line 4)) (3.4.1)\n",
            "Requirement already satisfied: ruamel.yaml.clib>=0.1.2; platform_python_implementation == \"CPython\" and python_version < \"3.10\" in /usr/local/lib/python3.7/dist-packages (from ruamel.yaml>=0.15->hyperpyyaml>=0.0.1->-r requirements.txt (line 2)) (0.2.2)\n",
            "Requirement already satisfied: six<2,>=1.9.0 in /usr/local/lib/python3.7/dist-packages (from virtualenv>=20.0.8->pre-commit>=2.3.0->-r requirements.txt (line 6)) (1.15.0)\n",
            "Requirement already satisfied: distlib<1,>=0.3.1 in /usr/local/lib/python3.7/dist-packages (from virtualenv>=20.0.8->pre-commit>=2.3.0->-r requirements.txt (line 6)) (0.3.1)\n",
            "Requirement already satisfied: idna<3,>=2.5 in /usr/local/lib/python3.7/dist-packages (from requests->huggingface_hub>=0.0.6->-r requirements.txt (line 12)) (2.10)\n",
            "Requirement already satisfied: certifi>=2017.4.17 in /usr/local/lib/python3.7/dist-packages (from requests->huggingface_hub>=0.0.6->-r requirements.txt (line 12)) (2020.12.5)\n",
            "Requirement already satisfied: urllib3!=1.25.0,!=1.25.1,<1.26,>=1.21.1 in /usr/local/lib/python3.7/dist-packages (from requests->huggingface_hub>=0.0.6->-r requirements.txt (line 12)) (1.24.3)\n",
            "Requirement already satisfied: chardet<4,>=3.0.2 in /usr/local/lib/python3.7/dist-packages (from requests->huggingface_hub>=0.0.6->-r requirements.txt (line 12)) (3.0.4)\n",
            "Obtaining file:///content/speechbrain\n",
            "  Installing build dependencies ... \u001b[?25l\u001b[?25hdone\n",
            "  Getting requirements to build wheel ... \u001b[?25l\u001b[?25hdone\n",
            "    Preparing wheel metadata ... \u001b[?25l\u001b[?25hdone\n",
            "Requirement already satisfied: sentencepiece in /usr/local/lib/python3.7/dist-packages (from speechbrain==0.5.5) (0.1.95)\n",
            "Requirement already satisfied: numpy in /usr/local/lib/python3.7/dist-packages (from speechbrain==0.5.5) (1.19.5)\n",
            "Requirement already satisfied: hyperpyyaml in /usr/local/lib/python3.7/dist-packages (from speechbrain==0.5.5) (1.0.0)\n",
            "Requirement already satisfied: tqdm in /usr/local/lib/python3.7/dist-packages (from speechbrain==0.5.5) (4.60.0)\n",
            "Requirement already satisfied: huggingface-hub in /usr/local/lib/python3.7/dist-packages (from speechbrain==0.5.5) (0.0.8)\n",
            "Requirement already satisfied: packaging in /usr/local/lib/python3.7/dist-packages (from speechbrain==0.5.5) (20.9)\n",
            "Requirement already satisfied: torchaudio in /usr/local/lib/python3.7/dist-packages (from speechbrain==0.5.5) (0.8.1)\n",
            "Requirement already satisfied: joblib in /usr/local/lib/python3.7/dist-packages (from speechbrain==0.5.5) (1.0.1)\n",
            "Requirement already satisfied: torch in /usr/local/lib/python3.7/dist-packages (from speechbrain==0.5.5) (1.8.1+cu101)\n",
            "Requirement already satisfied: scipy in /usr/local/lib/python3.7/dist-packages (from speechbrain==0.5.5) (1.4.1)\n",
            "Requirement already satisfied: ruamel.yaml>=0.15 in /usr/local/lib/python3.7/dist-packages (from hyperpyyaml->speechbrain==0.5.5) (0.17.4)\n",
            "Requirement already satisfied: pyyaml>=5.1 in /usr/local/lib/python3.7/dist-packages (from hyperpyyaml->speechbrain==0.5.5) (5.4.1)\n",
            "Requirement already satisfied: importlib-metadata; python_version < \"3.8\" in /usr/local/lib/python3.7/dist-packages (from huggingface-hub->speechbrain==0.5.5) (3.10.0)\n",
            "Requirement already satisfied: requests in /usr/local/lib/python3.7/dist-packages (from huggingface-hub->speechbrain==0.5.5) (2.23.0)\n",
            "Requirement already satisfied: filelock in /usr/local/lib/python3.7/dist-packages (from huggingface-hub->speechbrain==0.5.5) (3.0.12)\n",
            "Requirement already satisfied: pyparsing>=2.0.2 in /usr/local/lib/python3.7/dist-packages (from packaging->speechbrain==0.5.5) (2.4.7)\n",
            "Requirement already satisfied: typing-extensions in /usr/local/lib/python3.7/dist-packages (from torch->speechbrain==0.5.5) (3.7.4.3)\n",
            "Requirement already satisfied: ruamel.yaml.clib>=0.1.2; platform_python_implementation == \"CPython\" and python_version < \"3.10\" in /usr/local/lib/python3.7/dist-packages (from ruamel.yaml>=0.15->hyperpyyaml->speechbrain==0.5.5) (0.2.2)\n",
            "Requirement already satisfied: zipp>=0.5 in /usr/local/lib/python3.7/dist-packages (from importlib-metadata; python_version < \"3.8\"->huggingface-hub->speechbrain==0.5.5) (3.4.1)\n",
            "Requirement already satisfied: idna<3,>=2.5 in /usr/local/lib/python3.7/dist-packages (from requests->huggingface-hub->speechbrain==0.5.5) (2.10)\n",
            "Requirement already satisfied: urllib3!=1.25.0,!=1.25.1,<1.26,>=1.21.1 in /usr/local/lib/python3.7/dist-packages (from requests->huggingface-hub->speechbrain==0.5.5) (1.24.3)\n",
            "Requirement already satisfied: chardet<4,>=3.0.2 in /usr/local/lib/python3.7/dist-packages (from requests->huggingface-hub->speechbrain==0.5.5) (3.0.4)\n",
            "Requirement already satisfied: certifi>=2017.4.17 in /usr/local/lib/python3.7/dist-packages (from requests->huggingface-hub->speechbrain==0.5.5) (2020.12.5)\n",
            "Installing collected packages: speechbrain\n",
            "  Found existing installation: speechbrain 0.5.5\n",
            "    Can't uninstall 'speechbrain'. No files were found to uninstall.\n",
            "  Running setup.py develop for speechbrain\n",
            "Successfully installed speechbrain\n",
            "/content\n",
            "Requirement already satisfied: numba in /usr/local/lib/python3.7/dist-packages (0.51.2)\n",
            "Requirement already satisfied: setuptools in /usr/local/lib/python3.7/dist-packages (from numba) (54.2.0)\n",
            "Requirement already satisfied: numpy>=1.15 in /usr/local/lib/python3.7/dist-packages (from numba) (1.19.5)\n",
            "Requirement already satisfied: llvmlite<0.35,>=0.34.0.dev0 in /usr/local/lib/python3.7/dist-packages (from numba) (0.34.0)\n"
          ],
          "name": "stdout"
        }
      ]
    },
    {
      "cell_type": "markdown",
      "metadata": {
        "id": "Ff9raB0jVGzN"
      },
      "source": [
        "# Some utilities\n",
        "\n",
        "Here we will add a bit of boilerplate code for training and loading data."
      ]
    },
    {
      "cell_type": "code",
      "metadata": {
        "id": "5b17OQm4WdVy",
        "colab": {
          "base_uri": "https://localhost:8080/"
        },
        "outputId": "d81289ee-fecb-4311-a2c2-80ff8e887a21"
      },
      "source": [
        "class TextDataset(torch.utils.data.Dataset):\n",
        "  def __init__(self, lines, batch_size):\n",
        "    lines = list(filter((\"\\n\").__ne__, lines))\n",
        "\n",
        "    self.lines = lines # list of strings\n",
        "    collate = Collate()\n",
        "    self.loader = torch.utils.data.DataLoader(self, batch_size=batch_size, num_workers=1, shuffle=True, collate_fn=collate)\n",
        "\n",
        "  def __len__(self):\n",
        "    return len(self.lines)\n",
        "\n",
        "  def __getitem__(self, idx):\n",
        "    line = self.lines[idx].replace(\"\\n\", \"\")\n",
        "    line = unidecode.unidecode(line) # remove special characters\n",
        "    x = \"\".join(c for c in line if c not in \"AEIOUaeiou\") # remove vowels from input\n",
        "    y = line\n",
        "    return (x,y)\n",
        "\n",
        "def encode_string(s):\n",
        "  for c in s:\n",
        "    if c not in string.printable:\n",
        "      print(s)\n",
        "  return [string.printable.index(c) + 1 for c in s]\n",
        "\n",
        "def decode_labels(l):\n",
        "  return \"\".join([string.printable[c - 1] for c in l])\n",
        "\n",
        "class Collate:\n",
        "  def __call__(self, batch):\n",
        "    \"\"\"\n",
        "    batch: list of tuples (input string, output string)\n",
        "    Returns a minibatch of strings, encoded as labels and padded to have the same length.\n",
        "    \"\"\"\n",
        "    x = []; y = []\n",
        "    batch_size = len(batch)\n",
        "    for index in range(batch_size):\n",
        "      x_,y_ = batch[index]\n",
        "      x.append(encode_string(x_))\n",
        "      y.append(encode_string(y_))\n",
        "\n",
        "    # pad all sequences to have same length\n",
        "    T = [len(x_) for x_ in x]\n",
        "    U = [len(y_) for y_ in y]\n",
        "    T_max = max(T)\n",
        "    U_max = max(U)\n",
        "    for index in range(batch_size):\n",
        "      x[index] += [NULL_INDEX] * (T_max - len(x[index]))\n",
        "      x[index] = torch.tensor(x[index])\n",
        "      y[index] += [NULL_INDEX] * (U_max - len(y[index]))\n",
        "      y[index] = torch.tensor(y[index])\n",
        "\n",
        "    # stack into single tensor\n",
        "    x = torch.stack(x)\n",
        "    y = torch.stack(y)\n",
        "    T = torch.tensor(T)\n",
        "    U = torch.tensor(U)\n",
        "\n",
        "    return (x,y,T,U)\n",
        "\n",
        "with open(\"war_and_peace.txt\", \"r\") as f:\n",
        "  lines = f.readlines()\n",
        "\n",
        "end = round(0.9 * len(lines))\n",
        "train_lines = lines[:end]\n",
        "test_lines = lines[end:]\n",
        "train_set = TextDataset(train_lines, batch_size=64) #8)\n",
        "test_set = TextDataset(test_lines, batch_size=64) #8)\n",
        "train_set.__getitem__(0)"
      ],
      "execution_count": 11,
      "outputs": [
        {
          "output_type": "execute_result",
          "data": {
            "text/plain": [
              "('\"Wll, Prnc, s Gn nd Lcc r nw jst fmly stts f th',\n",
              " '\"Well, Prince, so Genoa and Lucca are now just family estates of the')"
            ]
          },
          "metadata": {
            "tags": []
          },
          "execution_count": 11
        }
      ]
    },
    {
      "cell_type": "code",
      "metadata": {
        "id": "gaZEQYzfFEQ0"
      },
      "source": [
        "class Trainer:\n",
        "  def __init__(self, model, lr):\n",
        "    self.model = model\n",
        "    self.lr = lr\n",
        "    self.optimizer = torch.optim.Adam(model.parameters(), lr=self.lr)\n",
        "  \n",
        "  def train(self, dataset, print_interval = 20):\n",
        "    train_loss = 0\n",
        "    num_samples = 0\n",
        "    self.model.train()\n",
        "    pbar = tqdm(dataset.loader)\n",
        "    for idx, batch in enumerate(pbar):\n",
        "      x,y,T,U = batch\n",
        "      x = x.to(self.model.device); y = y.to(self.model.device)\n",
        "      batch_size = len(x)\n",
        "      num_samples += batch_size\n",
        "      loss = self.model.compute_loss(x,y,T,U)\n",
        "      self.optimizer.zero_grad()\n",
        "      pbar.set_description(\"%.2f\" % loss.item())\n",
        "      loss.backward()\n",
        "      self.optimizer.step()\n",
        "      train_loss += loss.item() * batch_size\n",
        "      if idx % print_interval == 0:\n",
        "        self.model.eval()\n",
        "        guesses = self.model.greedy_search(x,T)\n",
        "        self.model.train()\n",
        "        print(\"\\n\")\n",
        "        for b in range(2):\n",
        "          print(\"input:\", decode_labels(x[b,:T[b]]))\n",
        "          print(\"guess:\", decode_labels(guesses[b]))\n",
        "          print(\"truth:\", decode_labels(y[b,:U[b]]))\n",
        "          print(\"\")\n",
        "    train_loss /= num_samples\n",
        "    return train_loss\n",
        "\n",
        "  def test(self, dataset, print_interval=1):\n",
        "    test_loss = 0\n",
        "    num_samples = 0\n",
        "    self.model.eval()\n",
        "    pbar = tqdm(dataset.loader)\n",
        "    for idx, batch in enumerate(pbar):\n",
        "      x,y,T,U = batch\n",
        "      x = x.to(self.model.device); y = y.to(self.model.device)\n",
        "      batch_size = len(x)\n",
        "      num_samples += batch_size\n",
        "      loss = self.model.compute_loss(x,y,T,U)\n",
        "      pbar.set_description(\"%.2f\" % loss.item())\n",
        "      test_loss += loss.item() * batch_size\n",
        "      if idx % print_interval == 0:\n",
        "        print(\"\\n\")\n",
        "        print(\"input:\", decode_labels(x[0,:T[0]]))\n",
        "        print(\"guess:\", decode_labels(self.model.greedy_search(x,T)[0]))\n",
        "        print(\"truth:\", decode_labels(y[0,:U[0]]))\n",
        "        print(\"\")\n",
        "    test_loss /= num_samples\n",
        "    return test_loss\n",
        "    "
      ],
      "execution_count": 12,
      "outputs": []
    },
    {
      "cell_type": "markdown",
      "metadata": {
        "id": "q4PupgBKWe6p"
      },
      "source": [
        "# Training the model\n",
        "\n",
        "Now we will train a model. This will generate some output sequences every 20 batches."
      ]
    },
    {
      "cell_type": "code",
      "metadata": {
        "id": "1TSrbH9xGPEC",
        "colab": {
          "base_uri": "https://localhost:8080/"
        },
        "outputId": "d355d878-7612-4e60-b424-b93d00d76782"
      },
      "source": [
        "num_chars = len(string.printable)\n",
        "model = Transducer(num_inputs=num_chars+1, num_outputs=num_chars+1)\n",
        "trainer = Trainer(model=model, lr=0.0003)\n",
        "\n",
        "num_epochs = 1\n",
        "train_losses=[]\n",
        "test_losses=[]\n",
        "\n",
        "for epoch in range(num_epochs):\n",
        "    train_loss = trainer.train(train_set)\n",
        "    test_loss = trainer.test(test_set)\n",
        "    train_losses.append(train_loss)\n",
        "    test_losses.append(test_loss)\n",
        "    print(\"Epoch %d: train loss = %f, test loss = %f\" % (epoch, train_loss, test_loss))"
      ],
      "execution_count": 13,
      "outputs": [
        {
          "output_type": "stream",
          "text": [
            "7.47:   0%|          | 1/709 [00:01<19:48,  1.68s/it]"
          ],
          "name": "stderr"
        },
        {
          "output_type": "stream",
          "text": [
            "\n",
            "\n",
            "input: thght gn nw. \"Nw h wll nvr tll nyn wht h hd n hs\n",
            "guess: \n",
            "truth: thought again now. \"Now he will never tell anyone what he had in his\n",
            "\n",
            "input: f t s t lst. Prnc Vsl knw ths, nd hvng nc rlzd tht\n",
            "guess: \n",
            "truth: if it is to last. Prince Vasili knew this, and having once realized that\n",
            "\n"
          ],
          "name": "stdout"
        },
        {
          "output_type": "stream",
          "text": [
            "3.60:   3%|▎         | 21/709 [00:13<10:01,  1.14it/s]"
          ],
          "name": "stderr"
        },
        {
          "output_type": "stream",
          "text": [
            "\n",
            "\n",
            "input: tht  shld mt hr jst whn Ntsh's nggmnt hd bn brkn\n",
            "guess: \n",
            "truth: that I should meet her just when Natasha's engagement had been broken\n",
            "\n",
            "input: hnd,  shll g frwrd nd brk whtvr s n frnt f m.\"\n",
            "guess: \n",
            "truth: hand, I shall go forward and break whatever is in front of me.\"\n",
            "\n"
          ],
          "name": "stdout"
        },
        {
          "output_type": "stream",
          "text": [
            "1.99:   6%|▌         | 41/709 [00:26<12:36,  1.13s/it]"
          ],
          "name": "stderr"
        },
        {
          "output_type": "stream",
          "text": [
            "\n",
            "\n",
            "input: \"...f my yth, frwll!\" h sd, trnng t Mkrn nd th thrs.\n",
            "guess: \" mom athe, fofr h sed treng t ar and the thers.\n",
            "truth: \"...of my youth, farewell!\" he said, turning to Makarin and the others.\n",
            "\n",
            "input: smthng xcptnl f thm,\" sd th vstr.\n",
            "guess: sthing acetin fof the sed the astre.\n",
            "truth: something exceptional of them,\" said the visitor.\n",
            "\n"
          ],
          "name": "stdout"
        },
        {
          "output_type": "stream",
          "text": [
            "1.11:   9%|▊         | 61/709 [00:39<13:46,  1.27s/it]"
          ],
          "name": "stderr"
        },
        {
          "output_type": "stream",
          "text": [
            "\n",
            "\n",
            "input: Th srfs ll dsprsd. \"ncl\" lftd Ntsh ff hr hrs nd tkng\n",
            "guess: The serf lol dasersed. \"\"ncl\" lofted atsh fof her hars and toking\n",
            "truth: The serfs all dispersed. \"Uncle\" lifted Natasha off her horse and taking\n",
            "\n",
            "input: Twrd tn 'clck th mn srvnts rshd t th frnt dr, hrng\n",
            "guess: werd ton Pcicl the men srevints roshed to the frint der, harng\n",
            "truth: Toward ten o'clock the men servants rushed to the front door, hearing\n",
            "\n"
          ],
          "name": "stdout"
        },
        {
          "output_type": "stream",
          "text": [
            "0.80:  11%|█▏        | 81/709 [00:53<13:37,  1.30s/it]"
          ],
          "name": "stderr"
        },
        {
          "output_type": "stream",
          "text": [
            "\n",
            "\n",
            "input: rvn, h vn sw th hnds, nd ws xpctng  fx t shw tslf\n",
            "guess: revin, he ven sow the hands, and was expicing fo to show itsef\n",
            "truth: ravine, he even saw the hounds, and was expecting a fox to show itself\n",
            "\n",
            "input: h cn gt hs rwrd jst s wll n th rrgrd, bt f h wshs t\n",
            "guess: he con gat his rewerd just so wal in the rergerd, but of he washis at\n",
            "truth: he can get his reward just as well in the rearguard, but if he wishes to\n",
            "\n"
          ],
          "name": "stdout"
        },
        {
          "output_type": "stream",
          "text": [
            "0.72:  14%|█▍        | 101/709 [01:06<12:44,  1.26s/it]"
          ],
          "name": "stderr"
        },
        {
          "output_type": "stream",
          "text": [
            "\n",
            "\n",
            "input: hm nd dd nt stp bt rd n nd n, cntnlly mstkng bshs\n",
            "guess: him and did not ste but read in ane in, cantionly mostaking beshis\n",
            "truth: him and did not stop but rode on and on, continually mistaking bushes\n",
            "\n",
            "input: grtcts wr rngd n lns, th srgnts mjr nd cmpny\n",
            "guess: grticats were renged in lens, the sargants mer ane campay\n",
            "truth: greatcoats were ranged in lines, the sergeants major and company\n",
            "\n"
          ],
          "name": "stdout"
        },
        {
          "output_type": "stream",
          "text": [
            "0.68:  17%|█▋        | 121/709 [01:20<12:18,  1.26s/it]"
          ],
          "name": "stderr"
        },
        {
          "output_type": "stream",
          "text": [
            "\n",
            "\n",
            "input: sftly tht th Rhtr dd nt hr hm nd skd hm wht h ws\n",
            "guess: seftly that the Rhter did not her him an sod him what he was\n",
            "truth: softly that the Rhetor did not hear him and asked him what he was\n",
            "\n",
            "input: wnts t g t th wr,\" rpld Prr, ddrssng th prncss wth\n",
            "guess: wents to go to the wer,\" repled Piere, dersing the princes with\n",
            "truth: wants to go to the war,\" replied Pierre, addressing the princess with\n",
            "\n"
          ],
          "name": "stdout"
        },
        {
          "output_type": "stream",
          "text": [
            "0.57:  20%|█▉        | 141/709 [01:34<12:08,  1.28s/it]"
          ],
          "name": "stderr"
        },
        {
          "output_type": "stream",
          "text": [
            "\n",
            "\n",
            "input: nnsns!\" H glncd t hs wtch. \"t's tm!\"\n",
            "guess: anosins!\" He gled to his wath. \"ts tem\"\n",
            "truth: nonsense!\" He glanced at his watch. \"It's time!\"\n",
            "\n",
            "input: Brs ndrstd tht ths ws mnt fr hm nd, clsng hs ys,\n",
            "guess: Bors unersted that thes was ment for him ane, clesing his eyes,\n",
            "truth: Boris understood that this was meant for him and, closing his eyes,\n",
            "\n"
          ],
          "name": "stdout"
        },
        {
          "output_type": "stream",
          "text": [
            "0.52:  23%|██▎       | 161/709 [01:48<12:00,  1.31s/it]"
          ],
          "name": "stderr"
        },
        {
          "output_type": "stream",
          "text": [
            "\n",
            "\n",
            "input: hs cstm whn t hm--tkng lv f  gd-lkng, drk-hrd\n",
            "guess: his cast whin to himing love of a goding, dake\n",
            "truth: his custom when at home--taking leave of a good-looking, dark-haired\n",
            "\n",
            "input: wth  lng fc nd ns, s h ntrd th rm.\n",
            "guess: with a long face an nose, is he notere the room.\n",
            "truth: with a long face and nose, as he entered the room.\n",
            "\n"
          ],
          "name": "stdout"
        },
        {
          "output_type": "stream",
          "text": [
            "0.47:  26%|██▌       | 181/709 [02:03<11:16,  1.28s/it]"
          ],
          "name": "stderr"
        },
        {
          "output_type": "stream",
          "text": [
            "\n",
            "\n",
            "input: H ws slnt whl.\n",
            "guess: He was sel whel.\n",
            "truth: He was silent awhile.\n",
            "\n",
            "input: hmslf t b btn. Th prst f th Rssn rmy, bt whch\n",
            "guess: him to be boten. The pes of th Rusian army, but which\n",
            "truth: himself to be beaten. The pursuit of the Russian army, about which\n",
            "\n"
          ],
          "name": "stdout"
        },
        {
          "output_type": "stream",
          "text": [
            "0.43:  28%|██▊       | 201/709 [02:17<10:52,  1.29s/it]"
          ],
          "name": "stderr"
        },
        {
          "output_type": "stream",
          "text": [
            "\n",
            "\n",
            "input: \"Sr,\" h sd, wth rspctfl plyflnss, \"thy r nly frd lst\n",
            "guess: \"Ser,\" he said with respicle plynes, \"thy our ony fere last\n",
            "truth: \"Sire,\" he said, with respectful playfulness, \"they are only afraid lest\n",
            "\n",
            "input: (th n wh hd prdd hs rgmnt bfr Ktzv t Brn) tht h\n",
            "guess: Bath in who had pearid his regement befer Kutuz to Borin) that he\n",
            "truth: (the one who had paraded his regiment before Kutuzov at Braunau) that he\n",
            "\n"
          ],
          "name": "stdout"
        },
        {
          "output_type": "stream",
          "text": [
            "0.40:  31%|███       | 221/709 [02:31<10:09,  1.25s/it]"
          ],
          "name": "stderr"
        },
        {
          "output_type": "stream",
          "text": [
            "\n",
            "\n",
            "input: frnshng  rgmnt, Bzkhv t nc nfrmd Rstpchn tht h\n",
            "guess: ferinshing a regement, Bez to one inermed Rosthin that he\n",
            "truth: furnishing a regiment, Bezukhov at once informed Rostopchin that he\n",
            "\n",
            "input: thsnd strns, wth  hndrd thsnd Rssns, wr t prt n\n",
            "guess: thousaned sarins, with a hund thousaned Rusions, wer to peat in\n",
            "truth: thousand Austrians, with a hundred thousand Russians, were to operate in\n",
            "\n"
          ],
          "name": "stdout"
        },
        {
          "output_type": "stream",
          "text": [
            "0.42:  34%|███▍      | 241/709 [02:45<10:11,  1.31s/it]"
          ],
          "name": "stderr"
        },
        {
          "output_type": "stream",
          "text": [
            "\n",
            "\n",
            "input: thsnd rbls--t srv, s h sd, s smpls f hs rmnts. ftr\n",
            "guess: thousaned rebel-to sere, is he said is siples of his rements. afer\n",
            "truth: thousand rubles--to serve, as he said, as samples of his remounts. After\n",
            "\n",
            "input: lndwnr, frtn mls wy, wh hd th std. vrythng smd t\n",
            "guess: lonewner, foten miles way, who had the steed. verything seeme it\n",
            "truth: landowner, fourteen miles away, who had the stud. Everything seemed to\n",
            "\n"
          ],
          "name": "stdout"
        },
        {
          "output_type": "stream",
          "text": [
            "0.35:  37%|███▋      | 261/709 [02:59<09:29,  1.27s/it]"
          ],
          "name": "stderr"
        },
        {
          "output_type": "stream",
          "text": [
            "\n",
            "\n",
            "input: psng, wnt nt th stdy, gvng nstrctns t hs djtnt s h\n",
            "guess: pasing, went not the stay, ging intericons at his adant is he\n",
            "truth: pausing, went into the study, giving instructions to his adjutant as he\n",
            "\n",
            "input: rcgnzd svrl cqntncs mng ths ntbls, bt dd nt lk\n",
            "guess: recogenid seve acuientences amage this notles, but did not like\n",
            "truth: recognized several acquaintances among these notables, but did not look\n",
            "\n"
          ],
          "name": "stdout"
        },
        {
          "output_type": "stream",
          "text": [
            "0.30:  40%|███▉      | 281/709 [03:13<08:59,  1.26s/it]"
          ],
          "name": "stderr"
        },
        {
          "output_type": "stream",
          "text": [
            "\n",
            "\n",
            "input: \"Gntlmn,\" sd Dlkhv ftr h hd dlt fr sm tm. \"Pls\n",
            "guess: \"Gentleman,\" said Dolov afur he had delat fo some tem. \"Ples\n",
            "truth: \"Gentlemen,\" said Dolokhov after he had dealt for some time. \"Please\n",
            "\n",
            "input: skng fr.  nd nly dvs nythng nd hs Hghnss s sr t d\n",
            "guess: aski fee. I ane ony devies any ane his Highines so sur it do\n",
            "truth: asking for. I need only advise anything and his Highness is sure to do\n",
            "\n"
          ],
          "name": "stdout"
        },
        {
          "output_type": "stream",
          "text": [
            "0.34:  42%|████▏     | 301/709 [03:27<08:49,  1.30s/it]"
          ],
          "name": "stderr"
        },
        {
          "output_type": "stream",
          "text": [
            "\n",
            "\n",
            "input: gn--thgh sh cld hr Dnysh cmng--clld hr n th dp\n",
            "guess: again-though she coud her Dunysh comig--caled her on the dep\n",
            "truth: again--though she could hear Dunyasha coming--called her in the deep\n",
            "\n",
            "input: Cyrl Vldmrvch s yr gdfthr ftr ll, yr ftr dpnds n\n",
            "guess: Cayar Vilimerovich is your god fater al, your fater depeneds one\n",
            "truth: Cyril Vladimirovich is your godfather after all, your future depends on\n",
            "\n"
          ],
          "name": "stdout"
        },
        {
          "output_type": "stream",
          "text": [
            "0.34:  45%|████▌     | 321/709 [03:42<08:12,  1.27s/it]"
          ],
          "name": "stderr"
        },
        {
          "output_type": "stream",
          "text": [
            "\n",
            "\n",
            "input: Npln st n  cmpstl, wrppd n thght.\n",
            "guess: Naple sat in a copstle, wreped in thoug\n",
            "truth: Napoleon sat on a campstool, wrapped in thought.\n",
            "\n",
            "input: th psnt, mvng wy.\n",
            "guess: th pasant, mong away.\n",
            "truth: the peasant, moving away.\n",
            "\n"
          ],
          "name": "stdout"
        },
        {
          "output_type": "stream",
          "text": [
            "0.28:  48%|████▊     | 341/709 [03:56<08:06,  1.32s/it]"
          ],
          "name": "stderr"
        },
        {
          "output_type": "stream",
          "text": [
            "\n",
            "\n",
            "input: \"Thr! Hr's  ptrt fr y!\" sd Shnshn.\n",
            "guess: \"Ther! Her's a pateret fee you!\" said Shinshin.\n",
            "truth: \"There! Here's a patriot for you!\" said Shinshin.\n",
            "\n",
            "input: s xqst whn h dscsss pltcs--y shld s hs grvty!\"\n",
            "guess: is exaust whin he dis polets--you shoule is his grev!\"\n",
            "truth: is exquisite when he discusses politics--you should see his gravity!\"\n",
            "\n"
          ],
          "name": "stdout"
        },
        {
          "output_type": "stream",
          "text": [
            "0.26:  51%|█████     | 361/709 [04:10<07:24,  1.28s/it]"
          ],
          "name": "stderr"
        },
        {
          "output_type": "stream",
          "text": [
            "\n",
            "\n",
            "input: hd drvn th ld prnc t twn rtrnd brngng pprs nd lttrs\n",
            "guess: had dren th ol prince to towin reteraned bring papers ane laters\n",
            "truth: had driven the old prince to town returned bringing papers and letters\n",
            "\n",
            "input: \"Ths s ll vry fn, bt thngs mst b sttld,\" sd Prnc Vsl\n",
            "guess: \"This is al very fain, but thing mos be sitled,\" said Prince Vasil\n",
            "truth: \"This is all very fine, but things must be settled,\" said Prince Vasili\n",
            "\n"
          ],
          "name": "stdout"
        },
        {
          "output_type": "stream",
          "text": [
            "0.31:  54%|█████▎    | 381/709 [04:25<07:12,  1.32s/it]"
          ],
          "name": "stderr"
        },
        {
          "output_type": "stream",
          "text": [
            "\n",
            "\n",
            "input: cmmndr, wh ws ftchd, cndctd hm nt th vllg t Mrshl\n",
            "guess: comaneder, wh was fathed, conected him not the vilage to Marshal\n",
            "truth: commander, who was fetched, conducted him into the village to Marshal\n",
            "\n",
            "input: mst lk smwhr, r t mnt t mch. Prr hsttd, nt knwng\n",
            "guess: most like somer, or to mont to mach. Piere histed, not kng\n",
            "truth: must look somewhere, or it meant too much. Pierre hesitated, not knowing\n",
            "\n"
          ],
          "name": "stdout"
        },
        {
          "output_type": "stream",
          "text": [
            "0.28:  57%|█████▋    | 401/709 [04:39<06:33,  1.28s/it]"
          ],
          "name": "stderr"
        },
        {
          "output_type": "stream",
          "text": [
            "\n",
            "\n",
            "input: strtng t f hs hd, rsng hs cp nd pntng bfr hm t th\n",
            "guess: saring it of his hed, raising his cap ane ponting befor him to the\n",
            "truth: starting out of his head, raising his cap and pointing before him to the\n",
            "\n",
            "input: th mprr. Sddnly  dstnt sht rsd hm. H strtd nd pnd\n",
            "guess: the Emero. Sudenly a disant shat raised him. He sared ane pone\n",
            "truth: the Emperor. Suddenly a distant shout aroused him. He started and opened\n",
            "\n"
          ],
          "name": "stdout"
        },
        {
          "output_type": "stream",
          "text": [
            "0.28:  59%|█████▉    | 421/709 [04:53<06:10,  1.29s/it]"
          ],
          "name": "stderr"
        },
        {
          "output_type": "stream",
          "text": [
            "\n",
            "\n",
            "input: Ntsh. \"Hr, hnd sm frt jlly t th Trk!\" sh rdrd th\n",
            "guess: Natasha. \"Her, han some fat joly at the Tark!\" she oried the\n",
            "truth: Natasha. \"Here, hand some fruit jelly to the Turk!\" she ordered the\n",
            "\n",
            "input: gd thng, s ths vhcls cld b sd t crry prvsns, th\n",
            "guess: god thing, so this vehicles coul be said to cary provins, the\n",
            "truth: good thing, as those vehicles could be used to carry provisions, the\n",
            "\n"
          ],
          "name": "stdout"
        },
        {
          "output_type": "stream",
          "text": [
            "0.26:  62%|██████▏   | 441/709 [05:07<05:57,  1.33s/it]"
          ],
          "name": "stderr"
        },
        {
          "output_type": "stream",
          "text": [
            "\n",
            "\n",
            "input: Dr nd prcs Frnd, Yr lttr f th 13th hs gvn m grt\n",
            "guess: Der an pecious Frane, Your later of the 1th his given me gret\n",
            "truth: Dear and precious Friend, Your letter of the 13th has given me great\n",
            "\n",
            "input: mmbr h dd nt fnd  sngl n. Thr wr mny dd whm h dd\n",
            "guess: meber he did not faid a sinl one. Ther wer man did whom he did\n",
            "truth: member he did not find a single one. There were many dead whom he did\n",
            "\n"
          ],
          "name": "stdout"
        },
        {
          "output_type": "stream",
          "text": [
            "0.23:  65%|██████▌   | 461/709 [05:22<05:21,  1.30s/it]"
          ],
          "name": "stderr"
        },
        {
          "output_type": "stream",
          "text": [
            "\n",
            "\n",
            "input: Th vlt st p nd whsprd smthng. Tmkhn, kpt wk by th\n",
            "guess: The vale sat up ane whisared something. Tmahin, ket wak bey the\n",
            "truth: The valet sat up and whispered something. Timokhin, kept awake by the\n",
            "\n",
            "input: mpndng dngr.\n",
            "guess: imong dane.\n",
            "truth: impending danger.\n",
            "\n"
          ],
          "name": "stdout"
        },
        {
          "output_type": "stream",
          "text": [
            "0.22:  68%|██████▊   | 481/709 [05:36<04:56,  1.30s/it]"
          ],
          "name": "stderr"
        },
        {
          "output_type": "stream",
          "text": [
            "\n",
            "\n",
            "input: mjstc vc tht ws yt s smpl! nd s f n ccrd wth Rstv's\n",
            "guess: mastic voce that was yet is siple! ane is if in acored with Rostov's\n",
            "truth: majestic voice that was yet so simple! And as if in accord with Rostov's\n",
            "\n",
            "input: wth prmnnt blck ys, gt p n sng hr mstr, strtchd hr\n",
            "guess: with pement boco yes, get up in seein her mater, sterched her\n",
            "truth: with prominent black eyes, got up on seeing her master, stretched her\n",
            "\n"
          ],
          "name": "stdout"
        },
        {
          "output_type": "stream",
          "text": [
            "0.21:  71%|███████   | 501/709 [05:50<04:15,  1.23s/it]"
          ],
          "name": "stderr"
        },
        {
          "output_type": "stream",
          "text": [
            "\n",
            "\n",
            "input: md wth hny, nd prsrvs md wth sgr.\n",
            "guess: ama with hone, an perserovs med with sar.\n",
            "truth: made with honey, and preserves made with sugar.\n",
            "\n",
            "input: crly hd t hr kns nd md th whl rm rng wth hr lghtr.\n",
            "guess: cury had to her kens ane med th while room rin with her laughter.\n",
            "truth: curly head to her knees and made the whole room ring with her laughter.\n",
            "\n"
          ],
          "name": "stdout"
        },
        {
          "output_type": "stream",
          "text": [
            "0.27:  73%|███████▎  | 521/709 [06:04<03:58,  1.27s/it]"
          ],
          "name": "stderr"
        },
        {
          "output_type": "stream",
          "text": [
            "\n",
            "\n",
            "input: hd ntcd t thr frst hltng plc ftr lvng Mscw hd nw\n",
            "guess: had noted to ther fees haling place afer ling Mosw had now\n",
            "truth: had noticed at their first halting place after leaving Moscow had now\n",
            "\n",
            "input: Prr, hrng grtngs nd th stps f smn wh hd ntrd th\n",
            "guess: Piere, hering geratings ane the stes of some who had ented the\n",
            "truth: Pierre, hearing greetings and the steps of someone who had entered the\n",
            "\n"
          ],
          "name": "stdout"
        },
        {
          "output_type": "stream",
          "text": [
            "0.23:  76%|███████▋  | 541/709 [06:18<03:43,  1.33s/it]"
          ],
          "name": "stderr"
        },
        {
          "output_type": "stream",
          "text": [
            "\n",
            "\n",
            "input: Npln ws stndng mng hs trps n th Pklnny Hll lkng t\n",
            "guess: Napolon was steng amain his toos in the Pokeny Hil loking to\n",
            "truth: Napoleon was standing among his troops on the Poklonny Hill looking at\n",
            "\n",
            "input: Frm th hst's rm cm th snds f  chld cryng, th dsprng\n",
            "guess: From the hasia's room came the souds of a chiled cying, the disaring\n",
            "truth: From the host's room came the sounds of a child crying, the despairing\n",
            "\n"
          ],
          "name": "stdout"
        },
        {
          "output_type": "stream",
          "text": [
            "0.20:  79%|███████▉  | 561/709 [06:33<03:12,  1.30s/it]"
          ],
          "name": "stderr"
        },
        {
          "output_type": "stream",
          "text": [
            "\n",
            "\n",
            "input: mn nc fr ll nd rmn tr t hm frvr? Tht s wht  cnsdr\n",
            "guess: man noce fer al ane reman ter to him fever? That so what a coner\n",
            "truth: man once for all and remain true to him forever? That is what I consider\n",
            "\n",
            "input: qrtrmstr's prsnc.\n",
            "guess: quartermster's persance.\n",
            "truth: quartermaster's presence.\n",
            "\n"
          ],
          "name": "stdout"
        },
        {
          "output_type": "stream",
          "text": [
            "0.22:  82%|████████▏ | 581/709 [06:47<02:44,  1.28s/it]"
          ],
          "name": "stderr"
        },
        {
          "output_type": "stream",
          "text": [
            "\n",
            "\n",
            "input: clsd ys. Thn h pnd thm nd whsprd sftly: \"nd th t?\"\n",
            "guess: closed eyes. Than he oped them ane whisered sofy: \"Ane the it?\n",
            "truth: closed eyes. Then he opened them and whispered softly: \"And the tea?\"\n",
            "\n",
            "input: n  fldng rmchr, nd cntnlly clrd hs thrt nd plld t\n",
            "guess: in a feding rame, ane conally cled his thorit ane puled to\n",
            "truth: in a folding armchair, and continually cleared his throat and pulled at\n",
            "\n"
          ],
          "name": "stdout"
        },
        {
          "output_type": "stream",
          "text": [
            "0.20:  85%|████████▍ | 601/709 [07:01<02:22,  1.32s/it]"
          ],
          "name": "stderr"
        },
        {
          "output_type": "stream",
          "text": [
            "\n",
            "\n",
            "input: Th cnt mvd n hs ffrs s n  hg nt, tryng nt t blv\n",
            "guess: The count move in his afairs so in a huge not, trying not to believ\n",
            "truth: The count moved in his affairs as in a huge net, trying not to believe\n",
            "\n",
            "input: ll th wlls f th rm: t ws hr wn hrt, snkng wth lrm nd\n",
            "guess: al the wils of the room it was her owin herit, sing with alari ane\n",
            "truth: all the walls of the room: it was her own heart, sinking with alarm and\n",
            "\n"
          ],
          "name": "stdout"
        },
        {
          "output_type": "stream",
          "text": [
            "0.21:  88%|████████▊ | 621/709 [07:16<01:52,  1.28s/it]"
          ],
          "name": "stderr"
        },
        {
          "output_type": "stream",
          "text": [
            "\n",
            "\n",
            "input: \"'v cm t st wth y  bt, Msh,\" sd th nrs, \"nd hr 'v\n",
            "guess: \"Ive came to sat with you a but, Mish,\" said the nurious, \"an her I'\n",
            "truth: \"I've come to sit with you a bit, Masha,\" said the nurse, \"and here I've\n",
            "\n",
            "input: trnsprt, hvng t ccpt bttl n th mrch gnst n nmy thr\n",
            "guess: terinsaret, havig to acepet batle in the mach agans in enemy ther\n",
            "truth: transport, having to accept battle on the march against an enemy three\n",
            "\n"
          ],
          "name": "stdout"
        },
        {
          "output_type": "stream",
          "text": [
            "0.18:  90%|█████████ | 641/709 [07:30<01:27,  1.29s/it]"
          ],
          "name": "stderr"
        },
        {
          "output_type": "stream",
          "text": [
            "\n",
            "\n",
            "input: n ss n th fc f  by hpply n lv. Th mrshls std bhnd\n",
            "guess: one sees in the face of a by haply in love. The marsholas sad behine\n",
            "truth: one sees on the face of a boy happily in love. The marshals stood behind\n",
            "\n",
            "input: sccss nd ws hnrd by th spcl ttntn f S-nd-s, bt sh\n",
            "guess: scas ane was honed by the secil atention of So-ane-so, but she\n",
            "truth: success and was honored by the special attention of So-and-so, but she\n",
            "\n"
          ],
          "name": "stdout"
        },
        {
          "output_type": "stream",
          "text": [
            "0.19:  93%|█████████▎| 661/709 [07:44<01:00,  1.26s/it]"
          ],
          "name": "stderr"
        },
        {
          "output_type": "stream",
          "text": [
            "\n",
            "\n",
            "input: \" fn mss w'v md f t!\" h rmrkd.\n",
            "guess: \"I feen mas we've med of it! he remared.\n",
            "truth: \"A fine mess we've made of it!\" he remarked.\n",
            "\n",
            "input: bttlfld. n th fld btwn Brdn nd th flchs, bsd th\n",
            "guess: batlefed. in the fieled beten Boriden ane the fuches, besid the\n",
            "truth: battlefield. On the field between Borodino and the fleches, beside the\n",
            "\n"
          ],
          "name": "stdout"
        },
        {
          "output_type": "stream",
          "text": [
            "0.16:  96%|█████████▌| 681/709 [07:58<00:36,  1.29s/it]"
          ],
          "name": "stderr"
        },
        {
          "output_type": "stream",
          "text": [
            "\n",
            "\n",
            "input: \"Svn nw nd thr ld mprls.\"\n",
            "guess: \"Sen now ned there lod imeriels.\"\n",
            "truth: \"Seven new and three old imperials.\"\n",
            "\n",
            "input: Th yng mn n th fr-lnd ct, stpng  lttl, std n \n",
            "guess: The young man in the fee-lened coat, sting a litle, sad in a\n",
            "truth: The young man in the fur-lined coat, stooping a little, stood in a\n",
            "\n"
          ],
          "name": "stdout"
        },
        {
          "output_type": "stream",
          "text": [
            "0.20:  99%|█████████▉| 701/709 [08:12<00:10,  1.29s/it]"
          ],
          "name": "stderr"
        },
        {
          "output_type": "stream",
          "text": [
            "\n",
            "\n",
            "input: t xprss r sncr vws n tht sbjct, nd cn nly sy t th\n",
            "guess: to exres are siner viewis in that suject, ane can onay say to the\n",
            "truth: to express our sincere views on that subject, and can only say to the\n",
            "\n",
            "input: Schrr.\"\n",
            "guess: Schere.\"\n",
            "truth: Scherer.\"\n",
            "\n"
          ],
          "name": "stdout"
        },
        {
          "output_type": "stream",
          "text": [
            "0.21: 100%|██████████| 709/709 [08:17<00:00,  1.42it/s]\n",
            "0.20:   0%|          | 0/81 [00:00<?, ?it/s]"
          ],
          "name": "stderr"
        },
        {
          "output_type": "stream",
          "text": [
            "\n",
            "\n",
            "input: vrythng ws bbblng wth lf n th rnd bt rvvng cty.\n"
          ],
          "name": "stdout"
        },
        {
          "output_type": "stream",
          "text": [
            "0.20:   1%|          | 1/81 [00:02<03:25,  2.56s/it]"
          ],
          "name": "stderr"
        },
        {
          "output_type": "stream",
          "text": [
            "guess: everything was babing with life in the rouned but riving city.\n",
            "truth: everything was bubbling with life in the ruined but reviving city.\n",
            "\n",
            "\n",
            "\n",
            "input: rltn f ppl t n nthr s sn n vry cmbntn f mn\n"
          ],
          "name": "stdout"
        },
        {
          "output_type": "stream",
          "text": [
            "0.24:   2%|▏         | 2/81 [00:05<03:25,  2.61s/it]"
          ],
          "name": "stderr"
        },
        {
          "output_type": "stream",
          "text": [
            "guess: relaten of pepe to no nather is son in very comantion of man\n",
            "truth: relation of people to one another is seen in every combination of men\n",
            "\n",
            "\n",
            "\n",
            "input: fr hm t mt lds t dnnrs nd blls n Ptrsbrg.\n"
          ],
          "name": "stdout"
        },
        {
          "output_type": "stream",
          "text": [
            "0.17:   4%|▎         | 3/81 [00:07<03:15,  2.50s/it]"
          ],
          "name": "stderr"
        },
        {
          "output_type": "stream",
          "text": [
            "guess: fer him to meet lads to diners ane bles in Peterbug.\n",
            "truth: for him to meet ladies at dinners and balls in Petersburg.\n",
            "\n",
            "\n",
            "\n",
            "input: rslvs t rsks w mst nt rsk r chldrn.\"\n"
          ],
          "name": "stdout"
        },
        {
          "output_type": "stream",
          "text": [
            "0.22:   5%|▍         | 4/81 [00:10<03:17,  2.56s/it]"
          ],
          "name": "stderr"
        },
        {
          "output_type": "stream",
          "text": [
            "guess: orseles to riskes we mus not risk or chilerin.\"\n",
            "truth: ourselves to risks we must not risk our children.\"\n",
            "\n",
            "\n",
            "\n",
            "input: n th slnc tht nsd, th snrng f ths wh hd flln slp\n"
          ],
          "name": "stdout"
        },
        {
          "output_type": "stream",
          "text": [
            "0.18:   6%|▌         | 5/81 [00:12<03:13,  2.54s/it]"
          ],
          "name": "stderr"
        },
        {
          "output_type": "stream",
          "text": [
            "guess: in the silence that nosed, the song of those who had fle asele\n",
            "truth: In the silence that ensued, the snoring of those who had fallen asleep\n",
            "\n",
            "\n",
            "\n",
            "input: pwr nly bcs thy flfll th wll f th ppl whch hs bn\n"
          ],
          "name": "stdout"
        },
        {
          "output_type": "stream",
          "text": [
            "0.23:   7%|▋         | 6/81 [00:15<03:09,  2.53s/it]"
          ],
          "name": "stderr"
        },
        {
          "output_type": "stream",
          "text": [
            "guess: por ony because they fefl the wil of the pepe which his been\n",
            "truth: power only because they fulfill the will of the people which has been\n",
            "\n",
            "\n",
            "\n",
            "input: prsns s mrly  prphrs-- rsttmnt f th qstn n thr\n"
          ],
          "name": "stdout"
        },
        {
          "output_type": "stream",
          "text": [
            "0.20:   9%|▊         | 7/81 [00:18<03:09,  2.56s/it]"
          ],
          "name": "stderr"
        },
        {
          "output_type": "stream",
          "text": [
            "guess: perins so meriy a prophars-I restement of the quesion in ther\n",
            "truth: persons is merely a paraphrase--a restatement of the question in other\n",
            "\n",
            "\n",
            "\n",
            "input: t!\"\n"
          ],
          "name": "stdout"
        },
        {
          "output_type": "stream",
          "text": [
            "0.21:  10%|▉         | 8/81 [00:20<03:05,  2.53s/it]"
          ],
          "name": "stderr"
        },
        {
          "output_type": "stream",
          "text": [
            "guess: it!\n",
            "truth: it!\"\n",
            "\n",
            "\n",
            "\n",
            "input: nt vxd wth hr nd dd nt rprch hr. Th rwknd pwr f\n"
          ],
          "name": "stdout"
        },
        {
          "output_type": "stream",
          "text": [
            "0.19:  11%|█         | 9/81 [00:23<03:03,  2.55s/it]"
          ],
          "name": "stderr"
        },
        {
          "output_type": "stream",
          "text": [
            "guess: not vexe with her ane did not reproach her. The rawaned por of\n",
            "truth: not vexed with her and did not reproach her. The reawakened power of\n",
            "\n",
            "\n",
            "\n",
            "input: bfr--sh flt  nd f bng ngry nd wld chs s th hndst\n"
          ],
          "name": "stdout"
        },
        {
          "output_type": "stream",
          "text": [
            "\r0.19:  12%|█▏        | 10/81 [00:25<03:02,  2.57s/it]"
          ],
          "name": "stderr"
        },
        {
          "output_type": "stream",
          "text": [
            "guess: befer-she fel a ned if being anory ane woled chees so the hined\n",
            "truth: before--she felt a need of being angry and would choose as the handiest\n",
            "\n"
          ],
          "name": "stdout"
        },
        {
          "output_type": "stream",
          "text": [
            "\r0.21:  12%|█▏        | 10/81 [00:25<03:02,  2.57s/it]"
          ],
          "name": "stderr"
        },
        {
          "output_type": "stream",
          "text": [
            "\n",
            "\n",
            "input: nd mttrd smthng n whch sm ppl cght th wrds, \"th ld\n"
          ],
          "name": "stdout"
        },
        {
          "output_type": "stream",
          "text": [
            "\r0.21:  14%|█▎        | 11/81 [00:28<03:01,  2.59s/it]"
          ],
          "name": "stderr"
        },
        {
          "output_type": "stream",
          "text": [
            "guess: ane matered something in which some pepe caghat the wored, \"th lod\n",
            "truth: and muttered something in which some people caught the words, \"the old\n",
            "\n"
          ],
          "name": "stdout"
        },
        {
          "output_type": "stream",
          "text": [
            "\r0.19:  14%|█▎        | 11/81 [00:28<03:01,  2.59s/it]"
          ],
          "name": "stderr"
        },
        {
          "output_type": "stream",
          "text": [
            "\n",
            "\n",
            "input: thgh ths thms wr nt yt trmd qstns s thy r nw; bt\n"
          ],
          "name": "stdout"
        },
        {
          "output_type": "stream",
          "text": [
            "0.20:  15%|█▍        | 12/81 [00:30<02:58,  2.59s/it]"
          ],
          "name": "stderr"
        },
        {
          "output_type": "stream",
          "text": [
            "guess: though this them were not yet tered quesions so they are new but\n",
            "truth: though these themes were not yet termed questions as they are now; but\n",
            "\n",
            "\n",
            "\n",
            "input: Th hstrns cll ths ctvty f th hstrcl fgrs \"th\n"
          ],
          "name": "stdout"
        },
        {
          "output_type": "stream",
          "text": [
            "0.19:  16%|█▌        | 13/81 [00:33<02:55,  2.58s/it]"
          ],
          "name": "stderr"
        },
        {
          "output_type": "stream",
          "text": [
            "guess: The historins cle this activ of the histrical figers \"th\n",
            "truth: The historians call this activity of the historical figures \"the\n",
            "\n",
            "\n",
            "\n",
            "input: tht ws nnswrbl. t ws mr thn tr.\n"
          ],
          "name": "stdout"
        },
        {
          "output_type": "stream",
          "text": [
            "0.25:  17%|█▋        | 14/81 [00:35<02:50,  2.55s/it]"
          ],
          "name": "stderr"
        },
        {
          "output_type": "stream",
          "text": [
            "guess: that was nosewerable. it was mer than ter.\n",
            "truth: that was unanswerable. It was more than true.\n",
            "\n",
            "\n",
            "\n",
            "input: f th mn lk  chld.\n"
          ],
          "name": "stdout"
        },
        {
          "output_type": "stream",
          "text": [
            "0.25:  19%|█▊        | 15/81 [00:38<02:48,  2.56s/it]"
          ],
          "name": "stderr"
        },
        {
          "output_type": "stream",
          "text": [
            "guess: of the man like a chiled.\n",
            "truth: of the men like a child.\n",
            "\n",
            "\n",
            "\n",
            "input: sch  ntn,\" h sd t Prr. \"Y, wh hv sffrd s frm th\n"
          ],
          "name": "stdout"
        },
        {
          "output_type": "stream",
          "text": [
            "0.19:  20%|█▉        | 16/81 [00:41<02:46,  2.56s/it]"
          ],
          "name": "stderr"
        },
        {
          "output_type": "stream",
          "text": [
            "guess: such a naten,\" he said to Piere. \"You, wh have sufered so from the\n",
            "truth: such a nation,\" he said to Pierre. \"You, who have suffered so from the\n",
            "\n",
            "\n",
            "\n",
            "input: thnk tht thr dsgrmnts r th cs f ths frsh prssr f\n"
          ],
          "name": "stdout"
        },
        {
          "output_type": "stream",
          "text": [
            "0.18:  21%|██        | 17/81 [00:43<02:43,  2.56s/it]"
          ],
          "name": "stderr"
        },
        {
          "output_type": "stream",
          "text": [
            "guess: think that thir disagermants are the case of this fer presure of\n",
            "truth: think that their disagreements are the cause of this fresh pressure of\n",
            "\n",
            "\n",
            "\n",
            "input: t hm nd dd nt thnk, bt flt, bt smthng dffrnt. Sh flt\n"
          ],
          "name": "stdout"
        },
        {
          "output_type": "stream",
          "text": [
            "0.17:  22%|██▏       | 18/81 [00:46<02:42,  2.57s/it]"
          ],
          "name": "stderr"
        },
        {
          "output_type": "stream",
          "text": [
            "guess: to him ane did not think, but fele, but something diferent. She felet\n",
            "truth: at him and did not think, but felt, about something different. She felt\n",
            "\n",
            "\n",
            "\n",
            "input: H flshd jyflly yt wth pnfl dstrss. H trd t hd hs\n"
          ],
          "name": "stdout"
        },
        {
          "output_type": "stream",
          "text": [
            "0.21:  23%|██▎       | 19/81 [00:48<02:39,  2.57s/it]"
          ],
          "name": "stderr"
        },
        {
          "output_type": "stream",
          "text": [
            "guess: He fuled joyfuly yet with paine disters. He tred to had his\n",
            "truth: He flushed joyfully yet with painful distress. He tried to hide his\n",
            "\n",
            "\n",
            "\n",
            "input: my cnsdr, w lwys rgrd t s th rslt prtly f mn's fr\n"
          ],
          "name": "stdout"
        },
        {
          "output_type": "stream",
          "text": [
            "0.40:  25%|██▍       | 20/81 [00:51<02:36,  2.57s/it]"
          ],
          "name": "stderr"
        },
        {
          "output_type": "stream",
          "text": [
            "guess: my coner, we aleys regered to see the resolet paritly of man's fer\n",
            "truth: may consider, we always regard it as the result partly of man's free\n",
            "\n",
            "\n",
            "\n",
            "input: nythng.\n"
          ],
          "name": "stdout"
        },
        {
          "output_type": "stream",
          "text": [
            "0.20:  26%|██▌       | 21/81 [00:53<02:33,  2.56s/it]"
          ],
          "name": "stderr"
        },
        {
          "output_type": "stream",
          "text": [
            "guess: any.\n",
            "truth: anything.\n",
            "\n",
            "\n",
            "\n",
            "input: lgtmt qstns hmnty sks tslf whn t ncntrs th\n"
          ],
          "name": "stdout"
        },
        {
          "output_type": "stream",
          "text": [
            "0.21:  27%|██▋       | 22/81 [00:56<02:30,  2.55s/it]"
          ],
          "name": "stderr"
        },
        {
          "output_type": "stream",
          "text": [
            "guess: liget quesions humanty seeks itel whin at incoters the\n",
            "truth: legitimate questions humanity asks itself when it encounters the\n",
            "\n",
            "\n",
            "\n",
            "input: xmnng nly ths xprssns f th wll f hstrcl prsns\n"
          ],
          "name": "stdout"
        },
        {
          "output_type": "stream",
          "text": [
            "0.19:  28%|██▊       | 23/81 [00:59<02:27,  2.54s/it]"
          ],
          "name": "stderr"
        },
        {
          "output_type": "stream",
          "text": [
            "guess: examaning ony this exressions of the wil of hisiorical perins\n",
            "truth: Examining only those expressions of the will of historical persons\n",
            "\n",
            "\n",
            "\n",
            "input: f  knd thn jst cmng nt fshn.\n"
          ],
          "name": "stdout"
        },
        {
          "output_type": "stream",
          "text": [
            "0.25:  30%|██▉       | 24/81 [01:01<02:27,  2.58s/it]"
          ],
          "name": "stderr"
        },
        {
          "output_type": "stream",
          "text": [
            "guess: if a kene than just coming not fashin.\n",
            "truth: of a kind then just coming into fashion.\n",
            "\n",
            "\n",
            "\n",
            "input: r vld fr, bt lttl tht cld hv md hm lv hr. H flt\n"
          ],
          "name": "stdout"
        },
        {
          "output_type": "stream",
          "text": [
            "0.22:  31%|███       | 25/81 [01:04<02:25,  2.60s/it]"
          ],
          "name": "stderr"
        },
        {
          "output_type": "stream",
          "text": [
            "guess: are valed fer, but litle that coud have med him love her. He fele\n",
            "truth: are valued for, but little that could have made him love her. He felt\n",
            "\n",
            "\n",
            "\n",
            "input: cnsstntly ld hm by n nntrrptd srs f sccsss t th\n"
          ],
          "name": "stdout"
        },
        {
          "output_type": "stream",
          "text": [
            "0.23:  32%|███▏      | 26/81 [01:06<02:20,  2.55s/it]"
          ],
          "name": "stderr"
        },
        {
          "output_type": "stream",
          "text": [
            "guess: constently led him bey an inotruped serious of suces to the\n",
            "truth: consistently led him by an uninterrupted series of successes to the\n",
            "\n",
            "\n",
            "\n",
            "input: plcd, nd mr fr t n wh ds nt knw tht th mn ws hmslf\n"
          ],
          "name": "stdout"
        },
        {
          "output_type": "stream",
          "text": [
            "\r0.23:  33%|███▎      | 27/81 [01:09<02:18,  2.56s/it]"
          ],
          "name": "stderr"
        },
        {
          "output_type": "stream",
          "text": [
            "guess: placed, ane mer fer it in who does not kn that the man was himef\n",
            "truth: placed, and more free to one who does not know that the man was himself\n",
            "\n"
          ],
          "name": "stdout"
        },
        {
          "output_type": "stream",
          "text": [
            "\r0.24:  33%|███▎      | 27/81 [01:09<02:18,  2.56s/it]"
          ],
          "name": "stderr"
        },
        {
          "output_type": "stream",
          "text": [
            "\n",
            "\n",
            "input: Pltrch, wr ldng  hg rmy. Th rmy ws md p f wht\n"
          ],
          "name": "stdout"
        },
        {
          "output_type": "stream",
          "text": [
            "0.18:  35%|███▍      | 28/81 [01:11<02:16,  2.58s/it]"
          ],
          "name": "stderr"
        },
        {
          "output_type": "stream",
          "text": [
            "guess: Plitrich, were leding a hage arm. The arm was med up if what\n",
            "truth: Plutarch, were leading a huge army. The army was made up of white\n",
            "\n",
            "\n",
            "\n",
            "input: ffcls f ll knds, trdsmn, rtsns, nd psnts--strmd nt\n"
          ],
          "name": "stdout"
        },
        {
          "output_type": "stream",
          "text": [
            "0.26:  36%|███▌      | 29/81 [01:14<02:14,  2.59s/it]"
          ],
          "name": "stderr"
        },
        {
          "output_type": "stream",
          "text": [
            "guess: oficles of al kenes, tradsmen, ratiesions, ane peasants-sterimed not\n",
            "truth: officials of all kinds, tradesmen, artisans, and peasants--streamed into\n",
            "\n",
            "\n",
            "\n",
            "input:  sbmssv tndr lv fr ths mn wh wld nvr ndrstnd ll\n"
          ],
          "name": "stdout"
        },
        {
          "output_type": "stream",
          "text": [
            "0.18:  37%|███▋      | 30/81 [01:17<02:11,  2.58s/it]"
          ],
          "name": "stderr"
        },
        {
          "output_type": "stream",
          "text": [
            "guess: a subsive tener love fer this man who woled never unersaned al\n",
            "truth: a submissive tender love for this man who would never understand all\n",
            "\n",
            "\n",
            "\n",
            "input: hldng t  lttl lngr n hs wn.\n"
          ],
          "name": "stdout"
        },
        {
          "output_type": "stream",
          "text": [
            "0.22:  38%|███▊      | 31/81 [01:19<02:08,  2.56s/it]"
          ],
          "name": "stderr"
        },
        {
          "output_type": "stream",
          "text": [
            "guess: holing to a litle longer in his win.\n",
            "truth: holding it a little longer in his own.\n",
            "\n",
            "\n",
            "\n",
            "input: rgrt tht thr ws smthng lckng n hr flng fr yng\n"
          ],
          "name": "stdout"
        },
        {
          "output_type": "stream",
          "text": [
            "0.18:  40%|███▉      | 32/81 [01:22<02:05,  2.56s/it]"
          ],
          "name": "stderr"
        },
        {
          "output_type": "stream",
          "text": [
            "guess: regret that there was something ling in her feeling fear young\n",
            "truth: regret that there was something lacking in her feeling for young\n",
            "\n",
            "\n",
            "\n",
            "input: vtlty--th strngth whch n tht vst spc md th snws\n"
          ],
          "name": "stdout"
        },
        {
          "output_type": "stream",
          "text": [
            "\r0.18:  41%|████      | 33/81 [01:24<02:04,  2.59s/it]"
          ],
          "name": "stderr"
        },
        {
          "output_type": "stream",
          "text": [
            "guess: vitily-the string which in that visit spec mad the snse\n",
            "truth: vitality--the strength which in that vast space amid the snows\n",
            "\n"
          ],
          "name": "stdout"
        },
        {
          "output_type": "stream",
          "text": [
            "\r0.20:  41%|████      | 33/81 [01:24<02:04,  2.59s/it]"
          ],
          "name": "stderr"
        },
        {
          "output_type": "stream",
          "text": [
            "\n",
            "\n",
            "input: s sn s th ncssty fr  gnrl rpn wr prsntd tslf h\n"
          ],
          "name": "stdout"
        },
        {
          "output_type": "stream",
          "text": [
            "0.21:  42%|████▏     | 34/81 [01:27<02:02,  2.60s/it]"
          ],
          "name": "stderr"
        },
        {
          "output_type": "stream",
          "text": [
            "guess: as son see the necesity fer a genel repen wer presented itel he\n",
            "truth: as soon as the necessity for a general European war presented itself he\n",
            "\n",
            "\n",
            "\n",
            "input: dys f thr rtrt, f Krtv's llnss nd hs dth.\n"
          ],
          "name": "stdout"
        },
        {
          "output_type": "stream",
          "text": [
            "0.22:  43%|████▎     | 35/81 [01:30<01:59,  2.59s/it]"
          ],
          "name": "stderr"
        },
        {
          "output_type": "stream",
          "text": [
            "guess: days of ther retret, if Karatev's ilens ane his death.\n",
            "truth: days of their retreat, of Karataev's illness and his death.\n",
            "\n",
            "\n",
            "\n",
            "input: nythng rnd hm, f w s hs cnnctn wth nythng whtvr--\n"
          ],
          "name": "stdout"
        },
        {
          "output_type": "stream",
          "text": [
            "0.22:  44%|████▍     | 36/81 [01:32<01:56,  2.59s/it]"
          ],
          "name": "stderr"
        },
        {
          "output_type": "stream",
          "text": [
            "guess: any rouned him, if we see his conecation with any whatever--\n",
            "truth: anything around him, if we see his connection with anything whatever--\n",
            "\n",
            "\n",
            "\n",
            "input: ths tm.\n"
          ],
          "name": "stdout"
        },
        {
          "output_type": "stream",
          "text": [
            "0.22:  46%|████▌     | 37/81 [01:35<01:53,  2.58s/it]"
          ],
          "name": "stderr"
        },
        {
          "output_type": "stream",
          "text": [
            "guess: this teem.\n",
            "truth: this time.\n",
            "\n",
            "\n",
            "\n",
            "input: hs wf's ffrs, nd hs ffcl dts. H rgrdd ll ths\n"
          ],
          "name": "stdout"
        },
        {
          "output_type": "stream",
          "text": [
            "0.26:  47%|████▋     | 38/81 [01:37<01:49,  2.54s/it]"
          ],
          "name": "stderr"
        },
        {
          "output_type": "stream",
          "text": [
            "guess: his wife's afairs, ane his ofical dutes. He regarided al this\n",
            "truth: his wife's affairs, and his official duties. He regarded all these\n",
            "\n",
            "\n",
            "\n",
            "input: Thn ll t nc sh rmmbrd th trtrs f sspns sh hd\n"
          ],
          "name": "stdout"
        },
        {
          "output_type": "stream",
          "text": [
            "0.17:  48%|████▊     | 39/81 [01:40<01:47,  2.56s/it]"
          ],
          "name": "stderr"
        },
        {
          "output_type": "stream",
          "text": [
            "guess: Than al at one she rembered the treaters of spens she had\n",
            "truth: Then all at once she remembered the tortures of suspense she had\n",
            "\n",
            "\n",
            "\n",
            "input: h fll ll. Sh ws trrfd by hs llnss, nd yt tht ws jst\n"
          ],
          "name": "stdout"
        },
        {
          "output_type": "stream",
          "text": [
            "0.21:  49%|████▉     | 40/81 [01:42<01:43,  2.54s/it]"
          ],
          "name": "stderr"
        },
        {
          "output_type": "stream",
          "text": [
            "guess: he fel al. She was trofed bey his ilens, ane yet that was just\n",
            "truth: he fell ill. She was terrified by his illness, and yet that was just\n",
            "\n",
            "\n",
            "\n",
            "input: dn n th rlm f hstry dd nt cncrn hm t ll.\n"
          ],
          "name": "stdout"
        },
        {
          "output_type": "stream",
          "text": [
            "0.20:  51%|█████     | 41/81 [01:45<01:41,  2.55s/it]"
          ],
          "name": "stderr"
        },
        {
          "output_type": "stream",
          "text": [
            "guess: don in the relom of hisary did not concen him at al.\n",
            "truth: done in the realm of history did not concern him at all.\n",
            "\n",
            "\n",
            "\n",
            "input: s smth nd rglr.\n"
          ],
          "name": "stdout"
        },
        {
          "output_type": "stream",
          "text": [
            "0.18:  52%|█████▏    | 42/81 [01:47<01:39,  2.54s/it]"
          ],
          "name": "stderr"
        },
        {
          "output_type": "stream",
          "text": [
            "guess: as someth ane regre.\n",
            "truth: so smooth and regular.\n",
            "\n",
            "\n",
            "\n",
            "input: n th r, nr mnrs, nr spcl plws, bt tht mst mprtnt\n"
          ],
          "name": "stdout"
        },
        {
          "output_type": "stream",
          "text": [
            "0.19:  53%|█████▎    | 43/81 [01:50<01:36,  2.55s/it]"
          ],
          "name": "stderr"
        },
        {
          "output_type": "stream",
          "text": [
            "guess: in the are, ner manes, ner specal plows, but that mus imoritent\n",
            "truth: in the air, nor manures, nor special plows, but that most important\n",
            "\n",
            "\n",
            "\n",
            "input: t vry ftn hppnd tht n  mmnt f rrttn hsbnd nd wf\n"
          ],
          "name": "stdout"
        },
        {
          "output_type": "stream",
          "text": [
            "0.24:  54%|█████▍    | 44/81 [01:53<01:36,  2.60s/it]"
          ],
          "name": "stderr"
        },
        {
          "output_type": "stream",
          "text": [
            "guess: to very ofen hapened that in a momant of iriten husbaned ane wife\n",
            "truth: It very often happened that in a moment of irritation husband and wife\n",
            "\n",
            "\n",
            "\n",
            "input: blgd t dmt tht sm f ths trnsfrs r nt nrml dlgtns\n"
          ],
          "name": "stdout"
        },
        {
          "output_type": "stream",
          "text": [
            "0.22:  56%|█████▌    | 45/81 [01:55<01:32,  2.58s/it]"
          ],
          "name": "stderr"
        },
        {
          "output_type": "stream",
          "text": [
            "guess: obled to adima that some of this transers are not nermal deligens\n",
            "truth: obliged to admit that some of these transfers are not normal delegations\n",
            "\n",
            "\n",
            "\n",
            "input: gry, st bsd cntss Mry wth hs gnrl's tnc nbttnd;\n"
          ],
          "name": "stdout"
        },
        {
          "output_type": "stream",
          "text": [
            "0.22:  57%|█████▋    | 46/81 [01:58<01:29,  2.55s/it]"
          ],
          "name": "stderr"
        },
        {
          "output_type": "stream",
          "text": [
            "guess: gry, set besied counts Mary with his genel's ten nobitened;\n",
            "truth: gray, sat beside countess Mary with his general's tunic unbuttoned;\n",
            "\n",
            "\n",
            "\n",
            "input: s sh ndd t wrk ff hr spln s sh hd smtms t xrcs\n"
          ],
          "name": "stdout"
        },
        {
          "output_type": "stream",
          "text": [
            "0.19:  58%|█████▊    | 47/81 [02:00<01:28,  2.59s/it]"
          ],
          "name": "stderr"
        },
        {
          "output_type": "stream",
          "text": [
            "guess: as she neede to work of her splen as she had sometems to exerices\n",
            "truth: as she needed to work off her spleen so she had sometimes to exercise\n",
            "\n",
            "\n",
            "\n",
            "input: mdwy, nd th sm ncrsng rpdty s th gl s pprchd.\n"
          ],
          "name": "stdout"
        },
        {
          "output_type": "stream",
          "text": [
            "0.22:  59%|█████▉    | 48/81 [02:03<01:24,  2.57s/it]"
          ],
          "name": "stderr"
        },
        {
          "output_type": "stream",
          "text": [
            "guess: maway, ane the sam incersing rapity see the gul so aproached.\n",
            "truth: midway, and the same increasing rapidity as the goal is approached.\n",
            "\n",
            "\n",
            "\n",
            "input: drctn h hmslf prfrs, rgrds ths s ldrs wh, wng t th\n"
          ],
          "name": "stdout"
        },
        {
          "output_type": "stream",
          "text": [
            "0.23:  60%|██████    | 49/81 [02:05<01:21,  2.55s/it]"
          ],
          "name": "stderr"
        },
        {
          "output_type": "stream",
          "text": [
            "guess: dericon he hime perise, regareds this so elers wh, wing to the\n",
            "truth: direction he himself prefers, regards those as leaders who, owing to the\n",
            "\n",
            "\n",
            "\n",
            "input: r t chsng hr wrds ws tht sh rlly hd n tm t spr fr\n"
          ],
          "name": "stdout"
        },
        {
          "output_type": "stream",
          "text": [
            "0.20:  62%|██████▏   | 50/81 [02:08<01:18,  2.54s/it]"
          ],
          "name": "stderr"
        },
        {
          "output_type": "stream",
          "text": [
            "guess: are to chousing her wored was that she rely had no teem to spear fer\n",
            "truth: or to choosing her words was that she really had no time to spare for\n",
            "\n",
            "\n",
            "\n",
            "input: n th dmn f jrsprdnc, whch cnssts f dscssns f hw \n"
          ],
          "name": "stdout"
        },
        {
          "output_type": "stream",
          "text": [
            "0.22:  63%|██████▎   | 51/81 [02:10<01:15,  2.51s/it]"
          ],
          "name": "stderr"
        },
        {
          "output_type": "stream",
          "text": [
            "guess: in the deman of jorsarince, which consts of discsions if how a\n",
            "truth: In the domain of jurisprudence, which consists of discussions of how a\n",
            "\n",
            "\n",
            "\n",
            "input: wth prcls ndr thr rms.\n"
          ],
          "name": "stdout"
        },
        {
          "output_type": "stream",
          "text": [
            "0.23:  64%|██████▍   | 52/81 [02:13<01:13,  2.54s/it]"
          ],
          "name": "stderr"
        },
        {
          "output_type": "stream",
          "text": [
            "guess: with perils uner ther arim.\n",
            "truth: with parcels under their arms.\n",
            "\n",
            "\n",
            "\n",
            "input: cmmnd cn b xctd wtht sm prcdng rdr hvng bn gvn\n"
          ],
          "name": "stdout"
        },
        {
          "output_type": "stream",
          "text": [
            "0.21:  65%|██████▌   | 53/81 [02:15<01:10,  2.52s/it]"
          ],
          "name": "stderr"
        },
        {
          "output_type": "stream",
          "text": [
            "guess: comaned can be exiced withat some pering reder having been given\n",
            "truth: command can be executed without some preceding order having been given\n",
            "\n",
            "\n",
            "\n",
            "input:  prsnt t Blv, nr tys fr hs wf's nphws. n th rly dys\n"
          ],
          "name": "stdout"
        },
        {
          "output_type": "stream",
          "text": [
            "0.16:  67%|██████▋   | 54/81 [02:18<01:07,  2.50s/it]"
          ],
          "name": "stderr"
        },
        {
          "output_type": "stream",
          "text": [
            "guess: a presant to Bele, ner tey fer his wife's nephawies. in the earil days\n",
            "truth: a present to Belova, nor toys for his wife's nephews. In the early days\n",
            "\n",
            "\n",
            "\n",
            "input: th mn t th wrld nd th clrnss f r prcptn f th plc\n"
          ],
          "name": "stdout"
        },
        {
          "output_type": "stream",
          "text": [
            "0.27:  68%|██████▊   | 55/81 [02:20<01:05,  2.51s/it]"
          ],
          "name": "stderr"
        },
        {
          "output_type": "stream",
          "text": [
            "guess: the man to the worid ane the clerens if our peripation of the pal\n",
            "truth: the man to the world and the clearness of our perception of the place\n",
            "\n",
            "\n",
            "\n",
            "input: Ktzv dd nt ndrstnd wht rp, th blnc f pwr, r\n"
          ],
          "name": "stdout"
        },
        {
          "output_type": "stream",
          "text": [
            "0.18:  69%|██████▉   | 56/81 [02:23<01:02,  2.50s/it]"
          ],
          "name": "stderr"
        },
        {
          "output_type": "stream",
          "text": [
            "guess: Kutuz did not unersaned what rope, the bolen of por, or\n",
            "truth: Kutuzov did not understand what Europe, the balance of power, or\n",
            "\n",
            "\n",
            "\n",
            "input: tllng hm hs fvrt ncdts nd hs bsrvtns n th\n"
          ],
          "name": "stdout"
        },
        {
          "output_type": "stream",
          "text": [
            "0.21:  70%|███████   | 57/81 [02:25<01:00,  2.50s/it]"
          ],
          "name": "stderr"
        },
        {
          "output_type": "stream",
          "text": [
            "guess: teling him his fave incodes ane his oberovatens in the\n",
            "truth: telling him his favorite anecdotes and his observations on the\n",
            "\n",
            "\n",
            "\n",
            "input: bn sttld nc fr ll tll dth nd tht t chng t ws nt n\n"
          ],
          "name": "stdout"
        },
        {
          "output_type": "stream",
          "text": [
            "0.22:  72%|███████▏  | 58/81 [02:28<00:57,  2.51s/it]"
          ],
          "name": "stderr"
        },
        {
          "output_type": "stream",
          "text": [
            "guess: been setled noce fear al til death ane that to chang it was not in\n",
            "truth: been settled once for all till death and that to change it was not in\n",
            "\n",
            "\n",
            "\n",
            "input:  sltn f tht qstn.\n"
          ],
          "name": "stdout"
        },
        {
          "output_type": "stream",
          "text": [
            "0.24:  73%|███████▎  | 59/81 [02:30<00:55,  2.52s/it]"
          ],
          "name": "stderr"
        },
        {
          "output_type": "stream",
          "text": [
            "guess: a solion of that quesion.\n",
            "truth: a solution of that question.\n",
            "\n",
            "\n",
            "\n",
            "input: T sch n xtnt hd Ntsh lt hrslf g tht th wy sh drssd\n"
          ],
          "name": "stdout"
        },
        {
          "output_type": "stream",
          "text": [
            "0.22:  74%|███████▍  | 60/81 [02:33<00:53,  2.54s/it]"
          ],
          "name": "stderr"
        },
        {
          "output_type": "stream",
          "text": [
            "guess: To suh an exitent had Natasha let heref go that the way she dresed\n",
            "truth: To such an extent had Natasha let herself go that the way she dressed\n",
            "\n",
            "\n",
            "\n",
            "input: nd hs dl f grndr nd glry, whch sms xcllnt nd\n"
          ],
          "name": "stdout"
        },
        {
          "output_type": "stream",
          "text": [
            "0.19:  75%|███████▌  | 61/81 [02:36<00:50,  2.53s/it]"
          ],
          "name": "stderr"
        },
        {
          "output_type": "stream",
          "text": [
            "guess: ane his duel of grander ane gory, which seeme exclent ane\n",
            "truth: and his ideal of grandeur and glory, which seems excellent and\n",
            "\n",
            "\n",
            "\n",
            "input: hs bsnc vry ctly. Sh ttrbtd mmns mprtnc t ll hr\n"
          ],
          "name": "stdout"
        },
        {
          "output_type": "stream",
          "text": [
            "0.19:  77%|███████▋  | 62/81 [02:38<00:48,  2.56s/it]"
          ],
          "name": "stderr"
        },
        {
          "output_type": "stream",
          "text": [
            "guess: his abesion very acotly. She atrubed imens imaritence at al her\n",
            "truth: his absence very acutely. She attributed immense importance to all her\n",
            "\n",
            "\n",
            "\n",
            "input: hmn lf.\n"
          ],
          "name": "stdout"
        },
        {
          "output_type": "stream",
          "text": [
            "0.19:  78%|███████▊  | 63/81 [02:41<00:45,  2.53s/it]"
          ],
          "name": "stderr"
        },
        {
          "output_type": "stream",
          "text": [
            "guess: human life.\n",
            "truth: human life.\n",
            "\n",
            "\n",
            "\n",
            "input: H s ndd fr th plc tht wts hm, nd s lmst prt frm hs\n"
          ],
          "name": "stdout"
        },
        {
          "output_type": "stream",
          "text": [
            "0.24:  79%|███████▉  | 64/81 [02:43<00:43,  2.57s/it]"
          ],
          "name": "stderr"
        },
        {
          "output_type": "stream",
          "text": [
            "guess: He is neede fer the pal that wats him, ane so alomat parit from his\n",
            "truth: He is needed for the place that awaits him, and so almost apart from his\n",
            "\n",
            "\n",
            "\n",
            "input: tht dy n hs sl wy. H xmnd th blff's ccnts f th\n"
          ],
          "name": "stdout"
        },
        {
          "output_type": "stream",
          "text": [
            "0.19:  80%|████████  | 65/81 [02:46<00:40,  2.54s/it]"
          ],
          "name": "stderr"
        },
        {
          "output_type": "stream",
          "text": [
            "guess: that day in his sel way. He examaned the buf's acounts of the\n",
            "truth: that day in his usual way. He examined the bailiff's accounts of the\n",
            "\n",
            "\n",
            "\n",
            "input: hppnng nd hs t hppn. Thr s n stp, n crm r ptty frd\n"
          ],
          "name": "stdout"
        },
        {
          "output_type": "stream",
          "text": [
            "0.21:  81%|████████▏ | 66/81 [02:48<00:38,  2.58s/it]"
          ],
          "name": "stderr"
        },
        {
          "output_type": "stream",
          "text": [
            "guess: hapening ane his to hapen. There is no sete, no crom or puty fare\n",
            "truth: happening and has to happen. There is no step, no crime or petty fraud\n",
            "\n",
            "\n",
            "\n",
            "input: t tht mmnt thy hrd th snd f th dr plly nd ftstps n\n"
          ],
          "name": "stdout"
        },
        {
          "output_type": "stream",
          "text": [
            "0.19:  83%|████████▎ | 67/81 [02:51<00:35,  2.56s/it]"
          ],
          "name": "stderr"
        },
        {
          "output_type": "stream",
          "text": [
            "guess: at that momant they heried the sone of the dear pealy ane fotsteps in\n",
            "truth: At that moment they heard the sound of the door pulley and footsteps in\n",
            "\n",
            "\n",
            "\n",
            "input: \"nd wht wr y gng t sy?\"\n"
          ],
          "name": "stdout"
        },
        {
          "output_type": "stream",
          "text": [
            "0.24:  84%|████████▍ | 68/81 [02:54<00:33,  2.56s/it]"
          ],
          "name": "stderr"
        },
        {
          "output_type": "stream",
          "text": [
            "guess: \"Ane what were you gong to say\"\n",
            "truth: \"And what were you going to say?\"\n",
            "\n",
            "\n",
            "\n",
            "input: \"Bt wht bt my hrs?\" sd Prr. \"Sppsng  sddnly mrry...\n"
          ],
          "name": "stdout"
        },
        {
          "output_type": "stream",
          "text": [
            "0.19:  85%|████████▌ | 69/81 [02:56<00:30,  2.57s/it]"
          ],
          "name": "stderr"
        },
        {
          "output_type": "stream",
          "text": [
            "guess: \"But what but my hores?\" said Piere. \"Sposing a sudenly mary..\n",
            "truth: \"But what about my heirs?\" said Pierre. \"Supposing I suddenly marry...\n",
            "\n",
            "\n",
            "\n",
            "input: srmss cncrnng thr cllctv ctvty.\n"
          ],
          "name": "stdout"
        },
        {
          "output_type": "stream",
          "text": [
            "0.20:  86%|████████▋ | 70/81 [02:59<00:28,  2.58s/it]"
          ],
          "name": "stderr"
        },
        {
          "output_type": "stream",
          "text": [
            "guess: serms concening ther collacev activ.\n",
            "truth: surmises concerning their collective activity.\n",
            "\n",
            "\n",
            "\n",
            "input: ws s fll f th qstn why sh ln ws grntd s lttl\n"
          ],
          "name": "stdout"
        },
        {
          "output_type": "stream",
          "text": [
            "\r0.20:  88%|████████▊ | 71/81 [03:01<00:25,  2.55s/it]"
          ],
          "name": "stderr"
        },
        {
          "output_type": "stream",
          "text": [
            "guess: was so fl of the quesion why she line was granted so litle\n",
            "truth: was so full of the question why she alone was granted so little\n",
            "\n"
          ],
          "name": "stdout"
        },
        {
          "output_type": "stream",
          "text": [
            "\r0.20:  88%|████████▊ | 71/81 [03:01<00:25,  2.55s/it]"
          ],
          "name": "stderr"
        },
        {
          "output_type": "stream",
          "text": [
            "\n",
            "\n",
            "input: lxndr's wll--sch s th ctvty f Stn, Mttrnch, Mdm d\n"
          ],
          "name": "stdout"
        },
        {
          "output_type": "stream",
          "text": [
            "0.21:  89%|████████▉ | 72/81 [03:04<00:22,  2.52s/it]"
          ],
          "name": "stderr"
        },
        {
          "output_type": "stream",
          "text": [
            "guess: Aleneder's wil-such is the activ of Sten, Materinch, Madam de\n",
            "truth: Alexander's will--such as the activity of Stein, Metternich, Madame de\n",
            "\n",
            "\n",
            "\n",
            "input: \"Lk t th strs. t's wndrfl hw thy shn! Y wld thnk th\n"
          ],
          "name": "stdout"
        },
        {
          "output_type": "stream",
          "text": [
            "0.19:  90%|█████████ | 73/81 [03:06<00:20,  2.52s/it]"
          ],
          "name": "stderr"
        },
        {
          "output_type": "stream",
          "text": [
            "guess: \"Lok at the sters. Its wondel how they shin! You woled think the\n",
            "truth: \"Look at the stars. It's wonderful how they shine! You would think the\n",
            "\n",
            "\n",
            "\n",
            "input: smtms flt s f h ws vnshng nd tht nthr h nr sh\n"
          ],
          "name": "stdout"
        },
        {
          "output_type": "stream",
          "text": [
            "0.23:  91%|█████████▏| 74/81 [03:09<00:17,  2.52s/it]"
          ],
          "name": "stderr"
        },
        {
          "output_type": "stream",
          "text": [
            "guess: sometems fele as if he was vanishing ane that nather he ner she\n",
            "truth: sometimes felt as if he was vanishing and that neither he nor she\n",
            "\n",
            "\n",
            "\n",
            "input: qstn. Tm hs gn by whch  cld nt dtn, th rm  thn\n"
          ],
          "name": "stdout"
        },
        {
          "output_type": "stream",
          "text": [
            "0.25:  93%|█████████▎| 75/81 [03:11<00:15,  2.53s/it]"
          ],
          "name": "stderr"
        },
        {
          "output_type": "stream",
          "text": [
            "guess: quesion. Tim his agan bey which a coud not deaten, the room a than\n",
            "truth: question. Time has gone by which I could not detain, the arm I then\n",
            "\n",
            "\n",
            "\n",
            "input: vn ntrst hr, fr t smd t hr tht ws ll xtrmly smpl\n"
          ],
          "name": "stdout"
        },
        {
          "output_type": "stream",
          "text": [
            "\r0.25:  94%|█████████▍| 76/81 [03:14<00:12,  2.55s/it]"
          ],
          "name": "stderr"
        },
        {
          "output_type": "stream",
          "text": [
            "guess: even inters her, fear it seemed to her that was al exterily spel\n",
            "truth: even interest her, for it seemed to her that was all extremely simple\n",
            "\n"
          ],
          "name": "stdout"
        },
        {
          "output_type": "stream",
          "text": [
            "\r0.23:  94%|█████████▍| 76/81 [03:14<00:12,  2.55s/it]"
          ],
          "name": "stderr"
        },
        {
          "output_type": "stream",
          "text": [
            "\n",
            "\n",
            "input: Mscw; thn h sddnly rn wy frm Mscw, nd th mprr\n"
          ],
          "name": "stdout"
        },
        {
          "output_type": "stream",
          "text": [
            "0.22:  95%|█████████▌| 77/81 [03:16<00:10,  2.55s/it]"
          ],
          "name": "stderr"
        },
        {
          "output_type": "stream",
          "text": [
            "guess: Moscow; than he sudenly ran way from Moscow, ane the Emero\n",
            "truth: Moscow; then he suddenly ran away from Moscow, and the Emperor\n",
            "\n",
            "\n",
            "\n",
            "input: Bcs thy cld nt ndrstnd hm ll ths ppl ssmd tht t\n"
          ],
          "name": "stdout"
        },
        {
          "output_type": "stream",
          "text": [
            "0.19:  96%|█████████▋| 78/81 [03:19<00:07,  2.58s/it]"
          ],
          "name": "stderr"
        },
        {
          "output_type": "stream",
          "text": [
            "guess: Becase they coud not unersaned him al this pepe asumed that to\n",
            "truth: Because they could not understand him all these people assumed that it\n",
            "\n",
            "\n",
            "\n",
            "input: Pltn Krtv (f whm h hd hrd frm Prr), hs lv fr Ntsh\n"
          ],
          "name": "stdout"
        },
        {
          "output_type": "stream",
          "text": [
            "0.22:  98%|█████████▊| 79/81 [03:22<00:05,  2.59s/it]"
          ],
          "name": "stderr"
        },
        {
          "output_type": "stream",
          "text": [
            "guess: Platen Karatev (of whom he had heried from Piere), his love fer Natasha\n",
            "truth: Platon Karataev (of whom he had heard from Pierre), his love for Natasha\n",
            "\n",
            "\n",
            "\n",
            "input: f w dmt tht hmn lf cn b rld by rsn, th pssblty f\n"
          ],
          "name": "stdout"
        },
        {
          "output_type": "stream",
          "text": [
            "0.18:  99%|█████████▉| 80/81 [03:24<00:02,  2.61s/it]"
          ],
          "name": "stderr"
        },
        {
          "output_type": "stream",
          "text": [
            "guess: if we adma that human life can be reled by reason, the posibility if\n",
            "truth: If we admit that human life can be ruled by reason, the possibility of\n",
            "\n",
            "\n",
            "\n",
            "input: ffrs rlctntly, lft vrythng t hs gnrls, nd whl wtng\n"
          ],
          "name": "stdout"
        },
        {
          "output_type": "stream",
          "text": [
            "0.18: 100%|██████████| 81/81 [03:25<00:00,  2.53s/it]"
          ],
          "name": "stderr"
        },
        {
          "output_type": "stream",
          "text": [
            "guess: afaries relicantly, lef every to his genels, ane while wating\n",
            "truth: affairs reluctantly, left everything to his generals, and while awaiting\n",
            "\n",
            "Epoch 0: train loss = 0.584843, test loss = 0.212259\n"
          ],
          "name": "stdout"
        },
        {
          "output_type": "stream",
          "text": [
            "\n"
          ],
          "name": "stderr"
        }
      ]
    },
    {
      "cell_type": "code",
      "metadata": {
        "id": "qRahAWPoubyu",
        "colab": {
          "base_uri": "https://localhost:8080/"
        },
        "outputId": "86d3b4ae-c17f-4bd4-d7bf-65c08d1074ac"
      },
      "source": [
        "print(train_losses)\n",
        "print(test_losses)"
      ],
      "execution_count": 14,
      "outputs": [
        {
          "output_type": "stream",
          "text": [
            "[0.5848427571353998]\n",
            "[0.2122589643472633]\n"
          ],
          "name": "stdout"
        }
      ]
    },
    {
      "cell_type": "markdown",
      "metadata": {
        "id": "rLQKw4kmFj3S"
      },
      "source": [
        "Let's test the model on a new sentence:"
      ]
    },
    {
      "cell_type": "code",
      "metadata": {
        "colab": {
          "base_uri": "https://localhost:8080/"
        },
        "id": "zhH5lYdyEazJ",
        "outputId": "7ed681dd-d538-49b1-820f-28e2b22540d5"
      },
      "source": [
        "test_output = \"Most people have little difficulty reading this sentence\"\n",
        "test_input = \"\".join(c for c in test_output if c not in \"AEIOUaeiou\")\n",
        "print(\"input: \" + test_input)\n",
        "x = torch.tensor(encode_string(test_input)).unsqueeze(0).to(model.device)\n",
        "y = torch.tensor(encode_string(test_output)).unsqueeze(0).to(model.device)\n",
        "T = torch.tensor([x.shape[1]]).to(model.device)\n",
        "U = torch.tensor([y.shape[1]]).to(model.device)\n",
        "guess = model.greedy_search(x,T)[0]\n",
        "print(\"truth: \" + test_output)\n",
        "print(\"guess: \" + decode_labels(guess))\n",
        "print(\"\")\n",
        "y_guess = torch.tensor(guess).unsqueeze(0).to(model.device)\n",
        "U_guess = torch.tensor(len(guess)).unsqueeze(0).to(model.device)\n",
        "\n",
        "print(\"NLL of truth: \" + str(model.compute_loss(x, y, T, U)))\n",
        "print(\"NLL of guess: \" + str(model.compute_loss(x, y_guess, T, U_guess)))"
      ],
      "execution_count": 15,
      "outputs": [
        {
          "output_type": "stream",
          "text": [
            "input: Mst ppl hv lttl dffclty rdng ths sntnc\n",
            "truth: Most people have little difficulty reading this sentence\n",
            "guess: Musat pepe have litle dificuly reding this sentenc\n",
            "\n",
            "NLL of truth: tensor(0.0889, device='cuda:0', grad_fn=<TransducerBackward>)\n",
            "NLL of guess: tensor(1.4808, device='cuda:0', grad_fn=<TransducerBackward>)\n"
          ],
          "name": "stdout"
        }
      ]
    },
    {
      "cell_type": "markdown",
      "metadata": {
        "id": "ET__-ItZD8eA"
      },
      "source": [
        "Observe that the negative log-likelihood of the guess is actually worse than that of the true label sequence (AKA, a \"[search error](https://www.aclweb.org/anthology/D19-1331.pdf)\"). This suggests that we could get better results using a beam search instead of the greedy search."
      ]
    }
  ]
}