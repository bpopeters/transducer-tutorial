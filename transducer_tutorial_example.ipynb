{
  "nbformat": 4,
  "nbformat_minor": 0,
  "metadata": {
    "accelerator": "GPU",
    "colab": {
      "name": "transducer-tutorial-example.ipynb",
      "provenance": [],
      "collapsed_sections": [],
      "include_colab_link": true
    },
    "kernelspec": {
      "display_name": "Python 3",
      "name": "python3"
    }
  },
  "cells": [
    {
      "cell_type": "markdown",
      "metadata": {
        "id": "view-in-github",
        "colab_type": "text"
      },
      "source": [
        "<a href=\"https://colab.research.google.com/github/bpopeters/transducer-tutorial/blob/main/transducer_tutorial_example.ipynb\" target=\"_parent\"><img src=\"https://colab.research.google.com/assets/colab-badge.svg\" alt=\"Open In Colab\"/></a>"
      ]
    },
    {
      "cell_type": "markdown",
      "metadata": {
        "id": "BbwgR5UdNkkm"
      },
      "source": [
        "# Transducer implementation in PyTorch\n",
        "\n",
        "*by Loren Lugosch*\n"
      ]
    },
    {
      "cell_type": "markdown",
      "metadata": {
        "id": "yBlJNKsjTtaZ"
      },
      "source": [
        "\n",
        "In this notebook, we will implement a Transducer sequence-to-sequence model for inserting missing vowels into a sentence (\"Hll, Wrld\" --> \"Hello, World\")."
      ]
    },
    {
      "cell_type": "code",
      "metadata": {
        "id": "Q-iHU02C7fAj"
      },
      "source": [
        "import itertools\n",
        "from collections import Counter\n",
        "from tqdm import tqdm\n",
        "import torch\n",
        "import numpy as np\n"
      ],
      "execution_count": 39,
      "outputs": []
    },
    {
      "cell_type": "markdown",
      "metadata": {
        "id": "CTfRgwxmjv1B"
      },
      "source": [
        "# Building blocks\n",
        "\n",
        "First, we will define the encoder, predictor, and joiner using standard neural nets.\n",
        "\n",
        "<img src=\"https://lorenlugosch.github.io/images/transducer/transducer-model.png\" width=\"25%\">"
      ]
    },
    {
      "cell_type": "code",
      "metadata": {
        "id": "B7mLFyUG7kJH"
      },
      "source": [
        "NULL_INDEX = 0\n",
        "\n",
        "encoder_dim = 256\n",
        "predictor_dim = 256\n",
        "joiner_dim = 256"
      ],
      "execution_count": 40,
      "outputs": []
    },
    {
      "cell_type": "markdown",
      "metadata": {
        "id": "MABMTjrGY4vz"
      },
      "source": [
        "The encoder is any network that can take as input a variable-length sequence: so, RNNs, CNNs, and self-attention/Transformer encoders will all work.\n"
      ]
    },
    {
      "cell_type": "code",
      "metadata": {
        "id": "KE7j2T5EY33-"
      },
      "source": [
        "class Encoder(torch.nn.Module):\n",
        "  def __init__(self, num_inputs):\n",
        "    super(Encoder, self).__init__()\n",
        "    self.embed = torch.nn.Embedding(num_inputs, encoder_dim)\n",
        "    self.rnn = torch.nn.GRU(input_size=encoder_dim, hidden_size=encoder_dim, num_layers=2, batch_first=True, bidirectional=True, dropout=0.3)\n",
        "    self.linear = torch.nn.Linear(encoder_dim * 2, joiner_dim)\n",
        "\n",
        "  def forward(self, x):\n",
        "    out = x\n",
        "    out = self.embed(out)\n",
        "    out = self.rnn(out)[0]\n",
        "    out = self.linear(out)\n",
        "    return out"
      ],
      "execution_count": 41,
      "outputs": []
    },
    {
      "cell_type": "markdown",
      "metadata": {
        "id": "BRknN6QRY9-g"
      },
      "source": [
        "The predictor is any _causal_ network (= can't look at the future): in other words, unidirectional RNNs, causal convolutions, or masked self-attention. "
      ]
    },
    {
      "cell_type": "code",
      "metadata": {
        "id": "hPARF5LmY7-r"
      },
      "source": [
        "class Predictor(torch.nn.Module):\n",
        "  def __init__(self, num_outputs):\n",
        "    super(Predictor, self).__init__()\n",
        "    self.embed = torch.nn.Embedding(num_outputs, predictor_dim)\n",
        "    self.rnn = torch.nn.GRUCell(input_size=predictor_dim, hidden_size=predictor_dim)\n",
        "    self.linear = torch.nn.Linear(predictor_dim, joiner_dim)\n",
        "    \n",
        "    self.initial_state = torch.nn.Parameter(torch.randn(predictor_dim))\n",
        "    self.start_symbol = NULL_INDEX # In the original paper, a vector of 0s is used; just using the null index instead is easier when using an Embedding layer.\n",
        "\n",
        "  def forward_one_step(self, input, previous_state):\n",
        "    embedding = self.embed(input)\n",
        "    state = self.rnn.forward(embedding, previous_state)\n",
        "    out = self.linear(state)\n",
        "    return out, state\n",
        "\n",
        "  def forward(self, y):\n",
        "    batch_size = y.shape[0]\n",
        "    U = y.shape[1]\n",
        "    outs = []\n",
        "    state = torch.stack([self.initial_state] * batch_size).to(y.device)\n",
        "    for u in range(U+1): # need U+1 to get null output for final timestep \n",
        "      if u == 0:\n",
        "        decoder_input = torch.tensor([self.start_symbol] * batch_size).to(y.device)\n",
        "      else:\n",
        "        decoder_input = y[:,u-1]\n",
        "      out, state = self.forward_one_step(decoder_input, state)\n",
        "      outs.append(out)\n",
        "    out = torch.stack(outs, dim=1)\n",
        "    return out"
      ],
      "execution_count": 42,
      "outputs": []
    },
    {
      "cell_type": "markdown",
      "metadata": {
        "id": "ZHPZ3PATZEAW"
      },
      "source": [
        "The joiner is a feedforward network/MLP with one hidden layer applied independently to each $(t,u)$ index.\n",
        "\n",
        "(The linear part of the hidden layer is contained in the encoder and predictor, so we just do the nonlinearity here and then the output layer.)"
      ]
    },
    {
      "cell_type": "code",
      "metadata": {
        "id": "Vlzca1orZDLa"
      },
      "source": [
        "class Joiner(torch.nn.Module):\n",
        "  def __init__(self, num_outputs):\n",
        "    super(Joiner, self).__init__()\n",
        "    self.linear = torch.nn.Linear(joiner_dim, num_outputs)\n",
        "\n",
        "  def forward(self, encoder_out, predictor_out):\n",
        "    out = encoder_out + predictor_out\n",
        "    out = torch.nn.functional.tanh(out)\n",
        "    out = self.linear(out)\n",
        "    return out"
      ],
      "execution_count": 43,
      "outputs": []
    },
    {
      "cell_type": "markdown",
      "metadata": {
        "id": "a_-INbhSTApv"
      },
      "source": [
        "# Transducer model + loss function\n",
        "\n",
        "Using the encoder, predictor, and joiner, we will implement the Transducer model and its loss function.\n",
        "\n",
        "<img src=\"https://lorenlugosch.github.io/images/transducer/forward-messages.png\" width=\"25%\">"
      ]
    },
    {
      "cell_type": "markdown",
      "metadata": {
        "id": "bdcKwA_lkzxJ"
      },
      "source": [
        "We can use a simple PyTorch implementation of the loss function, relying on automatic differentiation to give us gradients."
      ]
    },
    {
      "cell_type": "code",
      "metadata": {
        "id": "sYSagKi-gHM4"
      },
      "source": [
        "class Transducer(torch.nn.Module):\n",
        "  def __init__(self, num_inputs, num_outputs):\n",
        "    super(Transducer, self).__init__()\n",
        "    self.encoder = Encoder(num_inputs)\n",
        "    self.predictor = Predictor(num_outputs)\n",
        "    self.joiner = Joiner(num_outputs)\n",
        "\n",
        "    if torch.cuda.is_available(): self.device = \"cuda:0\"\n",
        "    else: self.device = \"cpu\"\n",
        "    self.to(self.device)\n",
        "\n",
        "  def compute_forward_prob(self, joiner_out, T, U, y):\n",
        "    \"\"\"\n",
        "    joiner_out: tensor of shape (B, T_max, U_max+1, #labels)\n",
        "    T: list of input lengths\n",
        "    U: list of output lengths \n",
        "    y: label tensor (B, U_max+1)\n",
        "    \"\"\"\n",
        "    B = joiner_out.shape[0]\n",
        "    T_max = joiner_out.shape[1]\n",
        "    U_max = joiner_out.shape[2] - 1\n",
        "    log_alpha = torch.zeros(B, T_max, U_max+1).to(model.device)\n",
        "    for t in range(T_max):\n",
        "      for u in range(U_max+1):\n",
        "          if u == 0:\n",
        "            if t == 0:\n",
        "              log_alpha[:, t, u] = 0.\n",
        "\n",
        "            else: #t > 0\n",
        "              log_alpha[:, t, u] = log_alpha[:, t-1, u] + joiner_out[:, t-1, 0, NULL_INDEX] \n",
        "                  \n",
        "          else: #u > 0\n",
        "            if t == 0:\n",
        "              log_alpha[:, t, u] = log_alpha[:, t,u-1] + torch.gather(joiner_out[:, t, u-1], dim=1, index=y[:,u-1].view(-1,1) ).reshape(-1)\n",
        "            \n",
        "            else: #t > 0\n",
        "              log_alpha[:, t, u] = torch.logsumexp(torch.stack([\n",
        "                  log_alpha[:, t-1, u] + joiner_out[:, t-1, u, NULL_INDEX],\n",
        "                  log_alpha[:, t, u-1] + torch.gather(joiner_out[:, t, u-1], dim=1, index=y[:,u-1].view(-1,1) ).reshape(-1)\n",
        "              ]), dim=0)\n",
        "    \n",
        "    log_probs = []\n",
        "    for b in range(B):\n",
        "      log_prob = log_alpha[b, T[b]-1, U[b]] + joiner_out[b, T[b]-1, U[b], NULL_INDEX]\n",
        "      log_probs.append(log_prob)\n",
        "    log_probs = torch.stack(log_probs) \n",
        "    return log_prob\n",
        "\n",
        "  def compute_loss(self, x, y, T, U):\n",
        "    encoder_out = self.encoder.forward(x)\n",
        "    predictor_out = self.predictor.forward(y)\n",
        "    joiner_out = self.joiner.forward(encoder_out.unsqueeze(2), predictor_out.unsqueeze(1)).log_softmax(3)\n",
        "    loss = -self.compute_forward_prob(joiner_out, T, U, y).mean()\n",
        "    return loss"
      ],
      "execution_count": 44,
      "outputs": []
    },
    {
      "cell_type": "markdown",
      "metadata": {
        "id": "IK0c2S2xaARd"
      },
      "source": [
        "Let's first verify that the forward algorithm actually correctly computes the sum (in log space, the [logsumexp](https://lorenlugosch.github.io/posts/2020/06/logsumexp/)) of all possible alignments, using a short input/output pair for which computing all possible alignments is feasible.\n",
        "\n",
        "<img src=\"https://lorenlugosch.github.io/images/transducer/cat-align-1.png\" width=\"25%\">"
      ]
    },
    {
      "cell_type": "code",
      "metadata": {
        "id": "RWtkoXH6U8Pm"
      },
      "source": [
        "def compute_single_alignment_prob(self, encoder_out, predictor_out, T, U, z, y):\n",
        "    \"\"\"\n",
        "    Computes the probability of one alignment, z.\n",
        "    \"\"\"\n",
        "    t = 0; u = 0\n",
        "    t_u_indices = []\n",
        "    y_expanded = []\n",
        "    for step in z:\n",
        "      t_u_indices.append((t,u))\n",
        "      if step == 0: # right (null)\n",
        "        y_expanded.append(NULL_INDEX)\n",
        "        t += 1\n",
        "      if step == 1: # down (label)\n",
        "        y_expanded.append(y[u])\n",
        "        u += 1\n",
        "    t_u_indices.append((T-1,U))\n",
        "    y_expanded.append(NULL_INDEX)\n",
        "\n",
        "    t_indices = [t for (t,u) in t_u_indices]\n",
        "    u_indices = [u for (t,u) in t_u_indices]\n",
        "    encoder_out_expanded = encoder_out[t_indices]\n",
        "    predictor_out_expanded = predictor_out[u_indices]\n",
        "    joiner_out = self.joiner.forward(encoder_out_expanded, predictor_out_expanded).log_softmax(1)\n",
        "    logprob = -torch.nn.functional.nll_loss(input=joiner_out, target=torch.tensor(y_expanded).long().to(self.device), reduction=\"sum\")\n",
        "    return logprob\n",
        "\n",
        "Transducer.compute_single_alignment_prob = compute_single_alignment_prob"
      ],
      "execution_count": 45,
      "outputs": []
    },
    {
      "cell_type": "markdown",
      "metadata": {
        "id": "WSBAwQONf3z9"
      },
      "source": [
        "Now let's add the greedy search algorithm for predicting an output sequence.\n",
        "\n",
        "(Note that I've assumed we're using RNNs for the predictor here. You would have to modify this code a bit if you want to use convolutions/self-attention instead.) \n",
        "<br/><br/>\n",
        "<img src=\"https://lorenlugosch.github.io/images/transducer/greedy-search.png\" width=\"50%\">"
      ]
    },
    {
      "cell_type": "code",
      "metadata": {
        "id": "V0xeyb7Jf18_"
      },
      "source": [
        "def greedy_search(self, x, T):\n",
        "  y_batch = []\n",
        "  B = len(x)\n",
        "  encoder_out = self.encoder.forward(x)\n",
        "  U_max = 200\n",
        "  for b in range(B):\n",
        "    t = 0; u = 0; y = [self.predictor.start_symbol]; predictor_state = self.predictor.initial_state.unsqueeze(0)\n",
        "    while t < T[b] and u < U_max:\n",
        "      predictor_input = torch.tensor([ y[-1] ]).to(x.device)\n",
        "      g_u, predictor_state = self.predictor.forward_one_step(predictor_input, predictor_state)\n",
        "      f_t = encoder_out[b, t]\n",
        "      h_t_u = self.joiner.forward(f_t, g_u)\n",
        "      argmax = h_t_u.max(-1)[1].item()\n",
        "      if argmax == NULL_INDEX:\n",
        "        t += 1\n",
        "      else: # argmax == a label\n",
        "        u += 1\n",
        "        y.append(argmax)\n",
        "    y_batch.append(y[1:]) # remove start symbol\n",
        "  return y_batch\n",
        "\n",
        "Transducer.greedy_search = greedy_search"
      ],
      "execution_count": 46,
      "outputs": []
    },
    {
      "cell_type": "markdown",
      "metadata": {
        "id": "82XU9-gr3goI"
      },
      "source": [
        "The code above will work, but training will be very slow because the Transducer loss is written in pure Python. You can use the fast implementation from SpeechBrain instead by running the block below."
      ]
    },
    {
      "cell_type": "code",
      "metadata": {
        "colab": {
          "base_uri": "https://localhost:8080/"
        },
        "id": "qhUQMJ-23f2y",
        "outputId": "5bd24ddf-3abf-400c-885e-7762a404dcaf"
      },
      "source": [
        "!pip install speechbrain\n",
        "from speechbrain.nnet.loss.transducer_loss import TransducerLoss\n",
        "transducer_loss = TransducerLoss(0)\n",
        "\n",
        "def compute_loss(self, x, y, T, U):\n",
        "    encoder_out = self.encoder.forward(x)\n",
        "    predictor_out = self.predictor.forward(y)\n",
        "    joiner_out = self.joiner.forward(encoder_out.unsqueeze(2), predictor_out.unsqueeze(1)).log_softmax(3)\n",
        "    #loss = -self.compute_forward_prob(joiner_out, T, U, y).mean()\n",
        "    T = T.to(joiner_out.device)\n",
        "    U = U.to(joiner_out.device)\n",
        "    loss = transducer_loss(joiner_out, y, T, U) #, blank_index=NULL_INDEX, reduction=\"mean\")\n",
        "    return loss\n",
        "\n",
        "Transducer.compute_loss = compute_loss"
      ],
      "execution_count": 47,
      "outputs": [
        {
          "output_type": "stream",
          "name": "stdout",
          "text": [
            "Requirement already satisfied: speechbrain in /usr/local/lib/python3.7/dist-packages (0.5.11)\n",
            "Requirement already satisfied: torchaudio in /usr/local/lib/python3.7/dist-packages (from speechbrain) (0.10.0+cu111)\n",
            "Requirement already satisfied: torch<=1.11,>=1.7 in /usr/local/lib/python3.7/dist-packages (from speechbrain) (1.10.0+cu111)\n",
            "Requirement already satisfied: hyperpyyaml in /usr/local/lib/python3.7/dist-packages (from speechbrain) (1.0.0)\n",
            "Requirement already satisfied: sentencepiece in /usr/local/lib/python3.7/dist-packages (from speechbrain) (0.1.96)\n",
            "Requirement already satisfied: scipy in /usr/local/lib/python3.7/dist-packages (from speechbrain) (1.4.1)\n",
            "Requirement already satisfied: joblib in /usr/local/lib/python3.7/dist-packages (from speechbrain) (1.1.0)\n",
            "Requirement already satisfied: huggingface-hub in /usr/local/lib/python3.7/dist-packages (from speechbrain) (0.4.0)\n",
            "Requirement already satisfied: packaging in /usr/local/lib/python3.7/dist-packages (from speechbrain) (21.3)\n",
            "Requirement already satisfied: tqdm in /usr/local/lib/python3.7/dist-packages (from speechbrain) (4.62.3)\n",
            "Requirement already satisfied: numpy in /usr/local/lib/python3.7/dist-packages (from speechbrain) (1.19.5)\n",
            "Requirement already satisfied: typing-extensions in /usr/local/lib/python3.7/dist-packages (from torch<=1.11,>=1.7->speechbrain) (3.10.0.2)\n",
            "Requirement already satisfied: importlib-metadata in /usr/local/lib/python3.7/dist-packages (from huggingface-hub->speechbrain) (4.10.0)\n",
            "Requirement already satisfied: filelock in /usr/local/lib/python3.7/dist-packages (from huggingface-hub->speechbrain) (3.4.2)\n",
            "Requirement already satisfied: pyyaml in /usr/local/lib/python3.7/dist-packages (from huggingface-hub->speechbrain) (6.0)\n",
            "Requirement already satisfied: requests in /usr/local/lib/python3.7/dist-packages (from huggingface-hub->speechbrain) (2.23.0)\n",
            "Requirement already satisfied: pyparsing!=3.0.5,>=2.0.2 in /usr/local/lib/python3.7/dist-packages (from packaging->speechbrain) (3.0.6)\n",
            "Requirement already satisfied: ruamel.yaml>=0.15 in /usr/local/lib/python3.7/dist-packages (from hyperpyyaml->speechbrain) (0.17.20)\n",
            "Requirement already satisfied: ruamel.yaml.clib>=0.2.6 in /usr/local/lib/python3.7/dist-packages (from ruamel.yaml>=0.15->hyperpyyaml->speechbrain) (0.2.6)\n",
            "Requirement already satisfied: zipp>=0.5 in /usr/local/lib/python3.7/dist-packages (from importlib-metadata->huggingface-hub->speechbrain) (3.7.0)\n",
            "Requirement already satisfied: urllib3!=1.25.0,!=1.25.1,<1.26,>=1.21.1 in /usr/local/lib/python3.7/dist-packages (from requests->huggingface-hub->speechbrain) (1.24.3)\n",
            "Requirement already satisfied: idna<3,>=2.5 in /usr/local/lib/python3.7/dist-packages (from requests->huggingface-hub->speechbrain) (2.10)\n",
            "Requirement already satisfied: certifi>=2017.4.17 in /usr/local/lib/python3.7/dist-packages (from requests->huggingface-hub->speechbrain) (2021.10.8)\n",
            "Requirement already satisfied: chardet<4,>=3.0.2 in /usr/local/lib/python3.7/dist-packages (from requests->huggingface-hub->speechbrain) (3.0.4)\n"
          ]
        }
      ]
    },
    {
      "cell_type": "markdown",
      "metadata": {
        "id": "Ff9raB0jVGzN"
      },
      "source": [
        "# Some utilities\n",
        "\n",
        "Here we will add a bit of boilerplate code for training and loading data."
      ]
    },
    {
      "cell_type": "markdown",
      "source": [
        ""
      ],
      "metadata": {
        "id": "oSyC9gHbQLoj"
      }
    },
    {
      "cell_type": "code",
      "metadata": {
        "id": "5b17OQm4WdVy",
        "colab": {
          "base_uri": "https://localhost:8080/"
        },
        "outputId": "211537b0-5970-4cc4-fbd1-ef1dfcc3c589"
      },
      "source": [
        "def read_corpus(path):\n",
        "  with open(path) as f:\n",
        "    return [line.strip().split(\"\\t\") for line in f if line != \"\\n\"]\n",
        "\n",
        "train = read_corpus(\"hun_train.tsv\")\n",
        "dev = read_corpus(\"hun_dev.tsv\")\n",
        "test = read_corpus(\"hun_test.tsv\")\n",
        "\n",
        "src, tgt = zip(*train)\n",
        "src_itos = [\"_\"] + list(set(itertools.chain.from_iterable([list(s) for s in src])))\n",
        "tgt_itos = [\"_\"] + list(set(itertools.chain.from_iterable([t.split() for t in tgt])))\n",
        "print(src_itos)\n",
        "print(tgt_itos)\n",
        "\n",
        "src_stoi = {s: i for i, s in enumerate(src_itos)}\n",
        "tgt_stoi = {t: i for i, t in enumerate(tgt_itos)}\n",
        "\n",
        "class TextDataset(torch.utils.data.Dataset):\n",
        "  def __init__(self, lines, batch_size):\n",
        "\n",
        "    self.lines = lines # list of pairs of strings\n",
        "    collate = Collate()\n",
        "    self.loader = torch.utils.data.DataLoader(self, batch_size=batch_size, num_workers=1, shuffle=True, collate_fn=collate)\n",
        "\n",
        "  def __len__(self):\n",
        "    return len(self.lines)\n",
        "\n",
        "  def __getitem__(self, idx):\n",
        "    x, y = self.lines[idx]\n",
        "    return x, y\n",
        "\n",
        "# encode and decode functions will need to be different\n",
        "# encode turns strings into lists of indices\n",
        "def encode_src(s):\n",
        "  return [src_stoi[c] for c in s]\n",
        "\n",
        "def encode_tgt(t):\n",
        "  return [tgt_stoi[c] for c in t.split()]\n",
        "\n",
        "def decode_src(seq):\n",
        "  return \"\".join([src_itos[i] for i in seq])\n",
        "\n",
        "def decode_tgt(seq):\n",
        "  return \" \".join([tgt_itos[i] for i in seq])\n",
        "\n",
        "class Collate:\n",
        "  def __call__(self, batch):\n",
        "    \"\"\"\n",
        "    batch: list of tuples (input string, output string)\n",
        "    Returns a minibatch of strings, encoded as labels and padded to have the same length.\n",
        "    \"\"\"\n",
        "    x = []; y = []\n",
        "    batch_size = len(batch)\n",
        "    for index in range(batch_size):\n",
        "      x_, y_ = batch[index]\n",
        "      x.append(encode_src(x_))\n",
        "      y.append(encode_tgt(y_))\n",
        "\n",
        "    # pad all sequences to have same length\n",
        "    T = [len(x_) for x_ in x]\n",
        "    U = [len(y_) for y_ in y]\n",
        "    T_max = max(T)\n",
        "    U_max = max(U)\n",
        "    for index in range(batch_size):\n",
        "      x[index] += [NULL_INDEX] * (T_max - len(x[index]))\n",
        "      x[index] = torch.tensor(x[index])\n",
        "      y[index] += [NULL_INDEX] * (U_max - len(y[index]))\n",
        "      y[index] = torch.tensor(y[index])\n",
        "\n",
        "    # stack into single tensor\n",
        "    x = torch.stack(x)\n",
        "    y = torch.stack(y)\n",
        "    T = torch.tensor(T)\n",
        "    U = torch.tensor(U)\n",
        "\n",
        "    return x , y, T, U\n",
        "\n",
        "train_set = TextDataset(train, batch_size=64)\n",
        "dev_set = TextDataset(dev, batch_size=64)\n",
        "test_set = TextDataset(test, batch_size=64)"
      ],
      "execution_count": 48,
      "outputs": [
        {
          "output_type": "stream",
          "name": "stdout",
          "text": [
            "['_', 'w', 'j', 'ő', 'l', 'í', 'p', 'b', 'á', 'd', 'k', 'ű', 'n', 'o', 'y', 'v', 'ó', 'i', 's', 'z', 'ü', 'u', 'r', 'ö', 't', 'é', 'ú', 'm', 'x', 'h', 'e', 'a', 'c', 'g', 'f']\n",
            "['_', 'eː', 'cː', 'fː', 'j', 'ɡ', 'ʃ', 'l', 'ʝ', 'sː', 'øː', 'ɲː', 'jː', 't͡ʃ', 'pː', 'kː', 'ɦ', 'p', 'ɟ', 'b', 'uː', 'd͡ʒ', 'vː', 'tː', 'd', 'k', 'ɛ', 'ø', 'd͡zː', 'lː', 'ɒ', 'n', 'nː', 'o', 'ʃː', 'y', 'd͡ʒː', 'rː', 'v', 'f', 'i', 's', 'z', 'mː', 'ʒ', 'u', 'r', 't͡ʃː', 't͡s', 't', 'bː', 'yː', 'm', 'iː', 'x', 'ɲ', 'h', 'zː', 'ɡː', 'ɱ', 'oː', 'ɟː', 't͡sː', 'c', 'aː', 'dː', 'ŋ']\n"
          ]
        }
      ]
    },
    {
      "cell_type": "code",
      "metadata": {
        "id": "gaZEQYzfFEQ0"
      },
      "source": [
        "class Trainer:\n",
        "  def __init__(self, model, lr):\n",
        "    self.model = model\n",
        "    self.lr = lr\n",
        "    self.optimizer = torch.optim.Adam(model.parameters(), lr=self.lr)\n",
        "  \n",
        "  def train(self, dataset, print_interval = 60):\n",
        "    train_loss = 0\n",
        "    num_samples = 0\n",
        "    self.model.train()\n",
        "    pbar = tqdm(dataset.loader)\n",
        "    for idx, batch in enumerate(pbar):\n",
        "      x,y,T,U = batch\n",
        "      x = x.to(self.model.device); y = y.to(self.model.device)\n",
        "      batch_size = len(x)\n",
        "      num_samples += batch_size\n",
        "      loss = self.model.compute_loss(x,y,T,U)\n",
        "      self.optimizer.zero_grad()\n",
        "      pbar.set_description(\"%.2f\" % loss.item())\n",
        "      loss.backward()\n",
        "      self.optimizer.step()\n",
        "      train_loss += loss.item() * batch_size\n",
        "    \n",
        "      if idx % print_interval == 0:\n",
        "        self.model.eval()\n",
        "        guesses = self.model.greedy_search(x,T)\n",
        "        self.model.train()\n",
        "        print(\"\\n\")\n",
        "        for b in range(2):\n",
        "          print(\"input:\", decode_src(x[b,:T[b]]))\n",
        "          print(\"guess:\", decode_tgt(guesses[b]))\n",
        "          print(\"truth:\", decode_tgt(y[b,:U[b]]))\n",
        "          print(\"\")\n",
        "    train_loss /= num_samples\n",
        "    return train_loss\n",
        "\n",
        "  def test(self, dataset):\n",
        "    test_loss = 0\n",
        "    num_samples = 0\n",
        "    self.model.eval()\n",
        "    pbar = tqdm(dataset.loader)\n",
        "    for idx, batch in enumerate(pbar):\n",
        "      x,y,T,U = batch\n",
        "      x = x.to(self.model.device)\n",
        "      y = y.to(self.model.device)\n",
        "      batch_size = len(x)\n",
        "      num_samples += batch_size\n",
        "      loss = self.model.compute_loss(x,y,T,U)\n",
        "      pbar.set_description(\"%.2f\" % loss.item())\n",
        "      test_loss += loss.item() * batch_size\n",
        "    test_loss /= num_samples\n",
        "    return test_loss\n",
        "\n",
        "  def generate(self, dataset):\n",
        "    num_correct = 0\n",
        "    num_samples = 0\n",
        "    self.model.eval()\n",
        "    pbar = tqdm(dataset.loader)\n",
        "    for idx, batch in enumerate(pbar):\n",
        "      x, y, T, U = batch\n",
        "      batch_size = len(x)\n",
        "      x = x.to(self.model.device)\n",
        "      y = y.to(self.model.device)\n",
        "\n",
        "      y_hat = self.model.greedy_search(x, T)\n",
        "      y_str = [decode_tgt(y[i, :U[i]]) for i in range(len(x))]\n",
        "      y_hat_str = [decode_tgt(y_hat_i) for y_hat_i in y_hat]\n",
        "\n",
        "      num_correct += sum(yh == yi for yh, yi in zip(y_hat_str, y_str))\n",
        "      num_samples += len(x)\n",
        "      # pbar.set_description(\"%.2f\" % loss.item())\n",
        "      # test_loss += loss.item() * batch_size\n",
        "    wer = 1 - num_correct / num_samples\n",
        "    return wer\n",
        "    "
      ],
      "execution_count": 49,
      "outputs": []
    },
    {
      "cell_type": "markdown",
      "metadata": {
        "id": "q4PupgBKWe6p"
      },
      "source": [
        "# Training the model\n",
        "\n",
        "Now we will train a model. This will generate some output sequences every 20 batches."
      ]
    },
    {
      "cell_type": "code",
      "metadata": {
        "id": "1TSrbH9xGPEC",
        "colab": {
          "base_uri": "https://localhost:8080/"
        },
        "outputId": "bf88ac15-e4ec-42f6-c846-7d88963904b2"
      },
      "source": [
        "model = Transducer(num_inputs=len(src_itos), num_outputs=len(tgt_itos))\n",
        "trainer = Trainer(model=model, lr=0.0003)\n",
        "\n",
        "num_epochs = 20\n",
        "train_losses=[]\n",
        "test_losses=[]\n",
        "test_wers = []\n",
        "\n",
        "for epoch in range(num_epochs):\n",
        "    train_loss = trainer.train(train_set)\n",
        "    dev_loss = trainer.test(dev_set)\n",
        "    dev_wer = trainer.generate(dev_set)\n",
        "    train_losses.append(train_loss)\n",
        "    test_losses.append(dev_loss)\n",
        "    test_wers.append(dev_wer)\n",
        "    print(\"Epoch %d: train loss = %f, dev loss = %f, dev wer = %f\" % (epoch, train_loss, dev_loss, dev_wer))"
      ],
      "execution_count": null,
      "outputs": [
        {
          "output_type": "stream",
          "name": "stderr",
          "text": [
            "  0%|          | 0/125 [00:00<?, ?it/s]/usr/local/lib/python3.7/dist-packages/torch/nn/functional.py:1795: UserWarning: nn.functional.tanh is deprecated. Use torch.tanh instead.\n",
            "  warnings.warn(\"nn.functional.tanh is deprecated. Use torch.tanh instead.\")\n",
            "5.66:   2%|▏         | 3/125 [00:00<00:19,  6.26it/s]"
          ]
        },
        {
          "output_type": "stream",
          "name": "stdout",
          "text": [
            "\n",
            "\n",
            "input: árú\n",
            "guess: \n",
            "truth: aː r uː\n",
            "\n",
            "input: autóknál\n",
            "guess: \n",
            "truth: ɒ u t oː k n aː l\n",
            "\n"
          ]
        },
        {
          "output_type": "stream",
          "name": "stderr",
          "text": [
            "2.63:  50%|█████     | 63/125 [00:05<00:06,  9.89it/s]"
          ]
        },
        {
          "output_type": "stream",
          "name": "stdout",
          "text": [
            "\n",
            "\n",
            "input: költség\n",
            "guess: k\n",
            "truth: k ø l t͡ʃ eː ɡ\n",
            "\n",
            "input: ismeretet\n",
            "guess: ɛ\n",
            "truth: i ʃ m ɛ r ɛ t ɛ t\n",
            "\n"
          ]
        },
        {
          "output_type": "stream",
          "name": "stderr",
          "text": [
            "1.08:  98%|█████████▊| 123/125 [00:09<00:00,  9.13it/s]"
          ]
        },
        {
          "output_type": "stream",
          "name": "stdout",
          "text": [
            "\n",
            "\n",
            "input: kezdődő\n",
            "guess: k ɛ z d øː\n",
            "truth: k ɛ z d øː d øː\n",
            "\n",
            "input: lehessen\n",
            "guess: l ɛ ʃ ɛ n\n",
            "truth: l ɛ h ɛ ʃː ɛ n\n",
            "\n"
          ]
        },
        {
          "output_type": "stream",
          "name": "stderr",
          "text": [
            "1.13: 100%|██████████| 125/125 [00:09<00:00, 12.94it/s]\n",
            "1.14: 100%|██████████| 16/16 [00:00<00:00, 28.43it/s]\n",
            "100%|██████████| 16/16 [00:07<00:00,  2.19it/s]\n"
          ]
        },
        {
          "output_type": "stream",
          "name": "stdout",
          "text": [
            "Epoch 0: train loss = 2.713217, dev loss = 1.014923, dev wer = 0.839000\n"
          ]
        },
        {
          "output_type": "stream",
          "name": "stderr",
          "text": [
            "0.98:   2%|▏         | 3/125 [00:00<00:25,  4.78it/s]"
          ]
        },
        {
          "output_type": "stream",
          "name": "stdout",
          "text": [
            "\n",
            "\n",
            "input: írásos\n",
            "guess: r aː ʃ o ʃ\n",
            "truth: iː r aː ʃ o ʃ\n",
            "\n",
            "input: ft\n",
            "guess: f t\n",
            "truth: f o r i n t\n",
            "\n"
          ]
        },
        {
          "output_type": "stream",
          "name": "stderr",
          "text": [
            "0.51:  50%|█████     | 63/125 [00:05<00:06,  9.06it/s]"
          ]
        },
        {
          "output_type": "stream",
          "name": "stdout",
          "text": [
            "\n",
            "\n",
            "input: szentháromság\n",
            "guess: s ɛ n t h aː r o m aː ɡ\n",
            "truth: s ɛ n t h aː r o m ʃ aː ɡ\n",
            "\n",
            "input: részesít\n",
            "guess: r eː s ɛ ʃ iː t\n",
            "truth: r eː s ɛ ʃ iː t\n",
            "\n"
          ]
        },
        {
          "output_type": "stream",
          "name": "stderr",
          "text": [
            "0.22:  98%|█████████▊| 123/125 [00:09<00:00,  8.43it/s]"
          ]
        },
        {
          "output_type": "stream",
          "name": "stdout",
          "text": [
            "\n",
            "\n",
            "input: további\n",
            "guess: t o v aː b i\n",
            "truth: t o v aː bː i\n",
            "\n",
            "input: ázsiai\n",
            "guess: aː z i j ɒ j i\n",
            "truth: aː ʒ i j ɒ j i\n",
            "\n"
          ]
        },
        {
          "output_type": "stream",
          "name": "stderr",
          "text": [
            "0.25: 100%|██████████| 125/125 [00:09<00:00, 12.84it/s]\n",
            "0.27: 100%|██████████| 16/16 [00:00<00:00, 28.40it/s]\n",
            "100%|██████████| 16/16 [00:07<00:00,  2.00it/s]\n"
          ]
        },
        {
          "output_type": "stream",
          "name": "stdout",
          "text": [
            "Epoch 1: train loss = 0.509435, dev loss = 0.246773, dev wer = 0.421000\n"
          ]
        },
        {
          "output_type": "stream",
          "name": "stderr",
          "text": [
            "0.22:   2%|▏         | 3/125 [00:00<00:26,  4.62it/s]"
          ]
        },
        {
          "output_type": "stream",
          "name": "stdout",
          "text": [
            "\n",
            "\n",
            "input: lejre\n",
            "guess: l ɛ j r ɛ\n",
            "truth: l ɛ j r ɛ\n",
            "\n",
            "input: napot\n",
            "guess: n ɒ p o t\n",
            "truth: n ɒ p o t\n",
            "\n"
          ]
        },
        {
          "output_type": "stream",
          "name": "stderr",
          "text": [
            "0.18:  50%|█████     | 63/125 [00:05<00:07,  8.50it/s]"
          ]
        },
        {
          "output_type": "stream",
          "name": "stdout",
          "text": [
            "\n",
            "\n",
            "input: épületeket\n",
            "guess: eː p y l ɛ t ɛ k ɛ t\n",
            "truth: eː p y l ɛ t ɛ k ɛ t\n",
            "\n",
            "input: mellőle\n",
            "guess: m ɛ lː øː l ɛ\n",
            "truth: m ɛ lː øː l ɛ\n",
            "\n"
          ]
        },
        {
          "output_type": "stream",
          "name": "stderr",
          "text": [
            "0.09:  98%|█████████▊| 123/125 [00:09<00:00,  9.05it/s]"
          ]
        },
        {
          "output_type": "stream",
          "name": "stdout",
          "text": [
            "\n",
            "\n",
            "input: abból\n",
            "guess: ɒ bː oː l\n",
            "truth: ɒ bː oː l\n",
            "\n",
            "input: ötvenedik\n",
            "guess: ø t v ɛ n ɛ d i k\n",
            "truth: ø t v ɛ n ɛ d i k\n",
            "\n"
          ]
        },
        {
          "output_type": "stream",
          "name": "stderr",
          "text": [
            "0.09: 100%|██████████| 125/125 [00:09<00:00, 13.43it/s]\n",
            "0.27: 100%|██████████| 16/16 [00:00<00:00, 30.38it/s]\n",
            "100%|██████████| 16/16 [00:08<00:00,  2.00it/s]\n"
          ]
        },
        {
          "output_type": "stream",
          "name": "stdout",
          "text": [
            "Epoch 2: train loss = 0.191209, dev loss = 0.128609, dev wer = 0.405000\n"
          ]
        },
        {
          "output_type": "stream",
          "name": "stderr",
          "text": [
            "0.11:   2%|▏         | 3/125 [00:00<00:24,  4.97it/s]"
          ]
        },
        {
          "output_type": "stream",
          "name": "stdout",
          "text": [
            "\n",
            "\n",
            "input: röhög\n",
            "guess: r ø ɡ\n",
            "truth: r ø h ø ɡ\n",
            "\n",
            "input: háborúban\n",
            "guess: h aː b o r uː b ɒ n\n",
            "truth: h aː b o r uː b ɒ n\n",
            "\n"
          ]
        },
        {
          "output_type": "stream",
          "name": "stderr",
          "text": [
            "0.11:  50%|█████     | 63/125 [00:04<00:06,  9.22it/s]"
          ]
        },
        {
          "output_type": "stream",
          "name": "stdout",
          "text": [
            "\n",
            "\n",
            "input: gyenge\n",
            "guess: ɟ ɛ ŋ ɛ\n",
            "truth: ɟ ɛ ŋ ɡ ɛ\n",
            "\n",
            "input: élesen\n",
            "guess: eː l ɛ ʃ ɛ n\n",
            "truth: eː l ɛ ʃ ɛ n\n",
            "\n"
          ]
        },
        {
          "output_type": "stream",
          "name": "stderr",
          "text": [
            "0.17:  98%|█████████▊| 123/125 [00:08<00:00,  9.29it/s]"
          ]
        },
        {
          "output_type": "stream",
          "name": "stdout",
          "text": [
            "\n",
            "\n",
            "input: eljárást\n",
            "guess: ɛ jː aː r aː ʃ t\n",
            "truth: ɛ jː aː r aː ʃ t\n",
            "\n",
            "input: élünk\n",
            "guess: eː l y ŋ k\n",
            "truth: eː l y ŋ k\n",
            "\n"
          ]
        },
        {
          "output_type": "stream",
          "name": "stderr",
          "text": [
            "0.06: 100%|██████████| 125/125 [00:08<00:00, 14.07it/s]\n",
            "0.08: 100%|██████████| 16/16 [00:00<00:00, 30.51it/s]\n",
            "100%|██████████| 16/16 [00:07<00:00,  2.00it/s]\n"
          ]
        },
        {
          "output_type": "stream",
          "name": "stdout",
          "text": [
            "Epoch 3: train loss = 0.113033, dev loss = 0.087486, dev wer = 0.363000\n"
          ]
        },
        {
          "output_type": "stream",
          "name": "stderr",
          "text": [
            "0.13:   2%|▏         | 3/125 [00:00<00:27,  4.48it/s]"
          ]
        },
        {
          "output_type": "stream",
          "name": "stdout",
          "text": [
            "\n",
            "\n",
            "input: park\n",
            "guess: p ɒ r k\n",
            "truth: p ɒ r k\n",
            "\n",
            "input: dob\n",
            "guess: d o b\n",
            "truth: d o b\n",
            "\n"
          ]
        },
        {
          "output_type": "stream",
          "name": "stderr",
          "text": [
            "0.05:  50%|█████     | 63/125 [00:05<00:07,  8.77it/s]"
          ]
        },
        {
          "output_type": "stream",
          "name": "stdout",
          "text": [
            "\n",
            "\n",
            "input: távolsági\n",
            "guess: t aː v o l ʃ aː ɡ i\n",
            "truth: t aː v o l ʃ aː ɡ i\n",
            "\n",
            "input: jövőbeli\n",
            "guess: j ø v øː b ɛ l i\n",
            "truth: j ø v øː b ɛ l i\n",
            "\n"
          ]
        },
        {
          "output_type": "stream",
          "name": "stderr",
          "text": [
            "0.05:  98%|█████████▊| 123/125 [00:09<00:00,  8.58it/s]"
          ]
        },
        {
          "output_type": "stream",
          "name": "stdout",
          "text": [
            "\n",
            "\n",
            "input: felmérések\n",
            "guess: f ɛ l eː r eː ʃ ɛ k\n",
            "truth: f ɛ l m eː r eː ʃ ɛ k\n",
            "\n",
            "input: égtájak\n",
            "guess: eː k t aː j ɒ k\n",
            "truth: eː k t aː j ɒ k\n",
            "\n"
          ]
        },
        {
          "output_type": "stream",
          "name": "stderr",
          "text": [
            "0.04: 100%|██████████| 125/125 [00:09<00:00, 12.94it/s]\n",
            "0.06: 100%|██████████| 16/16 [00:00<00:00, 29.64it/s]\n",
            "100%|██████████| 16/16 [00:07<00:00,  2.02it/s]\n"
          ]
        },
        {
          "output_type": "stream",
          "name": "stdout",
          "text": [
            "Epoch 4: train loss = 0.077927, dev loss = 0.067994, dev wer = 0.386000\n"
          ]
        },
        {
          "output_type": "stream",
          "name": "stderr",
          "text": [
            "0.07:   2%|▏         | 3/125 [00:00<00:24,  4.92it/s]"
          ]
        },
        {
          "output_type": "stream",
          "name": "stdout",
          "text": [
            "\n",
            "\n",
            "input: hanyatlás\n",
            "guess: h ɒ ɲ ɒ t l aː ʃ\n",
            "truth: h ɒ ɲ ɒ t l aː ʃ\n",
            "\n",
            "input: ártalmas\n",
            "guess: aː r t ɒ l m ɒ ʃ\n",
            "truth: aː r t ɒ l m ɒ ʃ\n",
            "\n"
          ]
        },
        {
          "output_type": "stream",
          "name": "stderr",
          "text": [
            "0.03:  50%|█████     | 63/125 [00:04<00:06,  8.90it/s]"
          ]
        },
        {
          "output_type": "stream",
          "name": "stdout",
          "text": [
            "\n",
            "\n",
            "input: megtud\n",
            "guess: m ɛ k t u d\n",
            "truth: m ɛ k t u d\n",
            "\n",
            "input: természetes\n",
            "guess: t ɛ r m eː s ɛ t ɛ ʃ\n",
            "truth: t ɛ r m eː s ɛ t ɛ ʃ\n",
            "\n"
          ]
        },
        {
          "output_type": "stream",
          "name": "stderr",
          "text": [
            "0.03:  98%|█████████▊| 123/125 [00:09<00:00,  8.84it/s]"
          ]
        },
        {
          "output_type": "stream",
          "name": "stdout",
          "text": [
            "\n",
            "\n",
            "input: hibákat\n",
            "guess: h i b aː k ɒ t\n",
            "truth: h i b aː k ɒ t\n",
            "\n",
            "input: hasznos\n",
            "guess: h ɒ s o ʃ\n",
            "truth: h ɒ s n o ʃ\n",
            "\n"
          ]
        },
        {
          "output_type": "stream",
          "name": "stderr",
          "text": [
            "0.07: 100%|██████████| 125/125 [00:09<00:00, 13.66it/s]\n",
            "0.02: 100%|██████████| 16/16 [00:00<00:00, 29.46it/s]\n",
            "100%|██████████| 16/16 [00:07<00:00,  2.02it/s]\n"
          ]
        },
        {
          "output_type": "stream",
          "name": "stdout",
          "text": [
            "Epoch 5: train loss = 0.058313, dev loss = 0.054402, dev wer = 0.375000\n"
          ]
        },
        {
          "output_type": "stream",
          "name": "stderr",
          "text": [
            "0.03:   2%|▏         | 3/125 [00:00<00:25,  4.78it/s]"
          ]
        },
        {
          "output_type": "stream",
          "name": "stdout",
          "text": [
            "\n",
            "\n",
            "input: mentek\n",
            "guess: m ɛ n ɛ k\n",
            "truth: m ɛ n t ɛ k\n",
            "\n",
            "input: lányok\n",
            "guess: l aː ɲ o k\n",
            "truth: l aː ɲ o k\n",
            "\n"
          ]
        },
        {
          "output_type": "stream",
          "name": "stderr",
          "text": [
            "0.05:  50%|█████     | 63/125 [00:04<00:06,  9.29it/s]"
          ]
        },
        {
          "output_type": "stream",
          "name": "stdout",
          "text": [
            "\n",
            "\n",
            "input: rovarok\n",
            "guess: r o v ɒ r o k\n",
            "truth: r o v ɒ r o k\n",
            "\n",
            "input: latin\n",
            "guess: l ɒ t i n\n",
            "truth: l ɒ t i n\n",
            "\n"
          ]
        },
        {
          "output_type": "stream",
          "name": "stderr",
          "text": [
            "0.05:  98%|█████████▊| 123/125 [00:08<00:00,  8.94it/s]"
          ]
        },
        {
          "output_type": "stream",
          "name": "stdout",
          "text": [
            "\n",
            "\n",
            "input: életben\n",
            "guess: eː l ɛ d b ɛ n\n",
            "truth: eː l ɛ d b ɛ n\n",
            "\n",
            "input: jenő\n",
            "guess: j ɛ n øː\n",
            "truth: j ɛ n øː\n",
            "\n"
          ]
        },
        {
          "output_type": "stream",
          "name": "stderr",
          "text": [
            "0.02: 100%|██████████| 125/125 [00:09<00:00, 13.80it/s]\n",
            "0.15: 100%|██████████| 16/16 [00:00<00:00, 29.77it/s]\n",
            "100%|██████████| 16/16 [00:08<00:00,  1.98it/s]\n"
          ]
        },
        {
          "output_type": "stream",
          "name": "stdout",
          "text": [
            "Epoch 6: train loss = 0.045752, dev loss = 0.048279, dev wer = 0.317000\n"
          ]
        },
        {
          "output_type": "stream",
          "name": "stderr",
          "text": [
            "0.02:   2%|▏         | 3/125 [00:00<00:28,  4.32it/s]"
          ]
        },
        {
          "output_type": "stream",
          "name": "stdout",
          "text": [
            "\n",
            "\n",
            "input: atomerőmű\n",
            "guess: ɒ t o m ɛ r øː m yː\n",
            "truth: ɒ t o m ɛ r øː m yː\n",
            "\n",
            "input: lényeges\n",
            "guess: l eː ɲ ɛ ɡ ɛ ʃ\n",
            "truth: l eː ɲ ɛ ɡ ɛ ʃ\n",
            "\n"
          ]
        },
        {
          "output_type": "stream",
          "name": "stderr",
          "text": [
            "0.02:  50%|█████     | 63/125 [00:05<00:06,  8.95it/s]"
          ]
        },
        {
          "output_type": "stream",
          "name": "stdout",
          "text": [
            "\n",
            "\n",
            "input: kísérletek\n",
            "guess: k iː ʃ eː r ɛ t ɛ k\n",
            "truth: k iː ʃ eː r l ɛ t ɛ k\n",
            "\n",
            "input: szűz\n",
            "guess: s\n",
            "truth: s yː z\n",
            "\n"
          ]
        },
        {
          "output_type": "stream",
          "name": "stderr",
          "text": [
            "0.03:  98%|█████████▊| 123/125 [00:09<00:00,  8.78it/s]"
          ]
        },
        {
          "output_type": "stream",
          "name": "stdout",
          "text": [
            "\n",
            "\n",
            "input: szabály\n",
            "guess: s ɒ b aː j\n",
            "truth: s ɒ b aː j\n",
            "\n",
            "input: kötetes\n",
            "guess: k ø t ɛ t ɛ ʃ\n",
            "truth: k ø t ɛ t ɛ ʃ\n",
            "\n"
          ]
        },
        {
          "output_type": "stream",
          "name": "stderr",
          "text": [
            "0.02: 100%|██████████| 125/125 [00:09<00:00, 13.18it/s]\n",
            "0.02: 100%|██████████| 16/16 [00:00<00:00, 29.37it/s]\n",
            "100%|██████████| 16/16 [00:07<00:00,  2.03it/s]\n"
          ]
        },
        {
          "output_type": "stream",
          "name": "stdout",
          "text": [
            "Epoch 7: train loss = 0.037440, dev loss = 0.042565, dev wer = 0.469000\n"
          ]
        },
        {
          "output_type": "stream",
          "name": "stderr",
          "text": [
            "0.02:   2%|▏         | 3/125 [00:00<00:24,  4.96it/s]"
          ]
        },
        {
          "output_type": "stream",
          "name": "stdout",
          "text": [
            "\n",
            "\n",
            "input: népszerű\n",
            "guess: n eː p ɛ r yː\n",
            "truth: n eː p s ɛ r yː\n",
            "\n",
            "input: önökkel\n",
            "guess: ø n ø kː ɛ l\n",
            "truth: ø n ø kː ɛ l\n",
            "\n"
          ]
        },
        {
          "output_type": "stream",
          "name": "stderr",
          "text": [
            "0.01:  50%|█████     | 63/125 [00:04<00:07,  8.58it/s]"
          ]
        },
        {
          "output_type": "stream",
          "name": "stdout",
          "text": [
            "\n",
            "\n",
            "input: hetvennégy\n",
            "guess: h ɛ t v ɛ nː eː ɟ\n",
            "truth: h ɛ t v ɛ nː eː ɟ\n",
            "\n",
            "input: hónapok\n",
            "guess: h oː n ɒ p o k\n",
            "truth: h oː n ɒ p o k\n",
            "\n"
          ]
        },
        {
          "output_type": "stream",
          "name": "stderr",
          "text": [
            "0.09:  98%|█████████▊| 123/125 [00:09<00:00,  8.88it/s]"
          ]
        },
        {
          "output_type": "stream",
          "name": "stdout",
          "text": [
            "\n",
            "\n",
            "input: faxon\n",
            "guess: f ɒ k s o n\n",
            "truth: f ɒ k s o n\n",
            "\n",
            "input: álmai\n",
            "guess: aː l ɒ j i\n",
            "truth: aː l m ɒ j i\n",
            "\n"
          ]
        },
        {
          "output_type": "stream",
          "name": "stderr",
          "text": [
            "0.03: 100%|██████████| 125/125 [00:09<00:00, 13.60it/s]\n",
            "0.01: 100%|██████████| 16/16 [00:00<00:00, 30.00it/s]\n",
            "100%|██████████| 16/16 [00:07<00:00,  2.01it/s]\n"
          ]
        },
        {
          "output_type": "stream",
          "name": "stdout",
          "text": [
            "Epoch 8: train loss = 0.030524, dev loss = 0.039545, dev wer = 0.389000\n"
          ]
        },
        {
          "output_type": "stream",
          "name": "stderr",
          "text": [
            "0.05:   2%|▏         | 3/125 [00:00<00:25,  4.83it/s]"
          ]
        },
        {
          "output_type": "stream",
          "name": "stdout",
          "text": [
            "\n",
            "\n",
            "input: munkacsoport\n",
            "guess: m u ŋ k ɒ t͡ʃ o p o r t\n",
            "truth: m u ŋ k ɒ t͡ʃ o p o r t\n",
            "\n",
            "input: segítséget\n",
            "guess: ʃ ɛ ɡ iː t͡ʃː eː ɡ ɛ t\n",
            "truth: ʃ ɛ ɡ iː t͡ʃː eː ɡ ɛ t\n",
            "\n"
          ]
        },
        {
          "output_type": "stream",
          "name": "stderr",
          "text": [
            "0.02:  50%|█████     | 63/125 [00:04<00:06,  9.18it/s]"
          ]
        },
        {
          "output_type": "stream",
          "name": "stdout",
          "text": [
            "\n",
            "\n",
            "input: árai\n",
            "guess: aː r ɒ j i\n",
            "truth: aː r ɒ j i\n",
            "\n",
            "input: világgal\n",
            "guess: v i l aː ɡː ɒ l\n",
            "truth: v i l aː ɡː ɒ l\n",
            "\n"
          ]
        },
        {
          "output_type": "stream",
          "name": "stderr",
          "text": [
            "0.02:  98%|█████████▊| 123/125 [00:09<00:00,  8.57it/s]"
          ]
        },
        {
          "output_type": "stream",
          "name": "stdout",
          "text": [
            "\n",
            "\n",
            "input: árut\n",
            "guess: aː r u t\n",
            "truth: aː r u t\n",
            "\n",
            "input: tevékenységet\n",
            "guess: t ɛ v eː k ɛ ɲ eː ɡ ɛ t\n",
            "truth: t ɛ v eː k ɛ ɲ ʃ eː ɡ ɛ t\n",
            "\n"
          ]
        },
        {
          "output_type": "stream",
          "name": "stderr",
          "text": [
            "0.01: 100%|██████████| 125/125 [00:09<00:00, 13.69it/s]\n",
            "0.03: 100%|██████████| 16/16 [00:00<00:00, 30.93it/s]\n",
            "100%|██████████| 16/16 [00:08<00:00,  1.99it/s]\n"
          ]
        },
        {
          "output_type": "stream",
          "name": "stdout",
          "text": [
            "Epoch 9: train loss = 0.026360, dev loss = 0.036387, dev wer = 0.403000\n"
          ]
        },
        {
          "output_type": "stream",
          "name": "stderr",
          "text": [
            "0.01:   2%|▏         | 3/125 [00:00<00:28,  4.26it/s]"
          ]
        },
        {
          "output_type": "stream",
          "name": "stdout",
          "text": [
            "\n",
            "\n",
            "input: tanácshoz\n",
            "guess: t ɒ n aː t͡ʃ o z\n",
            "truth: t ɒ n aː t͡ʃ h o z\n",
            "\n",
            "input: szakemberekkel\n",
            "guess: s ɒ k ɛ m ɛ r ɛ kː ɛ l\n",
            "truth: s ɒ k ɛ m b ɛ r ɛ kː ɛ l\n",
            "\n"
          ]
        },
        {
          "output_type": "stream",
          "name": "stderr",
          "text": [
            "0.01:  50%|█████     | 63/125 [00:05<00:07,  8.24it/s]"
          ]
        },
        {
          "output_type": "stream",
          "name": "stdout",
          "text": [
            "\n",
            "\n",
            "input: tegyenek\n",
            "guess: t ɛ ɟ ɛ n ɛ k\n",
            "truth: t ɛ ɟ ɛ n ɛ k\n",
            "\n",
            "input: összefüggő\n",
            "guess: ø sː ɛ f y ɡː øː\n",
            "truth: ø sː ɛ f y ɡː øː\n",
            "\n"
          ]
        },
        {
          "output_type": "stream",
          "name": "stderr",
          "text": [
            "0.02:  98%|█████████▊| 123/125 [00:09<00:00,  8.86it/s]"
          ]
        },
        {
          "output_type": "stream",
          "name": "stdout",
          "text": [
            "\n",
            "\n",
            "input: ered\n",
            "guess: ɛ r ɛ d\n",
            "truth: ɛ r ɛ d\n",
            "\n",
            "input: japán\n",
            "guess: j ɒ p aː n\n",
            "truth: j ɒ p aː n\n",
            "\n"
          ]
        },
        {
          "output_type": "stream",
          "name": "stderr",
          "text": [
            "0.01: 100%|██████████| 125/125 [00:09<00:00, 12.67it/s]\n",
            "0.01: 100%|██████████| 16/16 [00:00<00:00, 29.53it/s]\n",
            "100%|██████████| 16/16 [00:07<00:00,  2.01it/s]\n"
          ]
        },
        {
          "output_type": "stream",
          "name": "stdout",
          "text": [
            "Epoch 10: train loss = 0.021996, dev loss = 0.033850, dev wer = 0.377000\n"
          ]
        },
        {
          "output_type": "stream",
          "name": "stderr",
          "text": [
            "0.01:   2%|▏         | 3/125 [00:00<00:25,  4.83it/s]"
          ]
        },
        {
          "output_type": "stream",
          "name": "stdout",
          "text": [
            "\n",
            "\n",
            "input: földet\n",
            "guess: f ø l ɛ t\n",
            "truth: f ø l d ɛ t\n",
            "\n",
            "input: tetemes\n",
            "guess: t ɛ t ɛ m ɛ ʃ\n",
            "truth: t ɛ t ɛ m ɛ ʃ\n",
            "\n"
          ]
        },
        {
          "output_type": "stream",
          "name": "stderr",
          "text": [
            "0.01:  50%|█████     | 63/125 [00:04<00:06,  9.08it/s]"
          ]
        },
        {
          "output_type": "stream",
          "name": "stdout",
          "text": [
            "\n",
            "\n",
            "input: futnak\n",
            "guess: f u t n ɒ k\n",
            "truth: f u t n ɒ k\n",
            "\n",
            "input: vigyázz\n",
            "guess: v i\n",
            "truth: v i ɟ aː zː\n",
            "\n"
          ]
        },
        {
          "output_type": "stream",
          "name": "stderr",
          "text": [
            "0.04:  98%|█████████▊| 123/125 [00:09<00:00,  8.79it/s]"
          ]
        },
        {
          "output_type": "stream",
          "name": "stdout",
          "text": [
            "\n",
            "\n",
            "input: fogvatartott\n",
            "guess: f o ɡ ɒ t ɒ r t o tː\n",
            "truth: f o ɡ v ɒ t ɒ r t o tː\n",
            "\n",
            "input: közöttünk\n",
            "guess: k ø z ø tː y ŋ k\n",
            "truth: k ø z ø tː y ŋ k\n",
            "\n"
          ]
        },
        {
          "output_type": "stream",
          "name": "stderr",
          "text": [
            "0.01: 100%|██████████| 125/125 [00:09<00:00, 13.40it/s]\n",
            "0.02: 100%|██████████| 16/16 [00:00<00:00, 30.16it/s]\n",
            "100%|██████████| 16/16 [00:07<00:00,  2.00it/s]\n"
          ]
        },
        {
          "output_type": "stream",
          "name": "stdout",
          "text": [
            "Epoch 11: train loss = 0.018753, dev loss = 0.033718, dev wer = 0.360000\n"
          ]
        },
        {
          "output_type": "stream",
          "name": "stderr",
          "text": [
            "0.01:   2%|▏         | 3/125 [00:00<00:25,  4.83it/s]"
          ]
        },
        {
          "output_type": "stream",
          "name": "stdout",
          "text": [
            "\n",
            "\n",
            "input: alkalmat\n",
            "guess: ɒ l k ɒ l ɒ t\n",
            "truth: ɒ l k ɒ l m ɒ t\n",
            "\n",
            "input: ezáltal\n",
            "guess: ɛ z aː l t ɒ l\n",
            "truth: ɛ z aː l t ɒ l\n",
            "\n"
          ]
        },
        {
          "output_type": "stream",
          "name": "stderr",
          "text": [
            "0.01:  50%|█████     | 63/125 [00:04<00:06,  9.48it/s]"
          ]
        },
        {
          "output_type": "stream",
          "name": "stdout",
          "text": [
            "\n",
            "\n",
            "input: jutott\n",
            "guess: j u t o tː\n",
            "truth: j u t o tː\n",
            "\n",
            "input: volt\n",
            "guess: v o l t\n",
            "truth: v o l t\n",
            "\n"
          ]
        },
        {
          "output_type": "stream",
          "name": "stderr",
          "text": [
            "0.01:  98%|█████████▊| 123/125 [00:08<00:00,  9.28it/s]"
          ]
        },
        {
          "output_type": "stream",
          "name": "stdout",
          "text": [
            "\n",
            "\n",
            "input: regény\n",
            "guess: r ɛ ɡ eː ɲ\n",
            "truth: r ɛ ɡ eː ɲ\n",
            "\n",
            "input: evangélium\n",
            "guess: ɛ v ɒ ŋ eː l i j u m\n",
            "truth: ɛ v ɒ ŋ ɡ eː l i j u m\n",
            "\n"
          ]
        },
        {
          "output_type": "stream",
          "name": "stderr",
          "text": [
            "0.01: 100%|██████████| 125/125 [00:08<00:00, 13.98it/s]\n",
            "0.02: 100%|██████████| 16/16 [00:00<00:00, 30.84it/s]\n",
            "100%|██████████| 16/16 [00:08<00:00,  1.99it/s]\n"
          ]
        },
        {
          "output_type": "stream",
          "name": "stdout",
          "text": [
            "Epoch 12: train loss = 0.016013, dev loss = 0.032175, dev wer = 0.381000\n"
          ]
        },
        {
          "output_type": "stream",
          "name": "stderr",
          "text": [
            "0.02:   2%|▏         | 3/125 [00:00<00:28,  4.35it/s]"
          ]
        },
        {
          "output_type": "stream",
          "name": "stdout",
          "text": [
            "\n",
            "\n",
            "input: óvszer\n",
            "guess: oː f ɛ r\n",
            "truth: oː f s ɛ r\n",
            "\n",
            "input: felmérés\n",
            "guess: f ɛ l eː r eː ʃ\n",
            "truth: f ɛ l m eː r eː ʃ\n",
            "\n"
          ]
        },
        {
          "output_type": "stream",
          "name": "stderr",
          "text": [
            "0.01:  50%|█████     | 63/125 [00:05<00:07,  8.77it/s]"
          ]
        },
        {
          "output_type": "stream",
          "name": "stdout",
          "text": [
            "\n",
            "\n",
            "input: munkanélküli\n",
            "guess: m u ŋ k ɒ n eː l k y l i\n",
            "truth: m u ŋ k ɒ n eː l k y l i\n",
            "\n",
            "input: bán\n",
            "guess: b aː n\n",
            "truth: b aː n\n",
            "\n"
          ]
        },
        {
          "output_type": "stream",
          "name": "stderr",
          "text": [
            "0.01:  98%|█████████▊| 123/125 [00:09<00:00,  8.66it/s]"
          ]
        },
        {
          "output_type": "stream",
          "name": "stdout",
          "text": [
            "\n",
            "\n",
            "input: egyszemélyes\n",
            "guess: ɛ c ɛ m eː j ɛ ʃ\n",
            "truth: ɛ c s ɛ m eː j ɛ ʃ\n",
            "\n",
            "input: fogyó\n",
            "guess: f o ɟ oː\n",
            "truth: f o ɟ oː\n",
            "\n"
          ]
        },
        {
          "output_type": "stream",
          "name": "stderr",
          "text": [
            "0.00: 100%|██████████| 125/125 [00:09<00:00, 13.09it/s]\n",
            "0.00: 100%|██████████| 16/16 [00:00<00:00, 28.86it/s]\n",
            "100%|██████████| 16/16 [00:07<00:00,  2.01it/s]\n"
          ]
        },
        {
          "output_type": "stream",
          "name": "stdout",
          "text": [
            "Epoch 13: train loss = 0.013879, dev loss = 0.031379, dev wer = 0.468000\n"
          ]
        },
        {
          "output_type": "stream",
          "name": "stderr",
          "text": [
            "0.00:   2%|▏         | 3/125 [00:00<00:25,  4.79it/s]"
          ]
        },
        {
          "output_type": "stream",
          "name": "stdout",
          "text": [
            "\n",
            "\n",
            "input: foglalkozik\n",
            "guess: f o ɡ ɒ l k o z i k\n",
            "truth: f o ɡ l ɒ l k o z i k\n",
            "\n",
            "input: mentes\n",
            "guess: m ɛ n ɛ ʃ\n",
            "truth: m ɛ n t ɛ ʃ\n",
            "\n"
          ]
        },
        {
          "output_type": "stream",
          "name": "stderr",
          "text": [
            "0.02:  50%|█████     | 63/125 [00:05<00:07,  8.67it/s]"
          ]
        },
        {
          "output_type": "stream",
          "name": "stdout",
          "text": [
            "\n",
            "\n",
            "input: vasárnapi\n",
            "guess: v ɒ ʃ aː r ɒ p i\n",
            "truth: v ɒ ʃ aː r n ɒ p i\n",
            "\n",
            "input: divat\n",
            "guess: d i v ɒ t\n",
            "truth: d i v ɒ t\n",
            "\n"
          ]
        },
        {
          "output_type": "stream",
          "name": "stderr",
          "text": [
            "0.01:  98%|█████████▊| 123/125 [00:09<00:00,  9.21it/s]"
          ]
        },
        {
          "output_type": "stream",
          "name": "stdout",
          "text": [
            "\n",
            "\n",
            "input: tartalmát\n",
            "guess: t ɒ r t ɒ l m aː t\n",
            "truth: t ɒ r t ɒ l m aː t\n",
            "\n",
            "input: gyűlt\n",
            "guess: ɟ\n",
            "truth: ɟ yː l t\n",
            "\n"
          ]
        },
        {
          "output_type": "stream",
          "name": "stderr",
          "text": [
            "0.01: 100%|██████████| 125/125 [00:09<00:00, 13.59it/s]\n",
            "0.10: 100%|██████████| 16/16 [00:00<00:00, 30.52it/s]\n",
            "100%|██████████| 16/16 [00:07<00:00,  2.02it/s]\n"
          ]
        },
        {
          "output_type": "stream",
          "name": "stdout",
          "text": [
            "Epoch 14: train loss = 0.012224, dev loss = 0.031787, dev wer = 0.391000\n"
          ]
        },
        {
          "output_type": "stream",
          "name": "stderr",
          "text": [
            "0.01:   2%|▏         | 3/125 [00:00<00:26,  4.65it/s]"
          ]
        },
        {
          "output_type": "stream",
          "name": "stdout",
          "text": [
            "\n",
            "\n",
            "input: nyelvészek\n",
            "guess: ɲ ɛ l v eː s ɛ k\n",
            "truth: ɲ ɛ l v eː s ɛ k\n",
            "\n",
            "input: szereplő\n",
            "guess: s ɛ r ɛ p øː\n",
            "truth: s ɛ r ɛ p l øː\n",
            "\n"
          ]
        },
        {
          "output_type": "stream",
          "name": "stderr",
          "text": [
            "0.00:  50%|█████     | 63/125 [00:04<00:07,  8.76it/s]"
          ]
        },
        {
          "output_type": "stream",
          "name": "stdout",
          "text": [
            "\n",
            "\n",
            "input: főn\n",
            "guess: f øː n\n",
            "truth: f øː n\n",
            "\n",
            "input: ritkaság\n",
            "guess: r i t k ɒ ʃ aː ɡ\n",
            "truth: r i t k ɒ ʃ aː ɡ\n",
            "\n"
          ]
        },
        {
          "output_type": "stream",
          "name": "stderr",
          "text": [
            "0.00:  98%|█████████▊| 123/125 [00:08<00:00,  9.21it/s]"
          ]
        },
        {
          "output_type": "stream",
          "name": "stdout",
          "text": [
            "\n",
            "\n",
            "input: szerintem\n",
            "guess: s ɛ r i n ɛ m\n",
            "truth: s ɛ r i n t ɛ m\n",
            "\n",
            "input: fogvatartott\n",
            "guess: f o ɡ ɒ t ɒ r t o tː\n",
            "truth: f o ɡ v ɒ t ɒ r t o tː\n",
            "\n"
          ]
        },
        {
          "output_type": "stream",
          "name": "stderr",
          "text": [
            "0.00: 100%|██████████| 125/125 [00:09<00:00, 13.84it/s]\n",
            "0.09: 100%|██████████| 16/16 [00:00<00:00, 29.87it/s]\n",
            "100%|██████████| 16/16 [00:07<00:00,  2.00it/s]\n"
          ]
        },
        {
          "output_type": "stream",
          "name": "stdout",
          "text": [
            "Epoch 15: train loss = 0.010940, dev loss = 0.030687, dev wer = 0.447000\n"
          ]
        },
        {
          "output_type": "stream",
          "name": "stderr",
          "text": [
            "0.01:   2%|▏         | 3/125 [00:00<00:27,  4.46it/s]"
          ]
        },
        {
          "output_type": "stream",
          "name": "stdout",
          "text": [
            "\n",
            "\n",
            "input: oszét\n",
            "guess: o s eː t\n",
            "truth: o s eː t\n",
            "\n",
            "input: építeni\n",
            "guess: eː p iː t ɛ n i\n",
            "truth: eː p iː t ɛ n i\n",
            "\n"
          ]
        },
        {
          "output_type": "stream",
          "name": "stderr",
          "text": [
            "0.00:  50%|█████     | 63/125 [00:05<00:07,  8.56it/s]"
          ]
        },
        {
          "output_type": "stream",
          "name": "stdout",
          "text": [
            "\n",
            "\n",
            "input: tavak\n",
            "guess: t ɒ v ɒ k\n",
            "truth: t ɒ v ɒ k\n",
            "\n",
            "input: ötletet\n",
            "guess: ø t l ɛ t ɛ t\n",
            "truth: ø t l ɛ t ɛ t\n",
            "\n"
          ]
        },
        {
          "output_type": "stream",
          "name": "stderr",
          "text": [
            "0.01:  98%|█████████▊| 123/125 [00:09<00:00,  8.61it/s]"
          ]
        },
        {
          "output_type": "stream",
          "name": "stdout",
          "text": [
            "\n",
            "\n",
            "input: menet\n",
            "guess: m ɛ n ɛ t\n",
            "truth: m ɛ n ɛ t\n",
            "\n",
            "input: feletti\n",
            "guess: f ɛ l ɛ tː i\n",
            "truth: f ɛ l ɛ tː i\n",
            "\n"
          ]
        },
        {
          "output_type": "stream",
          "name": "stderr",
          "text": [
            "0.01: 100%|██████████| 125/125 [00:09<00:00, 13.08it/s]\n",
            "0.00: 100%|██████████| 16/16 [00:00<00:00, 29.29it/s]\n",
            "100%|██████████| 16/16 [00:07<00:00,  2.02it/s]\n"
          ]
        },
        {
          "output_type": "stream",
          "name": "stdout",
          "text": [
            "Epoch 16: train loss = 0.009622, dev loss = 0.030972, dev wer = 0.393000\n"
          ]
        },
        {
          "output_type": "stream",
          "name": "stderr",
          "text": [
            "0.00:   2%|▏         | 3/125 [00:00<00:24,  4.88it/s]"
          ]
        },
        {
          "output_type": "stream",
          "name": "stdout",
          "text": [
            "\n",
            "\n",
            "input: annácska\n",
            "guess: ɒ nː aː t͡ʃ ɒ\n",
            "truth: ɒ nː aː t͡ʃ k ɒ\n",
            "\n",
            "input: generáció\n",
            "guess: ɡ ɛ n ɛ r aː t͡s i j oː\n",
            "truth: ɡ ɛ n ɛ r aː t͡s i j oː\n",
            "\n"
          ]
        },
        {
          "output_type": "stream",
          "name": "stderr",
          "text": [
            "0.00:  50%|█████     | 63/125 [00:04<00:07,  8.41it/s]"
          ]
        },
        {
          "output_type": "stream",
          "name": "stdout",
          "text": [
            "\n",
            "\n",
            "input: sarkán\n",
            "guess: ʃ ɒ r k aː n\n",
            "truth: ʃ ɒ r k aː n\n",
            "\n",
            "input: azokra\n",
            "guess: ɒ z o k r ɒ\n",
            "truth: ɒ z o k r ɒ\n",
            "\n"
          ]
        },
        {
          "output_type": "stream",
          "name": "stderr",
          "text": [
            "0.01:  98%|█████████▊| 123/125 [00:09<00:00,  9.03it/s]"
          ]
        },
        {
          "output_type": "stream",
          "name": "stdout",
          "text": [
            "\n",
            "\n",
            "input: időbeli\n",
            "guess: i d øː b ɛ l i\n",
            "truth: i d øː b ɛ l i\n",
            "\n",
            "input: térségnek\n",
            "guess: t eː r eː ɡ ɛ k\n",
            "truth: t eː r ʃ eː ɡ n ɛ k\n",
            "\n"
          ]
        },
        {
          "output_type": "stream",
          "name": "stderr",
          "text": [
            "0.01: 100%|██████████| 125/125 [00:09<00:00, 13.57it/s]\n",
            "0.00: 100%|██████████| 16/16 [00:00<00:00, 30.36it/s]\n",
            "100%|██████████| 16/16 [00:07<00:00,  2.01it/s]\n"
          ]
        },
        {
          "output_type": "stream",
          "name": "stdout",
          "text": [
            "Epoch 17: train loss = 0.008737, dev loss = 0.030771, dev wer = 0.460000\n"
          ]
        },
        {
          "output_type": "stream",
          "name": "stderr",
          "text": [
            "0.00:   2%|▏         | 3/125 [00:00<00:25,  4.81it/s]"
          ]
        },
        {
          "output_type": "stream",
          "name": "stdout",
          "text": [
            "\n",
            "\n",
            "input: bevezetés\n",
            "guess: b ɛ v ɛ z ɛ t eː ʃ\n",
            "truth: b ɛ v ɛ z ɛ t eː ʃ\n",
            "\n",
            "input: rá\n",
            "guess: r aː\n",
            "truth: r aː\n",
            "\n"
          ]
        },
        {
          "output_type": "stream",
          "name": "stderr",
          "text": [
            "0.01:  50%|█████     | 63/125 [00:04<00:06,  8.91it/s]"
          ]
        },
        {
          "output_type": "stream",
          "name": "stdout",
          "text": [
            "\n",
            "\n",
            "input: csillagkép\n",
            "guess: t͡ʃ ɒ kː eː p\n",
            "truth: t͡ʃ i lː ɒ kː eː p\n",
            "\n",
            "input: hatóságok\n",
            "guess: h ɒ t oː ʃ aː ɡ o k\n",
            "truth: h ɒ t oː ʃ aː ɡ o k\n",
            "\n"
          ]
        },
        {
          "output_type": "stream",
          "name": "stderr",
          "text": [
            "0.01:  98%|█████████▊| 123/125 [00:08<00:00,  8.86it/s]"
          ]
        },
        {
          "output_type": "stream",
          "name": "stdout",
          "text": [
            "\n",
            "\n",
            "input: villanyt\n",
            "guess: v i l ɒ ɲ\n",
            "truth: v i lː ɒ ɲ t\n",
            "\n",
            "input: programba\n",
            "guess: p r o ɡ r ɒ m ɒ\n",
            "truth: p r o ɡ r ɒ m b ɒ\n",
            "\n"
          ]
        },
        {
          "output_type": "stream",
          "name": "stderr",
          "text": [
            "0.00: 100%|██████████| 125/125 [00:09<00:00, 13.79it/s]\n",
            "0.00: 100%|██████████| 16/16 [00:00<00:00, 29.31it/s]\n",
            " 19%|█▉        | 3/16 [00:01<00:06,  1.94it/s]"
          ]
        }
      ]
    },
    {
      "cell_type": "code",
      "metadata": {
        "id": "qRahAWPoubyu"
      },
      "source": [
        "print(train_losses)\n",
        "print(test_losses)"
      ],
      "execution_count": null,
      "outputs": []
    },
    {
      "cell_type": "markdown",
      "metadata": {
        "id": "rLQKw4kmFj3S"
      },
      "source": [
        "Let's test the model on a new sentence:"
      ]
    },
    {
      "cell_type": "code",
      "metadata": {
        "id": "zhH5lYdyEazJ"
      },
      "source": [
        "test_output = \"ɒ d m i n i s t r aː t o r n ɒ k\"\n",
        "test_input = \"adminisztrátornak\"\n",
        "print(\"input: \" + test_input)\n",
        "x = torch.tensor(encode_src(test_input)).unsqueeze(0).to(model.device)\n",
        "y = torch.tensor(encode_tgt(test_output)).unsqueeze(0).to(model.device)\n",
        "T = torch.tensor([x.shape[1]]).to(model.device)\n",
        "U = torch.tensor([y.shape[1]]).to(model.device)\n",
        "guess = model.greedy_search(x,T)[0]\n",
        "print(\"truth: \" + test_output)\n",
        "print(\"guess: \" + decode_tgt(guess))\n",
        "print(\"\")\n",
        "y_guess = torch.tensor(guess).unsqueeze(0).to(model.device)\n",
        "U_guess = torch.tensor(len(guess)).unsqueeze(0).to(model.device)\n",
        "\n",
        "print(\"NLL of truth: \" + str(model.compute_loss(x, y, T, U)))\n",
        "print(\"NLL of guess: \" + str(model.compute_loss(x, y_guess, T, U_guess)))"
      ],
      "execution_count": null,
      "outputs": []
    },
    {
      "cell_type": "code",
      "source": [
        "wer = trainer.generate(test_set)\n",
        "print(wer)"
      ],
      "metadata": {
        "id": "7hXvt-NnJxVA"
      },
      "execution_count": null,
      "outputs": []
    },
    {
      "cell_type": "markdown",
      "metadata": {
        "id": "ET__-ItZD8eA"
      },
      "source": [
        "Observe that the negative log-likelihood of the guess is actually worse than that of the true label sequence (AKA, a \"[search error](https://www.aclweb.org/anthology/D19-1331.pdf)\"). This suggests that we could get better results using a beam search instead of the greedy search."
      ]
    }
  ]
}