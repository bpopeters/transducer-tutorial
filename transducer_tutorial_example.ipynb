{
  "nbformat": 4,
  "nbformat_minor": 0,
  "metadata": {
    "accelerator": "GPU",
    "colab": {
      "name": "transducer-tutorial-example.ipynb",
      "provenance": [],
      "collapsed_sections": [],
      "include_colab_link": true
    },
    "kernelspec": {
      "display_name": "Python 3",
      "name": "python3"
    }
  },
  "cells": [
    {
      "cell_type": "markdown",
      "metadata": {
        "id": "view-in-github",
        "colab_type": "text"
      },
      "source": [
        "<a href=\"https://colab.research.google.com/github/bpopeters/transducer-tutorial/blob/main/transducer_tutorial_example.ipynb\" target=\"_parent\"><img src=\"https://colab.research.google.com/assets/colab-badge.svg\" alt=\"Open In Colab\"/></a>"
      ]
    },
    {
      "cell_type": "markdown",
      "metadata": {
        "id": "BbwgR5UdNkkm"
      },
      "source": [
        "# Transducer implementation in PyTorch\n",
        "\n",
        "*by Loren Lugosch*\n"
      ]
    },
    {
      "cell_type": "markdown",
      "metadata": {
        "id": "yBlJNKsjTtaZ"
      },
      "source": [
        "\n",
        "In this notebook, we will implement a Transducer sequence-to-sequence model for inserting missing vowels into a sentence (\"Hll, Wrld\" --> \"Hello, World\")."
      ]
    },
    {
      "cell_type": "code",
      "metadata": {
        "id": "Q-iHU02C7fAj",
        "colab": {
          "base_uri": "https://localhost:8080/"
        },
        "outputId": "884fdd32-9656-4a63-ca04-cbfd7e9bd392"
      },
      "source": [
        "import torch\n",
        "import string\n",
        "import numpy as np\n",
        "import itertools\n",
        "from collections import Counter\n",
        "from tqdm import tqdm\n",
        "!pip install unidecode\n",
        "import unidecode\n"
      ],
      "execution_count": 18,
      "outputs": [
        {
          "output_type": "stream",
          "name": "stdout",
          "text": [
            "Requirement already satisfied: unidecode in /usr/local/lib/python3.7/dist-packages (1.3.2)\n"
          ]
        }
      ]
    },
    {
      "cell_type": "markdown",
      "metadata": {
        "id": "CTfRgwxmjv1B"
      },
      "source": [
        "# Building blocks\n",
        "\n",
        "First, we will define the encoder, predictor, and joiner using standard neural nets.\n",
        "\n",
        "<img src=\"https://lorenlugosch.github.io/images/transducer/transducer-model.png\" width=\"25%\">"
      ]
    },
    {
      "cell_type": "code",
      "metadata": {
        "id": "B7mLFyUG7kJH"
      },
      "source": [
        "NULL_INDEX = 0\n",
        "\n",
        "encoder_dim = 128\n",
        "predictor_dim = 128\n",
        "joiner_dim = 128"
      ],
      "execution_count": 19,
      "outputs": []
    },
    {
      "cell_type": "markdown",
      "metadata": {
        "id": "MABMTjrGY4vz"
      },
      "source": [
        "The encoder is any network that can take as input a variable-length sequence: so, RNNs, CNNs, and self-attention/Transformer encoders will all work.\n"
      ]
    },
    {
      "cell_type": "code",
      "metadata": {
        "id": "KE7j2T5EY33-"
      },
      "source": [
        "class Encoder(torch.nn.Module):\n",
        "  def __init__(self, num_inputs):\n",
        "    super(Encoder, self).__init__()\n",
        "    self.embed = torch.nn.Embedding(num_inputs, encoder_dim)\n",
        "    self.rnn = torch.nn.GRU(input_size=encoder_dim, hidden_size=encoder_dim, num_layers=3, batch_first=True, bidirectional=True, dropout=0.1)\n",
        "    self.linear = torch.nn.Linear(encoder_dim*2, joiner_dim)\n",
        "\n",
        "  def forward(self, x):\n",
        "    out = x\n",
        "    out = self.embed(out)\n",
        "    out = self.rnn(out)[0]\n",
        "    out = self.linear(out)\n",
        "    return out"
      ],
      "execution_count": 20,
      "outputs": []
    },
    {
      "cell_type": "markdown",
      "metadata": {
        "id": "BRknN6QRY9-g"
      },
      "source": [
        "The predictor is any _causal_ network (= can't look at the future): in other words, unidirectional RNNs, causal convolutions, or masked self-attention. "
      ]
    },
    {
      "cell_type": "code",
      "metadata": {
        "id": "hPARF5LmY7-r"
      },
      "source": [
        "class Predictor(torch.nn.Module):\n",
        "  def __init__(self, num_outputs):\n",
        "    super(Predictor, self).__init__()\n",
        "    self.embed = torch.nn.Embedding(num_outputs, predictor_dim)\n",
        "    self.rnn = torch.nn.GRUCell(input_size=predictor_dim, hidden_size=predictor_dim)\n",
        "    self.linear = torch.nn.Linear(predictor_dim, joiner_dim)\n",
        "    \n",
        "    self.initial_state = torch.nn.Parameter(torch.randn(predictor_dim))\n",
        "    self.start_symbol = NULL_INDEX # In the original paper, a vector of 0s is used; just using the null index instead is easier when using an Embedding layer.\n",
        "\n",
        "  def forward_one_step(self, input, previous_state):\n",
        "    embedding = self.embed(input)\n",
        "    state = self.rnn.forward(embedding, previous_state)\n",
        "    out = self.linear(state)\n",
        "    return out, state\n",
        "\n",
        "  def forward(self, y):\n",
        "    batch_size = y.shape[0]\n",
        "    U = y.shape[1]\n",
        "    outs = []\n",
        "    state = torch.stack([self.initial_state] * batch_size).to(y.device)\n",
        "    for u in range(U+1): # need U+1 to get null output for final timestep \n",
        "      if u == 0:\n",
        "        decoder_input = torch.tensor([self.start_symbol] * batch_size).to(y.device)\n",
        "      else:\n",
        "        decoder_input = y[:,u-1]\n",
        "      out, state = self.forward_one_step(decoder_input, state)\n",
        "      outs.append(out)\n",
        "    out = torch.stack(outs, dim=1)\n",
        "    return out"
      ],
      "execution_count": 21,
      "outputs": []
    },
    {
      "cell_type": "markdown",
      "metadata": {
        "id": "ZHPZ3PATZEAW"
      },
      "source": [
        "The joiner is a feedforward network/MLP with one hidden layer applied independently to each $(t,u)$ index.\n",
        "\n",
        "(The linear part of the hidden layer is contained in the encoder and predictor, so we just do the nonlinearity here and then the output layer.)"
      ]
    },
    {
      "cell_type": "code",
      "metadata": {
        "id": "Vlzca1orZDLa"
      },
      "source": [
        "class Joiner(torch.nn.Module):\n",
        "  def __init__(self, num_outputs):\n",
        "    super(Joiner, self).__init__()\n",
        "    self.linear = torch.nn.Linear(joiner_dim, num_outputs)\n",
        "\n",
        "  def forward(self, encoder_out, predictor_out):\n",
        "    out = encoder_out + predictor_out\n",
        "    out = torch.nn.functional.relu(out)\n",
        "    out = self.linear(out)\n",
        "    return out"
      ],
      "execution_count": 22,
      "outputs": []
    },
    {
      "cell_type": "markdown",
      "metadata": {
        "id": "a_-INbhSTApv"
      },
      "source": [
        "# Transducer model + loss function\n",
        "\n",
        "Using the encoder, predictor, and joiner, we will implement the Transducer model and its loss function.\n",
        "\n",
        "<img src=\"https://lorenlugosch.github.io/images/transducer/forward-messages.png\" width=\"25%\">"
      ]
    },
    {
      "cell_type": "markdown",
      "metadata": {
        "id": "bdcKwA_lkzxJ"
      },
      "source": [
        "We can use a simple PyTorch implementation of the loss function, relying on automatic differentiation to give us gradients."
      ]
    },
    {
      "cell_type": "code",
      "metadata": {
        "id": "sYSagKi-gHM4"
      },
      "source": [
        "class Transducer(torch.nn.Module):\n",
        "  def __init__(self, num_inputs, num_outputs):\n",
        "    super(Transducer, self).__init__()\n",
        "    self.encoder = Encoder(num_inputs)\n",
        "    self.predictor = Predictor(num_outputs)\n",
        "    self.joiner = Joiner(num_outputs)\n",
        "\n",
        "    if torch.cuda.is_available(): self.device = \"cuda:0\"\n",
        "    else: self.device = \"cpu\"\n",
        "    self.to(self.device)\n",
        "\n",
        "  def compute_forward_prob(self, joiner_out, T, U, y):\n",
        "    \"\"\"\n",
        "    joiner_out: tensor of shape (B, T_max, U_max+1, #labels)\n",
        "    T: list of input lengths\n",
        "    U: list of output lengths \n",
        "    y: label tensor (B, U_max+1)\n",
        "    \"\"\"\n",
        "    B = joiner_out.shape[0]\n",
        "    T_max = joiner_out.shape[1]\n",
        "    U_max = joiner_out.shape[2] - 1\n",
        "    log_alpha = torch.zeros(B, T_max, U_max+1).to(model.device)\n",
        "    for t in range(T_max):\n",
        "      for u in range(U_max+1):\n",
        "          if u == 0:\n",
        "            if t == 0:\n",
        "              log_alpha[:, t, u] = 0.\n",
        "\n",
        "            else: #t > 0\n",
        "              log_alpha[:, t, u] = log_alpha[:, t-1, u] + joiner_out[:, t-1, 0, NULL_INDEX] \n",
        "                  \n",
        "          else: #u > 0\n",
        "            if t == 0:\n",
        "              log_alpha[:, t, u] = log_alpha[:, t,u-1] + torch.gather(joiner_out[:, t, u-1], dim=1, index=y[:,u-1].view(-1,1) ).reshape(-1)\n",
        "            \n",
        "            else: #t > 0\n",
        "              log_alpha[:, t, u] = torch.logsumexp(torch.stack([\n",
        "                  log_alpha[:, t-1, u] + joiner_out[:, t-1, u, NULL_INDEX],\n",
        "                  log_alpha[:, t, u-1] + torch.gather(joiner_out[:, t, u-1], dim=1, index=y[:,u-1].view(-1,1) ).reshape(-1)\n",
        "              ]), dim=0)\n",
        "    \n",
        "    log_probs = []\n",
        "    for b in range(B):\n",
        "      log_prob = log_alpha[b, T[b]-1, U[b]] + joiner_out[b, T[b]-1, U[b], NULL_INDEX]\n",
        "      log_probs.append(log_prob)\n",
        "    log_probs = torch.stack(log_probs) \n",
        "    return log_prob\n",
        "\n",
        "  def compute_loss(self, x, y, T, U):\n",
        "    encoder_out = self.encoder.forward(x)\n",
        "    predictor_out = self.predictor.forward(y)\n",
        "    joiner_out = self.joiner.forward(encoder_out.unsqueeze(2), predictor_out.unsqueeze(1)).log_softmax(3)\n",
        "    loss = -self.compute_forward_prob(joiner_out, T, U, y).mean()\n",
        "    return loss"
      ],
      "execution_count": 23,
      "outputs": []
    },
    {
      "cell_type": "markdown",
      "metadata": {
        "id": "IK0c2S2xaARd"
      },
      "source": [
        "Let's first verify that the forward algorithm actually correctly computes the sum (in log space, the [logsumexp](https://lorenlugosch.github.io/posts/2020/06/logsumexp/)) of all possible alignments, using a short input/output pair for which computing all possible alignments is feasible.\n",
        "\n",
        "<img src=\"https://lorenlugosch.github.io/images/transducer/cat-align-1.png\" width=\"25%\">"
      ]
    },
    {
      "cell_type": "code",
      "metadata": {
        "id": "RWtkoXH6U8Pm"
      },
      "source": [
        "def compute_single_alignment_prob(self, encoder_out, predictor_out, T, U, z, y):\n",
        "    \"\"\"\n",
        "    Computes the probability of one alignment, z.\n",
        "    \"\"\"\n",
        "    t = 0; u = 0\n",
        "    t_u_indices = []\n",
        "    y_expanded = []\n",
        "    for step in z:\n",
        "      t_u_indices.append((t,u))\n",
        "      if step == 0: # right (null)\n",
        "        y_expanded.append(NULL_INDEX)\n",
        "        t += 1\n",
        "      if step == 1: # down (label)\n",
        "        y_expanded.append(y[u])\n",
        "        u += 1\n",
        "    t_u_indices.append((T-1,U))\n",
        "    y_expanded.append(NULL_INDEX)\n",
        "\n",
        "    t_indices = [t for (t,u) in t_u_indices]\n",
        "    u_indices = [u for (t,u) in t_u_indices]\n",
        "    encoder_out_expanded = encoder_out[t_indices]\n",
        "    predictor_out_expanded = predictor_out[u_indices]\n",
        "    joiner_out = self.joiner.forward(encoder_out_expanded, predictor_out_expanded).log_softmax(1)\n",
        "    logprob = -torch.nn.functional.nll_loss(input=joiner_out, target=torch.tensor(y_expanded).long().to(self.device), reduction=\"sum\")\n",
        "    return logprob\n",
        "\n",
        "Transducer.compute_single_alignment_prob = compute_single_alignment_prob"
      ],
      "execution_count": 24,
      "outputs": []
    },
    {
      "cell_type": "code",
      "metadata": {
        "id": "e8xzM0dZfea9",
        "colab": {
          "base_uri": "https://localhost:8080/"
        },
        "outputId": "5d9eb076-2f55-4473-c34a-3a8daeabceaa"
      },
      "source": [
        "# Generate example inputs/outputs\n",
        "num_outputs = len(string.ascii_uppercase) + 1 # [null, A, B, ... Z]\n",
        "model = Transducer(1, num_outputs)\n",
        "y_letters = \"CAT\"\n",
        "y = torch.tensor([string.ascii_uppercase.index(l) + 1 for l in y_letters]).unsqueeze(0).to(model.device)\n",
        "T = torch.tensor([4]); U = torch.tensor([len(y_letters)]); B = 1\n",
        "\n",
        "encoder_out = torch.randn(B, T, joiner_dim).to(model.device)\n",
        "predictor_out = torch.randn(B, U+1, joiner_dim).to(model.device)\n",
        "joiner_out = model.joiner.forward(encoder_out.unsqueeze(2), predictor_out.unsqueeze(1)).log_softmax(3)\n",
        "\n",
        "#######################################################\n",
        "# Compute loss by enumerating all possible alignments #\n",
        "#######################################################\n",
        "all_permutations = list(itertools.permutations([0]*(T-1) + [1]*U))\n",
        "all_distinct_permutations = list(Counter(all_permutations).keys())\n",
        "alignment_probs = []\n",
        "for z in all_distinct_permutations:\n",
        "  alignment_prob = model.compute_single_alignment_prob(encoder_out[0], predictor_out[0], T.item(), U.item(), z, y[0])\n",
        "  alignment_probs.append(alignment_prob)\n",
        "loss_enumerate = -torch.tensor(alignment_probs).logsumexp(0)\n",
        "\n",
        "#######################################################\n",
        "# Compute loss using the forward algorithm            #\n",
        "#######################################################\n",
        "loss_forward = -model.compute_forward_prob(joiner_out, T, U, y)\n",
        "\n",
        "print(\"Loss computed by enumerating all possible alignments: \", loss_enumerate)\n",
        "print(\"Loss computed using the forward algorithm: \", loss_forward)"
      ],
      "execution_count": 25,
      "outputs": [
        {
          "output_type": "stream",
          "name": "stdout",
          "text": [
            "Loss computed by enumerating all possible alignments:  tensor(19.3340)\n",
            "Loss computed using the forward algorithm:  tensor(19.3340, device='cuda:0', grad_fn=<NegBackward0>)\n"
          ]
        }
      ]
    },
    {
      "cell_type": "markdown",
      "metadata": {
        "id": "WSBAwQONf3z9"
      },
      "source": [
        "Now let's add the greedy search algorithm for predicting an output sequence.\n",
        "\n",
        "(Note that I've assumed we're using RNNs for the predictor here. You would have to modify this code a bit if you want to use convolutions/self-attention instead.) \n",
        "<br/><br/>\n",
        "<img src=\"https://lorenlugosch.github.io/images/transducer/greedy-search.png\" width=\"50%\">"
      ]
    },
    {
      "cell_type": "code",
      "metadata": {
        "id": "V0xeyb7Jf18_"
      },
      "source": [
        "def greedy_search(self, x, T):\n",
        "  y_batch = []\n",
        "  B = len(x)\n",
        "  encoder_out = self.encoder.forward(x)\n",
        "  U_max = 200\n",
        "  for b in range(B):\n",
        "    t = 0; u = 0; y = [self.predictor.start_symbol]; predictor_state = self.predictor.initial_state.unsqueeze(0)\n",
        "    while t < T[b] and u < U_max:\n",
        "      predictor_input = torch.tensor([ y[-1] ]).to(x.device)\n",
        "      g_u, predictor_state = self.predictor.forward_one_step(predictor_input, predictor_state)\n",
        "      f_t = encoder_out[b, t]\n",
        "      h_t_u = self.joiner.forward(f_t, g_u)\n",
        "      argmax = h_t_u.max(-1)[1].item()\n",
        "      if argmax == NULL_INDEX:\n",
        "        t += 1\n",
        "      else: # argmax == a label\n",
        "        u += 1\n",
        "        y.append(argmax)\n",
        "    y_batch.append(y[1:]) # remove start symbol\n",
        "  return y_batch\n",
        "\n",
        "Transducer.greedy_search = greedy_search"
      ],
      "execution_count": 26,
      "outputs": []
    },
    {
      "cell_type": "markdown",
      "metadata": {
        "id": "82XU9-gr3goI"
      },
      "source": [
        "The code above will work, but training will be very slow because the Transducer loss is written in pure Python. You can use the fast implementation from SpeechBrain instead by running the block below."
      ]
    },
    {
      "cell_type": "code",
      "metadata": {
        "colab": {
          "base_uri": "https://localhost:8080/"
        },
        "id": "qhUQMJ-23f2y",
        "outputId": "eb08582e-591d-4a3b-d4bd-6ec1601dfd24"
      },
      "source": [
        "!pip install speechbrain\n",
        "from speechbrain.nnet.loss.transducer_loss import TransducerLoss\n",
        "transducer_loss = TransducerLoss(0)\n",
        "\n",
        "def compute_loss(self, x, y, T, U):\n",
        "    encoder_out = self.encoder.forward(x)\n",
        "    predictor_out = self.predictor.forward(y)\n",
        "    joiner_out = self.joiner.forward(encoder_out.unsqueeze(2), predictor_out.unsqueeze(1)).log_softmax(3)\n",
        "    #loss = -self.compute_forward_prob(joiner_out, T, U, y).mean()\n",
        "    T = T.to(joiner_out.device)\n",
        "    U = U.to(joiner_out.device)\n",
        "    loss = transducer_loss(joiner_out, y, T, U) #, blank_index=NULL_INDEX, reduction=\"mean\")\n",
        "    return loss\n",
        "\n",
        "Transducer.compute_loss = compute_loss"
      ],
      "execution_count": 27,
      "outputs": [
        {
          "output_type": "stream",
          "name": "stdout",
          "text": [
            "Requirement already satisfied: speechbrain in /usr/local/lib/python3.7/dist-packages (0.5.11)\n",
            "Requirement already satisfied: numpy in /usr/local/lib/python3.7/dist-packages (from speechbrain) (1.19.5)\n",
            "Requirement already satisfied: sentencepiece in /usr/local/lib/python3.7/dist-packages (from speechbrain) (0.1.96)\n",
            "Requirement already satisfied: packaging in /usr/local/lib/python3.7/dist-packages (from speechbrain) (21.3)\n",
            "Requirement already satisfied: torchaudio in /usr/local/lib/python3.7/dist-packages (from speechbrain) (0.10.0+cu111)\n",
            "Requirement already satisfied: tqdm in /usr/local/lib/python3.7/dist-packages (from speechbrain) (4.62.3)\n",
            "Requirement already satisfied: scipy in /usr/local/lib/python3.7/dist-packages (from speechbrain) (1.4.1)\n",
            "Requirement already satisfied: hyperpyyaml in /usr/local/lib/python3.7/dist-packages (from speechbrain) (1.0.0)\n",
            "Requirement already satisfied: joblib in /usr/local/lib/python3.7/dist-packages (from speechbrain) (1.1.0)\n",
            "Requirement already satisfied: huggingface-hub in /usr/local/lib/python3.7/dist-packages (from speechbrain) (0.4.0)\n",
            "Requirement already satisfied: torch<=1.11,>=1.7 in /usr/local/lib/python3.7/dist-packages (from speechbrain) (1.10.0+cu111)\n",
            "Requirement already satisfied: typing-extensions in /usr/local/lib/python3.7/dist-packages (from torch<=1.11,>=1.7->speechbrain) (3.10.0.2)\n",
            "Requirement already satisfied: pyyaml in /usr/local/lib/python3.7/dist-packages (from huggingface-hub->speechbrain) (6.0)\n",
            "Requirement already satisfied: requests in /usr/local/lib/python3.7/dist-packages (from huggingface-hub->speechbrain) (2.23.0)\n",
            "Requirement already satisfied: filelock in /usr/local/lib/python3.7/dist-packages (from huggingface-hub->speechbrain) (3.4.2)\n",
            "Requirement already satisfied: importlib-metadata in /usr/local/lib/python3.7/dist-packages (from huggingface-hub->speechbrain) (4.10.0)\n",
            "Requirement already satisfied: pyparsing!=3.0.5,>=2.0.2 in /usr/local/lib/python3.7/dist-packages (from packaging->speechbrain) (3.0.6)\n",
            "Requirement already satisfied: ruamel.yaml>=0.15 in /usr/local/lib/python3.7/dist-packages (from hyperpyyaml->speechbrain) (0.17.20)\n",
            "Requirement already satisfied: ruamel.yaml.clib>=0.2.6 in /usr/local/lib/python3.7/dist-packages (from ruamel.yaml>=0.15->hyperpyyaml->speechbrain) (0.2.6)\n",
            "Requirement already satisfied: zipp>=0.5 in /usr/local/lib/python3.7/dist-packages (from importlib-metadata->huggingface-hub->speechbrain) (3.7.0)\n",
            "Requirement already satisfied: certifi>=2017.4.17 in /usr/local/lib/python3.7/dist-packages (from requests->huggingface-hub->speechbrain) (2021.10.8)\n",
            "Requirement already satisfied: idna<3,>=2.5 in /usr/local/lib/python3.7/dist-packages (from requests->huggingface-hub->speechbrain) (2.10)\n",
            "Requirement already satisfied: urllib3!=1.25.0,!=1.25.1,<1.26,>=1.21.1 in /usr/local/lib/python3.7/dist-packages (from requests->huggingface-hub->speechbrain) (1.24.3)\n",
            "Requirement already satisfied: chardet<4,>=3.0.2 in /usr/local/lib/python3.7/dist-packages (from requests->huggingface-hub->speechbrain) (3.0.4)\n"
          ]
        }
      ]
    },
    {
      "cell_type": "markdown",
      "metadata": {
        "id": "Ff9raB0jVGzN"
      },
      "source": [
        "# Some utilities\n",
        "\n",
        "Here we will add a bit of boilerplate code for training and loading data."
      ]
    },
    {
      "cell_type": "markdown",
      "source": [
        ""
      ],
      "metadata": {
        "id": "oSyC9gHbQLoj"
      }
    },
    {
      "cell_type": "code",
      "metadata": {
        "id": "5b17OQm4WdVy",
        "colab": {
          "base_uri": "https://localhost:8080/"
        },
        "outputId": "703a2921-03a9-4fa2-a9a8-8a03154d4649"
      },
      "source": [
        "def read_corpus(path):\n",
        "  with open(path) as f:\n",
        "    return [line.strip().split(\"\\t\") for line in f if line != \"\\n\"]\n",
        "\n",
        "train = read_corpus(\"hun_train.tsv\")\n",
        "dev = read_corpus(\"hun_dev.tsv\")\n",
        "test = read_corpus(\"hun_test.tsv\")\n",
        "\n",
        "src, tgt = zip(*train)\n",
        "src_itos = [\"_\"] + list(set(itertools.chain.from_iterable([list(s) for s in src])))\n",
        "tgt_itos = [\"_\"] + list(set(itertools.chain.from_iterable([t.split() for t in tgt])))\n",
        "print(src_itos)\n",
        "print(tgt_itos)\n",
        "\n",
        "src_stoi = {s: i for i, s in enumerate(src_itos)}\n",
        "tgt_stoi = {t: i for i, t in enumerate(tgt_itos)}\n",
        "\n",
        "class TextDataset(torch.utils.data.Dataset):\n",
        "  def __init__(self, lines, batch_size):\n",
        "\n",
        "    self.lines = lines # list of pairs of strings\n",
        "    collate = Collate()\n",
        "    self.loader = torch.utils.data.DataLoader(self, batch_size=batch_size, num_workers=1, shuffle=True, collate_fn=collate)\n",
        "\n",
        "  def __len__(self):\n",
        "    return len(self.lines)\n",
        "\n",
        "  def __getitem__(self, idx):\n",
        "    x, y = self.lines[idx]\n",
        "    return x, y\n",
        "\n",
        "# encode and decode functions will need to be different\n",
        "# encode turns strings into lists of indices\n",
        "def encode_src(s):\n",
        "  return [src_stoi[c] for c in s]\n",
        "\n",
        "def encode_tgt(t):\n",
        "  return [tgt_stoi[c] for c in t.split()]\n",
        "\n",
        "def decode_src(seq):\n",
        "  return \"\".join([src_itos[i] for i in seq])\n",
        "\n",
        "def decode_tgt(seq):\n",
        "  return \" \".join([tgt_itos[i] for i in seq])\n",
        "\n",
        "class Collate:\n",
        "  def __call__(self, batch):\n",
        "    \"\"\"\n",
        "    batch: list of tuples (input string, output string)\n",
        "    Returns a minibatch of strings, encoded as labels and padded to have the same length.\n",
        "    \"\"\"\n",
        "    x = []; y = []\n",
        "    batch_size = len(batch)\n",
        "    for index in range(batch_size):\n",
        "      x_, y_ = batch[index]\n",
        "      x.append(encode_src(x_))\n",
        "      y.append(encode_tgt(y_))\n",
        "\n",
        "    # pad all sequences to have same length\n",
        "    T = [len(x_) for x_ in x]\n",
        "    U = [len(y_) for y_ in y]\n",
        "    T_max = max(T)\n",
        "    U_max = max(U)\n",
        "    for index in range(batch_size):\n",
        "      x[index] += [NULL_INDEX] * (T_max - len(x[index]))\n",
        "      x[index] = torch.tensor(x[index])\n",
        "      y[index] += [NULL_INDEX] * (U_max - len(y[index]))\n",
        "      y[index] = torch.tensor(y[index])\n",
        "\n",
        "    # stack into single tensor\n",
        "    x = torch.stack(x)\n",
        "    y = torch.stack(y)\n",
        "    T = torch.tensor(T)\n",
        "    U = torch.tensor(U)\n",
        "\n",
        "    return (x,y,T,U)\n",
        "\n",
        "train_set = TextDataset(train, batch_size=64) #8)\n",
        "dev_set = TextDataset(dev, batch_size=64)\n",
        "test_set = TextDataset(test, batch_size=64) #8)\n",
        "train_set.__getitem__(0)"
      ],
      "execution_count": 36,
      "outputs": [
        {
          "output_type": "stream",
          "name": "stdout",
          "text": [
            "['_', 'l', 'ő', 'v', 'u', 'ö', 'ú', 'n', 'g', 'ű', 'm', 't', 'p', 'é', 'f', 'c', 'd', 'i', 'y', 'o', 'k', 'j', 'á', 's', 'h', 'x', 'ü', 'w', 'z', 'ó', 'e', 'í', 'a', 'b', 'r']\n",
            "['_', 'tː', 'l', 'ʒ', 'ɲː', 'v', 'u', 'ɦ', 'dː', 'zː', 'n', 'iː', 't͡ʃː', 'jː', 'ɱ', 't͡ʃ', 'ŋ', 'vː', 'mː', 'aː', 'lː', 'p', 't', 'ɒ', 'm', 'ɲ', 'fː', 'ɟ', 'cː', 'ø', 'f', 'yː', 'ʃː', 'kː', 'c', 'bː', 'd', 'ɟː', 'd͡ʒː', 'i', 'sː', 'y', 'o', 'k', 't͡s', 'rː', 'j', 'ɛ', 'ɡ', 's', 'ʝ', 'h', 't͡sː', 'x', 'z', 'd͡ʒ', 'øː', 'uː', 'eː', 'ʃ', 'oː', 'b', 'r', 'ɡː', 'nː', 'd͡zː', 'pː']\n"
          ]
        },
        {
          "output_type": "execute_result",
          "data": {
            "text/plain": [
              "('abba', 'ɒ bː ɒ')"
            ]
          },
          "metadata": {},
          "execution_count": 36
        }
      ]
    },
    {
      "cell_type": "code",
      "metadata": {
        "id": "gaZEQYzfFEQ0"
      },
      "source": [
        "class Trainer:\n",
        "  def __init__(self, model, lr):\n",
        "    self.model = model\n",
        "    self.lr = lr\n",
        "    self.optimizer = torch.optim.Adam(model.parameters(), lr=self.lr)\n",
        "  \n",
        "  def train(self, dataset, print_interval = 20):\n",
        "    train_loss = 0\n",
        "    num_samples = 0\n",
        "    self.model.train()\n",
        "    pbar = tqdm(dataset.loader)\n",
        "    for idx, batch in enumerate(pbar):\n",
        "      x,y,T,U = batch\n",
        "      x = x.to(self.model.device); y = y.to(self.model.device)\n",
        "      batch_size = len(x)\n",
        "      num_samples += batch_size\n",
        "      loss = self.model.compute_loss(x,y,T,U)\n",
        "      self.optimizer.zero_grad()\n",
        "      pbar.set_description(\"%.2f\" % loss.item())\n",
        "      loss.backward()\n",
        "      self.optimizer.step()\n",
        "      train_loss += loss.item() * batch_size\n",
        "      if idx % print_interval == 0:\n",
        "        self.model.eval()\n",
        "        guesses = self.model.greedy_search(x,T)\n",
        "        self.model.train()\n",
        "        print(\"\\n\")\n",
        "        for b in range(2):\n",
        "          print(\"input:\", decode_src(x[b,:T[b]]))\n",
        "          print(\"guess:\", decode_tgt(guesses[b]))\n",
        "          print(\"truth:\", decode_tgt(y[b,:U[b]]))\n",
        "          print(\"\")\n",
        "    train_loss /= num_samples\n",
        "    return train_loss\n",
        "\n",
        "  def test(self, dataset, print_interval=1):\n",
        "    test_loss = 0\n",
        "    num_samples = 0\n",
        "    self.model.eval()\n",
        "    pbar = tqdm(dataset.loader)\n",
        "    for idx, batch in enumerate(pbar):\n",
        "      x,y,T,U = batch\n",
        "      x = x.to(self.model.device); y = y.to(self.model.device)\n",
        "      batch_size = len(x)\n",
        "      num_samples += batch_size\n",
        "      loss = self.model.compute_loss(x,y,T,U)\n",
        "      pbar.set_description(\"%.2f\" % loss.item())\n",
        "      test_loss += loss.item() * batch_size\n",
        "      if idx % print_interval == 0:\n",
        "        print(\"\\n\")\n",
        "        print(\"input:\", decode_src(x[0,:T[0]]))\n",
        "        print(\"\\nguess:\", decode_tgt(self.model.greedy_search(x,T)[0]))\n",
        "        print(\"truth:\", decode_tgt(y[0,:U[0]]))\n",
        "        print(\"\")\n",
        "    test_loss /= num_samples\n",
        "    return test_loss\n",
        "    "
      ],
      "execution_count": 34,
      "outputs": []
    },
    {
      "cell_type": "markdown",
      "metadata": {
        "id": "q4PupgBKWe6p"
      },
      "source": [
        "# Training the model\n",
        "\n",
        "Now we will train a model. This will generate some output sequences every 20 batches."
      ]
    },
    {
      "cell_type": "code",
      "metadata": {
        "id": "1TSrbH9xGPEC",
        "colab": {
          "base_uri": "https://localhost:8080/"
        },
        "outputId": "7ff9d877-497a-42d2-c589-bd23b75068ba"
      },
      "source": [
        "model = Transducer(num_inputs=len(src_itos), num_outputs=len(tgt_itos))\n",
        "trainer = Trainer(model=model, lr=0.0003)\n",
        "\n",
        "num_epochs = 20\n",
        "train_losses=[]\n",
        "test_losses=[]\n",
        "\n",
        "for epoch in range(num_epochs):\n",
        "    train_loss = trainer.train(train_set)\n",
        "    dev_loss = trainer.test(dev_set)\n",
        "    train_losses.append(train_loss)\n",
        "    test_losses.append(dev_loss)\n",
        "    print(\"Epoch %d: train loss = %f, test loss = %f\" % (epoch, train_loss, dev_loss))"
      ],
      "execution_count": 38,
      "outputs": [
        {
          "output_type": "stream",
          "name": "stderr",
          "text": [
            "6.53:   3%|▎         | 4/125 [00:04<01:45,  1.15it/s]"
          ]
        },
        {
          "output_type": "stream",
          "name": "stdout",
          "text": [
            "\n",
            "\n",
            "input: klasszikus\n",
            "guess: i oː f uː t u ʃː f ʃː ʃː f ʃː ʃː f ʃː ʃː f ʃː ʃː f ʃː ʃː f ʃː ʃː f ʃː ʃː f ʃː ʃː f ʃː ʃː f ʃː ʃː f ʃː ʃː f ʃː ʃː f ʃː ʃː f ʃː ʃː f ʃː ʃː f ʃː ʃː f ʃː ʃː f ʃː ʃː f ʃː ʃː f ʃː ʃː f ʃː ʃː f ʃː ʃː f ʃː ʃː f ʃː ʃː f ʃː ʃː f ʃː ʃː f ʃː ʃː f ʃː ʃː f ʃː ʃː f ʃː ʃː f ʃː ʃː f ʃː ʃː f ʃː ʃː f ʃː ʃː f ʃː ʃː f ʃː ʃː f ʃː ʃː f ʃː ʃː f ʃː ʃː f ʃː ʃː f ʃː ʃː f ʃː ʃː f ʃː ʃː f ʃː ʃː f ʃː ʃː f ʃː ʃː f ʃː ʃː f ʃː ʃː f ʃː ʃː f ʃː ʃː f ʃː ʃː f ʃː ʃː f ʃː ʃː f ʃː ʃː f ʃː ʃː f ʃː ʃː f ʃː ʃː f ʃː ʃː f ʃː ʃː f ʃː ʃː f ʃː ʃː f ʃː ʃː f ʃː ʃː f ʃː ʃː f\n",
            "truth: k l ɒ sː i k u ʃ\n",
            "\n",
            "input: eredetű\n",
            "guess: f i f uː t u ʃː f ʃː f f uː uː ɲ f ʃː f uː uː ɲ f ʃː f uː uː ɲ f ʃː f uː uː ɲ f ʃː f uː uː ɲ f ʃː f uː uː ɲ f ʃː f uː uː ɲ f ʃː f uː uː ɲ f ʃː f uː uː ɲ f ʃː f uː uː ɲ f ʃː f uː uː ɲ f ʃː f uː uː ɲ f ʃː f uː uː ɲ f ʃː f uː uː ɲ f ʃː f uː uː ɲ f ʃː f uː uː ɲ f ʃː f uː uː ɲ f ʃː f uː uː ɲ f ʃː f uː uː ɲ f ʃː f uː uː ɲ f ʃː f uː uː ɲ f ʃː f uː uː ɲ f ʃː f uː uː ɲ f ʃː f uː uː ɲ f ʃː f uː uː ɲ f ʃː f uː uː ɲ f ʃː f uː uː ɲ f ʃː f uː uː ɲ f ʃː f uː uː ɲ f ʃː f uː uː ɲ f ʃː f uː uː ɲ f ʃː f uː uː ɲ\n",
            "truth: ɛ r ɛ d ɛ t yː\n",
            "\n"
          ]
        },
        {
          "output_type": "stream",
          "name": "stderr",
          "text": [
            "3.96:  20%|██        | 25/125 [00:05<00:07, 12.92it/s]"
          ]
        },
        {
          "output_type": "stream",
          "name": "stdout",
          "text": [
            "\n",
            "\n",
            "input: létesítmény\n",
            "guess: \n",
            "truth: l eː t ɛ ʃ iː t m eː ɲ\n",
            "\n",
            "input: rovarok\n",
            "guess: \n",
            "truth: r o v ɒ r o k\n",
            "\n"
          ]
        },
        {
          "output_type": "stream",
          "name": "stderr",
          "text": [
            "3.47:  38%|███▊      | 47/125 [00:06<00:03, 20.94it/s]"
          ]
        },
        {
          "output_type": "stream",
          "name": "stdout",
          "text": [
            "\n",
            "\n",
            "input: ahelyett\n",
            "guess: \n",
            "truth: ɒ ɦ ɛ j ɛ tː\n",
            "\n",
            "input: bérleti\n",
            "guess: \n",
            "truth: b eː r l ɛ t i\n",
            "\n"
          ]
        },
        {
          "output_type": "stream",
          "name": "stderr",
          "text": [
            "3.38:  50%|█████     | 63/125 [00:07<00:03, 19.44it/s]"
          ]
        },
        {
          "output_type": "stream",
          "name": "stdout",
          "text": [
            "\n",
            "\n",
            "input: személyes\n",
            "guess: \n",
            "truth: s ɛ m eː j ɛ ʃ\n",
            "\n",
            "input: kelenföld\n",
            "guess: \n",
            "truth: k ɛ l ɛ ɱ f ø l d\n",
            "\n"
          ]
        },
        {
          "output_type": "stream",
          "name": "stderr",
          "text": [
            "3.43:  68%|██████▊   | 85/125 [00:07<00:01, 20.95it/s]"
          ]
        },
        {
          "output_type": "stream",
          "name": "stdout",
          "text": [
            "\n",
            "\n",
            "input: alapon\n",
            "guess: \n",
            "truth: ɒ l ɒ p o n\n",
            "\n",
            "input: sebességet\n",
            "guess: \n",
            "truth: ʃ ɛ b ɛ ʃː eː ɡ ɛ t\n",
            "\n"
          ]
        },
        {
          "output_type": "stream",
          "name": "stderr",
          "text": [
            "3.21:  86%|████████▌ | 107/125 [00:08<00:00, 23.45it/s]"
          ]
        },
        {
          "output_type": "stream",
          "name": "stdout",
          "text": [
            "\n",
            "\n",
            "input: hétfő\n",
            "guess: \n",
            "truth: h eː t f øː\n",
            "\n",
            "input: foglalkoztató\n",
            "guess: \n",
            "truth: f o ɡ l ɒ l k o s t ɒ t oː\n",
            "\n"
          ]
        },
        {
          "output_type": "stream",
          "name": "stderr",
          "text": [
            "2.94: 100%|██████████| 125/125 [00:09<00:00, 12.99it/s]\n"
          ]
        },
        {
          "output_type": "stream",
          "name": "stdout",
          "text": [
            "\n",
            "\n",
            "input: távolsági\n",
            "guess: \n",
            "truth: t aː v o l ʃ aː ɡ i\n",
            "\n",
            "input: képzése\n",
            "guess: ɛ\n",
            "truth: k eː b z eː ʃ ɛ\n",
            "\n"
          ]
        },
        {
          "output_type": "stream",
          "name": "stderr",
          "text": [
            "3.01:   6%|▋         | 1/16 [00:00<00:03,  4.02it/s]"
          ]
        },
        {
          "output_type": "stream",
          "name": "stdout",
          "text": [
            "\n",
            "\n",
            "input: tamás\n",
            "guess: \n",
            "truth: t ɒ m aː ʃ\n",
            "\n",
            "\n",
            "\n",
            "input: bennem\n"
          ]
        },
        {
          "output_type": "stream",
          "name": "stderr",
          "text": [
            "2.95:  12%|█▎        | 2/16 [00:00<00:03,  4.17it/s]"
          ]
        },
        {
          "output_type": "stream",
          "name": "stdout",
          "text": [
            "guess: ɛ\n",
            "truth: b ɛ nː ɛ m\n",
            "\n",
            "\n",
            "\n",
            "input: üzenetet\n"
          ]
        },
        {
          "output_type": "stream",
          "name": "stderr",
          "text": [
            "3.18:  25%|██▌       | 4/16 [00:00<00:02,  4.64it/s]"
          ]
        },
        {
          "output_type": "stream",
          "name": "stdout",
          "text": [
            "guess: ɛ\n",
            "truth: y z ɛ n ɛ t ɛ t\n",
            "\n",
            "\n",
            "\n",
            "input: főnevek\n",
            "guess: ɛ\n",
            "truth: f øː n ɛ v ɛ k\n",
            "\n"
          ]
        },
        {
          "output_type": "stream",
          "name": "stderr",
          "text": [
            "3.03:  31%|███▏      | 5/16 [00:01<00:02,  4.63it/s]"
          ]
        },
        {
          "output_type": "stream",
          "name": "stdout",
          "text": [
            "\n",
            "\n",
            "input: lettek\n",
            "guess: ɛ\n",
            "truth: l ɛ tː ɛ k\n",
            "\n"
          ]
        },
        {
          "output_type": "stream",
          "name": "stderr",
          "text": [
            "3.06:  38%|███▊      | 6/16 [00:01<00:02,  4.62it/s]"
          ]
        },
        {
          "output_type": "stream",
          "name": "stdout",
          "text": [
            "\n",
            "\n",
            "input: meddig\n",
            "guess: ɛ\n",
            "truth: m ɛ dː i ɡ\n",
            "\n"
          ]
        },
        {
          "output_type": "stream",
          "name": "stderr",
          "text": [
            "3.04:  44%|████▍     | 7/16 [00:01<00:01,  4.64it/s]"
          ]
        },
        {
          "output_type": "stream",
          "name": "stdout",
          "text": [
            "\n",
            "\n",
            "input: klub\n",
            "guess: \n",
            "truth: k l u bː\n",
            "\n"
          ]
        },
        {
          "output_type": "stream",
          "name": "stderr",
          "text": [
            "3.04:  50%|█████     | 8/16 [00:01<00:01,  4.74it/s]"
          ]
        },
        {
          "output_type": "stream",
          "name": "stdout",
          "text": [
            "\n",
            "\n",
            "input: lovagja\n",
            "guess: \n",
            "truth: l o v ɒ ɡ j ɒ\n",
            "\n",
            "\n",
            "\n",
            "input: községben\n"
          ]
        },
        {
          "output_type": "stream",
          "name": "stderr",
          "text": [
            "3.09:  62%|██████▎   | 10/16 [00:02<00:01,  4.91it/s]"
          ]
        },
        {
          "output_type": "stream",
          "name": "stdout",
          "text": [
            "guess: ɛ\n",
            "truth: k ø ʃː eː ɡ b ɛ n\n",
            "\n",
            "\n",
            "\n",
            "input: jelent\n",
            "guess: ɛ\n",
            "truth: j ɛ l ɛ n t\n",
            "\n"
          ]
        },
        {
          "output_type": "stream",
          "name": "stderr",
          "text": [
            "3.08:  69%|██████▉   | 11/16 [00:02<00:01,  4.85it/s]"
          ]
        },
        {
          "output_type": "stream",
          "name": "stdout",
          "text": [
            "\n",
            "\n",
            "input: ország\n",
            "guess: \n",
            "truth: o r s aː ɡ\n",
            "\n"
          ]
        },
        {
          "output_type": "stream",
          "name": "stderr",
          "text": [
            "3.08:  75%|███████▌  | 12/16 [00:02<00:00,  4.90it/s]"
          ]
        },
        {
          "output_type": "stream",
          "name": "stdout",
          "text": [
            "\n",
            "\n",
            "input: mihelyt\n",
            "guess: ɛ\n",
            "truth: m i ɦ ɛ j t\n",
            "\n",
            "\n",
            "\n",
            "input: hív\n"
          ]
        },
        {
          "output_type": "stream",
          "name": "stderr",
          "text": [
            "2.94:  81%|████████▏ | 13/16 [00:02<00:00,  4.91it/s]"
          ]
        },
        {
          "output_type": "stream",
          "name": "stdout",
          "text": [
            "guess: \n",
            "truth: h iː v\n",
            "\n",
            "\n",
            "\n",
            "input: formája\n"
          ]
        },
        {
          "output_type": "stream",
          "name": "stderr",
          "text": [
            "3.05:  88%|████████▊ | 14/16 [00:02<00:00,  4.90it/s]"
          ]
        },
        {
          "output_type": "stream",
          "name": "stdout",
          "text": [
            "guess: \n",
            "truth: f o r m aː j ɒ\n",
            "\n",
            "\n",
            "\n",
            "input: elején\n"
          ]
        },
        {
          "output_type": "stream",
          "name": "stderr",
          "text": [
            "2.98: 100%|██████████| 16/16 [00:03<00:00,  4.80it/s]\n"
          ]
        },
        {
          "output_type": "stream",
          "name": "stdout",
          "text": [
            "guess: ɛ\n",
            "truth: ɛ l ɛ j eː n\n",
            "\n",
            "\n",
            "\n",
            "input: mozogni\n",
            "guess: \n",
            "truth: m o z o ɡ n i\n",
            "\n",
            "Epoch 0: train loss = 3.796538, test loss = 3.040828\n"
          ]
        },
        {
          "output_type": "stream",
          "name": "stderr",
          "text": [
            "3.00:   3%|▎         | 4/125 [00:00<00:10, 11.89it/s]"
          ]
        },
        {
          "output_type": "stream",
          "name": "stdout",
          "text": [
            "\n",
            "\n",
            "input: finoman\n",
            "guess: \n",
            "truth: f i n o m ɒ n\n",
            "\n",
            "input: jegyzet\n",
            "guess: ɛ\n",
            "truth: j ɛ ɟ z ɛ t\n",
            "\n"
          ]
        },
        {
          "output_type": "stream",
          "name": "stderr",
          "text": [
            "2.78:  21%|██        | 26/125 [00:01<00:04, 22.20it/s]"
          ]
        },
        {
          "output_type": "stream",
          "name": "stdout",
          "text": [
            "\n",
            "\n",
            "input: politikát\n",
            "guess: \n",
            "truth: p o l i t i k aː t\n",
            "\n",
            "input: szervezetbe\n",
            "guess: ɛ\n",
            "truth: s ɛ r v ɛ z ɛ d b ɛ\n",
            "\n"
          ]
        },
        {
          "output_type": "stream",
          "name": "stderr",
          "text": [
            "2.61:  36%|███▌      | 45/125 [00:02<00:03, 22.62it/s]"
          ]
        },
        {
          "output_type": "stream",
          "name": "stdout",
          "text": [
            "\n",
            "\n",
            "input: törvényt\n",
            "guess: \n",
            "truth: t ø r v eː ɲ t\n",
            "\n",
            "input: strukturális\n",
            "guess: i\n",
            "truth: ʃ t r u k t u r aː l i ʃ\n",
            "\n"
          ]
        },
        {
          "output_type": "stream",
          "name": "stderr",
          "text": [
            "2.09:  51%|█████     | 64/125 [00:02<00:02, 21.65it/s]"
          ]
        },
        {
          "output_type": "stream",
          "name": "stdout",
          "text": [
            "\n",
            "\n",
            "input: fejlesztést\n",
            "guess: ɛ t\n",
            "truth: f ɛ j l ɛ s t eː ʃ t\n",
            "\n",
            "input: nagysága\n",
            "guess: ɒ\n",
            "truth: n ɒ c ʃ aː ɡ ɒ\n",
            "\n"
          ]
        },
        {
          "output_type": "stream",
          "name": "stderr",
          "text": [
            "1.67:  67%|██████▋   | 84/125 [00:03<00:02, 19.30it/s]"
          ]
        },
        {
          "output_type": "stream",
          "name": "stdout",
          "text": [
            "\n",
            "\n",
            "input: forradalmi\n",
            "guess: o r ɒ\n",
            "truth: f o rː ɒ d ɒ l m i\n",
            "\n",
            "input: fejleményeket\n",
            "guess: ɛ l ɛ k ɛ t\n",
            "truth: f ɛ j l ɛ m eː ɲ ɛ k ɛ t\n",
            "\n"
          ]
        },
        {
          "output_type": "stream",
          "name": "stderr",
          "text": [
            "1.32:  83%|████████▎ | 104/125 [00:04<00:01, 18.42it/s]"
          ]
        },
        {
          "output_type": "stream",
          "name": "stdout",
          "text": [
            "\n",
            "\n",
            "input: tárgyát\n",
            "guess: t aː r aː t\n",
            "truth: t aː r ɟ aː t\n",
            "\n",
            "input: másolás\n",
            "guess: m aː\n",
            "truth: m aː ʃ o l aː ʃ\n",
            "\n"
          ]
        },
        {
          "output_type": "stream",
          "name": "stderr",
          "text": [
            "1.13: 100%|██████████| 125/125 [00:05<00:00, 22.11it/s]\n"
          ]
        },
        {
          "output_type": "stream",
          "name": "stdout",
          "text": [
            "\n",
            "\n",
            "input: kacag\n",
            "guess: k ɒ\n",
            "truth: k ɒ t͡s ɒ ɡ\n",
            "\n",
            "input: szőrme\n",
            "guess: s r ɛ\n",
            "truth: s øː r m ɛ\n",
            "\n"
          ]
        },
        {
          "output_type": "stream",
          "name": "stderr",
          "text": [
            "1.05:   0%|          | 0/16 [00:00<?, ?it/s]"
          ]
        },
        {
          "output_type": "stream",
          "name": "stdout",
          "text": [
            "\n",
            "\n",
            "input: ajánlatokat\n"
          ]
        },
        {
          "output_type": "stream",
          "name": "stderr",
          "text": [
            "1.04:   6%|▋         | 1/16 [00:00<00:05,  2.81it/s]"
          ]
        },
        {
          "output_type": "stream",
          "name": "stdout",
          "text": [
            "guess: ɒ n ɒ t o k ɒ t\n",
            "truth: ɒ j aː n l ɒ t o k ɒ t\n",
            "\n",
            "\n",
            "\n",
            "input: akaró\n"
          ]
        },
        {
          "output_type": "stream",
          "name": "stderr",
          "text": [
            "0.93:  12%|█▎        | 2/16 [00:00<00:04,  3.13it/s]"
          ]
        },
        {
          "output_type": "stream",
          "name": "stdout",
          "text": [
            "guess: ɒ k ɒ r\n",
            "truth: ɒ k ɒ r oː\n",
            "\n",
            "\n",
            "\n",
            "input: ajánlat\n"
          ]
        },
        {
          "output_type": "stream",
          "name": "stderr",
          "text": [
            "0.98:  19%|█▉        | 3/16 [00:00<00:04,  3.17it/s]"
          ]
        },
        {
          "output_type": "stream",
          "name": "stdout",
          "text": [
            "guess: ɒ n ɒ t\n",
            "truth: ɒ j aː n l ɒ t\n",
            "\n",
            "\n",
            "\n",
            "input: viselkedési\n"
          ]
        },
        {
          "output_type": "stream",
          "name": "stderr",
          "text": [
            "1.09:  25%|██▌       | 4/16 [00:01<00:03,  3.31it/s]"
          ]
        },
        {
          "output_type": "stream",
          "name": "stdout",
          "text": [
            "guess: v i k ɛ ʃ i\n",
            "truth: v i ʃ ɛ l k ɛ d eː ʃ i\n",
            "\n",
            "\n",
            "\n",
            "input: oszlik\n"
          ]
        },
        {
          "output_type": "stream",
          "name": "stderr",
          "text": [
            "1.08:  31%|███▏      | 5/16 [00:01<00:03,  3.37it/s]"
          ]
        },
        {
          "output_type": "stream",
          "name": "stdout",
          "text": [
            "guess: o l i k\n",
            "truth: o s l i k\n",
            "\n",
            "\n",
            "\n",
            "input: szoros\n"
          ]
        },
        {
          "output_type": "stream",
          "name": "stderr",
          "text": [
            "1.20:  38%|███▊      | 6/16 [00:01<00:02,  3.43it/s]"
          ]
        },
        {
          "output_type": "stream",
          "name": "stdout",
          "text": [
            "guess: s o r o ʃ\n",
            "truth: s o r o ʃ\n",
            "\n",
            "\n",
            "\n",
            "input: ugyan\n"
          ]
        },
        {
          "output_type": "stream",
          "name": "stderr",
          "text": [
            "0.93:  44%|████▍     | 7/16 [00:02<00:02,  3.44it/s]"
          ]
        },
        {
          "output_type": "stream",
          "name": "stdout",
          "text": [
            "guess: u\n",
            "truth: u ɟ ɒ n\n",
            "\n",
            "\n",
            "\n",
            "input: alkalmazottakban\n"
          ]
        },
        {
          "output_type": "stream",
          "name": "stderr",
          "text": [
            "1.03:  50%|█████     | 8/16 [00:02<00:02,  3.47it/s]"
          ]
        },
        {
          "output_type": "stream",
          "name": "stdout",
          "text": [
            "guess: ɒ l ɒ l ɒ t ɒ k ɒ n\n",
            "truth: ɒ l k ɒ l m ɒ z o tː ɒ ɡ b ɒ n\n",
            "\n",
            "\n",
            "\n",
            "input: tanultak\n"
          ]
        },
        {
          "output_type": "stream",
          "name": "stderr",
          "text": [
            "1.21:  56%|█████▋    | 9/16 [00:02<00:02,  3.45it/s]"
          ]
        },
        {
          "output_type": "stream",
          "name": "stdout",
          "text": [
            "guess: t ɒ n ɒ k\n",
            "truth: t ɒ n u l t ɒ k\n",
            "\n",
            "\n",
            "\n",
            "input: országokban\n"
          ]
        },
        {
          "output_type": "stream",
          "name": "stderr",
          "text": [
            "0.98:  62%|██████▎   | 10/16 [00:03<00:01,  3.33it/s]"
          ]
        },
        {
          "output_type": "stream",
          "name": "stdout",
          "text": [
            "guess: o r aː k ɒ n\n",
            "truth: o r s aː ɡ o ɡ b ɒ n\n",
            "\n",
            "\n",
            "\n",
            "input: csatlakozást\n"
          ]
        },
        {
          "output_type": "stream",
          "name": "stderr",
          "text": [
            "1.08:  69%|██████▉   | 11/16 [00:03<00:01,  3.32it/s]"
          ]
        },
        {
          "output_type": "stream",
          "name": "stdout",
          "text": [
            "guess: ɒ t ɒ k o ʃ\n",
            "truth: t͡ʃ ɒ t l ɒ k o z aː ʃ t\n",
            "\n",
            "\n",
            "\n",
            "input: kézikönyv\n"
          ]
        },
        {
          "output_type": "stream",
          "name": "stderr",
          "text": [
            "1.02:  75%|███████▌  | 12/16 [00:03<00:01,  3.39it/s]"
          ]
        },
        {
          "output_type": "stream",
          "name": "stdout",
          "text": [
            "guess: k eː k\n",
            "truth: k eː z i k ø ɲ v\n",
            "\n",
            "\n",
            "\n",
            "input: add\n"
          ]
        },
        {
          "output_type": "stream",
          "name": "stderr",
          "text": [
            "1.11:  81%|████████▏ | 13/16 [00:03<00:00,  3.37it/s]"
          ]
        },
        {
          "output_type": "stream",
          "name": "stdout",
          "text": [
            "guess: ɒ d\n",
            "truth: ɒ dː\n",
            "\n",
            "\n",
            "\n",
            "input: ételek\n"
          ]
        },
        {
          "output_type": "stream",
          "name": "stderr",
          "text": [
            "1.03:  88%|████████▊ | 14/16 [00:04<00:00,  3.38it/s]"
          ]
        },
        {
          "output_type": "stream",
          "name": "stdout",
          "text": [
            "guess: eː t ɛ l ɛ k\n",
            "truth: eː t ɛ l ɛ k\n",
            "\n",
            "\n",
            "\n",
            "input: tehetség\n"
          ]
        },
        {
          "output_type": "stream",
          "name": "stderr",
          "text": [
            "1.04:  94%|█████████▍| 15/16 [00:04<00:00,  3.38it/s]"
          ]
        },
        {
          "output_type": "stream",
          "name": "stdout",
          "text": [
            "guess: t ɛ t eː\n",
            "truth: t ɛ h ɛ t͡ʃː eː ɡ\n",
            "\n",
            "\n",
            "\n",
            "input: értékelése\n"
          ]
        },
        {
          "output_type": "stream",
          "name": "stderr",
          "text": [
            "1.04: 100%|██████████| 16/16 [00:04<00:00,  3.39it/s]\n"
          ]
        },
        {
          "output_type": "stream",
          "name": "stdout",
          "text": [
            "guess: eː r t eː k ɛ l eː\n",
            "truth: eː r t eː k ɛ l eː ʃ ɛ\n",
            "\n",
            "Epoch 1: train loss = 2.148997, test loss = 1.050041\n"
          ]
        },
        {
          "output_type": "stream",
          "name": "stderr",
          "text": [
            "0.94:   4%|▍         | 5/125 [00:00<00:10, 11.46it/s]"
          ]
        },
        {
          "output_type": "stream",
          "name": "stdout",
          "text": [
            "\n",
            "\n",
            "input: görögök\n",
            "guess: f\n",
            "truth: ɡ ø r ø ɡ ø k\n",
            "\n",
            "input: hálózatokon\n",
            "guess: h aː l ɒ t o k o n\n",
            "truth: h aː l oː z ɒ t o k o n\n",
            "\n"
          ]
        },
        {
          "output_type": "stream",
          "name": "stderr",
          "text": [
            "0.76:  21%|██        | 26/125 [00:01<00:05, 18.53it/s]"
          ]
        },
        {
          "output_type": "stream",
          "name": "stdout",
          "text": [
            "\n",
            "\n",
            "input: magyarországra\n",
            "guess: m ɒ ɡ ɒ r o r aː ɡ r ɒ\n",
            "truth: m ɒ ɟ ɒ r o r s aː ɡ r ɒ\n",
            "\n",
            "input: értéke\n",
            "guess: eː r t eː k ɛ\n",
            "truth: eː r t eː k ɛ\n",
            "\n"
          ]
        },
        {
          "output_type": "stream",
          "name": "stderr",
          "text": [
            "0.59:  38%|███▊      | 47/125 [00:02<00:04, 19.32it/s]"
          ]
        },
        {
          "output_type": "stream",
          "name": "stdout",
          "text": [
            "\n",
            "\n",
            "input: kötött\n",
            "guess: k ø t\n",
            "truth: k ø t ø tː\n",
            "\n",
            "input: illeszkedik\n",
            "guess: i l ɛ z ɛ d i k\n",
            "truth: i lː ɛ s k ɛ d i k\n",
            "\n"
          ]
        },
        {
          "output_type": "stream",
          "name": "stderr",
          "text": [
            "0.63:  51%|█████     | 64/125 [00:03<00:03, 18.03it/s]"
          ]
        },
        {
          "output_type": "stream",
          "name": "stdout",
          "text": [
            "\n",
            "\n",
            "input: joga\n",
            "guess: j o ɡ ɒ\n",
            "truth: j o ɡ ɒ\n",
            "\n",
            "input: vonat\n",
            "guess: v o n ɒ t\n",
            "truth: v o n ɒ t\n",
            "\n"
          ]
        },
        {
          "output_type": "stream",
          "name": "stderr",
          "text": [
            "0.43:  70%|██████▉   | 87/125 [00:04<00:01, 19.97it/s]"
          ]
        },
        {
          "output_type": "stream",
          "name": "stdout",
          "text": [
            "\n",
            "\n",
            "input: részleteket\n",
            "guess: r eː l ɛ t ɛ k ɛ t\n",
            "truth: r eː s l ɛ t ɛ k ɛ t\n",
            "\n",
            "input: igényeinek\n",
            "guess: i ɡ eː ɲ ɛ n ɛ k\n",
            "truth: i ɡ eː ɲ ɛ j i n ɛ k\n",
            "\n"
          ]
        },
        {
          "output_type": "stream",
          "name": "stderr",
          "text": [
            "0.34:  85%|████████▍ | 106/125 [00:05<00:01, 18.49it/s]"
          ]
        },
        {
          "output_type": "stream",
          "name": "stdout",
          "text": [
            "\n",
            "\n",
            "input: ilyen\n",
            "guess: i\n",
            "truth: i j ɛ n\n",
            "\n",
            "input: tré\n",
            "guess: t r eː\n",
            "truth: t r eː\n",
            "\n"
          ]
        },
        {
          "output_type": "stream",
          "name": "stderr",
          "text": [
            "0.29: 100%|██████████| 125/125 [00:06<00:00, 20.02it/s]\n"
          ]
        },
        {
          "output_type": "stream",
          "name": "stdout",
          "text": [
            "\n",
            "\n",
            "input: működési\n",
            "guess: m k ø d eː ʃ i\n",
            "truth: m yː k ø d eː ʃ i\n",
            "\n",
            "input: nyoma\n",
            "guess: ɲ o m ɒ\n",
            "truth: ɲ o m ɒ\n",
            "\n"
          ]
        },
        {
          "output_type": "stream",
          "name": "stderr",
          "text": [
            "0.29:   0%|          | 0/16 [00:00<?, ?it/s]"
          ]
        },
        {
          "output_type": "stream",
          "name": "stdout",
          "text": [
            "\n",
            "\n",
            "input: különös\n"
          ]
        },
        {
          "output_type": "stream",
          "name": "stderr",
          "text": [
            "0.44:   6%|▋         | 1/16 [00:00<00:05,  2.55it/s]"
          ]
        },
        {
          "output_type": "stream",
          "name": "stdout",
          "text": [
            "guess: k y l ø n ø ʃ\n",
            "truth: k y l ø n ø ʃ\n",
            "\n",
            "\n",
            "\n",
            "input: szakma\n"
          ]
        },
        {
          "output_type": "stream",
          "name": "stderr",
          "text": [
            "0.38:  12%|█▎        | 2/16 [00:00<00:04,  2.90it/s]"
          ]
        },
        {
          "output_type": "stream",
          "name": "stdout",
          "text": [
            "guess: s ɒ k ɒ\n",
            "truth: s ɒ k m ɒ\n",
            "\n",
            "\n",
            "\n",
            "input: kétmillió\n"
          ]
        },
        {
          "output_type": "stream",
          "name": "stderr",
          "text": [
            "0.33:  19%|█▉        | 3/16 [00:01<00:04,  2.92it/s]"
          ]
        },
        {
          "output_type": "stream",
          "name": "stdout",
          "text": [
            "guess: k eː t i l i\n",
            "truth: k eː t m i l i j oː\n",
            "\n",
            "\n",
            "\n",
            "input: pályázat\n"
          ]
        },
        {
          "output_type": "stream",
          "name": "stderr",
          "text": [
            "0.27:  25%|██▌       | 4/16 [00:01<00:04,  2.99it/s]"
          ]
        },
        {
          "output_type": "stream",
          "name": "stdout",
          "text": [
            "guess: p aː z ɒ t\n",
            "truth: p aː j aː z ɒ t\n",
            "\n",
            "\n",
            "\n",
            "input: ajánlatot\n"
          ]
        },
        {
          "output_type": "stream",
          "name": "stderr",
          "text": [
            "0.36:  31%|███▏      | 5/16 [00:01<00:03,  2.93it/s]"
          ]
        },
        {
          "output_type": "stream",
          "name": "stdout",
          "text": [
            "guess: ɒ j aː n ɒ t o t\n",
            "truth: ɒ j aː n l ɒ t o t\n",
            "\n",
            "\n",
            "\n",
            "input: végtelen\n"
          ]
        },
        {
          "output_type": "stream",
          "name": "stderr",
          "text": [
            "0.26:  38%|███▊      | 6/16 [00:02<00:03,  2.97it/s]"
          ]
        },
        {
          "output_type": "stream",
          "name": "stdout",
          "text": [
            "guess: v eː ɡ ɛ l ɛ n\n",
            "truth: v eː k t ɛ l ɛ n\n",
            "\n",
            "\n",
            "\n",
            "input: kérték\n"
          ]
        },
        {
          "output_type": "stream",
          "name": "stderr",
          "text": [
            "0.25:  44%|████▍     | 7/16 [00:02<00:02,  3.03it/s]"
          ]
        },
        {
          "output_type": "stream",
          "name": "stdout",
          "text": [
            "guess: k eː r t eː k\n",
            "truth: k eː r t eː k\n",
            "\n",
            "\n",
            "\n",
            "input: járművek\n"
          ]
        },
        {
          "output_type": "stream",
          "name": "stderr",
          "text": [
            "0.33:  50%|█████     | 8/16 [00:02<00:02,  3.02it/s]"
          ]
        },
        {
          "output_type": "stream",
          "name": "stdout",
          "text": [
            "guess: j aː r yː v ɛ k\n",
            "truth: j aː r m yː v ɛ k\n",
            "\n",
            "\n",
            "\n",
            "input: országok\n"
          ]
        },
        {
          "output_type": "stream",
          "name": "stderr",
          "text": [
            "0.31:  56%|█████▋    | 9/16 [00:03<00:02,  3.02it/s]"
          ]
        },
        {
          "output_type": "stream",
          "name": "stdout",
          "text": [
            "guess: o r aː ɡ o k\n",
            "truth: o r s aː ɡ o k\n",
            "\n",
            "\n",
            "\n",
            "input: képesek\n"
          ]
        },
        {
          "output_type": "stream",
          "name": "stderr",
          "text": [
            "0.29:  62%|██████▎   | 10/16 [00:03<00:01,  3.09it/s]"
          ]
        },
        {
          "output_type": "stream",
          "name": "stdout",
          "text": [
            "guess: k eː p ɛ ʃ ɛ k\n",
            "truth: k eː p ɛ ʃ ɛ k\n",
            "\n",
            "\n",
            "\n",
            "input: tudóst\n"
          ]
        },
        {
          "output_type": "stream",
          "name": "stderr",
          "text": [
            "0.27:  69%|██████▉   | 11/16 [00:03<00:01,  3.09it/s]"
          ]
        },
        {
          "output_type": "stream",
          "name": "stdout",
          "text": [
            "guess: t u ʃ\n",
            "truth: t u d oː ʃ t\n",
            "\n",
            "\n",
            "\n",
            "input: magasabb\n"
          ]
        },
        {
          "output_type": "stream",
          "name": "stderr",
          "text": [
            "0.26:  75%|███████▌  | 12/16 [00:04<00:01,  2.95it/s]"
          ]
        },
        {
          "output_type": "stream",
          "name": "stdout",
          "text": [
            "guess: m ɒ ɡ ɒ ʃ ɒ bː\n",
            "truth: m ɒ ɡ ɒ ʃ ɒ bː\n",
            "\n",
            "\n",
            "\n",
            "input: erősek\n"
          ]
        },
        {
          "output_type": "stream",
          "name": "stderr",
          "text": [
            "0.27:  81%|████████▏ | 13/16 [00:04<00:01,  2.99it/s]"
          ]
        },
        {
          "output_type": "stream",
          "name": "stdout",
          "text": [
            "guess: ɛ r øː ʃ ɛ k\n",
            "truth: ɛ r øː ʃ ɛ k\n",
            "\n",
            "\n",
            "\n",
            "input: mindenesetre\n"
          ]
        },
        {
          "output_type": "stream",
          "name": "stderr",
          "text": [
            "0.29:  88%|████████▊ | 14/16 [00:04<00:00,  3.00it/s]"
          ]
        },
        {
          "output_type": "stream",
          "name": "stdout",
          "text": [
            "guess: m i n ɛ n ɛ ʃ ɛ t r ɛ\n",
            "truth: m i n d ɛ n ɛ ʃ ɛ t r ɛ\n",
            "\n",
            "\n",
            "\n",
            "input: szabadságát\n"
          ]
        },
        {
          "output_type": "stream",
          "name": "stderr",
          "text": [
            "0.27:  94%|█████████▍| 15/16 [00:05<00:00,  2.94it/s]"
          ]
        },
        {
          "output_type": "stream",
          "name": "stdout",
          "text": [
            "guess: s ɒ b ɒ d aː ɡ aː t\n",
            "truth: s ɒ b ɒ t͡ʃː aː ɡ aː t\n",
            "\n",
            "\n",
            "\n",
            "input: kinti\n"
          ]
        },
        {
          "output_type": "stream",
          "name": "stderr",
          "text": [
            "0.27: 100%|██████████| 16/16 [00:05<00:00,  3.01it/s]\n"
          ]
        },
        {
          "output_type": "stream",
          "name": "stdout",
          "text": [
            "guess: k i n t i\n",
            "truth: k i n t i\n",
            "\n",
            "Epoch 2: train loss = 0.588167, test loss = 0.305943\n"
          ]
        },
        {
          "output_type": "stream",
          "name": "stderr",
          "text": [
            "0.47:   3%|▎         | 4/125 [00:00<00:13,  9.17it/s]"
          ]
        },
        {
          "output_type": "stream",
          "name": "stdout",
          "text": [
            "\n",
            "\n",
            "input: hangot\n",
            "guess: h ɒ ɡ o t\n",
            "truth: h ɒ ŋ ɡ o t\n",
            "\n",
            "input: műhely\n",
            "guess: m ɛ j\n",
            "truth: m yː ɦ ɛ j\n",
            "\n"
          ]
        },
        {
          "output_type": "stream",
          "name": "stderr",
          "text": [
            "0.20:  21%|██        | 26/125 [00:01<00:05, 17.99it/s]"
          ]
        },
        {
          "output_type": "stream",
          "name": "stdout",
          "text": [
            "\n",
            "\n",
            "input: liberális\n",
            "guess: l i b ɛ r aː l i ʃ\n",
            "truth: l i b ɛ r aː l i ʃ\n",
            "\n",
            "input: halott\n",
            "guess: h ɒ l o t\n",
            "truth: h ɒ l o tː\n",
            "\n"
          ]
        },
        {
          "output_type": "stream",
          "name": "stderr",
          "text": [
            "0.27:  36%|███▌      | 45/125 [00:02<00:04, 18.84it/s]"
          ]
        },
        {
          "output_type": "stream",
          "name": "stdout",
          "text": [
            "\n",
            "\n",
            "input: populista\n",
            "guess: p o p ɒ\n",
            "truth: p o p u l i ʃ t ɒ\n",
            "\n",
            "input: már\n",
            "guess: m aː r\n",
            "truth: m aː r\n",
            "\n"
          ]
        },
        {
          "output_type": "stream",
          "name": "stderr",
          "text": [
            "0.17:  53%|█████▎    | 66/125 [00:03<00:03, 18.45it/s]"
          ]
        },
        {
          "output_type": "stream",
          "name": "stdout",
          "text": [
            "\n",
            "\n",
            "input: kisbaba\n",
            "guess: k i ʃ b ɒ b ɒ\n",
            "truth: k i ʒ b ɒ b ɒ\n",
            "\n",
            "input: többnyire\n",
            "guess: t ø b i r ɛ\n",
            "truth: t ø b ɲ i r ɛ\n",
            "\n"
          ]
        },
        {
          "output_type": "stream",
          "name": "stderr",
          "text": [
            "0.14:  70%|██████▉   | 87/125 [00:04<00:02, 18.69it/s]"
          ]
        },
        {
          "output_type": "stream",
          "name": "stdout",
          "text": [
            "\n",
            "\n",
            "input: részünkre\n",
            "guess: r eː s y k r ɛ\n",
            "truth: r eː s y ŋ k r ɛ\n",
            "\n",
            "input: legkülönfélébb\n",
            "guess: l ɛ k y l ø ŋ f eː l eː b\n",
            "truth: l ɛ kː y l ø ɱ f eː l eː bː\n",
            "\n"
          ]
        },
        {
          "output_type": "stream",
          "name": "stderr",
          "text": [
            "0.17:  85%|████████▍ | 106/125 [00:05<00:01, 18.52it/s]"
          ]
        },
        {
          "output_type": "stream",
          "name": "stdout",
          "text": [
            "\n",
            "\n",
            "input: diagnosztikai\n",
            "guess: d i n o s t i k ɒ j i\n",
            "truth: d i j ɒ ɡ n o s t i k ɒ j i\n",
            "\n",
            "input: szicília\n",
            "guess: s i l i j ɒ\n",
            "truth: s i t͡s iː l i j ɒ\n",
            "\n"
          ]
        },
        {
          "output_type": "stream",
          "name": "stderr",
          "text": [
            "0.11: 100%|██████████| 125/125 [00:06<00:00, 19.32it/s]\n"
          ]
        },
        {
          "output_type": "stream",
          "name": "stdout",
          "text": [
            "\n",
            "\n",
            "input: energiák\n",
            "guess: ɛ n ɛ r i j aː k\n",
            "truth: ɛ n ɛ r ɡ i j aː k\n",
            "\n",
            "input: matematika\n",
            "guess: m ɒ t ɛ m ɒ t i k ɒ\n",
            "truth: m ɒ t ɛ m ɒ t i k ɒ\n",
            "\n"
          ]
        },
        {
          "output_type": "stream",
          "name": "stderr",
          "text": [
            "0.11:   0%|          | 0/16 [00:00<?, ?it/s]"
          ]
        },
        {
          "output_type": "stream",
          "name": "stdout",
          "text": [
            "\n",
            "\n",
            "input: kor\n"
          ]
        },
        {
          "output_type": "stream",
          "name": "stderr",
          "text": [
            "0.23:   6%|▋         | 1/16 [00:00<00:06,  2.30it/s]"
          ]
        },
        {
          "output_type": "stream",
          "name": "stdout",
          "text": [
            "guess: k o r\n",
            "truth: k o r\n",
            "\n",
            "\n",
            "\n",
            "input: arány\n"
          ]
        },
        {
          "output_type": "stream",
          "name": "stderr",
          "text": [
            "0.14:  12%|█▎        | 2/16 [00:00<00:05,  2.65it/s]"
          ]
        },
        {
          "output_type": "stream",
          "name": "stdout",
          "text": [
            "guess: ɒ r aː ɲ\n",
            "truth: ɒ r aː ɲ\n",
            "\n",
            "\n",
            "\n",
            "input: fogak\n"
          ]
        },
        {
          "output_type": "stream",
          "name": "stderr",
          "text": [
            "0.13:  19%|█▉        | 3/16 [00:01<00:04,  2.80it/s]"
          ]
        },
        {
          "output_type": "stream",
          "name": "stdout",
          "text": [
            "guess: f o ɡ ɒ k\n",
            "truth: f o ɡ ɒ k\n",
            "\n",
            "\n",
            "\n",
            "input: író\n"
          ]
        },
        {
          "output_type": "stream",
          "name": "stderr",
          "text": [
            "0.10:  25%|██▌       | 4/16 [00:01<00:04,  2.90it/s]"
          ]
        },
        {
          "output_type": "stream",
          "name": "stdout",
          "text": [
            "guess: iː r oː\n",
            "truth: iː r oː\n",
            "\n",
            "\n",
            "\n",
            "input: ahonnan\n"
          ]
        },
        {
          "output_type": "stream",
          "name": "stderr",
          "text": [
            "0.19:  31%|███▏      | 5/16 [00:01<00:03,  2.90it/s]"
          ]
        },
        {
          "output_type": "stream",
          "name": "stdout",
          "text": [
            "guess: ɒ n ɒ n\n",
            "truth: ɒ ɦ o nː ɒ n\n",
            "\n",
            "\n",
            "\n",
            "input: működését\n"
          ]
        },
        {
          "output_type": "stream",
          "name": "stderr",
          "text": [
            "0.14:  38%|███▊      | 6/16 [00:02<00:03,  2.92it/s]"
          ]
        },
        {
          "output_type": "stream",
          "name": "stdout",
          "text": [
            "guess: m k ø d eː ʃ eː t\n",
            "truth: m yː k ø d eː ʃ eː t\n",
            "\n",
            "\n",
            "\n",
            "input: kötve\n"
          ]
        },
        {
          "output_type": "stream",
          "name": "stderr",
          "text": [
            "0.19:  44%|████▍     | 7/16 [00:02<00:03,  2.92it/s]"
          ]
        },
        {
          "output_type": "stream",
          "name": "stdout",
          "text": [
            "guess: k ø t v ɛ\n",
            "truth: k ø t v ɛ\n",
            "\n",
            "\n",
            "\n",
            "input: kölyök\n"
          ]
        },
        {
          "output_type": "stream",
          "name": "stderr",
          "text": [
            "0.30:  50%|█████     | 8/16 [00:02<00:02,  3.01it/s]"
          ]
        },
        {
          "output_type": "stream",
          "name": "stdout",
          "text": [
            "guess: k ø k\n",
            "truth: k ø j ø k\n",
            "\n",
            "\n",
            "\n",
            "input: ajtó\n"
          ]
        },
        {
          "output_type": "stream",
          "name": "stderr",
          "text": [
            "0.21:  56%|█████▋    | 9/16 [00:03<00:02,  3.05it/s]"
          ]
        },
        {
          "output_type": "stream",
          "name": "stdout",
          "text": [
            "guess: ɒ j oː\n",
            "truth: ɒ j t oː\n",
            "\n",
            "\n",
            "\n",
            "input: alakuló\n"
          ]
        },
        {
          "output_type": "stream",
          "name": "stderr",
          "text": [
            "0.12:  62%|██████▎   | 10/16 [00:03<00:01,  3.00it/s]"
          ]
        },
        {
          "output_type": "stream",
          "name": "stdout",
          "text": [
            "guess: ɒ l ɒ k u l oː\n",
            "truth: ɒ l ɒ k u l oː\n",
            "\n",
            "\n",
            "\n",
            "input: szintet\n"
          ]
        },
        {
          "output_type": "stream",
          "name": "stderr",
          "text": [
            "0.12:  69%|██████▉   | 11/16 [00:03<00:01,  2.92it/s]"
          ]
        },
        {
          "output_type": "stream",
          "name": "stdout",
          "text": [
            "guess: s i n t ɛ t\n",
            "truth: s i n t ɛ t\n",
            "\n",
            "\n",
            "\n",
            "input: kértünk\n"
          ]
        },
        {
          "output_type": "stream",
          "name": "stderr",
          "text": [
            "0.11:  75%|███████▌  | 12/16 [00:04<00:01,  2.96it/s]"
          ]
        },
        {
          "output_type": "stream",
          "name": "stdout",
          "text": [
            "guess: k eː r t y k\n",
            "truth: k eː r t y ŋ k\n",
            "\n",
            "\n",
            "\n",
            "input: keletkezik\n"
          ]
        },
        {
          "output_type": "stream",
          "name": "stderr",
          "text": [
            "0.13:  81%|████████▏ | 13/16 [00:04<00:01,  2.85it/s]"
          ]
        },
        {
          "output_type": "stream",
          "name": "stdout",
          "text": [
            "guess: k ɛ l ɛ t k ɛ z i k\n",
            "truth: k ɛ l ɛ t k ɛ z i k\n",
            "\n",
            "\n",
            "\n",
            "input: szolgáltatásunk\n"
          ]
        },
        {
          "output_type": "stream",
          "name": "stderr",
          "text": [
            "0.13:  88%|████████▊ | 14/16 [00:04<00:00,  2.90it/s]"
          ]
        },
        {
          "output_type": "stream",
          "name": "stdout",
          "text": [
            "guess: s o l aː l t ɒ t aː ʃ u ŋ k\n",
            "truth: s o l ɡ aː l t ɒ t aː ʃ u ŋ k\n",
            "\n",
            "\n",
            "\n",
            "input: kert\n"
          ]
        },
        {
          "output_type": "stream",
          "name": "stderr",
          "text": [
            "0.21:  94%|█████████▍| 15/16 [00:05<00:00,  2.94it/s]"
          ]
        },
        {
          "output_type": "stream",
          "name": "stdout",
          "text": [
            "guess: k ɛ r t\n",
            "truth: k ɛ r t\n",
            "\n",
            "\n",
            "\n",
            "input: haladéktalanul\n"
          ]
        },
        {
          "output_type": "stream",
          "name": "stderr",
          "text": [
            "0.21: 100%|██████████| 16/16 [00:05<00:00,  2.94it/s]\n"
          ]
        },
        {
          "output_type": "stream",
          "name": "stdout",
          "text": [
            "guess: h ɒ l ɒ d eː k t ɒ l ɒ n u l\n",
            "truth: h ɒ l ɒ d eː k t ɒ l ɒ n u l\n",
            "\n",
            "Epoch 3: train loss = 0.237179, test loss = 0.158172\n"
          ]
        },
        {
          "output_type": "stream",
          "name": "stderr",
          "text": [
            "0.25:   4%|▍         | 5/125 [00:00<00:11, 10.79it/s]"
          ]
        },
        {
          "output_type": "stream",
          "name": "stdout",
          "text": [
            "\n",
            "\n",
            "input: hasonlóan\n",
            "guess: h ɒ ʃ o n oː\n",
            "truth: h ɒ ʃ o n l oː ɒ n\n",
            "\n",
            "input: módosítását\n",
            "guess: m oː d o ʃ iː t aː ʃ aː t\n",
            "truth: m oː d o ʃ iː t aː ʃ aː t\n",
            "\n"
          ]
        },
        {
          "output_type": "stream",
          "name": "stderr",
          "text": [
            "0.43:  19%|█▉        | 24/125 [00:01<00:06, 16.55it/s]"
          ]
        },
        {
          "output_type": "stream",
          "name": "stdout",
          "text": [
            "\n",
            "\n",
            "input: másról\n",
            "guess: m aː ʃ r oː l\n",
            "truth: m aː ʃ r oː l\n",
            "\n",
            "input: községi\n",
            "guess: k ø ʃ eː ɡ i\n",
            "truth: k ø ʃː eː ɡ i\n",
            "\n"
          ]
        },
        {
          "output_type": "stream",
          "name": "stderr",
          "text": [
            "0.11:  38%|███▊      | 47/125 [00:02<00:04, 18.03it/s]"
          ]
        },
        {
          "output_type": "stream",
          "name": "stdout",
          "text": [
            "\n",
            "\n",
            "input: tegye\n",
            "guess: t ɛ ɟ ɛ\n",
            "truth: t ɛ ɟ ɛ\n",
            "\n",
            "input: kő\n",
            "guess: k øː\n",
            "truth: k øː\n",
            "\n"
          ]
        },
        {
          "output_type": "stream",
          "name": "stderr",
          "text": [
            "0.11:  53%|█████▎    | 66/125 [00:03<00:03, 18.95it/s]"
          ]
        },
        {
          "output_type": "stream",
          "name": "stdout",
          "text": [
            "\n",
            "\n",
            "input: ezekkel\n",
            "guess: ɛ z ɛ k ɛ l\n",
            "truth: ɛ z ɛ kː ɛ l\n",
            "\n",
            "input: földre\n",
            "guess: f ø l r ɛ\n",
            "truth: f ø l d r ɛ\n",
            "\n"
          ]
        },
        {
          "output_type": "stream",
          "name": "stderr",
          "text": [
            "0.28:  67%|██████▋   | 84/125 [00:04<00:02, 17.55it/s]"
          ]
        },
        {
          "output_type": "stream",
          "name": "stdout",
          "text": [
            "\n",
            "\n",
            "input: kiemelt\n",
            "guess: k i j ɛ m ɛ l t\n",
            "truth: k i j ɛ m ɛ l t\n",
            "\n",
            "input: megbetegedések\n",
            "guess: m ɛ ɡ ɛ t ɛ ɡ ɛ d eː ʃ ɛ k\n",
            "truth: m ɛ ɡ b ɛ t ɛ ɡ ɛ d eː ʃ ɛ k\n",
            "\n"
          ]
        },
        {
          "output_type": "stream",
          "name": "stderr",
          "text": [
            "0.08:  83%|████████▎ | 104/125 [00:05<00:01, 17.35it/s]"
          ]
        },
        {
          "output_type": "stream",
          "name": "stdout",
          "text": [
            "\n",
            "\n",
            "input: kérhet\n",
            "guess: k eː r ɛ t\n",
            "truth: k eː r ɦ ɛ t\n",
            "\n",
            "input: lány\n",
            "guess: l aː ɲ\n",
            "truth: l aː ɲ\n",
            "\n"
          ]
        },
        {
          "output_type": "stream",
          "name": "stderr",
          "text": [
            "0.10: 100%|██████████| 125/125 [00:06<00:00, 19.27it/s]\n"
          ]
        },
        {
          "output_type": "stream",
          "name": "stdout",
          "text": [
            "\n",
            "\n",
            "input: erővel\n",
            "guess: ɛ r øː v ɛ l\n",
            "truth: ɛ r øː v ɛ l\n",
            "\n",
            "input: építmények\n",
            "guess: eː p eː ɲ ɛ k\n",
            "truth: eː p iː t m eː ɲ ɛ k\n",
            "\n"
          ]
        },
        {
          "output_type": "stream",
          "name": "stderr",
          "text": [
            "0.08:   0%|          | 0/16 [00:00<?, ?it/s]"
          ]
        },
        {
          "output_type": "stream",
          "name": "stdout",
          "text": [
            "\n",
            "\n",
            "input: albuma\n"
          ]
        },
        {
          "output_type": "stream",
          "name": "stderr",
          "text": [
            "0.07:   6%|▋         | 1/16 [00:00<00:06,  2.48it/s]"
          ]
        },
        {
          "output_type": "stream",
          "name": "stdout",
          "text": [
            "guess: ɒ l u m ɒ\n",
            "truth: ɒ l b u m ɒ\n",
            "\n",
            "\n",
            "\n",
            "input: átalakítások\n"
          ]
        },
        {
          "output_type": "stream",
          "name": "stderr",
          "text": [
            "0.08:  12%|█▎        | 2/16 [00:00<00:05,  2.72it/s]"
          ]
        },
        {
          "output_type": "stream",
          "name": "stdout",
          "text": [
            "guess: aː t ɒ l ɒ k iː t aː ʃ o k\n",
            "truth: aː t ɒ l ɒ k iː t aː ʃ o k\n",
            "\n",
            "\n",
            "\n",
            "input: ünnepe\n"
          ]
        },
        {
          "output_type": "stream",
          "name": "stderr",
          "text": [
            "0.25:  19%|█▉        | 3/16 [00:01<00:04,  2.77it/s]"
          ]
        },
        {
          "output_type": "stream",
          "name": "stdout",
          "text": [
            "guess: y n ɛ p ɛ\n",
            "truth: y nː ɛ p ɛ\n",
            "\n",
            "\n",
            "\n",
            "input: kereszténység\n"
          ]
        },
        {
          "output_type": "stream",
          "name": "stderr",
          "text": [
            "0.13:  25%|██▌       | 4/16 [00:01<00:04,  2.86it/s]"
          ]
        },
        {
          "output_type": "stream",
          "name": "stdout",
          "text": [
            "guess: k ɛ r ɛ s t eː ɲ eː ɡ\n",
            "truth: k ɛ r ɛ s t eː ɲ ʃ eː ɡ\n",
            "\n",
            "\n",
            "\n",
            "input: tartasz\n"
          ]
        },
        {
          "output_type": "stream",
          "name": "stderr",
          "text": [
            "0.11:  31%|███▏      | 5/16 [00:01<00:03,  2.84it/s]"
          ]
        },
        {
          "output_type": "stream",
          "name": "stdout",
          "text": [
            "guess: t ɒ r t ɒ s\n",
            "truth: t ɒ r t ɒ s\n",
            "\n",
            "\n",
            "\n",
            "input: élő\n"
          ]
        },
        {
          "output_type": "stream",
          "name": "stderr",
          "text": [
            "0.06:  38%|███▊      | 6/16 [00:02<00:03,  2.87it/s]"
          ]
        },
        {
          "output_type": "stream",
          "name": "stdout",
          "text": [
            "guess: eː l øː\n",
            "truth: eː l øː\n",
            "\n",
            "\n",
            "\n",
            "input: akarna\n"
          ]
        },
        {
          "output_type": "stream",
          "name": "stderr",
          "text": [
            "0.06:  44%|████▍     | 7/16 [00:02<00:03,  2.83it/s]"
          ]
        },
        {
          "output_type": "stream",
          "name": "stdout",
          "text": [
            "guess: ɒ k ɒ r n ɒ\n",
            "truth: ɒ k ɒ r n ɒ\n",
            "\n",
            "\n",
            "\n",
            "input: jelent\n"
          ]
        },
        {
          "output_type": "stream",
          "name": "stderr",
          "text": [
            "0.07:  50%|█████     | 8/16 [00:02<00:02,  2.85it/s]"
          ]
        },
        {
          "output_type": "stream",
          "name": "stdout",
          "text": [
            "guess: j ɛ l ɛ n\n",
            "truth: j ɛ l ɛ n t\n",
            "\n",
            "\n",
            "\n",
            "input: várnod\n"
          ]
        },
        {
          "output_type": "stream",
          "name": "stderr",
          "text": [
            "0.08:  56%|█████▋    | 9/16 [00:03<00:02,  2.83it/s]"
          ]
        },
        {
          "output_type": "stream",
          "name": "stdout",
          "text": [
            "guess: v aː r n o d\n",
            "truth: v aː r n o d\n",
            "\n",
            "\n",
            "\n",
            "input: dolgokról\n"
          ]
        },
        {
          "output_type": "stream",
          "name": "stderr",
          "text": [
            "0.19:  62%|██████▎   | 10/16 [00:03<00:02,  2.81it/s]"
          ]
        },
        {
          "output_type": "stream",
          "name": "stdout",
          "text": [
            "guess: d o l o k r oː l\n",
            "truth: d o l ɡ o k r oː l\n",
            "\n",
            "\n",
            "\n",
            "input: gyertyát\n"
          ]
        },
        {
          "output_type": "stream",
          "name": "stderr",
          "text": [
            "0.09:  69%|██████▉   | 11/16 [00:03<00:01,  2.85it/s]"
          ]
        },
        {
          "output_type": "stream",
          "name": "stdout",
          "text": [
            "guess: ɟ ɛ r aː t\n",
            "truth: ɟ ɛ r c aː t\n",
            "\n",
            "\n",
            "\n",
            "input: várt\n"
          ]
        },
        {
          "output_type": "stream",
          "name": "stderr",
          "text": [
            "0.06:  75%|███████▌  | 12/16 [00:04<00:01,  2.89it/s]"
          ]
        },
        {
          "output_type": "stream",
          "name": "stdout",
          "text": [
            "guess: v aː r t\n",
            "truth: v aː r t\n",
            "\n",
            "\n",
            "\n",
            "input: jóban\n"
          ]
        },
        {
          "output_type": "stream",
          "name": "stderr",
          "text": [
            "0.11:  81%|████████▏ | 13/16 [00:04<00:01,  2.84it/s]"
          ]
        },
        {
          "output_type": "stream",
          "name": "stdout",
          "text": [
            "guess: j oː b ɒ n\n",
            "truth: j oː b ɒ n\n",
            "\n",
            "\n",
            "\n",
            "input: ágyúk\n"
          ]
        },
        {
          "output_type": "stream",
          "name": "stderr",
          "text": [
            "0.20:  88%|████████▊ | 14/16 [00:04<00:00,  2.89it/s]"
          ]
        },
        {
          "output_type": "stream",
          "name": "stdout",
          "text": [
            "guess: aː ɟ uː k\n",
            "truth: aː ɟ uː k\n",
            "\n",
            "\n",
            "\n",
            "input: üzembe\n"
          ]
        },
        {
          "output_type": "stream",
          "name": "stderr",
          "text": [
            "0.07:  94%|█████████▍| 15/16 [00:05<00:00,  2.93it/s]"
          ]
        },
        {
          "output_type": "stream",
          "name": "stdout",
          "text": [
            "guess: y z ɛ m ɛ\n",
            "truth: y z ɛ m b ɛ\n",
            "\n",
            "\n",
            "\n",
            "input: alul\n"
          ]
        },
        {
          "output_type": "stream",
          "name": "stderr",
          "text": [
            "0.07: 100%|██████████| 16/16 [00:05<00:00,  2.89it/s]\n"
          ]
        },
        {
          "output_type": "stream",
          "name": "stdout",
          "text": [
            "guess: ɒ l u l\n",
            "truth: ɒ l u l\n",
            "\n",
            "Epoch 4: train loss = 0.139978, test loss = 0.107788\n"
          ]
        },
        {
          "output_type": "stream",
          "name": "stderr",
          "text": [
            "0.07:   4%|▍         | 5/125 [00:00<00:10, 10.97it/s]"
          ]
        },
        {
          "output_type": "stream",
          "name": "stdout",
          "text": [
            "\n",
            "\n",
            "input: hiány\n",
            "guess: h i j aː ɲ\n",
            "truth: h i j aː ɲ\n",
            "\n",
            "input: forradalom\n",
            "guess: f o r ɒ d ɒ l o m\n",
            "truth: f o rː ɒ d ɒ l o m\n",
            "\n"
          ]
        },
        {
          "output_type": "stream",
          "name": "stderr",
          "text": [
            "0.12:  20%|██        | 25/125 [00:01<00:06, 16.39it/s]"
          ]
        },
        {
          "output_type": "stream",
          "name": "stdout",
          "text": [
            "\n",
            "\n",
            "input: náluk\n",
            "guess: n aː l u k\n",
            "truth: n aː l u k\n",
            "\n",
            "input: hátteret\n",
            "guess: h aː t ɛ r ɛ t\n",
            "truth: h aː tː ɛ r ɛ t\n",
            "\n"
          ]
        },
        {
          "output_type": "stream",
          "name": "stderr",
          "text": [
            "0.13:  37%|███▋      | 46/125 [00:02<00:04, 17.68it/s]"
          ]
        },
        {
          "output_type": "stream",
          "name": "stdout",
          "text": [
            "\n",
            "\n",
            "input: ausztriában\n",
            "guess: ɒ u s t r i j aː b ɒ n\n",
            "truth: ɒ u s t r i j aː b ɒ n\n",
            "\n",
            "input: értékesítés\n",
            "guess: eː r t eː k ɛ ʃ iː t eː ʃ\n",
            "truth: eː r t eː k ɛ ʃ iː t eː ʃ\n",
            "\n"
          ]
        },
        {
          "output_type": "stream",
          "name": "stderr",
          "text": [
            "0.09:  51%|█████     | 64/125 [00:03<00:03, 17.54it/s]"
          ]
        },
        {
          "output_type": "stream",
          "name": "stdout",
          "text": [
            "\n",
            "\n",
            "input: vendégeket\n",
            "guess: v ɛ n eː ɡ ɛ k ɛ t\n",
            "truth: v ɛ n d eː ɡ ɛ k ɛ t\n",
            "\n",
            "input: amelyekkel\n",
            "guess: ɒ m ɛ j ɛ kː ɛ l\n",
            "truth: ɒ m ɛ j ɛ kː ɛ l\n",
            "\n"
          ]
        },
        {
          "output_type": "stream",
          "name": "stderr",
          "text": [
            "0.07:  67%|██████▋   | 84/125 [00:04<00:02, 16.98it/s]"
          ]
        },
        {
          "output_type": "stream",
          "name": "stdout",
          "text": [
            "\n",
            "\n",
            "input: drágább\n",
            "guess: d r aː ɡ aː bː\n",
            "truth: d r aː ɡ aː bː\n",
            "\n",
            "input: volnék\n",
            "guess: v o l eː k\n",
            "truth: v o l n eː k\n",
            "\n"
          ]
        },
        {
          "output_type": "stream",
          "name": "stderr",
          "text": [
            "0.06:  84%|████████▍ | 105/125 [00:05<00:01, 17.26it/s]"
          ]
        },
        {
          "output_type": "stream",
          "name": "stdout",
          "text": [
            "\n",
            "\n",
            "input: részeket\n",
            "guess: r eː s ɛ k ɛ t\n",
            "truth: r eː s ɛ k ɛ t\n",
            "\n",
            "input: azeri\n",
            "guess: ɒ z ɛ r i\n",
            "truth: ɒ z ɛ r i\n",
            "\n"
          ]
        },
        {
          "output_type": "stream",
          "name": "stderr",
          "text": [
            "0.18: 100%|██████████| 125/125 [00:06<00:00, 18.89it/s]\n"
          ]
        },
        {
          "output_type": "stream",
          "name": "stdout",
          "text": [
            "\n",
            "\n",
            "input: valahogy\n",
            "guess: v ɒ l ɒ ɦ o ɟ\n",
            "truth: v ɒ l ɒ ɦ o ɟ\n",
            "\n",
            "input: élelme\n",
            "guess: eː l ɛ l ɛ\n",
            "truth: eː l ɛ l m ɛ\n",
            "\n"
          ]
        },
        {
          "output_type": "stream",
          "name": "stderr",
          "text": [
            "0.07:   0%|          | 0/16 [00:00<?, ?it/s]"
          ]
        },
        {
          "output_type": "stream",
          "name": "stdout",
          "text": [
            "\n",
            "\n",
            "input: ensz\n"
          ]
        },
        {
          "output_type": "stream",
          "name": "stderr",
          "text": [
            "0.19:   6%|▋         | 1/16 [00:00<00:06,  2.39it/s]"
          ]
        },
        {
          "output_type": "stream",
          "name": "stdout",
          "text": [
            "guess: ɛ n\n",
            "truth: ɛ n s\n",
            "\n",
            "\n",
            "\n",
            "input: dolgokról\n"
          ]
        },
        {
          "output_type": "stream",
          "name": "stderr",
          "text": [
            "0.06:  12%|█▎        | 2/16 [00:00<00:05,  2.67it/s]"
          ]
        },
        {
          "output_type": "stream",
          "name": "stdout",
          "text": [
            "guess: d o l o k r oː l\n",
            "truth: d o l ɡ o k r oː l\n",
            "\n",
            "\n",
            "\n",
            "input: mélység\n"
          ]
        },
        {
          "output_type": "stream",
          "name": "stderr",
          "text": [
            "0.11:  19%|█▉        | 3/16 [00:01<00:04,  2.81it/s]"
          ]
        },
        {
          "output_type": "stream",
          "name": "stdout",
          "text": [
            "guess: m eː j eː ɡ\n",
            "truth: m eː j ʃ eː ɡ\n",
            "\n",
            "\n",
            "\n",
            "input: kötődő\n"
          ]
        },
        {
          "output_type": "stream",
          "name": "stderr",
          "text": [
            "0.07:  25%|██▌       | 4/16 [00:01<00:04,  2.86it/s]"
          ]
        },
        {
          "output_type": "stream",
          "name": "stdout",
          "text": [
            "guess: k ø t øː d øː\n",
            "truth: k ø t øː d øː\n",
            "\n",
            "\n",
            "\n",
            "input: mindannyiunk\n"
          ]
        },
        {
          "output_type": "stream",
          "name": "stderr",
          "text": [
            "0.08:  31%|███▏      | 5/16 [00:01<00:03,  2.84it/s]"
          ]
        },
        {
          "output_type": "stream",
          "name": "stdout",
          "text": [
            "guess: m i n d ɒ ɲ i j u ŋ k\n",
            "truth: m i n d ɒ ɲː i j u ŋ k\n",
            "\n",
            "\n",
            "\n",
            "input: használatával\n"
          ]
        },
        {
          "output_type": "stream",
          "name": "stderr",
          "text": [
            "0.10:  38%|███▊      | 6/16 [00:02<00:03,  2.89it/s]"
          ]
        },
        {
          "output_type": "stream",
          "name": "stdout",
          "text": [
            "guess: h ɒ s n aː l ɒ t aː v ɒ l\n",
            "truth: h ɒ s n aː l ɒ t aː v ɒ l\n",
            "\n",
            "\n",
            "\n",
            "input: samu\n"
          ]
        },
        {
          "output_type": "stream",
          "name": "stderr",
          "text": [
            "0.03:  44%|████▍     | 7/16 [00:02<00:03,  2.92it/s]"
          ]
        },
        {
          "output_type": "stream",
          "name": "stdout",
          "text": [
            "guess: ʃ ɒ m u\n",
            "truth: ʃ ɒ m u\n",
            "\n",
            "\n",
            "\n",
            "input: jelleggel\n"
          ]
        },
        {
          "output_type": "stream",
          "name": "stderr",
          "text": [
            "0.14:  50%|█████     | 8/16 [00:02<00:02,  2.98it/s]"
          ]
        },
        {
          "output_type": "stream",
          "name": "stdout",
          "text": [
            "guess: j ɛ lː ɛ ɡ ɛ l\n",
            "truth: j ɛ lː ɛ ɡː ɛ l\n",
            "\n",
            "\n",
            "\n",
            "input: állapotában\n"
          ]
        },
        {
          "output_type": "stream",
          "name": "stderr",
          "text": [
            "0.05:  56%|█████▋    | 9/16 [00:03<00:02,  2.94it/s]"
          ]
        },
        {
          "output_type": "stream",
          "name": "stdout",
          "text": [
            "guess: aː lː ɒ p o t aː b ɒ n\n",
            "truth: aː lː ɒ p o t aː b ɒ n\n",
            "\n",
            "\n",
            "\n",
            "input: néztek\n"
          ]
        },
        {
          "output_type": "stream",
          "name": "stderr",
          "text": [
            "0.05:  62%|██████▎   | 10/16 [00:03<00:02,  2.87it/s]"
          ]
        },
        {
          "output_type": "stream",
          "name": "stdout",
          "text": [
            "guess: n eː s t ɛ k\n",
            "truth: n eː s t ɛ k\n",
            "\n",
            "\n",
            "\n",
            "input: átlátható\n"
          ]
        },
        {
          "output_type": "stream",
          "name": "stderr",
          "text": [
            "0.06:  69%|██████▉   | 11/16 [00:03<00:01,  2.87it/s]"
          ]
        },
        {
          "output_type": "stream",
          "name": "stdout",
          "text": [
            "guess: aː t l aː t h ɒ t oː\n",
            "truth: aː t l aː t h ɒ t oː\n",
            "\n",
            "\n",
            "\n",
            "input: fokú\n"
          ]
        },
        {
          "output_type": "stream",
          "name": "stderr",
          "text": [
            "0.05:  75%|███████▌  | 12/16 [00:04<00:01,  2.85it/s]"
          ]
        },
        {
          "output_type": "stream",
          "name": "stdout",
          "text": [
            "guess: f o k uː\n",
            "truth: f o k uː\n",
            "\n",
            "\n",
            "\n",
            "input: bízhat\n"
          ]
        },
        {
          "output_type": "stream",
          "name": "stderr",
          "text": [
            "0.04:  81%|████████▏ | 13/16 [00:04<00:01,  2.81it/s]"
          ]
        },
        {
          "output_type": "stream",
          "name": "stdout",
          "text": [
            "guess: b ɒ t\n",
            "truth: b iː s h ɒ t\n",
            "\n",
            "\n",
            "\n",
            "input: potenciális\n"
          ]
        },
        {
          "output_type": "stream",
          "name": "stderr",
          "text": [
            "0.08:  88%|████████▊ | 14/16 [00:04<00:00,  2.80it/s]"
          ]
        },
        {
          "output_type": "stream",
          "name": "stdout",
          "text": [
            "guess: p o t ɛ n i j aː l i ʃ\n",
            "truth: p o t ɛ n t͡s i j aː l i ʃ\n",
            "\n",
            "\n",
            "\n",
            "input: fogadta\n"
          ]
        },
        {
          "output_type": "stream",
          "name": "stderr",
          "text": [
            "0.11:  94%|█████████▍| 15/16 [00:05<00:00,  2.82it/s]"
          ]
        },
        {
          "output_type": "stream",
          "name": "stdout",
          "text": [
            "guess: f o ɡ ɒ tː ɒ\n",
            "truth: f o ɡ ɒ tː ɒ\n",
            "\n",
            "\n",
            "\n",
            "input: nyelv\n"
          ]
        },
        {
          "output_type": "stream",
          "name": "stderr",
          "text": [
            "0.11: 100%|██████████| 16/16 [00:05<00:00,  2.89it/s]\n"
          ]
        },
        {
          "output_type": "stream",
          "name": "stdout",
          "text": [
            "guess: ɲ ɛ l\n",
            "truth: ɲ ɛ l v\n",
            "\n",
            "Epoch 5: train loss = 0.099437, test loss = 0.081274\n"
          ]
        },
        {
          "output_type": "stream",
          "name": "stderr",
          "text": [
            "0.05:   4%|▍         | 5/125 [00:00<00:11, 10.60it/s]"
          ]
        },
        {
          "output_type": "stream",
          "name": "stdout",
          "text": [
            "\n",
            "\n",
            "input: diagnosztikai\n",
            "guess: d i j ɒ ɡ n o s t i k ɒ j i\n",
            "truth: d i j ɒ ɡ n o s t i k ɒ j i\n",
            "\n",
            "input: tőke\n",
            "guess: t øː k ɛ\n",
            "truth: t øː k ɛ\n",
            "\n"
          ]
        },
        {
          "output_type": "stream",
          "name": "stderr",
          "text": [
            "0.04:  19%|█▉        | 24/125 [00:01<00:06, 16.62it/s]"
          ]
        },
        {
          "output_type": "stream",
          "name": "stdout",
          "text": [
            "\n",
            "\n",
            "input: bocsátottak\n",
            "guess: b o t͡ʃ aː t o tː ɒ k\n",
            "truth: b o t͡ʃ aː t o tː ɒ k\n",
            "\n",
            "input: gondolati\n",
            "guess: ɡ o n o l ɒ t i\n",
            "truth: ɡ o n d o l ɒ t i\n",
            "\n"
          ]
        },
        {
          "output_type": "stream",
          "name": "stderr",
          "text": [
            "0.04:  35%|███▌      | 44/125 [00:02<00:04, 16.74it/s]"
          ]
        },
        {
          "output_type": "stream",
          "name": "stdout",
          "text": [
            "\n",
            "\n",
            "input: györgy\n",
            "guess: ɟ ø r\n",
            "truth: ɟ ø r ɟ\n",
            "\n",
            "input: lobog\n",
            "guess: l o b o ɡ\n",
            "truth: l o b o ɡ\n",
            "\n"
          ]
        },
        {
          "output_type": "stream",
          "name": "stderr",
          "text": [
            "0.04:  54%|█████▎    | 67/125 [00:03<00:03, 18.67it/s]"
          ]
        },
        {
          "output_type": "stream",
          "name": "stdout",
          "text": [
            "\n",
            "\n",
            "input: másutt\n",
            "guess: m aː ʃ u t\n",
            "truth: m aː ʃ u tː\n",
            "\n",
            "input: szerinte\n",
            "guess: s ɛ r i n t ɛ\n",
            "truth: s ɛ r i n t ɛ\n",
            "\n"
          ]
        },
        {
          "output_type": "stream",
          "name": "stderr",
          "text": [
            "0.06:  67%|██████▋   | 84/125 [00:04<00:02, 18.03it/s]"
          ]
        },
        {
          "output_type": "stream",
          "name": "stdout",
          "text": [
            "\n",
            "\n",
            "input: események\n",
            "guess: ɛ ʃ ɛ m eː ɲ ɛ k\n",
            "truth: ɛ ʃ ɛ m eː ɲ ɛ k\n",
            "\n",
            "input: található\n",
            "guess: t ɒ l aː l ɦ ɒ t oː\n",
            "truth: t ɒ l aː l ɦ ɒ t oː\n",
            "\n"
          ]
        },
        {
          "output_type": "stream",
          "name": "stderr",
          "text": [
            "0.04:  83%|████████▎ | 104/125 [00:05<00:01, 16.84it/s]"
          ]
        },
        {
          "output_type": "stream",
          "name": "stdout",
          "text": [
            "\n",
            "\n",
            "input: festett\n",
            "guess: f ɛ ʃ t ɛ tː\n",
            "truth: f ɛ ʃ t ɛ tː\n",
            "\n",
            "input: politikája\n",
            "guess: p o l i t i k aː j ɒ\n",
            "truth: p o l i t i k aː j ɒ\n",
            "\n"
          ]
        },
        {
          "output_type": "stream",
          "name": "stderr",
          "text": [
            "0.03: 100%|██████████| 125/125 [00:06<00:00, 18.99it/s]\n"
          ]
        },
        {
          "output_type": "stream",
          "name": "stdout",
          "text": [
            "\n",
            "\n",
            "input: következetes\n",
            "guess: k ø v ɛ t k ɛ z ɛ t ɛ ʃ\n",
            "truth: k ø v ɛ t k ɛ z ɛ t ɛ ʃ\n",
            "\n",
            "input: eredményt\n",
            "guess: ɛ r ɛ d m eː ɲ\n",
            "truth: ɛ r ɛ d m eː ɲ t\n",
            "\n"
          ]
        },
        {
          "output_type": "stream",
          "name": "stderr",
          "text": [
            "0.11:   0%|          | 0/16 [00:00<?, ?it/s]"
          ]
        },
        {
          "output_type": "stream",
          "name": "stdout",
          "text": [
            "\n",
            "\n",
            "input: felhasználásával\n"
          ]
        },
        {
          "output_type": "stream",
          "name": "stderr",
          "text": [
            "0.04:   6%|▋         | 1/16 [00:00<00:06,  2.35it/s]"
          ]
        },
        {
          "output_type": "stream",
          "name": "stdout",
          "text": [
            "guess: f ɛ l ɒ s n aː l aː ʃ aː v ɒ l\n",
            "truth: f ɛ l ɦ ɒ s n aː l aː ʃ aː v ɒ l\n",
            "\n",
            "\n",
            "\n",
            "input: nehezebb\n"
          ]
        },
        {
          "output_type": "stream",
          "name": "stderr",
          "text": [
            "0.04:  12%|█▎        | 2/16 [00:00<00:05,  2.54it/s]"
          ]
        },
        {
          "output_type": "stream",
          "name": "stdout",
          "text": [
            "guess: n ɛ h ɛ z ɛ bː\n",
            "truth: n ɛ h ɛ z ɛ bː\n",
            "\n",
            "\n",
            "\n",
            "input: elérhetőek\n"
          ]
        },
        {
          "output_type": "stream",
          "name": "stderr",
          "text": [
            "0.04:  19%|█▉        | 3/16 [00:01<00:04,  2.73it/s]"
          ]
        },
        {
          "output_type": "stream",
          "name": "stdout",
          "text": [
            "guess: ɛ l eː r ɛ t øː ɛ k\n",
            "truth: ɛ l eː r ɦ ɛ t øː ɛ k\n",
            "\n",
            "\n",
            "\n",
            "input: őrködik\n"
          ]
        },
        {
          "output_type": "stream",
          "name": "stderr",
          "text": [
            "0.06:  25%|██▌       | 4/16 [00:01<00:04,  2.84it/s]"
          ]
        },
        {
          "output_type": "stream",
          "name": "stdout",
          "text": [
            "guess: øː r k ø d i k\n",
            "truth: øː r k ø d i k\n",
            "\n",
            "\n",
            "\n",
            "input: néztek\n"
          ]
        },
        {
          "output_type": "stream",
          "name": "stderr",
          "text": [
            "0.06:  31%|███▏      | 5/16 [00:01<00:03,  2.87it/s]"
          ]
        },
        {
          "output_type": "stream",
          "name": "stdout",
          "text": [
            "guess: n eː s t ɛ k\n",
            "truth: n eː s t ɛ k\n",
            "\n",
            "\n",
            "\n",
            "input: katalin\n"
          ]
        },
        {
          "output_type": "stream",
          "name": "stderr",
          "text": [
            "0.03:  38%|███▊      | 6/16 [00:02<00:03,  2.96it/s]"
          ]
        },
        {
          "output_type": "stream",
          "name": "stdout",
          "text": [
            "guess: k ɒ t ɒ l i n\n",
            "truth: k ɒ t ɒ l i n\n",
            "\n",
            "\n",
            "\n",
            "input: dolgokra\n"
          ]
        },
        {
          "output_type": "stream",
          "name": "stderr",
          "text": [
            "0.04:  44%|████▍     | 7/16 [00:02<00:03,  2.93it/s]"
          ]
        },
        {
          "output_type": "stream",
          "name": "stdout",
          "text": [
            "guess: d o l o k r ɒ\n",
            "truth: d o l ɡ o k r ɒ\n",
            "\n",
            "\n",
            "\n",
            "input: jöjj\n"
          ]
        },
        {
          "output_type": "stream",
          "name": "stderr",
          "text": [
            "0.27:  50%|█████     | 8/16 [00:02<00:02,  2.91it/s]"
          ]
        },
        {
          "output_type": "stream",
          "name": "stdout",
          "text": [
            "guess: j\n",
            "truth: j ø jː\n",
            "\n",
            "\n",
            "\n",
            "input: tőle\n"
          ]
        },
        {
          "output_type": "stream",
          "name": "stderr",
          "text": [
            "0.03:  56%|█████▋    | 9/16 [00:03<00:02,  2.92it/s]"
          ]
        },
        {
          "output_type": "stream",
          "name": "stdout",
          "text": [
            "guess: t øː l ɛ\n",
            "truth: t øː l ɛ\n",
            "\n",
            "\n",
            "\n",
            "input: sajtószabadság\n"
          ]
        },
        {
          "output_type": "stream",
          "name": "stderr",
          "text": [
            "0.07:  62%|██████▎   | 10/16 [00:03<00:02,  2.97it/s]"
          ]
        },
        {
          "output_type": "stream",
          "name": "stdout",
          "text": [
            "guess: ʃ ɒ j oː s ɒ b ɒ d aː ɡ\n",
            "truth: ʃ ɒ j t oː s ɒ b ɒ t͡ʃː aː ɡ\n",
            "\n",
            "\n",
            "\n",
            "input: alkotások\n"
          ]
        },
        {
          "output_type": "stream",
          "name": "stderr",
          "text": [
            "0.14:  69%|██████▉   | 11/16 [00:03<00:01,  2.98it/s]"
          ]
        },
        {
          "output_type": "stream",
          "name": "stdout",
          "text": [
            "guess: ɒ l o t aː ʃ o k\n",
            "truth: ɒ l k o t aː ʃ o k\n",
            "\n",
            "\n",
            "\n",
            "input: várnod\n"
          ]
        },
        {
          "output_type": "stream",
          "name": "stderr",
          "text": [
            "0.04:  75%|███████▌  | 12/16 [00:04<00:01,  2.99it/s]"
          ]
        },
        {
          "output_type": "stream",
          "name": "stdout",
          "text": [
            "guess: v aː r n o d\n",
            "truth: v aː r n o d\n",
            "\n",
            "\n",
            "\n",
            "input: támogatása\n"
          ]
        },
        {
          "output_type": "stream",
          "name": "stderr",
          "text": [
            "0.08:  81%|████████▏ | 13/16 [00:04<00:01,  2.96it/s]"
          ]
        },
        {
          "output_type": "stream",
          "name": "stdout",
          "text": [
            "guess: t aː m o ɡ ɒ t aː ʃ ɒ\n",
            "truth: t aː m o ɡ ɒ t aː ʃ ɒ\n",
            "\n",
            "\n",
            "\n",
            "input: molekula\n"
          ]
        },
        {
          "output_type": "stream",
          "name": "stderr",
          "text": [
            "0.03:  88%|████████▊ | 14/16 [00:04<00:00,  2.86it/s]"
          ]
        },
        {
          "output_type": "stream",
          "name": "stdout",
          "text": [
            "guess: m o l ɛ k u l ɒ\n",
            "truth: m o l ɛ k u l ɒ\n",
            "\n",
            "\n",
            "\n",
            "input: pályázat\n"
          ]
        },
        {
          "output_type": "stream",
          "name": "stderr",
          "text": [
            "0.02:  94%|█████████▍| 15/16 [00:05<00:00,  2.86it/s]"
          ]
        },
        {
          "output_type": "stream",
          "name": "stdout",
          "text": [
            "guess: p aː j aː z ɒ t\n",
            "truth: p aː j aː z ɒ t\n",
            "\n",
            "\n",
            "\n",
            "input: keletkezik\n"
          ]
        },
        {
          "output_type": "stream",
          "name": "stderr",
          "text": [
            "0.02: 100%|██████████| 16/16 [00:05<00:00,  2.90it/s]\n"
          ]
        },
        {
          "output_type": "stream",
          "name": "stdout",
          "text": [
            "guess: k ɛ l ɛ t k ɛ z i k\n",
            "truth: k ɛ l ɛ t k ɛ z i k\n",
            "\n",
            "Epoch 6: train loss = 0.077719, test loss = 0.069671\n"
          ]
        },
        {
          "output_type": "stream",
          "name": "stderr",
          "text": [
            "0.11:   3%|▎         | 4/125 [00:00<00:13,  8.92it/s]"
          ]
        },
        {
          "output_type": "stream",
          "name": "stdout",
          "text": [
            "\n",
            "\n",
            "input: alól\n",
            "guess: ɒ l oː l\n",
            "truth: ɒ l oː l\n",
            "\n",
            "input: győr\n",
            "guess: ɟ øː r\n",
            "truth: ɟ øː r\n",
            "\n"
          ]
        },
        {
          "output_type": "stream",
          "name": "stderr",
          "text": [
            "0.03:  19%|█▉        | 24/125 [00:01<00:05, 16.92it/s]"
          ]
        },
        {
          "output_type": "stream",
          "name": "stdout",
          "text": [
            "\n",
            "\n",
            "input: társadalmat\n",
            "guess: t aː r ʃ ɒ d ɒ l m ɒ t\n",
            "truth: t aː r ʃ ɒ d ɒ l m ɒ t\n",
            "\n",
            "input: hogyhogy\n",
            "guess: h o ɦ o ɟ\n",
            "truth: h o c h o ɟ\n",
            "\n"
          ]
        },
        {
          "output_type": "stream",
          "name": "stderr",
          "text": [
            "0.07:  36%|███▌      | 45/125 [00:02<00:04, 16.31it/s]"
          ]
        },
        {
          "output_type": "stream",
          "name": "stdout",
          "text": [
            "\n",
            "\n",
            "input: testületek\n",
            "guess: t ɛ ʃ t y l ɛ t ɛ k\n",
            "truth: t ɛ ʃ t y l ɛ t ɛ k\n",
            "\n",
            "input: lelke\n",
            "guess: l ɛ l k ɛ\n",
            "truth: l ɛ l k ɛ\n",
            "\n"
          ]
        },
        {
          "output_type": "stream",
          "name": "stderr",
          "text": [
            "0.03:  50%|█████     | 63/125 [00:03<00:04, 14.58it/s]"
          ]
        },
        {
          "output_type": "stream",
          "name": "stdout",
          "text": [
            "\n",
            "\n",
            "input: minőségben\n",
            "guess: m i n øː ʃ eː ɡ b ɛ n\n",
            "truth: m i n øː ʃ eː ɡ b ɛ n\n",
            "\n",
            "input: általuk\n",
            "guess: aː l t ɒ l u k\n",
            "truth: aː l t ɒ l u k\n",
            "\n"
          ]
        },
        {
          "output_type": "stream",
          "name": "stderr",
          "text": [
            "0.07:  68%|██████▊   | 85/125 [00:04<00:02, 18.33it/s]"
          ]
        },
        {
          "output_type": "stream",
          "name": "stdout",
          "text": [
            "\n",
            "\n",
            "input: abba\n",
            "guess: ɒ bː ɒ\n",
            "truth: ɒ bː ɒ\n",
            "\n",
            "input: index\n",
            "guess: i n ɛ k s\n",
            "truth: i n d ɛ k s\n",
            "\n"
          ]
        },
        {
          "output_type": "stream",
          "name": "stderr",
          "text": [
            "0.02:  85%|████████▍ | 106/125 [00:05<00:01, 17.99it/s]"
          ]
        },
        {
          "output_type": "stream",
          "name": "stdout",
          "text": [
            "\n",
            "\n",
            "input: jogtalanul\n",
            "guess: j o k t ɒ l ɒ n u l\n",
            "truth: j o k t ɒ l ɒ n u l\n",
            "\n",
            "input: érzést\n",
            "guess: eː r z eː ʃ t\n",
            "truth: eː r z eː ʃ t\n",
            "\n"
          ]
        },
        {
          "output_type": "stream",
          "name": "stderr",
          "text": [
            "0.02: 100%|██████████| 125/125 [00:06<00:00, 18.82it/s]\n"
          ]
        },
        {
          "output_type": "stream",
          "name": "stdout",
          "text": [
            "\n",
            "\n",
            "input: eseményt\n",
            "guess: ɛ ʃ ɛ m eː ɲ\n",
            "truth: ɛ ʃ ɛ m eː ɲ t\n",
            "\n",
            "input: társulás\n",
            "guess: t aː r ʃ u l aː ʃ\n",
            "truth: t aː r ʃ u l aː ʃ\n",
            "\n"
          ]
        },
        {
          "output_type": "stream",
          "name": "stderr",
          "text": [
            "0.03:   0%|          | 0/16 [00:00<?, ?it/s]"
          ]
        },
        {
          "output_type": "stream",
          "name": "stdout",
          "text": [
            "\n",
            "\n",
            "input: kapcsán\n"
          ]
        },
        {
          "output_type": "stream",
          "name": "stderr",
          "text": [
            "0.04:   6%|▋         | 1/16 [00:00<00:05,  2.50it/s]"
          ]
        },
        {
          "output_type": "stream",
          "name": "stdout",
          "text": [
            "guess: k ɒ p aː n\n",
            "truth: k ɒ p t͡ʃ aː n\n",
            "\n",
            "\n",
            "\n",
            "input: vastag\n"
          ]
        },
        {
          "output_type": "stream",
          "name": "stderr",
          "text": [
            "0.03:  12%|█▎        | 2/16 [00:00<00:05,  2.74it/s]"
          ]
        },
        {
          "output_type": "stream",
          "name": "stdout",
          "text": [
            "guess: v ɒ ʃ t ɒ ɡ\n",
            "truth: v ɒ ʃ t ɒ ɡ\n",
            "\n",
            "\n",
            "\n",
            "input: étel\n"
          ]
        },
        {
          "output_type": "stream",
          "name": "stderr",
          "text": [
            "0.02:  19%|█▉        | 3/16 [00:01<00:04,  2.76it/s]"
          ]
        },
        {
          "output_type": "stream",
          "name": "stdout",
          "text": [
            "guess: eː t ɛ l\n",
            "truth: eː t ɛ l\n",
            "\n",
            "\n",
            "\n",
            "input: vetekszik\n"
          ]
        },
        {
          "output_type": "stream",
          "name": "stderr",
          "text": [
            "0.05:  25%|██▌       | 4/16 [00:01<00:04,  2.80it/s]"
          ]
        },
        {
          "output_type": "stream",
          "name": "stdout",
          "text": [
            "guess: v ɛ t ɛ k i k\n",
            "truth: v ɛ t ɛ k s i k\n",
            "\n",
            "\n",
            "\n",
            "input: protestáns\n"
          ]
        },
        {
          "output_type": "stream",
          "name": "stderr",
          "text": [
            "0.04:  31%|███▏      | 5/16 [00:01<00:03,  2.82it/s]"
          ]
        },
        {
          "output_type": "stream",
          "name": "stdout",
          "text": [
            "guess: p r o t ɛ ʃ t aː n ʃ\n",
            "truth: p r o t ɛ ʃ t aː n ʃ\n",
            "\n",
            "\n",
            "\n",
            "input: összeget\n"
          ]
        },
        {
          "output_type": "stream",
          "name": "stderr",
          "text": [
            "0.04:  38%|███▊      | 6/16 [00:02<00:03,  2.82it/s]"
          ]
        },
        {
          "output_type": "stream",
          "name": "stdout",
          "text": [
            "guess: ø s ɛ ɡ ɛ t\n",
            "truth: ø sː ɛ ɡ ɛ t\n",
            "\n",
            "\n",
            "\n",
            "input: bolgár\n"
          ]
        },
        {
          "output_type": "stream",
          "name": "stderr",
          "text": [
            "0.09:  44%|████▍     | 7/16 [00:02<00:03,  2.80it/s]"
          ]
        },
        {
          "output_type": "stream",
          "name": "stdout",
          "text": [
            "guess: b o l aː r\n",
            "truth: b o l ɡ aː r\n",
            "\n",
            "\n",
            "\n",
            "input: forgalmazás\n"
          ]
        },
        {
          "output_type": "stream",
          "name": "stderr",
          "text": [
            "0.27:  50%|█████     | 8/16 [00:02<00:02,  2.79it/s]"
          ]
        },
        {
          "output_type": "stream",
          "name": "stdout",
          "text": [
            "guess: f o r ɒ l m ɒ z aː ʃ\n",
            "truth: f o r ɡ ɒ l m ɒ z aː ʃ\n",
            "\n",
            "\n",
            "\n",
            "input: készítette\n"
          ]
        },
        {
          "output_type": "stream",
          "name": "stderr",
          "text": [
            "0.06:  56%|█████▋    | 9/16 [00:03<00:02,  2.83it/s]"
          ]
        },
        {
          "output_type": "stream",
          "name": "stdout",
          "text": [
            "guess: k eː s iː t ɛ tː ɛ\n",
            "truth: k eː s iː t ɛ tː ɛ\n",
            "\n",
            "\n",
            "\n",
            "input: kerül\n"
          ]
        },
        {
          "output_type": "stream",
          "name": "stderr",
          "text": [
            "0.02:  62%|██████▎   | 10/16 [00:03<00:02,  2.90it/s]"
          ]
        },
        {
          "output_type": "stream",
          "name": "stdout",
          "text": [
            "guess: k ɛ r y l\n",
            "truth: k ɛ r y l\n",
            "\n",
            "\n",
            "\n",
            "input: elnökség\n"
          ]
        },
        {
          "output_type": "stream",
          "name": "stderr",
          "text": [
            "0.08:  69%|██████▉   | 11/16 [00:03<00:01,  2.88it/s]"
          ]
        },
        {
          "output_type": "stream",
          "name": "stdout",
          "text": [
            "guess: ɛ l n ø ʃ eː ɡ\n",
            "truth: ɛ l n ø k ʃ eː ɡ\n",
            "\n",
            "\n",
            "\n",
            "input: iskolák\n"
          ]
        },
        {
          "output_type": "stream",
          "name": "stderr",
          "text": [
            "0.03:  75%|███████▌  | 12/16 [00:04<00:01,  2.92it/s]"
          ]
        },
        {
          "output_type": "stream",
          "name": "stdout",
          "text": [
            "guess: i k o l aː k\n",
            "truth: i ʃ k o l aː k\n",
            "\n",
            "\n",
            "\n",
            "input: zavaros\n"
          ]
        },
        {
          "output_type": "stream",
          "name": "stderr",
          "text": [
            "0.02:  81%|████████▏ | 13/16 [00:04<00:01,  2.86it/s]"
          ]
        },
        {
          "output_type": "stream",
          "name": "stdout",
          "text": [
            "guess: z ɒ v ɒ r o ʃ\n",
            "truth: z ɒ v ɒ r o ʃ\n",
            "\n",
            "\n",
            "\n",
            "input: működésének\n"
          ]
        },
        {
          "output_type": "stream",
          "name": "stderr",
          "text": [
            "0.02:  88%|████████▊ | 14/16 [00:04<00:00,  2.89it/s]"
          ]
        },
        {
          "output_type": "stream",
          "name": "stdout",
          "text": [
            "guess: m yː ɛ k\n",
            "truth: m yː k ø d eː ʃ eː n ɛ k\n",
            "\n",
            "\n",
            "\n",
            "input: farkas\n"
          ]
        },
        {
          "output_type": "stream",
          "name": "stderr",
          "text": [
            "0.08:  94%|█████████▍| 15/16 [00:05<00:00,  2.92it/s]"
          ]
        },
        {
          "output_type": "stream",
          "name": "stdout",
          "text": [
            "guess: f ɒ r k ɒ ʃ\n",
            "truth: f ɒ r k ɒ ʃ\n",
            "\n",
            "\n",
            "\n",
            "input: dologra\n"
          ]
        },
        {
          "output_type": "stream",
          "name": "stderr",
          "text": [
            "0.08: 100%|██████████| 16/16 [00:05<00:00,  2.89it/s]\n"
          ]
        },
        {
          "output_type": "stream",
          "name": "stdout",
          "text": [
            "guess: d o l o ɡ r ɒ\n",
            "truth: d o l o ɡ r ɒ\n",
            "\n",
            "Epoch 7: train loss = 0.061378, test loss = 0.057520\n"
          ]
        },
        {
          "output_type": "stream",
          "name": "stderr",
          "text": [
            "0.03:   3%|▎         | 4/125 [00:00<00:13,  8.96it/s]"
          ]
        },
        {
          "output_type": "stream",
          "name": "stdout",
          "text": [
            "\n",
            "\n",
            "input: időn\n",
            "guess: i d øː n\n",
            "truth: i d øː n\n",
            "\n",
            "input: kínál\n",
            "guess: k iː n aː l\n",
            "truth: k iː n aː l\n",
            "\n"
          ]
        },
        {
          "output_type": "stream",
          "name": "stderr",
          "text": [
            "0.05:  22%|██▏       | 27/125 [00:01<00:05, 17.36it/s]"
          ]
        },
        {
          "output_type": "stream",
          "name": "stdout",
          "text": [
            "\n",
            "\n",
            "input: mennyire\n",
            "guess: m ɛ ɲː i r ɛ\n",
            "truth: m ɛ ɲː i r ɛ\n",
            "\n",
            "input: nemigen\n",
            "guess: n ɛ m i ɡ ɛ n\n",
            "truth: n ɛ m i ɡ ɛ n\n",
            "\n"
          ]
        },
        {
          "output_type": "stream",
          "name": "stderr",
          "text": [
            "0.07:  37%|███▋      | 46/125 [00:02<00:04, 17.23it/s]"
          ]
        },
        {
          "output_type": "stream",
          "name": "stdout",
          "text": [
            "\n",
            "\n",
            "input: képzése\n",
            "guess: k eː b eː ʃ ɛ\n",
            "truth: k eː b z eː ʃ ɛ\n",
            "\n",
            "input: gazda\n",
            "guess: ɡ ɒ z ɒ\n",
            "truth: ɡ ɒ z d ɒ\n",
            "\n"
          ]
        },
        {
          "output_type": "stream",
          "name": "stderr",
          "text": [
            "0.02:  53%|█████▎    | 66/125 [00:03<00:03, 17.48it/s]"
          ]
        },
        {
          "output_type": "stream",
          "name": "stdout",
          "text": [
            "\n",
            "\n",
            "input: márpedig\n",
            "guess: m aː r ɛ d i ɡ\n",
            "truth: m aː r p ɛ d i ɡ\n",
            "\n",
            "input: többség\n",
            "guess: t ø ʃ eː ɡ\n",
            "truth: t ø p ʃ eː ɡ\n",
            "\n"
          ]
        },
        {
          "output_type": "stream",
          "name": "stderr",
          "text": [
            "0.15:  70%|██████▉   | 87/125 [00:04<00:02, 17.92it/s]"
          ]
        },
        {
          "output_type": "stream",
          "name": "stdout",
          "text": [
            "\n",
            "\n",
            "input: háborút\n",
            "guess: h aː b o r uː t\n",
            "truth: h aː b o r uː t\n",
            "\n",
            "input: kalamajka\n",
            "guess: k ɒ l ɒ m ɒ j ɒ\n",
            "truth: k ɒ l ɒ m ɒ j k ɒ\n",
            "\n"
          ]
        },
        {
          "output_type": "stream",
          "name": "stderr",
          "text": [
            "0.02:  83%|████████▎ | 104/125 [00:05<00:01, 17.58it/s]"
          ]
        },
        {
          "output_type": "stream",
          "name": "stdout",
          "text": [
            "\n",
            "\n",
            "input: keni\n",
            "guess: k ɛ n i\n",
            "truth: k ɛ n i\n",
            "\n",
            "input: jogszabály\n",
            "guess: j o k ɒ b aː j\n",
            "truth: j o k s ɒ b aː j\n",
            "\n"
          ]
        },
        {
          "output_type": "stream",
          "name": "stderr",
          "text": [
            "0.02: 100%|██████████| 125/125 [00:06<00:00, 18.76it/s]\n"
          ]
        },
        {
          "output_type": "stream",
          "name": "stdout",
          "text": [
            "\n",
            "\n",
            "input: nyelvi\n",
            "guess: ɲ ɛ l v i\n",
            "truth: ɲ ɛ l v i\n",
            "\n",
            "input: alhat\n",
            "guess: ɒ l ɒ t\n",
            "truth: ɒ l ɦ ɒ t\n",
            "\n"
          ]
        },
        {
          "output_type": "stream",
          "name": "stderr",
          "text": [
            "0.18:   0%|          | 0/16 [00:00<?, ?it/s]"
          ]
        },
        {
          "output_type": "stream",
          "name": "stdout",
          "text": [
            "\n",
            "\n",
            "input: fogát\n"
          ]
        },
        {
          "output_type": "stream",
          "name": "stderr",
          "text": [
            "0.05:   6%|▋         | 1/16 [00:00<00:06,  2.38it/s]"
          ]
        },
        {
          "output_type": "stream",
          "name": "stdout",
          "text": [
            "guess: f o ɡ aː t\n",
            "truth: f o ɡ aː t\n",
            "\n",
            "\n",
            "\n",
            "input: összegek\n"
          ]
        },
        {
          "output_type": "stream",
          "name": "stderr",
          "text": [
            "0.02:  12%|█▎        | 2/16 [00:00<00:05,  2.59it/s]"
          ]
        },
        {
          "output_type": "stream",
          "name": "stdout",
          "text": [
            "guess: ø s ɛ ɡ ɛ k\n",
            "truth: ø sː ɛ ɡ ɛ k\n",
            "\n",
            "\n",
            "\n",
            "input: gergő\n"
          ]
        },
        {
          "output_type": "stream",
          "name": "stderr",
          "text": [
            "0.02:  19%|█▉        | 3/16 [00:01<00:04,  2.83it/s]"
          ]
        },
        {
          "output_type": "stream",
          "name": "stdout",
          "text": [
            "guess: ɡ ɛ r øː\n",
            "truth: ɡ ɛ r ɡ øː\n",
            "\n",
            "\n",
            "\n",
            "input: vetette\n"
          ]
        },
        {
          "output_type": "stream",
          "name": "stderr",
          "text": [
            "0.05:  25%|██▌       | 4/16 [00:01<00:04,  2.84it/s]"
          ]
        },
        {
          "output_type": "stream",
          "name": "stdout",
          "text": [
            "guess: v ɛ t ɛ tː ɛ\n",
            "truth: v ɛ t ɛ tː ɛ\n",
            "\n",
            "\n",
            "\n",
            "input: műsorvezető\n"
          ]
        },
        {
          "output_type": "stream",
          "name": "stderr",
          "text": [
            "0.02:  31%|███▏      | 5/16 [00:01<00:03,  2.85it/s]"
          ]
        },
        {
          "output_type": "stream",
          "name": "stdout",
          "text": [
            "guess: m yː ʃ o r v ɛ z ɛ t øː\n",
            "truth: m yː ʃ o r v ɛ z ɛ t øː\n",
            "\n",
            "\n",
            "\n",
            "input: gondoljuk\n"
          ]
        },
        {
          "output_type": "stream",
          "name": "stderr",
          "text": [
            "0.03:  38%|███▊      | 6/16 [00:02<00:03,  2.89it/s]"
          ]
        },
        {
          "output_type": "stream",
          "name": "stdout",
          "text": [
            "guess: ɡ o n d o jː u k\n",
            "truth: ɡ o n d o jː u k\n",
            "\n",
            "\n",
            "\n",
            "input: mértéke\n"
          ]
        },
        {
          "output_type": "stream",
          "name": "stderr",
          "text": [
            "0.18:  44%|████▍     | 7/16 [00:02<00:03,  2.91it/s]"
          ]
        },
        {
          "output_type": "stream",
          "name": "stdout",
          "text": [
            "guess: m eː r t eː k ɛ\n",
            "truth: m eː r t eː k ɛ\n",
            "\n",
            "\n",
            "\n",
            "input: különös\n"
          ]
        },
        {
          "output_type": "stream",
          "name": "stderr",
          "text": [
            "0.05:  50%|█████     | 8/16 [00:02<00:02,  2.95it/s]"
          ]
        },
        {
          "output_type": "stream",
          "name": "stdout",
          "text": [
            "guess: k y l ø n ø ʃ\n",
            "truth: k y l ø n ø ʃ\n",
            "\n",
            "\n",
            "\n",
            "input: esetekben\n"
          ]
        },
        {
          "output_type": "stream",
          "name": "stderr",
          "text": [
            "0.03:  56%|█████▋    | 9/16 [00:03<00:02,  2.91it/s]"
          ]
        },
        {
          "output_type": "stream",
          "name": "stdout",
          "text": [
            "guess: ɛ ʃ ɛ t ɛ ɡ b ɛ n\n",
            "truth: ɛ ʃ ɛ t ɛ ɡ b ɛ n\n",
            "\n",
            "\n",
            "\n",
            "input: fogadni\n"
          ]
        },
        {
          "output_type": "stream",
          "name": "stderr",
          "text": [
            "0.02:  62%|██████▎   | 10/16 [00:03<00:02,  2.89it/s]"
          ]
        },
        {
          "output_type": "stream",
          "name": "stdout",
          "text": [
            "guess: f o ɡ ɒ d n i\n",
            "truth: f o ɡ ɒ d n i\n",
            "\n",
            "\n",
            "\n",
            "input: gondolkodás\n"
          ]
        },
        {
          "output_type": "stream",
          "name": "stderr",
          "text": [
            "0.01:  69%|██████▉   | 11/16 [00:03<00:01,  2.86it/s]"
          ]
        },
        {
          "output_type": "stream",
          "name": "stdout",
          "text": [
            "guess: ɡ o n d o l k o d aː ʃ\n",
            "truth: ɡ o n d o l k o d aː ʃ\n",
            "\n",
            "\n",
            "\n",
            "input: legapróbb\n"
          ]
        },
        {
          "output_type": "stream",
          "name": "stderr",
          "text": [
            "0.09:  75%|███████▌  | 12/16 [00:04<00:01,  2.92it/s]"
          ]
        },
        {
          "output_type": "stream",
          "name": "stdout",
          "text": [
            "guess: l ɛ ɡ ɒ p r oː bː\n",
            "truth: l ɛ ɡ ɒ p r oː bː\n",
            "\n",
            "\n",
            "\n",
            "input: szaktudás\n"
          ]
        },
        {
          "output_type": "stream",
          "name": "stderr",
          "text": [
            "0.03:  81%|████████▏ | 13/16 [00:04<00:01,  2.85it/s]"
          ]
        },
        {
          "output_type": "stream",
          "name": "stdout",
          "text": [
            "guess: s ɒ k t u d aː ʃ\n",
            "truth: s ɒ k t u d aː ʃ\n",
            "\n",
            "\n",
            "\n",
            "input: átlátható\n"
          ]
        },
        {
          "output_type": "stream",
          "name": "stderr",
          "text": [
            "0.01:  88%|████████▊ | 14/16 [00:04<00:00,  2.72it/s]"
          ]
        },
        {
          "output_type": "stream",
          "name": "stdout",
          "text": [
            "guess: aː t l aː t ɒ t oː\n",
            "truth: aː t l aː t h ɒ t oː\n",
            "\n",
            "\n",
            "\n",
            "input: favágók\n"
          ]
        },
        {
          "output_type": "stream",
          "name": "stderr",
          "text": [
            "0.03:  94%|█████████▍| 15/16 [00:05<00:00,  2.72it/s]"
          ]
        },
        {
          "output_type": "stream",
          "name": "stdout",
          "text": [
            "guess: f ɒ v aː ɡ oː k\n",
            "truth: f ɒ v aː ɡ oː k\n",
            "\n",
            "\n",
            "\n",
            "input: nektek\n"
          ]
        },
        {
          "output_type": "stream",
          "name": "stderr",
          "text": [
            "0.03: 100%|██████████| 16/16 [00:05<00:00,  2.86it/s]\n"
          ]
        },
        {
          "output_type": "stream",
          "name": "stdout",
          "text": [
            "guess: n ɛ k t ɛ k\n",
            "truth: n ɛ k t ɛ k\n",
            "\n",
            "Epoch 8: train loss = 0.050126, test loss = 0.052498\n"
          ]
        },
        {
          "output_type": "stream",
          "name": "stderr",
          "text": [
            "0.14:   3%|▎         | 4/125 [00:00<00:13,  8.72it/s]"
          ]
        },
        {
          "output_type": "stream",
          "name": "stdout",
          "text": [
            "\n",
            "\n",
            "input: biztosít\n",
            "guess: b i t o ʃ iː t\n",
            "truth: b i s t o ʃ iː t\n",
            "\n",
            "input: elsején\n",
            "guess: ɛ l ɛ j eː n\n",
            "truth: ɛ l ʃ ɛ j eː n\n",
            "\n"
          ]
        },
        {
          "output_type": "stream",
          "name": "stderr",
          "text": [
            "0.02:  21%|██        | 26/125 [00:01<00:05, 16.81it/s]"
          ]
        },
        {
          "output_type": "stream",
          "name": "stdout",
          "text": [
            "\n",
            "\n",
            "input: vagy\n",
            "guess: v ɒ ɟ\n",
            "truth: v ɒ ɟ\n",
            "\n",
            "input: erő\n",
            "guess: ɛ r øː\n",
            "truth: ɛ r øː\n",
            "\n"
          ]
        },
        {
          "output_type": "stream",
          "name": "stderr",
          "text": [
            "0.03:  37%|███▋      | 46/125 [00:02<00:04, 17.37it/s]"
          ]
        },
        {
          "output_type": "stream",
          "name": "stdout",
          "text": [
            "\n",
            "\n",
            "input: törődj\n",
            "guess: t ø r øː ɟ\n",
            "truth: t ø r øː ɟː\n",
            "\n",
            "input: szabja\n",
            "guess: s ɒ b ɒ\n",
            "truth: s ɒ b j ɒ\n",
            "\n"
          ]
        },
        {
          "output_type": "stream",
          "name": "stderr",
          "text": [
            "0.02:  52%|█████▏    | 65/125 [00:03<00:03, 17.24it/s]"
          ]
        },
        {
          "output_type": "stream",
          "name": "stdout",
          "text": [
            "\n",
            "\n",
            "input: csoportos\n",
            "guess: t͡ʃ o p o r t o ʃ\n",
            "truth: t͡ʃ o p o r t o ʃ\n",
            "\n",
            "input: egykor\n",
            "guess: ɛ c o r\n",
            "truth: ɛ c k o r\n",
            "\n"
          ]
        },
        {
          "output_type": "stream",
          "name": "stderr",
          "text": [
            "0.03:  67%|██████▋   | 84/125 [00:04<00:02, 16.55it/s]"
          ]
        },
        {
          "output_type": "stream",
          "name": "stdout",
          "text": [
            "\n",
            "\n",
            "input: intézkedések\n",
            "guess: i n t eː s k ɛ d eː ʃ ɛ k\n",
            "truth: i n t eː s k ɛ d eː ʃ ɛ k\n",
            "\n",
            "input: idővel\n",
            "guess: i d øː v ɛ l\n",
            "truth: i d øː v ɛ l\n",
            "\n"
          ]
        },
        {
          "output_type": "stream",
          "name": "stderr",
          "text": [
            "0.02:  84%|████████▍ | 105/125 [00:05<00:01, 16.55it/s]"
          ]
        },
        {
          "output_type": "stream",
          "name": "stdout",
          "text": [
            "\n",
            "\n",
            "input: feltétlenül\n",
            "guess: f ɛ l t eː t l ɛ n y l\n",
            "truth: f ɛ l t eː t l ɛ n y l\n",
            "\n",
            "input: autópályán\n",
            "guess: ɒ u t oː p aː j aː n\n",
            "truth: ɒ u t oː p aː j aː n\n",
            "\n"
          ]
        },
        {
          "output_type": "stream",
          "name": "stderr",
          "text": [
            "0.07: 100%|██████████| 125/125 [00:06<00:00, 18.69it/s]\n"
          ]
        },
        {
          "output_type": "stream",
          "name": "stdout",
          "text": [
            "\n",
            "\n",
            "input: úti\n",
            "guess: uː t i\n",
            "truth: uː t i\n",
            "\n",
            "input: bevált\n",
            "guess: b ɛ v aː l t\n",
            "truth: b ɛ v aː l t\n",
            "\n"
          ]
        },
        {
          "output_type": "stream",
          "name": "stderr",
          "text": [
            "0.03:   0%|          | 0/16 [00:00<?, ?it/s]"
          ]
        },
        {
          "output_type": "stream",
          "name": "stdout",
          "text": [
            "\n",
            "\n",
            "input: kívánja\n"
          ]
        },
        {
          "output_type": "stream",
          "name": "stderr",
          "text": [
            "0.02:   6%|▋         | 1/16 [00:00<00:06,  2.38it/s]"
          ]
        },
        {
          "output_type": "stream",
          "name": "stdout",
          "text": [
            "guess: k iː v aː ɲ ɒ\n",
            "truth: k iː v aː ɲː ɒ\n",
            "\n",
            "\n",
            "\n",
            "input: étkezések\n"
          ]
        },
        {
          "output_type": "stream",
          "name": "stderr",
          "text": [
            "0.08:  12%|█▎        | 2/16 [00:00<00:05,  2.67it/s]"
          ]
        },
        {
          "output_type": "stream",
          "name": "stdout",
          "text": [
            "guess: eː t k ɛ z eː ʃ ɛ k\n",
            "truth: eː t k ɛ z eː ʃ ɛ k\n",
            "\n",
            "\n",
            "\n",
            "input: szintre\n"
          ]
        },
        {
          "output_type": "stream",
          "name": "stderr",
          "text": [
            "0.17:  19%|█▉        | 3/16 [00:01<00:04,  2.74it/s]"
          ]
        },
        {
          "output_type": "stream",
          "name": "stdout",
          "text": [
            "guess: s i n t r ɛ\n",
            "truth: s i n t r ɛ\n",
            "\n",
            "\n",
            "\n",
            "input: ugyanígy\n"
          ]
        },
        {
          "output_type": "stream",
          "name": "stderr",
          "text": [
            "0.02:  25%|██▌       | 4/16 [00:01<00:04,  2.87it/s]"
          ]
        },
        {
          "output_type": "stream",
          "name": "stdout",
          "text": [
            "guess: u ɟ ɒ n iː ɟ\n",
            "truth: u ɟ ɒ n iː ɟ\n",
            "\n",
            "\n",
            "\n",
            "input: alábbhagy\n"
          ]
        },
        {
          "output_type": "stream",
          "name": "stderr",
          "text": [
            "0.04:  31%|███▏      | 5/16 [00:01<00:03,  2.87it/s]"
          ]
        },
        {
          "output_type": "stream",
          "name": "stdout",
          "text": [
            "guess: ɒ l aː b ɒ ɟ\n",
            "truth: ɒ l aː p h ɒ ɟ\n",
            "\n",
            "\n",
            "\n",
            "input: fogadására\n"
          ]
        },
        {
          "output_type": "stream",
          "name": "stderr",
          "text": [
            "0.09:  38%|███▊      | 6/16 [00:02<00:03,  2.86it/s]"
          ]
        },
        {
          "output_type": "stream",
          "name": "stdout",
          "text": [
            "guess: f o ɡ ɒ d aː ʃ aː r ɒ\n",
            "truth: f o ɡ ɒ d aː ʃ aː r ɒ\n",
            "\n",
            "\n",
            "\n",
            "input: mértéke\n"
          ]
        },
        {
          "output_type": "stream",
          "name": "stderr",
          "text": [
            "0.03:  44%|████▍     | 7/16 [00:02<00:03,  2.90it/s]"
          ]
        },
        {
          "output_type": "stream",
          "name": "stdout",
          "text": [
            "guess: m eː r t eː k ɛ\n",
            "truth: m eː r t eː k ɛ\n",
            "\n",
            "\n",
            "\n",
            "input: ágazik\n"
          ]
        },
        {
          "output_type": "stream",
          "name": "stderr",
          "text": [
            "0.05:  50%|█████     | 8/16 [00:02<00:02,  2.86it/s]"
          ]
        },
        {
          "output_type": "stream",
          "name": "stdout",
          "text": [
            "guess: aː ɡ ɒ z i k\n",
            "truth: aː ɡ ɒ z i k\n",
            "\n",
            "\n",
            "\n",
            "input: szakma\n"
          ]
        },
        {
          "output_type": "stream",
          "name": "stderr",
          "text": [
            "0.02:  56%|█████▋    | 9/16 [00:03<00:02,  2.83it/s]"
          ]
        },
        {
          "output_type": "stream",
          "name": "stdout",
          "text": [
            "guess: s ɒ k ɒ\n",
            "truth: s ɒ k m ɒ\n",
            "\n",
            "\n",
            "\n",
            "input: pálya\n"
          ]
        },
        {
          "output_type": "stream",
          "name": "stderr",
          "text": [
            "0.02:  62%|██████▎   | 10/16 [00:03<00:02,  2.82it/s]"
          ]
        },
        {
          "output_type": "stream",
          "name": "stdout",
          "text": [
            "guess: p aː j ɒ\n",
            "truth: p aː j ɒ\n",
            "\n",
            "\n",
            "\n",
            "input: atlantisz\n"
          ]
        },
        {
          "output_type": "stream",
          "name": "stderr",
          "text": [
            "0.02:  69%|██████▉   | 11/16 [00:03<00:01,  2.83it/s]"
          ]
        },
        {
          "output_type": "stream",
          "name": "stdout",
          "text": [
            "guess: ɒ t l ɒ n t i s\n",
            "truth: ɒ t l ɒ n t i s\n",
            "\n",
            "\n",
            "\n",
            "input: gergő\n"
          ]
        },
        {
          "output_type": "stream",
          "name": "stderr",
          "text": [
            "0.01:  75%|███████▌  | 12/16 [00:04<00:01,  2.87it/s]"
          ]
        },
        {
          "output_type": "stream",
          "name": "stdout",
          "text": [
            "guess: ɡ ɛ r øː\n",
            "truth: ɡ ɛ r ɡ øː\n",
            "\n",
            "\n",
            "\n",
            "input: szellem\n"
          ]
        },
        {
          "output_type": "stream",
          "name": "stderr",
          "text": [
            "0.12:  81%|████████▏ | 13/16 [00:04<00:01,  2.92it/s]"
          ]
        },
        {
          "output_type": "stream",
          "name": "stdout",
          "text": [
            "guess: s ɛ lː ɛ m\n",
            "truth: s ɛ lː ɛ m\n",
            "\n",
            "\n",
            "\n",
            "input: síremlék\n"
          ]
        },
        {
          "output_type": "stream",
          "name": "stderr",
          "text": [
            "0.02:  88%|████████▊ | 14/16 [00:04<00:00,  2.85it/s]"
          ]
        },
        {
          "output_type": "stream",
          "name": "stdout",
          "text": [
            "guess: ʃ iː l eː k\n",
            "truth: ʃ iː r ɛ m l eː k\n",
            "\n",
            "\n",
            "\n",
            "input: edzés\n"
          ]
        },
        {
          "output_type": "stream",
          "name": "stderr",
          "text": [
            "0.01:  94%|█████████▍| 15/16 [00:05<00:00,  2.92it/s]"
          ]
        },
        {
          "output_type": "stream",
          "name": "stdout",
          "text": [
            "guess: ɛ dː\n",
            "truth: ɛ d͡zː eː ʃ\n",
            "\n",
            "\n",
            "\n",
            "input: kinti\n"
          ]
        },
        {
          "output_type": "stream",
          "name": "stderr",
          "text": [
            "0.01: 100%|██████████| 16/16 [00:05<00:00,  2.88it/s]\n"
          ]
        },
        {
          "output_type": "stream",
          "name": "stdout",
          "text": [
            "guess: k i n t i\n",
            "truth: k i n t i\n",
            "\n",
            "Epoch 9: train loss = 0.042232, test loss = 0.048249\n"
          ]
        },
        {
          "output_type": "stream",
          "name": "stderr",
          "text": [
            "0.10:   3%|▎         | 4/125 [00:00<00:13,  8.97it/s]"
          ]
        },
        {
          "output_type": "stream",
          "name": "stdout",
          "text": [
            "\n",
            "\n",
            "input: élelmiszerek\n",
            "guess: eː l ɛ l i s ɛ r ɛ k\n",
            "truth: eː l ɛ l m i s ɛ r ɛ k\n",
            "\n",
            "input: lelkileg\n",
            "guess: l ɛ l i l ɛ ɡ\n",
            "truth: l ɛ l k i l ɛ ɡ\n",
            "\n"
          ]
        },
        {
          "output_type": "stream",
          "name": "stderr",
          "text": [
            "0.16:  21%|██        | 26/125 [00:01<00:05, 16.53it/s]"
          ]
        },
        {
          "output_type": "stream",
          "name": "stdout",
          "text": [
            "\n",
            "\n",
            "input: államtitkára\n",
            "guess: aː lː ɒ m t i t k aː r ɒ\n",
            "truth: aː lː ɒ m t i t k aː r ɒ\n",
            "\n",
            "input: dac\n",
            "guess: d ɒ t͡s\n",
            "truth: d ɒ t͡s\n",
            "\n"
          ]
        },
        {
          "output_type": "stream",
          "name": "stderr",
          "text": [
            "0.01:  37%|███▋      | 46/125 [00:02<00:04, 17.27it/s]"
          ]
        },
        {
          "output_type": "stream",
          "name": "stdout",
          "text": [
            "\n",
            "\n",
            "input: időnként\n",
            "guess: i d øː ŋ k eː n t\n",
            "truth: i d øː ŋ k eː n t\n",
            "\n",
            "input: tönk\n",
            "guess: t ø ŋ k\n",
            "truth: t ø ŋ k\n",
            "\n"
          ]
        },
        {
          "output_type": "stream",
          "name": "stderr",
          "text": [
            "0.01:  53%|█████▎    | 66/125 [00:03<00:03, 18.11it/s]"
          ]
        },
        {
          "output_type": "stream",
          "name": "stdout",
          "text": [
            "\n",
            "\n",
            "input: bizottságának\n",
            "guess: b i z o t͡ʃː aː ɡ aː n ɒ k\n",
            "truth: b i z o t͡ʃː aː ɡ aː n ɒ k\n",
            "\n",
            "input: téli\n",
            "guess: t eː l i\n",
            "truth: t eː l i\n",
            "\n"
          ]
        },
        {
          "output_type": "stream",
          "name": "stderr",
          "text": [
            "0.01:  69%|██████▉   | 86/125 [00:04<00:02, 17.38it/s]"
          ]
        },
        {
          "output_type": "stream",
          "name": "stdout",
          "text": [
            "\n",
            "\n",
            "input: kompatibilitás\n",
            "guess: k o m ɒ t i b i l i t aː ʃ\n",
            "truth: k o m p ɒ t i b i l i t aː ʃ\n",
            "\n",
            "input: némileg\n",
            "guess: n eː m i l ɛ ɡ\n",
            "truth: n eː m i l ɛ ɡ\n",
            "\n"
          ]
        },
        {
          "output_type": "stream",
          "name": "stderr",
          "text": [
            "0.39:  85%|████████▍ | 106/125 [00:05<00:01, 17.15it/s]"
          ]
        },
        {
          "output_type": "stream",
          "name": "stdout",
          "text": [
            "\n",
            "\n",
            "input: valahol\n",
            "guess: v ɒ l ɒ ɦ o l\n",
            "truth: v ɒ l ɒ ɦ o l\n",
            "\n",
            "input: környékbeli\n",
            "guess: k ø r eː ɡ b ɛ l i\n",
            "truth: k ø r ɲ eː ɡ b ɛ l i\n",
            "\n"
          ]
        },
        {
          "output_type": "stream",
          "name": "stderr",
          "text": [
            "0.01: 100%|██████████| 125/125 [00:06<00:00, 18.61it/s]\n"
          ]
        },
        {
          "output_type": "stream",
          "name": "stdout",
          "text": [
            "\n",
            "\n",
            "input: roma\n",
            "guess: r o m ɒ\n",
            "truth: r o m ɒ\n",
            "\n",
            "input: legjobb\n",
            "guess: l ɛ ɡ o bː\n",
            "truth: l ɛ ɡ j o bː\n",
            "\n"
          ]
        },
        {
          "output_type": "stream",
          "name": "stderr",
          "text": [
            "0.01:   0%|          | 0/16 [00:00<?, ?it/s]"
          ]
        },
        {
          "output_type": "stream",
          "name": "stdout",
          "text": [
            "\n",
            "\n",
            "input: farkasok\n"
          ]
        },
        {
          "output_type": "stream",
          "name": "stderr",
          "text": [
            "0.04:   6%|▋         | 1/16 [00:00<00:06,  2.45it/s]"
          ]
        },
        {
          "output_type": "stream",
          "name": "stdout",
          "text": [
            "guess: f ɒ r k ɒ ʃ o k\n",
            "truth: f ɒ r k ɒ ʃ o k\n",
            "\n",
            "\n",
            "\n",
            "input: katalin\n"
          ]
        },
        {
          "output_type": "stream",
          "name": "stderr",
          "text": [
            "0.18:  12%|█▎        | 2/16 [00:00<00:05,  2.65it/s]"
          ]
        },
        {
          "output_type": "stream",
          "name": "stdout",
          "text": [
            "guess: k ɒ t ɒ l i n\n",
            "truth: k ɒ t ɒ l i n\n",
            "\n",
            "\n",
            "\n",
            "input: inkvizíció\n"
          ]
        },
        {
          "output_type": "stream",
          "name": "stderr",
          "text": [
            "0.11:  19%|█▉        | 3/16 [00:01<00:04,  2.68it/s]"
          ]
        },
        {
          "output_type": "stream",
          "name": "stdout",
          "text": [
            "guess: i ŋ k v i z iː t͡s i j oː\n",
            "truth: i ŋ k v i z iː t͡s i j oː\n",
            "\n",
            "\n",
            "\n",
            "input: visszafordíthatatlan\n"
          ]
        },
        {
          "output_type": "stream",
          "name": "stderr",
          "text": [
            "0.02:  25%|██▌       | 4/16 [00:01<00:04,  2.77it/s]"
          ]
        },
        {
          "output_type": "stream",
          "name": "stdout",
          "text": [
            "guess: v i r t h ɒ t ɒ t l ɒ n\n",
            "truth: v i sː ɒ f o r d iː t h ɒ t ɒ t l ɒ n\n",
            "\n",
            "\n",
            "\n",
            "input: kívánja\n"
          ]
        },
        {
          "output_type": "stream",
          "name": "stderr",
          "text": [
            "0.02:  31%|███▏      | 5/16 [00:01<00:04,  2.75it/s]"
          ]
        },
        {
          "output_type": "stream",
          "name": "stdout",
          "text": [
            "guess: k iː v aː ɲː ɒ\n",
            "truth: k iː v aː ɲː ɒ\n",
            "\n",
            "\n",
            "\n",
            "input: na\n"
          ]
        },
        {
          "output_type": "stream",
          "name": "stderr",
          "text": [
            "0.03:  38%|███▊      | 6/16 [00:02<00:03,  2.84it/s]"
          ]
        },
        {
          "output_type": "stream",
          "name": "stdout",
          "text": [
            "guess: n ɒ\n",
            "truth: n ɒ\n",
            "\n",
            "\n",
            "\n",
            "input: adja\n"
          ]
        },
        {
          "output_type": "stream",
          "name": "stderr",
          "text": [
            "0.01:  44%|████▍     | 7/16 [00:02<00:03,  2.92it/s]"
          ]
        },
        {
          "output_type": "stream",
          "name": "stdout",
          "text": [
            "guess: ɒ ɟː ɒ\n",
            "truth: ɒ ɟː ɒ\n",
            "\n",
            "\n",
            "\n",
            "input: erősödő\n"
          ]
        },
        {
          "output_type": "stream",
          "name": "stderr",
          "text": [
            "0.01:  50%|█████     | 8/16 [00:02<00:02,  2.90it/s]"
          ]
        },
        {
          "output_type": "stream",
          "name": "stdout",
          "text": [
            "guess: ɛ r øː ʃ ø d øː\n",
            "truth: ɛ r øː ʃ ø d øː\n",
            "\n",
            "\n",
            "\n",
            "input: szentek\n"
          ]
        },
        {
          "output_type": "stream",
          "name": "stderr",
          "text": [
            "0.02:  56%|█████▋    | 9/16 [00:03<00:02,  2.94it/s]"
          ]
        },
        {
          "output_type": "stream",
          "name": "stdout",
          "text": [
            "guess: s ɛ n t ɛ k\n",
            "truth: s ɛ n t ɛ k\n",
            "\n",
            "\n",
            "\n",
            "input: ensz\n"
          ]
        },
        {
          "output_type": "stream",
          "name": "stderr",
          "text": [
            "0.03:  62%|██████▎   | 10/16 [00:03<00:02,  2.89it/s]"
          ]
        },
        {
          "output_type": "stream",
          "name": "stdout",
          "text": [
            "guess: ɛ n\n",
            "truth: ɛ n s\n",
            "\n",
            "\n",
            "\n",
            "input: sül\n"
          ]
        },
        {
          "output_type": "stream",
          "name": "stderr",
          "text": [
            "0.01:  69%|██████▉   | 11/16 [00:03<00:01,  2.85it/s]"
          ]
        },
        {
          "output_type": "stream",
          "name": "stdout",
          "text": [
            "guess: ʃ y l\n",
            "truth: ʃ y l\n",
            "\n",
            "\n",
            "\n",
            "input: cinikus\n"
          ]
        },
        {
          "output_type": "stream",
          "name": "stderr",
          "text": [
            "0.09:  75%|███████▌  | 12/16 [00:04<00:01,  2.76it/s]"
          ]
        },
        {
          "output_type": "stream",
          "name": "stdout",
          "text": [
            "guess: t͡s i n i k u ʃ\n",
            "truth: t͡s i n i k u ʃ\n",
            "\n",
            "\n",
            "\n",
            "input: tehette\n"
          ]
        },
        {
          "output_type": "stream",
          "name": "stderr",
          "text": [
            "0.09:  81%|████████▏ | 13/16 [00:04<00:01,  2.74it/s]"
          ]
        },
        {
          "output_type": "stream",
          "name": "stdout",
          "text": [
            "guess: t ɛ h ɛ tː ɛ\n",
            "truth: t ɛ h ɛ tː ɛ\n",
            "\n",
            "\n",
            "\n",
            "input: csi\n"
          ]
        },
        {
          "output_type": "stream",
          "name": "stderr",
          "text": [
            "0.04:  88%|████████▊ | 14/16 [00:05<00:00,  2.78it/s]"
          ]
        },
        {
          "output_type": "stream",
          "name": "stdout",
          "text": [
            "guess: t͡ʃ i\n",
            "truth: t͡ʃ iː\n",
            "\n",
            "\n",
            "\n",
            "input: próba\n"
          ]
        },
        {
          "output_type": "stream",
          "name": "stderr",
          "text": [
            "0.01:  94%|█████████▍| 15/16 [00:05<00:00,  2.80it/s]"
          ]
        },
        {
          "output_type": "stream",
          "name": "stdout",
          "text": [
            "guess: p r oː b ɒ\n",
            "truth: p r oː b ɒ\n",
            "\n",
            "\n",
            "\n",
            "input: ülésen\n"
          ]
        },
        {
          "output_type": "stream",
          "name": "stderr",
          "text": [
            "0.01: 100%|██████████| 16/16 [00:05<00:00,  2.85it/s]\n"
          ]
        },
        {
          "output_type": "stream",
          "name": "stdout",
          "text": [
            "guess: y l eː ʃ ɛ n\n",
            "truth: y l eː ʃ ɛ n\n",
            "\n",
            "Epoch 10: train loss = 0.036215, test loss = 0.045586\n"
          ]
        },
        {
          "output_type": "stream",
          "name": "stderr",
          "text": [
            "0.14:   3%|▎         | 4/125 [00:00<00:13,  9.08it/s]"
          ]
        },
        {
          "output_type": "stream",
          "name": "stdout",
          "text": [
            "\n",
            "\n",
            "input: piacok\n",
            "guess: p i j ɒ t͡s o k\n",
            "truth: p i j ɒ t͡s o k\n",
            "\n",
            "input: páva\n",
            "guess: p aː v ɒ\n",
            "truth: p aː v ɒ\n",
            "\n"
          ]
        },
        {
          "output_type": "stream",
          "name": "stderr",
          "text": [
            "0.03:  21%|██        | 26/125 [00:01<00:05, 16.75it/s]"
          ]
        },
        {
          "output_type": "stream",
          "name": "stdout",
          "text": [
            "\n",
            "\n",
            "input: utazni\n",
            "guess: u t ɒ z n i\n",
            "truth: u t ɒ z n i\n",
            "\n",
            "input: kéne\n",
            "guess: k eː n ɛ\n",
            "truth: k eː n ɛ\n",
            "\n"
          ]
        },
        {
          "output_type": "stream",
          "name": "stderr",
          "text": [
            "0.04:  37%|███▋      | 46/125 [00:02<00:04, 17.54it/s]"
          ]
        },
        {
          "output_type": "stream",
          "name": "stdout",
          "text": [
            "\n",
            "\n",
            "input: valójában\n",
            "guess: v ɒ l oː j aː b ɒ n\n",
            "truth: v ɒ l oː j aː b ɒ n\n",
            "\n",
            "input: otthonról\n",
            "guess: o t o n oː l\n",
            "truth: o t h o n r oː l\n",
            "\n"
          ]
        },
        {
          "output_type": "stream",
          "name": "stderr",
          "text": [
            "0.03:  53%|█████▎    | 66/125 [00:03<00:03, 17.72it/s]"
          ]
        },
        {
          "output_type": "stream",
          "name": "stdout",
          "text": [
            "\n",
            "\n",
            "input: határt\n",
            "guess: h ɒ t aː r t\n",
            "truth: h ɒ t aː r t\n",
            "\n",
            "input: ateizmus\n",
            "guess: ɒ t ɛ j i z m u ʃ\n",
            "truth: ɒ t ɛ j i z m u ʃ\n",
            "\n"
          ]
        },
        {
          "output_type": "stream",
          "name": "stderr",
          "text": [
            "0.01:  68%|██████▊   | 85/125 [00:04<00:02, 16.19it/s]"
          ]
        },
        {
          "output_type": "stream",
          "name": "stdout",
          "text": [
            "\n",
            "\n",
            "input: mindenkire\n",
            "guess: m i n d ɛ ŋ k i r ɛ\n",
            "truth: m i n d ɛ ŋ k i r ɛ\n",
            "\n",
            "input: mondjam\n",
            "guess: m o ɲ ɒ m\n",
            "truth: m o ɲ ɟ ɒ m\n",
            "\n"
          ]
        },
        {
          "output_type": "stream",
          "name": "stderr",
          "text": [
            "0.01:  83%|████████▎ | 104/125 [00:05<00:01, 16.36it/s]"
          ]
        },
        {
          "output_type": "stream",
          "name": "stdout",
          "text": [
            "\n",
            "\n",
            "input: zárható\n",
            "guess: z aː r ɦ ɒ t oː\n",
            "truth: z aː r ɦ ɒ t oː\n",
            "\n",
            "input: számos\n",
            "guess: s aː m o ʃ\n",
            "truth: s aː m o ʃ\n",
            "\n"
          ]
        },
        {
          "output_type": "stream",
          "name": "stderr",
          "text": [
            "0.01: 100%|██████████| 125/125 [00:06<00:00, 18.37it/s]\n"
          ]
        },
        {
          "output_type": "stream",
          "name": "stdout",
          "text": [
            "\n",
            "\n",
            "input: védelmében\n",
            "guess: v eː d ɛ l eː b ɛ n\n",
            "truth: v eː d ɛ l m eː b ɛ n\n",
            "\n",
            "input: jusson\n",
            "guess: j u ʃː o n\n",
            "truth: j u ʃː o n\n",
            "\n"
          ]
        },
        {
          "output_type": "stream",
          "name": "stderr",
          "text": [
            "0.16:   0%|          | 0/16 [00:00<?, ?it/s]"
          ]
        },
        {
          "output_type": "stream",
          "name": "stdout",
          "text": [
            "\n",
            "\n",
            "input: látó\n"
          ]
        },
        {
          "output_type": "stream",
          "name": "stderr",
          "text": [
            "0.03:   6%|▋         | 1/16 [00:00<00:06,  2.38it/s]"
          ]
        },
        {
          "output_type": "stream",
          "name": "stdout",
          "text": [
            "guess: l aː t oː\n",
            "truth: l aː t oː\n",
            "\n",
            "\n",
            "\n",
            "input: tehetséget\n"
          ]
        },
        {
          "output_type": "stream",
          "name": "stderr",
          "text": [
            "0.01:  12%|█▎        | 2/16 [00:00<00:05,  2.62it/s]"
          ]
        },
        {
          "output_type": "stream",
          "name": "stdout",
          "text": [
            "guess: t ɛ h ɛ t͡ʃː eː ɡ ɛ t\n",
            "truth: t ɛ h ɛ t͡ʃː eː ɡ ɛ t\n",
            "\n",
            "\n",
            "\n",
            "input: fordulni\n"
          ]
        },
        {
          "output_type": "stream",
          "name": "stderr",
          "text": [
            "0.09:  19%|█▉        | 3/16 [00:01<00:04,  2.67it/s]"
          ]
        },
        {
          "output_type": "stream",
          "name": "stdout",
          "text": [
            "guess: f o r d u l n i\n",
            "truth: f o r d u l n i\n",
            "\n",
            "\n",
            "\n",
            "input: csi\n"
          ]
        },
        {
          "output_type": "stream",
          "name": "stderr",
          "text": [
            "0.10:  25%|██▌       | 4/16 [00:01<00:04,  2.70it/s]"
          ]
        },
        {
          "output_type": "stream",
          "name": "stdout",
          "text": [
            "guess: t͡ʃ i\n",
            "truth: t͡ʃ iː\n",
            "\n",
            "\n",
            "\n",
            "input: lovagja\n"
          ]
        },
        {
          "output_type": "stream",
          "name": "stderr",
          "text": [
            "0.03:  31%|███▏      | 5/16 [00:01<00:03,  2.80it/s]"
          ]
        },
        {
          "output_type": "stream",
          "name": "stdout",
          "text": [
            "guess: l o v ɒ ɡ ɒ\n",
            "truth: l o v ɒ ɡ j ɒ\n",
            "\n",
            "\n",
            "\n",
            "input: zsolt\n"
          ]
        },
        {
          "output_type": "stream",
          "name": "stderr",
          "text": [
            "0.01:  38%|███▊      | 6/16 [00:02<00:03,  2.91it/s]"
          ]
        },
        {
          "output_type": "stream",
          "name": "stdout",
          "text": [
            "guess: ʒ o l t\n",
            "truth: ʒ o l t\n",
            "\n",
            "\n",
            "\n",
            "input: közéleti\n"
          ]
        },
        {
          "output_type": "stream",
          "name": "stderr",
          "text": [
            "0.02:  44%|████▍     | 7/16 [00:02<00:03,  2.84it/s]"
          ]
        },
        {
          "output_type": "stream",
          "name": "stdout",
          "text": [
            "guess: k ø z eː l ɛ t i\n",
            "truth: k ø z eː l ɛ t i\n",
            "\n",
            "\n",
            "\n",
            "input: napos\n"
          ]
        },
        {
          "output_type": "stream",
          "name": "stderr",
          "text": [
            "0.05:  50%|█████     | 8/16 [00:02<00:02,  2.86it/s]"
          ]
        },
        {
          "output_type": "stream",
          "name": "stdout",
          "text": [
            "guess: n ɒ p o ʃ\n",
            "truth: n ɒ p o ʃ\n",
            "\n",
            "\n",
            "\n",
            "input: nyomtatott\n"
          ]
        },
        {
          "output_type": "stream",
          "name": "stderr",
          "text": [
            "0.01:  56%|█████▋    | 9/16 [00:03<00:02,  2.88it/s]"
          ]
        },
        {
          "output_type": "stream",
          "name": "stdout",
          "text": [
            "guess: ɲ o m ɒ t o tː\n",
            "truth: ɲ o m t ɒ t o tː\n",
            "\n",
            "\n",
            "\n",
            "input: anya\n"
          ]
        },
        {
          "output_type": "stream",
          "name": "stderr",
          "text": [
            "0.01:  62%|██████▎   | 10/16 [00:03<00:02,  2.82it/s]"
          ]
        },
        {
          "output_type": "stream",
          "name": "stdout",
          "text": [
            "guess: ɒ ɲ ɒ\n",
            "truth: ɒ ɲ ɒ\n",
            "\n",
            "\n",
            "\n",
            "input: gondoljuk\n"
          ]
        },
        {
          "output_type": "stream",
          "name": "stderr",
          "text": [
            "0.01:  69%|██████▉   | 11/16 [00:03<00:01,  2.84it/s]"
          ]
        },
        {
          "output_type": "stream",
          "name": "stdout",
          "text": [
            "guess: ɡ o n d o jː\n",
            "truth: ɡ o n d o jː u k\n",
            "\n",
            "\n",
            "\n",
            "input: vitában\n"
          ]
        },
        {
          "output_type": "stream",
          "name": "stderr",
          "text": [
            "0.02:  75%|███████▌  | 12/16 [00:04<00:01,  2.79it/s]"
          ]
        },
        {
          "output_type": "stream",
          "name": "stdout",
          "text": [
            "guess: v i t aː b ɒ n\n",
            "truth: v i t aː b ɒ n\n",
            "\n",
            "\n",
            "\n",
            "input: anyai\n"
          ]
        },
        {
          "output_type": "stream",
          "name": "stderr",
          "text": [
            "0.04:  81%|████████▏ | 13/16 [00:04<00:01,  2.77it/s]"
          ]
        },
        {
          "output_type": "stream",
          "name": "stdout",
          "text": [
            "guess: ɒ ɲ ɒ j i\n",
            "truth: ɒ ɲ ɒ j i\n",
            "\n",
            "\n",
            "\n",
            "input: eszedbe\n"
          ]
        },
        {
          "output_type": "stream",
          "name": "stderr",
          "text": [
            "0.02:  88%|████████▊ | 14/16 [00:05<00:00,  2.73it/s]"
          ]
        },
        {
          "output_type": "stream",
          "name": "stdout",
          "text": [
            "guess: ɛ s ɛ d ɛ\n",
            "truth: ɛ s ɛ d b ɛ\n",
            "\n",
            "\n",
            "\n",
            "input: vélem\n"
          ]
        },
        {
          "output_type": "stream",
          "name": "stderr",
          "text": [
            "0.09:  94%|█████████▍| 15/16 [00:05<00:00,  2.77it/s]"
          ]
        },
        {
          "output_type": "stream",
          "name": "stdout",
          "text": [
            "guess: v eː l ɛ m\n",
            "truth: v eː l ɛ m\n",
            "\n",
            "\n",
            "\n",
            "input: rendelet\n"
          ]
        },
        {
          "output_type": "stream",
          "name": "stderr",
          "text": [
            "0.09: 100%|██████████| 16/16 [00:05<00:00,  2.82it/s]\n"
          ]
        },
        {
          "output_type": "stream",
          "name": "stdout",
          "text": [
            "guess: r ɛ n d ɛ l ɛ t\n",
            "truth: r ɛ n d ɛ l ɛ t\n",
            "\n",
            "Epoch 11: train loss = 0.030954, test loss = 0.042221\n"
          ]
        },
        {
          "output_type": "stream",
          "name": "stderr",
          "text": [
            "0.02:   3%|▎         | 4/125 [00:00<00:13,  8.94it/s]"
          ]
        },
        {
          "output_type": "stream",
          "name": "stdout",
          "text": [
            "\n",
            "\n",
            "input: szobra\n",
            "guess: s o b ɒ\n",
            "truth: s o b r ɒ\n",
            "\n",
            "input: háznak\n",
            "guess: h aː z n ɒ k\n",
            "truth: h aː z n ɒ k\n",
            "\n"
          ]
        },
        {
          "output_type": "stream",
          "name": "stderr",
          "text": [
            "0.01:  20%|██        | 25/125 [00:01<00:06, 16.06it/s]"
          ]
        },
        {
          "output_type": "stream",
          "name": "stdout",
          "text": [
            "\n",
            "\n",
            "input: láttam\n",
            "guess: l aː tː ɒ m\n",
            "truth: l aː tː ɒ m\n",
            "\n",
            "input: műszaki\n",
            "guess: m yː s ɒ k i\n",
            "truth: m yː s ɒ k i\n",
            "\n"
          ]
        },
        {
          "output_type": "stream",
          "name": "stderr",
          "text": [
            "0.01:  36%|███▌      | 45/125 [00:02<00:04, 17.82it/s]"
          ]
        },
        {
          "output_type": "stream",
          "name": "stdout",
          "text": [
            "\n",
            "\n",
            "input: mik\n",
            "guess: m i k\n",
            "truth: m i k\n",
            "\n",
            "input: nyomtatás\n",
            "guess: ɲ o m ɒ t aː ʃ\n",
            "truth: ɲ o m t ɒ t aː ʃ\n",
            "\n"
          ]
        },
        {
          "output_type": "stream",
          "name": "stderr",
          "text": [
            "0.02:  50%|█████     | 63/125 [00:03<00:04, 13.59it/s]"
          ]
        },
        {
          "output_type": "stream",
          "name": "stdout",
          "text": [
            "\n",
            "\n",
            "input: rendelkezéseket\n",
            "guess: r ɛ n d ɛ l k ɛ z eː ʃ ɛ k ɛ t\n",
            "truth: r ɛ n d ɛ l k ɛ z eː ʃ ɛ k ɛ t\n",
            "\n",
            "input: akiben\n",
            "guess: ɒ k i b ɛ n\n",
            "truth: ɒ k i b ɛ n\n",
            "\n"
          ]
        },
        {
          "output_type": "stream",
          "name": "stderr",
          "text": [
            "0.01:  68%|██████▊   | 85/125 [00:04<00:02, 15.70it/s]"
          ]
        },
        {
          "output_type": "stream",
          "name": "stdout",
          "text": [
            "\n",
            "\n",
            "input: odafigyel\n",
            "guess: o d ɒ f i ɟ ɛ l\n",
            "truth: o d ɒ f i ɟ ɛ l\n",
            "\n",
            "input: fenntartva\n",
            "guess: f ɛ n t ɒ r t v ɒ\n",
            "truth: f ɛ n t ɒ r t v ɒ\n",
            "\n"
          ]
        },
        {
          "output_type": "stream",
          "name": "stderr",
          "text": [
            "0.02:  84%|████████▍ | 105/125 [00:05<00:01, 16.65it/s]"
          ]
        },
        {
          "output_type": "stream",
          "name": "stdout",
          "text": [
            "\n",
            "\n",
            "input: hozzáférhető\n",
            "guess: h o zː aː f eː r ɦ ɛ t øː\n",
            "truth: h o zː aː f eː r ɦ ɛ t øː\n",
            "\n",
            "input: kilót\n",
            "guess: k i l oː t\n",
            "truth: k i l oː t\n",
            "\n"
          ]
        },
        {
          "output_type": "stream",
          "name": "stderr",
          "text": [
            "0.04: 100%|██████████| 125/125 [00:06<00:00, 18.15it/s]\n"
          ]
        },
        {
          "output_type": "stream",
          "name": "stdout",
          "text": [
            "\n",
            "\n",
            "input: néz\n",
            "guess: n eː z\n",
            "truth: n eː z\n",
            "\n",
            "input: melyeket\n",
            "guess: m ɛ j ɛ k ɛ t\n",
            "truth: m ɛ j ɛ k ɛ t\n",
            "\n"
          ]
        },
        {
          "output_type": "stream",
          "name": "stderr",
          "text": [
            "0.01:   0%|          | 0/16 [00:00<?, ?it/s]"
          ]
        },
        {
          "output_type": "stream",
          "name": "stdout",
          "text": [
            "\n",
            "\n",
            "input: képest\n"
          ]
        },
        {
          "output_type": "stream",
          "name": "stderr",
          "text": [
            "0.13:   6%|▋         | 1/16 [00:00<00:06,  2.49it/s]"
          ]
        },
        {
          "output_type": "stream",
          "name": "stdout",
          "text": [
            "guess: k eː p ɛ ʃ t\n",
            "truth: k eː p ɛ ʃ t\n",
            "\n",
            "\n",
            "\n",
            "input: szervezetei\n"
          ]
        },
        {
          "output_type": "stream",
          "name": "stderr",
          "text": [
            "0.01:  12%|█▎        | 2/16 [00:00<00:05,  2.70it/s]"
          ]
        },
        {
          "output_type": "stream",
          "name": "stdout",
          "text": [
            "guess: s ɛ r v ɛ z ɛ t ɛ j i\n",
            "truth: s ɛ r v ɛ z ɛ t ɛ j i\n",
            "\n",
            "\n",
            "\n",
            "input: mandátum\n"
          ]
        },
        {
          "output_type": "stream",
          "name": "stderr",
          "text": [
            "0.01:  19%|█▉        | 3/16 [00:01<00:04,  2.84it/s]"
          ]
        },
        {
          "output_type": "stream",
          "name": "stdout",
          "text": [
            "guess: m ɒ n aː t u m\n",
            "truth: m ɒ n d aː t u m\n",
            "\n",
            "\n",
            "\n",
            "input: istentől\n"
          ]
        },
        {
          "output_type": "stream",
          "name": "stderr",
          "text": [
            "0.01:  25%|██▌       | 4/16 [00:01<00:04,  2.90it/s]"
          ]
        },
        {
          "output_type": "stream",
          "name": "stdout",
          "text": [
            "guess: i ʃ t ɛ n t øː l\n",
            "truth: i ʃ t ɛ n t øː l\n",
            "\n",
            "\n",
            "\n",
            "input: országba\n"
          ]
        },
        {
          "output_type": "stream",
          "name": "stderr",
          "text": [
            "0.02:  31%|███▏      | 5/16 [00:01<00:03,  2.90it/s]"
          ]
        },
        {
          "output_type": "stream",
          "name": "stdout",
          "text": [
            "guess: o r s aː ɡ b ɒ\n",
            "truth: o r s aː ɡ b ɒ\n",
            "\n",
            "\n",
            "\n",
            "input: skálán\n"
          ]
        },
        {
          "output_type": "stream",
          "name": "stderr",
          "text": [
            "0.01:  38%|███▊      | 6/16 [00:02<00:03,  2.92it/s]"
          ]
        },
        {
          "output_type": "stream",
          "name": "stdout",
          "text": [
            "guess: ʃ k aː l aː n\n",
            "truth: ʃ k aː l aː n\n",
            "\n",
            "\n",
            "\n",
            "input: szinteken\n"
          ]
        },
        {
          "output_type": "stream",
          "name": "stderr",
          "text": [
            "0.03:  44%|████▍     | 7/16 [00:02<00:03,  2.83it/s]"
          ]
        },
        {
          "output_type": "stream",
          "name": "stdout",
          "text": [
            "guess: s i n t ɛ k ɛ n\n",
            "truth: s i n t ɛ k ɛ n\n",
            "\n",
            "\n",
            "\n",
            "input: istenhez\n"
          ]
        },
        {
          "output_type": "stream",
          "name": "stderr",
          "text": [
            "0.03:  50%|█████     | 8/16 [00:02<00:02,  2.76it/s]"
          ]
        },
        {
          "output_type": "stream",
          "name": "stdout",
          "text": [
            "guess: i ʃ t ɛ n ɛ z\n",
            "truth: i ʃ t ɛ n ɦ ɛ z\n",
            "\n",
            "\n",
            "\n",
            "input: nagyszerű\n"
          ]
        },
        {
          "output_type": "stream",
          "name": "stderr",
          "text": [
            "0.01:  56%|█████▋    | 9/16 [00:03<00:02,  2.77it/s]"
          ]
        },
        {
          "output_type": "stream",
          "name": "stdout",
          "text": [
            "guess: n ɒ c ɛ r yː\n",
            "truth: n ɒ c s ɛ r yː\n",
            "\n",
            "\n",
            "\n",
            "input: jugoszláviai\n"
          ]
        },
        {
          "output_type": "stream",
          "name": "stderr",
          "text": [
            "0.01:  62%|██████▎   | 10/16 [00:03<00:02,  2.77it/s]"
          ]
        },
        {
          "output_type": "stream",
          "name": "stdout",
          "text": [
            "guess: j u ɡ o s l aː v i j ɒ j i\n",
            "truth: j u ɡ o s l aː v i j ɒ j i\n",
            "\n",
            "\n",
            "\n",
            "input: figyelni\n"
          ]
        },
        {
          "output_type": "stream",
          "name": "stderr",
          "text": [
            "0.12:  69%|██████▉   | 11/16 [00:03<00:01,  2.77it/s]"
          ]
        },
        {
          "output_type": "stream",
          "name": "stdout",
          "text": [
            "guess: f i ɟ ɛ l n i\n",
            "truth: f i ɟ ɛ l n i\n",
            "\n",
            "\n",
            "\n",
            "input: csi\n"
          ]
        },
        {
          "output_type": "stream",
          "name": "stderr",
          "text": [
            "0.01:  75%|███████▌  | 12/16 [00:04<00:01,  2.83it/s]"
          ]
        },
        {
          "output_type": "stream",
          "name": "stdout",
          "text": [
            "guess: t͡ʃ i\n",
            "truth: t͡ʃ iː\n",
            "\n",
            "\n",
            "\n",
            "input: nyelvre\n"
          ]
        },
        {
          "output_type": "stream",
          "name": "stderr",
          "text": [
            "0.02:  81%|████████▏ | 13/16 [00:04<00:01,  2.81it/s]"
          ]
        },
        {
          "output_type": "stream",
          "name": "stdout",
          "text": [
            "guess: ɲ ɛ l v ɛ\n",
            "truth: ɲ ɛ l v r ɛ\n",
            "\n",
            "\n",
            "\n",
            "input: hallgatás\n"
          ]
        },
        {
          "output_type": "stream",
          "name": "stderr",
          "text": [
            "0.17:  88%|████████▊ | 14/16 [00:05<00:00,  2.82it/s]"
          ]
        },
        {
          "output_type": "stream",
          "name": "stdout",
          "text": [
            "guess: h ɒ l ɒ t aː ʃ\n",
            "truth: h ɒ l ɡ ɒ t aː ʃ\n",
            "\n",
            "\n",
            "\n",
            "input: szerzői\n"
          ]
        },
        {
          "output_type": "stream",
          "name": "stderr",
          "text": [
            "0.02:  94%|█████████▍| 15/16 [00:05<00:00,  2.78it/s]"
          ]
        },
        {
          "output_type": "stream",
          "name": "stdout",
          "text": [
            "guess: s ɛ r z øː i\n",
            "truth: s ɛ r z øː j i\n",
            "\n",
            "\n",
            "\n",
            "input: ország\n"
          ]
        },
        {
          "output_type": "stream",
          "name": "stderr",
          "text": [
            "0.02: 100%|██████████| 16/16 [00:05<00:00,  2.84it/s]\n"
          ]
        },
        {
          "output_type": "stream",
          "name": "stdout",
          "text": [
            "guess: o r s aː ɡ\n",
            "truth: o r s aː ɡ\n",
            "\n",
            "Epoch 12: train loss = 0.026211, test loss = 0.040335\n"
          ]
        },
        {
          "output_type": "stream",
          "name": "stderr",
          "text": [
            "0.02:   3%|▎         | 4/125 [00:00<00:13,  9.30it/s]"
          ]
        },
        {
          "output_type": "stream",
          "name": "stdout",
          "text": [
            "\n",
            "\n",
            "input: gyűrűs\n",
            "guess: ɟ r yː ʃ\n",
            "truth: ɟ yː r yː ʃ\n",
            "\n",
            "input: százszorszépek\n",
            "guess: s aː s o r s eː p ɛ k\n",
            "truth: s aː sː o r s eː p ɛ k\n",
            "\n"
          ]
        },
        {
          "output_type": "stream",
          "name": "stderr",
          "text": [
            "0.01:  20%|██        | 25/125 [00:01<00:06, 15.79it/s]"
          ]
        },
        {
          "output_type": "stream",
          "name": "stdout",
          "text": [
            "\n",
            "\n",
            "input: üzleti\n",
            "guess: y z l ɛ t i\n",
            "truth: y z l ɛ t i\n",
            "\n",
            "input: mozira\n",
            "guess: m o z i r ɒ\n",
            "truth: m o z i r ɒ\n",
            "\n"
          ]
        },
        {
          "output_type": "stream",
          "name": "stderr",
          "text": [
            "0.01:  35%|███▌      | 44/125 [00:02<00:04, 16.71it/s]"
          ]
        },
        {
          "output_type": "stream",
          "name": "stdout",
          "text": [
            "\n",
            "\n",
            "input: könnyed\n",
            "guess: k ø ɲ ɛ d\n",
            "truth: k ø ɲː ɛ d\n",
            "\n",
            "input: ötletet\n",
            "guess: ø t l ɛ t ɛ t\n",
            "truth: ø t l ɛ t ɛ t\n",
            "\n"
          ]
        },
        {
          "output_type": "stream",
          "name": "stderr",
          "text": [
            "0.01:  52%|█████▏    | 65/125 [00:03<00:03, 16.32it/s]"
          ]
        },
        {
          "output_type": "stream",
          "name": "stdout",
          "text": [
            "\n",
            "\n",
            "input: értelmezhető\n",
            "guess: eː r t ɛ l m ɛ s ɛ t øː\n",
            "truth: eː r t ɛ l m ɛ s h ɛ t øː\n",
            "\n",
            "input: éltek\n",
            "guess: eː l t ɛ k\n",
            "truth: eː l t ɛ k\n",
            "\n"
          ]
        },
        {
          "output_type": "stream",
          "name": "stderr",
          "text": [
            "0.02:  67%|██████▋   | 84/125 [00:04<00:02, 16.47it/s]"
          ]
        },
        {
          "output_type": "stream",
          "name": "stdout",
          "text": [
            "\n",
            "\n",
            "input: lássad\n",
            "guess: l aː ʃː ɒ d\n",
            "truth: l aː ʃː ɒ d\n",
            "\n",
            "input: gergely\n",
            "guess: ɡ ɛ r ɛ j\n",
            "truth: ɡ ɛ r ɡ ɛ j\n",
            "\n"
          ]
        },
        {
          "output_type": "stream",
          "name": "stderr",
          "text": [
            "0.29:  83%|████████▎ | 104/125 [00:05<00:01, 16.89it/s]"
          ]
        },
        {
          "output_type": "stream",
          "name": "stdout",
          "text": [
            "\n",
            "\n",
            "input: rá\n",
            "guess: r aː\n",
            "truth: r aː\n",
            "\n",
            "input: címe\n",
            "guess: t͡s iː m ɛ\n",
            "truth: t͡s iː m ɛ\n",
            "\n"
          ]
        },
        {
          "output_type": "stream",
          "name": "stderr",
          "text": [
            "0.04: 100%|██████████| 125/125 [00:06<00:00, 18.33it/s]\n"
          ]
        },
        {
          "output_type": "stream",
          "name": "stdout",
          "text": [
            "\n",
            "\n",
            "input: stratégia\n",
            "guess: ʃ t r ɒ t eː ɡ i j ɒ\n",
            "truth: ʃ t r ɒ t eː ɡ i j ɒ\n",
            "\n",
            "input: vezető\n",
            "guess: v ɛ z ɛ t øː\n",
            "truth: v ɛ z ɛ t øː\n",
            "\n"
          ]
        },
        {
          "output_type": "stream",
          "name": "stderr",
          "text": [
            "0.19:   0%|          | 0/16 [00:00<?, ?it/s]"
          ]
        },
        {
          "output_type": "stream",
          "name": "stdout",
          "text": [
            "\n",
            "\n",
            "input: ünnepély\n"
          ]
        },
        {
          "output_type": "stream",
          "name": "stderr",
          "text": [
            "0.02:   6%|▋         | 1/16 [00:00<00:06,  2.35it/s]"
          ]
        },
        {
          "output_type": "stream",
          "name": "stdout",
          "text": [
            "guess: y nː ɛ p eː j\n",
            "truth: y nː ɛ p eː j\n",
            "\n",
            "\n",
            "\n",
            "input: rájön\n"
          ]
        },
        {
          "output_type": "stream",
          "name": "stderr",
          "text": [
            "0.02:  12%|█▎        | 2/16 [00:00<00:05,  2.61it/s]"
          ]
        },
        {
          "output_type": "stream",
          "name": "stdout",
          "text": [
            "guess: r aː j ø n\n",
            "truth: r aː j ø n\n",
            "\n",
            "\n",
            "\n",
            "input: tökéletes\n"
          ]
        },
        {
          "output_type": "stream",
          "name": "stderr",
          "text": [
            "0.01:  19%|█▉        | 3/16 [00:01<00:04,  2.63it/s]"
          ]
        },
        {
          "output_type": "stream",
          "name": "stdout",
          "text": [
            "guess: t ø k eː l ɛ t ɛ ʃ\n",
            "truth: t ø k eː l ɛ t ɛ ʃ\n",
            "\n",
            "\n",
            "\n",
            "input: operatőr\n"
          ]
        },
        {
          "output_type": "stream",
          "name": "stderr",
          "text": [
            "0.01:  25%|██▌       | 4/16 [00:01<00:04,  2.73it/s]"
          ]
        },
        {
          "output_type": "stream",
          "name": "stdout",
          "text": [
            "guess: o p ɛ r ɒ t øː r\n",
            "truth: o p ɛ r ɒ t øː r\n",
            "\n",
            "\n",
            "\n",
            "input: akarna\n"
          ]
        },
        {
          "output_type": "stream",
          "name": "stderr",
          "text": [
            "0.01:  31%|███▏      | 5/16 [00:01<00:04,  2.74it/s]"
          ]
        },
        {
          "output_type": "stream",
          "name": "stdout",
          "text": [
            "guess: ɒ k ɒ r n ɒ\n",
            "truth: ɒ k ɒ r n ɒ\n",
            "\n",
            "\n",
            "\n",
            "input: rendeletet\n"
          ]
        },
        {
          "output_type": "stream",
          "name": "stderr",
          "text": [
            "0.01:  38%|███▊      | 6/16 [00:02<00:03,  2.80it/s]"
          ]
        },
        {
          "output_type": "stream",
          "name": "stdout",
          "text": [
            "guess: r ɛ n d ɛ l ɛ t ɛ t\n",
            "truth: r ɛ n d ɛ l ɛ t ɛ t\n",
            "\n",
            "\n",
            "\n",
            "input: ránézésre\n"
          ]
        },
        {
          "output_type": "stream",
          "name": "stderr",
          "text": [
            "0.07:  44%|████▍     | 7/16 [00:02<00:03,  2.86it/s]"
          ]
        },
        {
          "output_type": "stream",
          "name": "stdout",
          "text": [
            "guess: r aː n eː z eː ʃ r ɛ\n",
            "truth: r aː n eː z eː ʃ r ɛ\n",
            "\n",
            "\n",
            "\n",
            "input: állát\n"
          ]
        },
        {
          "output_type": "stream",
          "name": "stderr",
          "text": [
            "0.11:  50%|█████     | 8/16 [00:02<00:02,  2.85it/s]"
          ]
        },
        {
          "output_type": "stream",
          "name": "stdout",
          "text": [
            "guess: aː lː aː t\n",
            "truth: aː lː aː t\n",
            "\n",
            "\n",
            "\n",
            "input: csökken\n"
          ]
        },
        {
          "output_type": "stream",
          "name": "stderr",
          "text": [
            "0.02:  56%|█████▋    | 9/16 [00:03<00:02,  2.85it/s]"
          ]
        },
        {
          "output_type": "stream",
          "name": "stdout",
          "text": [
            "guess: t͡ʃ ɛ n\n",
            "truth: t͡ʃ ø kː ɛ n\n",
            "\n",
            "\n",
            "\n",
            "input: gúnynév\n"
          ]
        },
        {
          "output_type": "stream",
          "name": "stderr",
          "text": [
            "0.11:  62%|██████▎   | 10/16 [00:03<00:02,  2.86it/s]"
          ]
        },
        {
          "output_type": "stream",
          "name": "stdout",
          "text": [
            "guess: ɡ uː n eː v\n",
            "truth: ɡ uː ɲ n eː v\n",
            "\n",
            "\n",
            "\n",
            "input: tanárnő\n"
          ]
        },
        {
          "output_type": "stream",
          "name": "stderr",
          "text": [
            "0.01:  69%|██████▉   | 11/16 [00:03<00:01,  2.80it/s]"
          ]
        },
        {
          "output_type": "stream",
          "name": "stdout",
          "text": [
            "guess: t ɒ n aː r n øː\n",
            "truth: t ɒ n aː r n øː\n",
            "\n",
            "\n",
            "\n",
            "input: kedvelt\n"
          ]
        },
        {
          "output_type": "stream",
          "name": "stderr",
          "text": [
            "0.02:  75%|███████▌  | 12/16 [00:04<00:01,  2.82it/s]"
          ]
        },
        {
          "output_type": "stream",
          "name": "stdout",
          "text": [
            "guess: k ɛ d ɛ l t\n",
            "truth: k ɛ d v ɛ l t\n",
            "\n",
            "\n",
            "\n",
            "input: beépít\n"
          ]
        },
        {
          "output_type": "stream",
          "name": "stderr",
          "text": [
            "0.01:  81%|████████▏ | 13/16 [00:04<00:01,  2.78it/s]"
          ]
        },
        {
          "output_type": "stream",
          "name": "stdout",
          "text": [
            "guess: b ɛ j eː p iː t\n",
            "truth: b ɛ j eː p iː t\n",
            "\n",
            "\n",
            "\n",
            "input: hangulatú\n"
          ]
        },
        {
          "output_type": "stream",
          "name": "stderr",
          "text": [
            "0.02:  88%|████████▊ | 14/16 [00:05<00:00,  2.79it/s]"
          ]
        },
        {
          "output_type": "stream",
          "name": "stdout",
          "text": [
            "guess: h ɒ ŋ ɒ t uː\n",
            "truth: h ɒ ŋ ɡ u l ɒ t uː\n",
            "\n",
            "\n",
            "\n",
            "input: kérdésére\n"
          ]
        },
        {
          "output_type": "stream",
          "name": "stderr",
          "text": [
            "0.05: 100%|██████████| 16/16 [00:05<00:00,  3.24it/s]"
          ]
        },
        {
          "output_type": "stream",
          "name": "stdout",
          "text": [
            "guess: k eː r d eː ʃ eː r ɛ\n",
            "truth: k eː r d eː ʃ eː r ɛ\n",
            "\n",
            "\n",
            "\n",
            "input: romlott\n",
            "guess: r o m l o tː\n",
            "truth: r o m l o tː\n",
            "\n"
          ]
        },
        {
          "output_type": "stream",
          "name": "stderr",
          "text": [
            "\r0.05: 100%|██████████| 16/16 [00:05<00:00,  2.84it/s]\n"
          ]
        },
        {
          "output_type": "stream",
          "name": "stdout",
          "text": [
            "Epoch 13: train loss = 0.023868, test loss = 0.043339\n"
          ]
        },
        {
          "output_type": "stream",
          "name": "stderr",
          "text": [
            "0.01:   3%|▎         | 4/125 [00:00<00:14,  8.62it/s]"
          ]
        },
        {
          "output_type": "stream",
          "name": "stdout",
          "text": [
            "\n",
            "\n",
            "input: eszerint\n",
            "guess: ɛ s ɛ r i n t\n",
            "truth: ɛ s ɛ r i n t\n",
            "\n",
            "input: spanyol\n",
            "guess: ʃ ɒ ɲ o l\n",
            "truth: ʃ p ɒ ɲ o l\n",
            "\n"
          ]
        },
        {
          "output_type": "stream",
          "name": "stderr",
          "text": [
            "0.01:  21%|██        | 26/125 [00:01<00:05, 16.51it/s]"
          ]
        },
        {
          "output_type": "stream",
          "name": "stdout",
          "text": [
            "\n",
            "\n",
            "input: állva\n",
            "guess: aː l v ɒ\n",
            "truth: aː l v ɒ\n",
            "\n",
            "input: összeállítás\n",
            "guess: ø sː ɛ aː lː iː t aː ʃ\n",
            "truth: ø sː ɛ aː lː iː t aː ʃ\n",
            "\n"
          ]
        },
        {
          "output_type": "stream",
          "name": "stderr",
          "text": [
            "0.02:  35%|███▌      | 44/125 [00:02<00:04, 16.45it/s]"
          ]
        },
        {
          "output_type": "stream",
          "name": "stdout",
          "text": [
            "\n",
            "\n",
            "input: szabad\n",
            "guess: s ɒ b ɒ d\n",
            "truth: s ɒ b ɒ d\n",
            "\n",
            "input: multi\n",
            "guess: m u l i\n",
            "truth: m u l t i\n",
            "\n"
          ]
        },
        {
          "output_type": "stream",
          "name": "stderr",
          "text": [
            "0.01:  50%|█████     | 63/125 [00:03<00:04, 13.43it/s]"
          ]
        },
        {
          "output_type": "stream",
          "name": "stdout",
          "text": [
            "\n",
            "\n",
            "input: bemutatni\n",
            "guess: b ɛ m u t ɒ t n i\n",
            "truth: b ɛ m u t ɒ t n i\n",
            "\n",
            "input: jogászok\n",
            "guess: j o ɡ aː s o k\n",
            "truth: j o ɡ aː s o k\n",
            "\n"
          ]
        },
        {
          "output_type": "stream",
          "name": "stderr",
          "text": [
            "0.02:  68%|██████▊   | 85/125 [00:04<00:02, 16.29it/s]"
          ]
        },
        {
          "output_type": "stream",
          "name": "stdout",
          "text": [
            "\n",
            "\n",
            "input: járták\n",
            "guess: j aː r t aː k\n",
            "truth: j aː r t aː k\n",
            "\n",
            "input: kötelező\n",
            "guess: k ø t ɛ l ɛ z øː\n",
            "truth: k ø t ɛ l ɛ z øː\n",
            "\n"
          ]
        },
        {
          "output_type": "stream",
          "name": "stderr",
          "text": [
            "0.02:  82%|████████▏ | 103/125 [00:05<00:01, 14.06it/s]"
          ]
        },
        {
          "output_type": "stream",
          "name": "stdout",
          "text": [
            "\n",
            "\n",
            "input: szövetség\n",
            "guess: s ø v ɛ t͡ʃː eː ɡ\n",
            "truth: s ø v ɛ t͡ʃː eː ɡ\n",
            "\n",
            "input: tudtommal\n",
            "guess: t u t o mː ɒ l\n",
            "truth: t u tː o mː ɒ l\n",
            "\n"
          ]
        },
        {
          "output_type": "stream",
          "name": "stderr",
          "text": [
            "0.01: 100%|██████████| 125/125 [00:06<00:00, 18.14it/s]\n"
          ]
        },
        {
          "output_type": "stream",
          "name": "stdout",
          "text": [
            "\n",
            "\n",
            "input: egyetemi\n",
            "guess: ɛ ɟː ɛ t ɛ m i\n",
            "truth: ɛ ɟ ɛ t ɛ m i\n",
            "\n",
            "input: értéket\n",
            "guess: eː r t eː k ɛ t\n",
            "truth: eː r t eː k ɛ t\n",
            "\n"
          ]
        },
        {
          "output_type": "stream",
          "name": "stderr",
          "text": [
            "0.00:   0%|          | 0/16 [00:00<?, ?it/s]"
          ]
        },
        {
          "output_type": "stream",
          "name": "stdout",
          "text": [
            "\n",
            "\n",
            "input: stílus\n"
          ]
        },
        {
          "output_type": "stream",
          "name": "stderr",
          "text": [
            "0.01:   6%|▋         | 1/16 [00:00<00:06,  2.31it/s]"
          ]
        },
        {
          "output_type": "stream",
          "name": "stdout",
          "text": [
            "guess: ʃ t iː l u ʃ\n",
            "truth: ʃ t iː l u ʃ\n",
            "\n",
            "\n",
            "\n",
            "input: ott\n"
          ]
        },
        {
          "output_type": "stream",
          "name": "stderr",
          "text": [
            "0.02:  12%|█▎        | 2/16 [00:00<00:05,  2.52it/s]"
          ]
        },
        {
          "output_type": "stream",
          "name": "stdout",
          "text": [
            "guess: o tː\n",
            "truth: o tː\n",
            "\n",
            "\n",
            "\n",
            "input: fogyasztás\n"
          ]
        },
        {
          "output_type": "stream",
          "name": "stderr",
          "text": [
            "0.02:  19%|█▉        | 3/16 [00:01<00:04,  2.69it/s]"
          ]
        },
        {
          "output_type": "stream",
          "name": "stdout",
          "text": [
            "guess: f o ɟ ɒ s t aː ʃ\n",
            "truth: f o ɟ ɒ s t aː ʃ\n",
            "\n",
            "\n",
            "\n",
            "input: partnert\n"
          ]
        },
        {
          "output_type": "stream",
          "name": "stderr",
          "text": [
            "0.01:  25%|██▌       | 4/16 [00:01<00:04,  2.75it/s]"
          ]
        },
        {
          "output_type": "stream",
          "name": "stdout",
          "text": [
            "guess: p ɒ r t n ɛ r t\n",
            "truth: p ɒ r t n ɛ r t\n",
            "\n",
            "\n",
            "\n",
            "input: kik\n"
          ]
        },
        {
          "output_type": "stream",
          "name": "stderr",
          "text": [
            "0.02:  31%|███▏      | 5/16 [00:01<00:03,  2.80it/s]"
          ]
        },
        {
          "output_type": "stream",
          "name": "stdout",
          "text": [
            "guess: k i k\n",
            "truth: k i k\n",
            "\n",
            "\n",
            "\n",
            "input: csillogó\n"
          ]
        },
        {
          "output_type": "stream",
          "name": "stderr",
          "text": [
            "0.12:  38%|███▊      | 6/16 [00:02<00:03,  2.81it/s]"
          ]
        },
        {
          "output_type": "stream",
          "name": "stdout",
          "text": [
            "guess: t͡ʃ i\n",
            "truth: t͡ʃ i lː o ɡ oː\n",
            "\n",
            "\n",
            "\n",
            "input: tárolása\n"
          ]
        },
        {
          "output_type": "stream",
          "name": "stderr",
          "text": [
            "0.01:  44%|████▍     | 7/16 [00:02<00:03,  2.82it/s]"
          ]
        },
        {
          "output_type": "stream",
          "name": "stdout",
          "text": [
            "guess: t aː r o l aː ʃ ɒ\n",
            "truth: t aː r o l aː ʃ ɒ\n",
            "\n",
            "\n",
            "\n",
            "input: tartalmaz\n"
          ]
        },
        {
          "output_type": "stream",
          "name": "stderr",
          "text": [
            "0.02:  50%|█████     | 8/16 [00:02<00:02,  2.78it/s]"
          ]
        },
        {
          "output_type": "stream",
          "name": "stdout",
          "text": [
            "guess: t ɒ r t ɒ l m ɒ z\n",
            "truth: t ɒ r t ɒ l m ɒ z\n",
            "\n",
            "\n",
            "\n",
            "input: honlapok\n"
          ]
        },
        {
          "output_type": "stream",
          "name": "stderr",
          "text": [
            "0.04:  56%|█████▋    | 9/16 [00:03<00:02,  2.78it/s]"
          ]
        },
        {
          "output_type": "stream",
          "name": "stdout",
          "text": [
            "guess: h o n l ɒ p o k\n",
            "truth: h o n l ɒ p o k\n",
            "\n",
            "\n",
            "\n",
            "input: sajnos\n"
          ]
        },
        {
          "output_type": "stream",
          "name": "stderr",
          "text": [
            "0.07:  62%|██████▎   | 10/16 [00:03<00:02,  2.83it/s]"
          ]
        },
        {
          "output_type": "stream",
          "name": "stdout",
          "text": [
            "guess: ʃ ɒ j n o ʃ\n",
            "truth: ʃ ɒ j n o ʃ\n",
            "\n",
            "\n",
            "\n",
            "input: legégetőbb\n"
          ]
        },
        {
          "output_type": "stream",
          "name": "stderr",
          "text": [
            "0.01:  69%|██████▉   | 11/16 [00:04<00:01,  2.79it/s]"
          ]
        },
        {
          "output_type": "stream",
          "name": "stdout",
          "text": [
            "guess: l ɛ ɡ eː ɡ ɛ t øː bː\n",
            "truth: l ɛ ɡ eː ɡ ɛ t øː bː\n",
            "\n",
            "\n",
            "\n",
            "input: kiegyensúlyozott\n"
          ]
        },
        {
          "output_type": "stream",
          "name": "stderr",
          "text": [
            "0.17:  75%|███████▌  | 12/16 [00:04<00:01,  2.79it/s]"
          ]
        },
        {
          "output_type": "stream",
          "name": "stdout",
          "text": [
            "guess: k i j ɛ ɟ ɛ n ʃ uː j o z o tː\n",
            "truth: k i j ɛ ɟ ɛ n ʃ uː j o z o tː\n",
            "\n",
            "\n",
            "\n",
            "input: közel\n"
          ]
        },
        {
          "output_type": "stream",
          "name": "stderr",
          "text": [
            "0.01:  81%|████████▏ | 13/16 [00:04<00:01,  2.82it/s]"
          ]
        },
        {
          "output_type": "stream",
          "name": "stdout",
          "text": [
            "guess: k ø z ɛ l\n",
            "truth: k ø z ɛ l\n",
            "\n",
            "\n",
            "\n",
            "input: alkotás\n"
          ]
        },
        {
          "output_type": "stream",
          "name": "stderr",
          "text": [
            "0.11:  88%|████████▊ | 14/16 [00:05<00:00,  2.84it/s]"
          ]
        },
        {
          "output_type": "stream",
          "name": "stdout",
          "text": [
            "guess: ɒ l o t aː ʃ\n",
            "truth: ɒ l k o t aː ʃ\n",
            "\n",
            "\n",
            "\n",
            "input: ensz\n"
          ]
        },
        {
          "output_type": "stream",
          "name": "stderr",
          "text": [
            "0.01:  94%|█████████▍| 15/16 [00:05<00:00,  2.89it/s]"
          ]
        },
        {
          "output_type": "stream",
          "name": "stdout",
          "text": [
            "guess: ɛ n\n",
            "truth: ɛ n s\n",
            "\n",
            "\n",
            "\n",
            "input: tárolására\n"
          ]
        },
        {
          "output_type": "stream",
          "name": "stderr",
          "text": [
            "0.01: 100%|██████████| 16/16 [00:05<00:00,  2.81it/s]\n"
          ]
        },
        {
          "output_type": "stream",
          "name": "stdout",
          "text": [
            "guess: t aː r o l aː ʃ aː r ɒ\n",
            "truth: t aː r o l aː ʃ aː r ɒ\n",
            "\n",
            "Epoch 14: train loss = 0.020570, test loss = 0.040804\n"
          ]
        },
        {
          "output_type": "stream",
          "name": "stderr",
          "text": [
            "0.01:   3%|▎         | 4/125 [00:00<00:12,  9.35it/s]"
          ]
        },
        {
          "output_type": "stream",
          "name": "stdout",
          "text": [
            "\n",
            "\n",
            "input: ívek\n",
            "guess: iː v ɛ k\n",
            "truth: iː v ɛ k\n",
            "\n",
            "input: fáradt\n",
            "guess: f aː r ɒ tː\n",
            "truth: f aː r ɒ tː\n",
            "\n"
          ]
        },
        {
          "output_type": "stream",
          "name": "stderr",
          "text": [
            "0.01:  20%|██        | 25/125 [00:01<00:06, 16.09it/s]"
          ]
        },
        {
          "output_type": "stream",
          "name": "stdout",
          "text": [
            "\n",
            "\n",
            "input: milliárdosok\n",
            "guess: m i j aː r d o ʃ o k\n",
            "truth: m i lː i j aː r d o ʃ o k\n",
            "\n",
            "input: kezes\n",
            "guess: k ɛ z ɛ ʃ\n",
            "truth: k ɛ z ɛ ʃ\n",
            "\n"
          ]
        },
        {
          "output_type": "stream",
          "name": "stderr",
          "text": [
            "0.01:  37%|███▋      | 46/125 [00:02<00:04, 16.57it/s]"
          ]
        },
        {
          "output_type": "stream",
          "name": "stdout",
          "text": [
            "\n",
            "\n",
            "input: jelentősen\n",
            "guess: j ɛ l ɛ n t øː ʃ ɛ n\n",
            "truth: j ɛ l ɛ n t øː ʃ ɛ n\n",
            "\n",
            "input: költség\n",
            "guess: k ø l eː ɡ\n",
            "truth: k ø l t͡ʃ eː ɡ\n",
            "\n"
          ]
        },
        {
          "output_type": "stream",
          "name": "stderr",
          "text": [
            "0.01:  51%|█████     | 64/125 [00:03<00:03, 16.03it/s]"
          ]
        },
        {
          "output_type": "stream",
          "name": "stdout",
          "text": [
            "\n",
            "\n",
            "input: hozott\n",
            "guess: h o z o tː\n",
            "truth: h o z o tː\n",
            "\n",
            "input: törvénye\n",
            "guess: t ø r v eː ɲ ɛ\n",
            "truth: t ø r v eː ɲ ɛ\n",
            "\n"
          ]
        },
        {
          "output_type": "stream",
          "name": "stderr",
          "text": [
            "0.01:  68%|██████▊   | 85/125 [00:04<00:02, 16.57it/s]"
          ]
        },
        {
          "output_type": "stream",
          "name": "stdout",
          "text": [
            "\n",
            "\n",
            "input: vállalkozók\n",
            "guess: v aː lː ɒ l k o z oː k\n",
            "truth: v aː lː ɒ l k o z oː k\n",
            "\n",
            "input: valakinél\n",
            "guess: v ɒ l ɒ k i n eː l\n",
            "truth: v ɒ l ɒ k i n eː l\n",
            "\n"
          ]
        },
        {
          "output_type": "stream",
          "name": "stderr",
          "text": [
            "0.01:  85%|████████▍ | 106/125 [00:05<00:01, 16.29it/s]"
          ]
        },
        {
          "output_type": "stream",
          "name": "stdout",
          "text": [
            "\n",
            "\n",
            "input: jósol\n",
            "guess: j oː ʃ o l\n",
            "truth: j oː ʃ o l\n",
            "\n",
            "input: használják\n",
            "guess: h ɒ s n aː jː aː k\n",
            "truth: h ɒ s n aː jː aː k\n",
            "\n"
          ]
        },
        {
          "output_type": "stream",
          "name": "stderr",
          "text": [
            "0.00:  99%|█████████▉| 124/125 [00:06<00:00, 15.97it/s]"
          ]
        },
        {
          "output_type": "stream",
          "name": "stdout",
          "text": [
            "\n",
            "\n",
            "input: vásár\n",
            "guess: v aː ʃ aː r\n",
            "truth: v aː ʃ aː r\n",
            "\n",
            "input: keresztüli\n",
            "guess: k ɛ r ɛ s y l i\n",
            "truth: k ɛ r ɛ s t y l i\n",
            "\n"
          ]
        },
        {
          "output_type": "stream",
          "name": "stderr",
          "text": [
            "0.00: 100%|██████████| 125/125 [00:06<00:00, 17.99it/s]\n",
            "0.15:   0%|          | 0/16 [00:00<?, ?it/s]"
          ]
        },
        {
          "output_type": "stream",
          "name": "stdout",
          "text": [
            "\n",
            "\n",
            "input: exkluzív\n"
          ]
        },
        {
          "output_type": "stream",
          "name": "stderr",
          "text": [
            "0.01:   6%|▋         | 1/16 [00:00<00:05,  2.65it/s]"
          ]
        },
        {
          "output_type": "stream",
          "name": "stdout",
          "text": [
            "guess: ɛ k s u z iː v\n",
            "truth: ɛ k s k l u z iː v\n",
            "\n",
            "\n",
            "\n",
            "input: kézikönyv\n"
          ]
        },
        {
          "output_type": "stream",
          "name": "stderr",
          "text": [
            "0.11:  12%|█▎        | 2/16 [00:00<00:05,  2.76it/s]"
          ]
        },
        {
          "output_type": "stream",
          "name": "stdout",
          "text": [
            "guess: k eː z i k ø ɲ\n",
            "truth: k eː z i k ø ɲ v\n",
            "\n",
            "\n",
            "\n",
            "input: egészségügyi\n"
          ]
        },
        {
          "output_type": "stream",
          "name": "stderr",
          "text": [
            "0.00:  19%|█▉        | 3/16 [00:01<00:04,  2.72it/s]"
          ]
        },
        {
          "output_type": "stream",
          "name": "stdout",
          "text": [
            "guess: ɛ ɡ eː ʃː eː ɡ y ɟ i\n",
            "truth: ɛ ɡ eː ʃː eː ɡ y ɟ i\n",
            "\n",
            "\n",
            "\n",
            "input: rajtuk\n"
          ]
        },
        {
          "output_type": "stream",
          "name": "stderr",
          "text": [
            "0.01:  25%|██▌       | 4/16 [00:01<00:04,  2.86it/s]"
          ]
        },
        {
          "output_type": "stream",
          "name": "stdout",
          "text": [
            "guess: r ɒ j u k\n",
            "truth: r ɒ j t u k\n",
            "\n",
            "\n",
            "\n",
            "input: távközlési\n"
          ]
        },
        {
          "output_type": "stream",
          "name": "stderr",
          "text": [
            "0.05:  31%|███▏      | 5/16 [00:01<00:03,  2.84it/s]"
          ]
        },
        {
          "output_type": "stream",
          "name": "stdout",
          "text": [
            "guess: t aː f eː ʃ i\n",
            "truth: t aː f k ø z l eː ʃ i\n",
            "\n",
            "\n",
            "\n",
            "input: regionális\n"
          ]
        },
        {
          "output_type": "stream",
          "name": "stderr",
          "text": [
            "0.16:  38%|███▊      | 6/16 [00:02<00:03,  2.77it/s]"
          ]
        },
        {
          "output_type": "stream",
          "name": "stdout",
          "text": [
            "guess: r ɛ ɡ i j o n aː l i ʃ\n",
            "truth: r ɛ ɡ i j o n aː l i ʃ\n",
            "\n",
            "\n",
            "\n",
            "input: iskola\n"
          ]
        },
        {
          "output_type": "stream",
          "name": "stderr",
          "text": [
            "0.01:  44%|████▍     | 7/16 [00:02<00:03,  2.83it/s]"
          ]
        },
        {
          "output_type": "stream",
          "name": "stdout",
          "text": [
            "guess: i ʃ o l ɒ\n",
            "truth: i ʃ k o l ɒ\n",
            "\n",
            "\n",
            "\n",
            "input: akaró\n"
          ]
        },
        {
          "output_type": "stream",
          "name": "stderr",
          "text": [
            "0.03:  50%|█████     | 8/16 [00:02<00:02,  2.86it/s]"
          ]
        },
        {
          "output_type": "stream",
          "name": "stdout",
          "text": [
            "guess: ɒ k ɒ r oː\n",
            "truth: ɒ k ɒ r oː\n",
            "\n",
            "\n",
            "\n",
            "input: dolgokra\n"
          ]
        },
        {
          "output_type": "stream",
          "name": "stderr",
          "text": [
            "0.03:  56%|█████▋    | 9/16 [00:03<00:02,  2.88it/s]"
          ]
        },
        {
          "output_type": "stream",
          "name": "stdout",
          "text": [
            "guess: d o l o k r ɒ\n",
            "truth: d o l ɡ o k r ɒ\n",
            "\n",
            "\n",
            "\n",
            "input: szintre\n"
          ]
        },
        {
          "output_type": "stream",
          "name": "stderr",
          "text": [
            "0.02:  62%|██████▎   | 10/16 [00:03<00:02,  2.91it/s]"
          ]
        },
        {
          "output_type": "stream",
          "name": "stdout",
          "text": [
            "guess: s i n t r ɛ\n",
            "truth: s i n t r ɛ\n",
            "\n",
            "\n",
            "\n",
            "input: tudósok\n"
          ]
        },
        {
          "output_type": "stream",
          "name": "stderr",
          "text": [
            "0.03:  69%|██████▉   | 11/16 [00:03<00:01,  2.82it/s]"
          ]
        },
        {
          "output_type": "stream",
          "name": "stdout",
          "text": [
            "guess: t u d oː ʃ o k\n",
            "truth: t u d oː ʃ o k\n",
            "\n",
            "\n",
            "\n",
            "input: hagyományos\n"
          ]
        },
        {
          "output_type": "stream",
          "name": "stderr",
          "text": [
            "0.00:  75%|███████▌  | 12/16 [00:04<00:01,  2.83it/s]"
          ]
        },
        {
          "output_type": "stream",
          "name": "stdout",
          "text": [
            "guess: h ɒ ɟ o m aː ɲ o ʃ\n",
            "truth: h ɒ ɟ o m aː ɲ o ʃ\n",
            "\n",
            "\n",
            "\n",
            "input: készít\n"
          ]
        },
        {
          "output_type": "stream",
          "name": "stderr",
          "text": [
            "0.00:  81%|████████▏ | 13/16 [00:04<00:01,  2.86it/s]"
          ]
        },
        {
          "output_type": "stream",
          "name": "stdout",
          "text": [
            "guess: k eː s iː t\n",
            "truth: k eː s iː t\n",
            "\n",
            "\n",
            "\n",
            "input: kétmillió\n"
          ]
        },
        {
          "output_type": "stream",
          "name": "stderr",
          "text": [
            "0.01:  88%|████████▊ | 14/16 [00:05<00:00,  2.73it/s]"
          ]
        },
        {
          "output_type": "stream",
          "name": "stdout",
          "text": [
            "guess: k eː t m i l i j oː\n",
            "truth: k eː t m i l i j oː\n",
            "\n",
            "\n",
            "\n",
            "input: terméke\n"
          ]
        },
        {
          "output_type": "stream",
          "name": "stderr",
          "text": [
            "0.01:  94%|█████████▍| 15/16 [00:05<00:00,  2.75it/s]"
          ]
        },
        {
          "output_type": "stream",
          "name": "stdout",
          "text": [
            "guess: t ɛ r eː k ɛ\n",
            "truth: t ɛ r m eː k ɛ\n",
            "\n",
            "\n",
            "\n",
            "input: kép\n"
          ]
        },
        {
          "output_type": "stream",
          "name": "stderr",
          "text": [
            "0.01: 100%|██████████| 16/16 [00:05<00:00,  2.84it/s]\n"
          ]
        },
        {
          "output_type": "stream",
          "name": "stdout",
          "text": [
            "guess: k eː p\n",
            "truth: k eː p\n",
            "\n",
            "Epoch 15: train loss = 0.018400, test loss = 0.040462\n"
          ]
        },
        {
          "output_type": "stream",
          "name": "stderr",
          "text": [
            "0.01:   3%|▎         | 4/125 [00:00<00:13,  8.88it/s]"
          ]
        },
        {
          "output_type": "stream",
          "name": "stdout",
          "text": [
            "\n",
            "\n",
            "input: üzenete\n",
            "guess: y z ɛ n ɛ t ɛ\n",
            "truth: y z ɛ n ɛ t ɛ\n",
            "\n",
            "input: vérnyomás\n",
            "guess: v eː r o m aː ʃ\n",
            "truth: v eː r ɲ o m aː ʃ\n",
            "\n"
          ]
        },
        {
          "output_type": "stream",
          "name": "stderr",
          "text": [
            "0.01:  20%|██        | 25/125 [00:01<00:06, 15.63it/s]"
          ]
        },
        {
          "output_type": "stream",
          "name": "stdout",
          "text": [
            "\n",
            "\n",
            "input: stílusa\n",
            "guess: ʃ t iː l u ʃ ɒ\n",
            "truth: ʃ t iː l u ʃ ɒ\n",
            "\n",
            "input: multi\n",
            "guess: m u l t i\n",
            "truth: m u l t i\n",
            "\n"
          ]
        },
        {
          "output_type": "stream",
          "name": "stderr",
          "text": [
            "0.01:  37%|███▋      | 46/125 [00:02<00:04, 16.17it/s]"
          ]
        },
        {
          "output_type": "stream",
          "name": "stdout",
          "text": [
            "\n",
            "\n",
            "input: nevezetesen\n",
            "guess: n ɛ v ɛ z ɛ t ɛ ʃ ɛ n\n",
            "truth: n ɛ v ɛ z ɛ t ɛ ʃ ɛ n\n",
            "\n",
            "input: életemben\n",
            "guess: eː l ɛ t ɛ m ɛ n\n",
            "truth: eː l ɛ t ɛ m b ɛ n\n",
            "\n"
          ]
        },
        {
          "output_type": "stream",
          "name": "stderr",
          "text": [
            "0.04:  52%|█████▏    | 65/125 [00:03<00:03, 17.00it/s]"
          ]
        },
        {
          "output_type": "stream",
          "name": "stdout",
          "text": [
            "\n",
            "\n",
            "input: mentünk\n",
            "guess: m ɛ n y ŋ k\n",
            "truth: m ɛ n t y ŋ k\n",
            "\n",
            "input: hasznára\n",
            "guess: h ɒ s n aː r ɒ\n",
            "truth: h ɒ s n aː r ɒ\n",
            "\n"
          ]
        },
        {
          "output_type": "stream",
          "name": "stderr",
          "text": [
            "0.01:  66%|██████▋   | 83/125 [00:04<00:02, 14.68it/s]"
          ]
        },
        {
          "output_type": "stream",
          "name": "stdout",
          "text": [
            "\n",
            "\n",
            "input: dupla\n",
            "guess: d u l ɒ\n",
            "truth: d u p l ɒ\n",
            "\n",
            "input: egyszerűen\n",
            "guess: ɛ c ɛ r ɛ n\n",
            "truth: ɛ c s ɛ r yː ɛ n\n",
            "\n"
          ]
        },
        {
          "output_type": "stream",
          "name": "stderr",
          "text": [
            "0.03:  85%|████████▍ | 106/125 [00:05<00:01, 17.07it/s]"
          ]
        },
        {
          "output_type": "stream",
          "name": "stdout",
          "text": [
            "\n",
            "\n",
            "input: tagú\n",
            "guess: t ɒ ɡ uː\n",
            "truth: t ɒ ɡ uː\n",
            "\n",
            "input: is\n",
            "guess: i ʃ\n",
            "truth: i ʃ\n",
            "\n"
          ]
        },
        {
          "output_type": "stream",
          "name": "stderr",
          "text": [
            "0.01: 100%|██████████| 125/125 [00:06<00:00, 18.13it/s]\n"
          ]
        },
        {
          "output_type": "stream",
          "name": "stdout",
          "text": [
            "\n",
            "\n",
            "input: tervez\n",
            "guess: t ɛ r v ɛ z\n",
            "truth: t ɛ r v ɛ z\n",
            "\n",
            "input: tervet\n",
            "guess: t ɛ r v ɛ t\n",
            "truth: t ɛ r v ɛ t\n",
            "\n"
          ]
        },
        {
          "output_type": "stream",
          "name": "stderr",
          "text": [
            "0.11:   0%|          | 0/16 [00:00<?, ?it/s]"
          ]
        },
        {
          "output_type": "stream",
          "name": "stdout",
          "text": [
            "\n",
            "\n",
            "input: fedezet\n"
          ]
        },
        {
          "output_type": "stream",
          "name": "stderr",
          "text": [
            "0.16:   6%|▋         | 1/16 [00:00<00:06,  2.48it/s]"
          ]
        },
        {
          "output_type": "stream",
          "name": "stdout",
          "text": [
            "guess: f ɛ d ɛ z ɛ t\n",
            "truth: f ɛ d ɛ z ɛ t\n",
            "\n",
            "\n",
            "\n",
            "input: vidd\n"
          ]
        },
        {
          "output_type": "stream",
          "name": "stderr",
          "text": [
            "0.02:  12%|█▎        | 2/16 [00:00<00:05,  2.67it/s]"
          ]
        },
        {
          "output_type": "stream",
          "name": "stdout",
          "text": [
            "guess: v i\n",
            "truth: v i dː\n",
            "\n",
            "\n",
            "\n",
            "input: felmerül\n"
          ]
        },
        {
          "output_type": "stream",
          "name": "stderr",
          "text": [
            "0.02:  19%|█▉        | 3/16 [00:01<00:04,  2.70it/s]"
          ]
        },
        {
          "output_type": "stream",
          "name": "stdout",
          "text": [
            "guess: f ɛ l ɛ r y l\n",
            "truth: f ɛ l m ɛ r y l\n",
            "\n",
            "\n",
            "\n",
            "input: mosogató\n"
          ]
        },
        {
          "output_type": "stream",
          "name": "stderr",
          "text": [
            "0.00:  25%|██▌       | 4/16 [00:01<00:04,  2.73it/s]"
          ]
        },
        {
          "output_type": "stream",
          "name": "stdout",
          "text": [
            "guess: m o ʃ o ɡ ɒ t oː\n",
            "truth: m o ʃ o ɡ ɒ t oː\n",
            "\n",
            "\n",
            "\n",
            "input: vinni\n"
          ]
        },
        {
          "output_type": "stream",
          "name": "stderr",
          "text": [
            "0.01:  31%|███▏      | 5/16 [00:01<00:04,  2.72it/s]"
          ]
        },
        {
          "output_type": "stream",
          "name": "stdout",
          "text": [
            "guess: v i n i\n",
            "truth: v i nː i\n",
            "\n",
            "\n",
            "\n",
            "input: anyai\n"
          ]
        },
        {
          "output_type": "stream",
          "name": "stderr",
          "text": [
            "0.01:  38%|███▊      | 6/16 [00:02<00:03,  2.78it/s]"
          ]
        },
        {
          "output_type": "stream",
          "name": "stdout",
          "text": [
            "guess: ɒ ɲ ɒ j i\n",
            "truth: ɒ ɲ ɒ j i\n",
            "\n",
            "\n",
            "\n",
            "input: közelről\n"
          ]
        },
        {
          "output_type": "stream",
          "name": "stderr",
          "text": [
            "0.01:  44%|████▍     | 7/16 [00:02<00:03,  2.87it/s]"
          ]
        },
        {
          "output_type": "stream",
          "name": "stdout",
          "text": [
            "guess: k ø z ɛ rː øː l\n",
            "truth: k ø z ɛ rː øː l\n",
            "\n",
            "\n",
            "\n",
            "input: erőszakos\n"
          ]
        },
        {
          "output_type": "stream",
          "name": "stderr",
          "text": [
            "0.03:  50%|█████     | 8/16 [00:02<00:02,  2.80it/s]"
          ]
        },
        {
          "output_type": "stream",
          "name": "stdout",
          "text": [
            "guess: ɛ r øː s ɒ k o ʃ\n",
            "truth: ɛ r øː s ɒ k o ʃ\n",
            "\n",
            "\n",
            "\n",
            "input: minta\n"
          ]
        },
        {
          "output_type": "stream",
          "name": "stderr",
          "text": [
            "0.01:  56%|█████▋    | 9/16 [00:03<00:02,  2.85it/s]"
          ]
        },
        {
          "output_type": "stream",
          "name": "stdout",
          "text": [
            "guess: m i n t ɒ\n",
            "truth: m i n t ɒ\n",
            "\n",
            "\n",
            "\n",
            "input: örökség\n"
          ]
        },
        {
          "output_type": "stream",
          "name": "stderr",
          "text": [
            "0.01:  62%|██████▎   | 10/16 [00:03<00:02,  2.83it/s]"
          ]
        },
        {
          "output_type": "stream",
          "name": "stdout",
          "text": [
            "guess: ø r ø k eː ɡ\n",
            "truth: ø r ø k ʃ eː ɡ\n",
            "\n",
            "\n",
            "\n",
            "input: meghatározni\n"
          ]
        },
        {
          "output_type": "stream",
          "name": "stderr",
          "text": [
            "0.11:  69%|██████▉   | 11/16 [00:03<00:01,  2.81it/s]"
          ]
        },
        {
          "output_type": "stream",
          "name": "stdout",
          "text": [
            "guess: m ɛ k h ɒ t aː r o z n i\n",
            "truth: m ɛ k h ɒ t aː r o z n i\n",
            "\n",
            "\n",
            "\n",
            "input: stílusban\n"
          ]
        },
        {
          "output_type": "stream",
          "name": "stderr",
          "text": [
            "0.00:  75%|███████▌  | 12/16 [00:04<00:01,  2.83it/s]"
          ]
        },
        {
          "output_type": "stream",
          "name": "stdout",
          "text": [
            "guess: ʃ t iː l u ʒ b ɒ n\n",
            "truth: ʃ t iː l u ʒ b ɒ n\n",
            "\n",
            "\n",
            "\n",
            "input: nehézkes\n"
          ]
        },
        {
          "output_type": "stream",
          "name": "stderr",
          "text": [
            "0.01:  81%|████████▏ | 13/16 [00:04<00:01,  2.84it/s]"
          ]
        },
        {
          "output_type": "stream",
          "name": "stdout",
          "text": [
            "guess: n ɛ ɦ eː s ɛ ʃ\n",
            "truth: n ɛ ɦ eː s k ɛ ʃ\n",
            "\n",
            "\n",
            "\n",
            "input: fázik\n"
          ]
        },
        {
          "output_type": "stream",
          "name": "stderr",
          "text": [
            "0.08:  88%|████████▊ | 14/16 [00:05<00:00,  2.83it/s]"
          ]
        },
        {
          "output_type": "stream",
          "name": "stdout",
          "text": [
            "guess: f aː z i k\n",
            "truth: f aː z i k\n",
            "\n",
            "\n",
            "\n",
            "input: honlapok\n"
          ]
        },
        {
          "output_type": "stream",
          "name": "stderr",
          "text": [
            "0.05:  94%|█████████▍| 15/16 [00:05<00:00,  2.83it/s]"
          ]
        },
        {
          "output_type": "stream",
          "name": "stdout",
          "text": [
            "guess: h o n ɒ p o k\n",
            "truth: h o n l ɒ p o k\n",
            "\n",
            "\n",
            "\n",
            "input: rövidítések\n"
          ]
        },
        {
          "output_type": "stream",
          "name": "stderr",
          "text": [
            "0.05: 100%|██████████| 16/16 [00:05<00:00,  2.83it/s]\n"
          ]
        },
        {
          "output_type": "stream",
          "name": "stdout",
          "text": [
            "guess: r ø v i d iː t eː ʃ ɛ k\n",
            "truth: r ø v i d iː t eː ʃ ɛ k\n",
            "\n",
            "Epoch 16: train loss = 0.015796, test loss = 0.039952\n"
          ]
        },
        {
          "output_type": "stream",
          "name": "stderr",
          "text": [
            "0.04:   3%|▎         | 4/125 [00:00<00:14,  8.21it/s]"
          ]
        },
        {
          "output_type": "stream",
          "name": "stdout",
          "text": [
            "\n",
            "\n",
            "input: barátnő\n",
            "guess: b ɒ r aː t n øː\n",
            "truth: b ɒ r aː t n øː\n",
            "\n",
            "input: tartsuk\n",
            "guess: t ɒ r u k\n",
            "truth: t ɒ r t͡ʃ u k\n",
            "\n"
          ]
        },
        {
          "output_type": "stream",
          "name": "stderr",
          "text": [
            "0.01:  21%|██        | 26/125 [00:01<00:06, 15.43it/s]"
          ]
        },
        {
          "output_type": "stream",
          "name": "stdout",
          "text": [
            "\n",
            "\n",
            "input: kiadó\n",
            "guess: k i j ɒ d oː\n",
            "truth: k i j ɒ d oː\n",
            "\n",
            "input: felkavaró\n",
            "guess: f ɛ l k ɒ v ɒ r oː\n",
            "truth: f ɛ l k ɒ v ɒ r oː\n",
            "\n"
          ]
        },
        {
          "output_type": "stream",
          "name": "stderr",
          "text": [
            "0.00:  35%|███▌      | 44/125 [00:02<00:05, 16.13it/s]"
          ]
        },
        {
          "output_type": "stream",
          "name": "stdout",
          "text": [
            "\n",
            "\n",
            "input: derült\n",
            "guess: d ɛ r y l t\n",
            "truth: d ɛ r y l t\n",
            "\n",
            "input: vonattal\n",
            "guess: v o n ɒ tː ɒ l\n",
            "truth: v o n ɒ tː ɒ l\n",
            "\n"
          ]
        },
        {
          "output_type": "stream",
          "name": "stderr",
          "text": [
            "0.00:  52%|█████▏    | 65/125 [00:03<00:03, 16.03it/s]"
          ]
        },
        {
          "output_type": "stream",
          "name": "stdout",
          "text": [
            "\n",
            "\n",
            "input: fáitok\n",
            "guess: f aː j i t o k\n",
            "truth: f aː j i t o k\n",
            "\n",
            "input: földterület\n",
            "guess: f ø l t ɛ r y l ɛ t\n",
            "truth: f ø l t ɛ r y l ɛ t\n",
            "\n"
          ]
        },
        {
          "output_type": "stream",
          "name": "stderr",
          "text": [
            "0.01:  67%|██████▋   | 84/125 [00:04<00:02, 16.43it/s]"
          ]
        },
        {
          "output_type": "stream",
          "name": "stdout",
          "text": [
            "\n",
            "\n",
            "input: amnesztia\n",
            "guess: ɒ m ɛ s i j ɒ\n",
            "truth: ɒ m n ɛ s t i j ɒ\n",
            "\n",
            "input: réka\n",
            "guess: r eː k ɒ\n",
            "truth: r eː k ɒ\n",
            "\n"
          ]
        },
        {
          "output_type": "stream",
          "name": "stderr",
          "text": [
            "0.01:  85%|████████▍ | 106/125 [00:06<00:01, 16.93it/s]"
          ]
        },
        {
          "output_type": "stream",
          "name": "stdout",
          "text": [
            "\n",
            "\n",
            "input: szövegben\n",
            "guess: s ø v ɛ ɡ b ɛ n\n",
            "truth: s ø v ɛ ɡ b ɛ n\n",
            "\n",
            "input: járat\n",
            "guess: j aː r ɒ t\n",
            "truth: j aː r ɒ t\n",
            "\n"
          ]
        },
        {
          "output_type": "stream",
          "name": "stderr",
          "text": [
            "0.01: 100%|██████████| 125/125 [00:07<00:00, 17.67it/s]"
          ]
        },
        {
          "output_type": "stream",
          "name": "stdout",
          "text": [
            "\n",
            "\n",
            "input: hasznosítás\n",
            "guess: h ɒ s n o ʃ iː t aː ʃ\n",
            "truth: h ɒ s n o ʃ iː t aː ʃ\n",
            "\n",
            "input: szélesebb\n",
            "guess: s eː l ɛ ʃ ɛ bː\n",
            "truth: s eː l ɛ ʃ ɛ bː\n",
            "\n"
          ]
        },
        {
          "output_type": "stream",
          "name": "stderr",
          "text": [
            "\n",
            "0.01:   0%|          | 0/16 [00:00<?, ?it/s]"
          ]
        },
        {
          "output_type": "stream",
          "name": "stdout",
          "text": [
            "\n",
            "\n",
            "input: hetedik\n"
          ]
        },
        {
          "output_type": "stream",
          "name": "stderr",
          "text": [
            "0.01:   6%|▋         | 1/16 [00:00<00:06,  2.37it/s]"
          ]
        },
        {
          "output_type": "stream",
          "name": "stdout",
          "text": [
            "guess: h ɛ t ɛ d i k\n",
            "truth: h ɛ t ɛ d i k\n",
            "\n",
            "\n",
            "\n",
            "input: jelent\n"
          ]
        },
        {
          "output_type": "stream",
          "name": "stderr",
          "text": [
            "0.16:  12%|█▎        | 2/16 [00:00<00:05,  2.62it/s]"
          ]
        },
        {
          "output_type": "stream",
          "name": "stdout",
          "text": [
            "guess: j ɛ l ɛ n t\n",
            "truth: j ɛ l ɛ n t\n",
            "\n",
            "\n",
            "\n",
            "input: sztálin\n"
          ]
        },
        {
          "output_type": "stream",
          "name": "stderr",
          "text": [
            "0.00:  19%|█▉        | 3/16 [00:01<00:04,  2.64it/s]"
          ]
        },
        {
          "output_type": "stream",
          "name": "stdout",
          "text": [
            "guess: s aː l i n\n",
            "truth: s t aː l i n\n",
            "\n",
            "\n",
            "\n",
            "input: esetek\n"
          ]
        },
        {
          "output_type": "stream",
          "name": "stderr",
          "text": [
            "0.02:  25%|██▌       | 4/16 [00:01<00:04,  2.72it/s]"
          ]
        },
        {
          "output_type": "stream",
          "name": "stdout",
          "text": [
            "guess: ɛ ʃ ɛ t ɛ k\n",
            "truth: ɛ ʃ ɛ t ɛ k\n",
            "\n",
            "\n",
            "\n",
            "input: tízezer\n"
          ]
        },
        {
          "output_type": "stream",
          "name": "stderr",
          "text": [
            "0.03:  31%|███▏      | 5/16 [00:01<00:03,  2.77it/s]"
          ]
        },
        {
          "output_type": "stream",
          "name": "stdout",
          "text": [
            "guess: t iː\n",
            "truth: t iː z ɛ z ɛ r\n",
            "\n",
            "\n",
            "\n",
            "input: modern\n"
          ]
        },
        {
          "output_type": "stream",
          "name": "stderr",
          "text": [
            "0.01:  38%|███▊      | 6/16 [00:02<00:03,  2.80it/s]"
          ]
        },
        {
          "output_type": "stream",
          "name": "stdout",
          "text": [
            "guess: m o d ɛ r\n",
            "truth: m o d ɛ r n\n",
            "\n",
            "\n",
            "\n",
            "input: lényeget\n"
          ]
        },
        {
          "output_type": "stream",
          "name": "stderr",
          "text": [
            "0.01:  44%|████▍     | 7/16 [00:02<00:03,  2.83it/s]"
          ]
        },
        {
          "output_type": "stream",
          "name": "stdout",
          "text": [
            "guess: l eː ɲ ɛ ɡ ɛ t\n",
            "truth: l eː ɲ ɛ ɡ ɛ t\n",
            "\n",
            "\n",
            "\n",
            "input: ásványi\n"
          ]
        },
        {
          "output_type": "stream",
          "name": "stderr",
          "text": [
            "0.01:  50%|█████     | 8/16 [00:02<00:02,  2.84it/s]"
          ]
        },
        {
          "output_type": "stream",
          "name": "stdout",
          "text": [
            "guess: aː ʃ aː ɲ i\n",
            "truth: aː ʃ v aː ɲ i\n",
            "\n",
            "\n",
            "\n",
            "input: egészségügyi\n"
          ]
        },
        {
          "output_type": "stream",
          "name": "stderr",
          "text": [
            "0.20:  56%|█████▋    | 9/16 [00:03<00:02,  2.79it/s]"
          ]
        },
        {
          "output_type": "stream",
          "name": "stdout",
          "text": [
            "guess: ɛ ɡ eː ʃː eː ɡ y ɟ i\n",
            "truth: ɛ ɡ eː ʃː eː ɡ y ɟ i\n",
            "\n",
            "\n",
            "\n",
            "input: művet\n"
          ]
        },
        {
          "output_type": "stream",
          "name": "stderr",
          "text": [
            "0.01:  62%|██████▎   | 10/16 [00:03<00:02,  2.84it/s]"
          ]
        },
        {
          "output_type": "stream",
          "name": "stdout",
          "text": [
            "guess: m yː\n",
            "truth: m yː v ɛ t\n",
            "\n",
            "\n",
            "\n",
            "input: vélem\n"
          ]
        },
        {
          "output_type": "stream",
          "name": "stderr",
          "text": [
            "0.00:  69%|██████▉   | 11/16 [00:03<00:01,  2.90it/s]"
          ]
        },
        {
          "output_type": "stream",
          "name": "stdout",
          "text": [
            "guess: v eː l ɛ m\n",
            "truth: v eː l ɛ m\n",
            "\n",
            "\n",
            "\n",
            "input: legapróbb\n"
          ]
        },
        {
          "output_type": "stream",
          "name": "stderr",
          "text": [
            "0.10:  75%|███████▌  | 12/16 [00:04<00:01,  2.82it/s]"
          ]
        },
        {
          "output_type": "stream",
          "name": "stdout",
          "text": [
            "guess: l ɛ ɡ ɒ p r oː bː\n",
            "truth: l ɛ ɡ ɒ p r oː bː\n",
            "\n",
            "\n",
            "\n",
            "input: divatos\n"
          ]
        },
        {
          "output_type": "stream",
          "name": "stderr",
          "text": [
            "0.05:  81%|████████▏ | 13/16 [00:04<00:01,  2.80it/s]"
          ]
        },
        {
          "output_type": "stream",
          "name": "stdout",
          "text": [
            "guess: d i v ɒ t o ʃ\n",
            "truth: d i v ɒ t o ʃ\n",
            "\n",
            "\n",
            "\n",
            "input: elkövetett\n"
          ]
        },
        {
          "output_type": "stream",
          "name": "stderr",
          "text": [
            "0.00:  88%|████████▊ | 14/16 [00:05<00:00,  2.85it/s]"
          ]
        },
        {
          "output_type": "stream",
          "name": "stdout",
          "text": [
            "guess: ɛ l ø v ɛ t ɛ tː\n",
            "truth: ɛ l k ø v ɛ t ɛ tː\n",
            "\n",
            "\n",
            "\n",
            "input: értékelése\n"
          ]
        },
        {
          "output_type": "stream",
          "name": "stderr",
          "text": [
            "0.00:  94%|█████████▍| 15/16 [00:05<00:00,  2.84it/s]"
          ]
        },
        {
          "output_type": "stream",
          "name": "stdout",
          "text": [
            "guess: eː r t eː k ɛ l eː ʃ ɛ\n",
            "truth: eː r t eː k ɛ l eː ʃ ɛ\n",
            "\n",
            "\n",
            "\n",
            "input: párbaj\n"
          ]
        },
        {
          "output_type": "stream",
          "name": "stderr",
          "text": [
            "0.00: 100%|██████████| 16/16 [00:05<00:00,  2.84it/s]\n"
          ]
        },
        {
          "output_type": "stream",
          "name": "stdout",
          "text": [
            "guess: p aː r b ɒ j\n",
            "truth: p aː r b ɒ j\n",
            "\n",
            "Epoch 17: train loss = 0.013609, test loss = 0.039923\n"
          ]
        },
        {
          "output_type": "stream",
          "name": "stderr",
          "text": [
            "0.01:   3%|▎         | 4/125 [00:00<00:14,  8.40it/s]"
          ]
        },
        {
          "output_type": "stream",
          "name": "stdout",
          "text": [
            "\n",
            "\n",
            "input: mindenütt\n",
            "guess: m i n d ɛ n y t\n",
            "truth: m i n d ɛ n y tː\n",
            "\n",
            "input: évtizede\n",
            "guess: eː f i z ɛ d ɛ\n",
            "truth: eː f t i z ɛ d ɛ\n",
            "\n"
          ]
        },
        {
          "output_type": "stream",
          "name": "stderr",
          "text": [
            "0.01:  20%|██        | 25/125 [00:01<00:06, 15.89it/s]"
          ]
        },
        {
          "output_type": "stream",
          "name": "stdout",
          "text": [
            "\n",
            "\n",
            "input: jó\n",
            "guess: j oː\n",
            "truth: j oː\n",
            "\n",
            "input: nulla\n",
            "guess: n u\n",
            "truth: n u lː ɒ\n",
            "\n"
          ]
        },
        {
          "output_type": "stream",
          "name": "stderr",
          "text": [
            "0.02:  35%|███▌      | 44/125 [00:02<00:04, 16.23it/s]"
          ]
        },
        {
          "output_type": "stream",
          "name": "stdout",
          "text": [
            "\n",
            "\n",
            "input: amelyekkel\n",
            "guess: ɒ m ɛ j ɛ kː ɛ l\n",
            "truth: ɒ m ɛ j ɛ kː ɛ l\n",
            "\n",
            "input: kiváló\n",
            "guess: k i v aː l oː\n",
            "truth: k i v aː l oː\n",
            "\n"
          ]
        },
        {
          "output_type": "stream",
          "name": "stderr",
          "text": [
            "0.00:  52%|█████▏    | 65/125 [00:03<00:03, 15.75it/s]"
          ]
        },
        {
          "output_type": "stream",
          "name": "stdout",
          "text": [
            "\n",
            "\n",
            "input: mentél\n",
            "guess: m ɛ n t eː l\n",
            "truth: m ɛ n t eː l\n",
            "\n",
            "input: gamma\n",
            "guess: ɡ ɒ mː ɒ\n",
            "truth: ɡ ɒ mː ɒ\n",
            "\n"
          ]
        },
        {
          "output_type": "stream",
          "name": "stderr",
          "text": [
            "0.00:  69%|██████▉   | 86/125 [00:04<00:02, 16.42it/s]"
          ]
        },
        {
          "output_type": "stream",
          "name": "stdout",
          "text": [
            "\n",
            "\n",
            "input: dzsudzsák\n",
            "guess: d͡ʒ aː k\n",
            "truth: d͡ʒ u d͡ʒ aː k\n",
            "\n",
            "input: transzszexuális\n",
            "guess: t r ɒ n s ɛ k s u aː l i ʃ\n",
            "truth: t r ɒ n s ɛ k s u aː l i ʃ\n",
            "\n"
          ]
        },
        {
          "output_type": "stream",
          "name": "stderr",
          "text": [
            "0.02:  84%|████████▍ | 105/125 [00:05<00:01, 16.76it/s]"
          ]
        },
        {
          "output_type": "stream",
          "name": "stdout",
          "text": [
            "\n",
            "\n",
            "input: sebességet\n",
            "guess: ʃ ɛ b ɛ ʃː eː ɡ ɛ t\n",
            "truth: ʃ ɛ b ɛ ʃː eː ɡ ɛ t\n",
            "\n",
            "input: amióta\n",
            "guess: ɒ m i j oː t ɒ\n",
            "truth: ɒ m i j oː t ɒ\n",
            "\n"
          ]
        },
        {
          "output_type": "stream",
          "name": "stderr",
          "text": [
            "0.01: 100%|██████████| 125/125 [00:07<00:00, 17.85it/s]\n"
          ]
        },
        {
          "output_type": "stream",
          "name": "stdout",
          "text": [
            "\n",
            "\n",
            "input: magyarországról\n",
            "guess: m ɒ ɟ ɒ r o r s aː ɡ r oː l\n",
            "truth: m ɒ ɟ ɒ r o r s aː ɡ r oː l\n",
            "\n",
            "input: belga\n",
            "guess: b ɛ l ɒ\n",
            "truth: b ɛ l ɡ ɒ\n",
            "\n"
          ]
        },
        {
          "output_type": "stream",
          "name": "stderr",
          "text": [
            "0.03:   0%|          | 0/16 [00:00<?, ?it/s]"
          ]
        },
        {
          "output_type": "stream",
          "name": "stdout",
          "text": [
            "\n",
            "\n",
            "input: nézni\n"
          ]
        },
        {
          "output_type": "stream",
          "name": "stderr",
          "text": [
            "0.00:   6%|▋         | 1/16 [00:00<00:06,  2.36it/s]"
          ]
        },
        {
          "output_type": "stream",
          "name": "stdout",
          "text": [
            "guess: n eː z n i\n",
            "truth: n eː z n i\n",
            "\n",
            "\n",
            "\n",
            "input: magyar\n"
          ]
        },
        {
          "output_type": "stream",
          "name": "stderr",
          "text": [
            "0.01:  12%|█▎        | 2/16 [00:00<00:05,  2.63it/s]"
          ]
        },
        {
          "output_type": "stream",
          "name": "stdout",
          "text": [
            "guess: m ɒ ɟ ɒ r\n",
            "truth: m ɒ ɟ ɒ r\n",
            "\n",
            "\n",
            "\n",
            "input: néhol\n"
          ]
        },
        {
          "output_type": "stream",
          "name": "stderr",
          "text": [
            "0.02:  19%|█▉        | 3/16 [00:01<00:04,  2.80it/s]"
          ]
        },
        {
          "output_type": "stream",
          "name": "stdout",
          "text": [
            "guess: n eː ɦ o l\n",
            "truth: n eː ɦ o l\n",
            "\n",
            "\n",
            "\n",
            "input: öreg\n"
          ]
        },
        {
          "output_type": "stream",
          "name": "stderr",
          "text": [
            "0.17:  25%|██▌       | 4/16 [00:01<00:04,  2.84it/s]"
          ]
        },
        {
          "output_type": "stream",
          "name": "stdout",
          "text": [
            "guess: ø r ɛ ɡ\n",
            "truth: ø r ɛ ɡ\n",
            "\n",
            "\n",
            "\n",
            "input: térhez\n"
          ]
        },
        {
          "output_type": "stream",
          "name": "stderr",
          "text": [
            "0.06:  31%|███▏      | 5/16 [00:01<00:03,  2.75it/s]"
          ]
        },
        {
          "output_type": "stream",
          "name": "stdout",
          "text": [
            "guess: t eː r ɦ ɛ z\n",
            "truth: t eː r ɦ ɛ z\n",
            "\n",
            "\n",
            "\n",
            "input: üzenetet\n"
          ]
        },
        {
          "output_type": "stream",
          "name": "stderr",
          "text": [
            "0.01:  38%|███▊      | 6/16 [00:02<00:03,  2.73it/s]"
          ]
        },
        {
          "output_type": "stream",
          "name": "stdout",
          "text": [
            "guess: y z ɛ n ɛ t ɛ t\n",
            "truth: y z ɛ n ɛ t ɛ t\n",
            "\n",
            "\n",
            "\n",
            "input: szintet\n"
          ]
        },
        {
          "output_type": "stream",
          "name": "stderr",
          "text": [
            "0.10:  44%|████▍     | 7/16 [00:02<00:03,  2.84it/s]"
          ]
        },
        {
          "output_type": "stream",
          "name": "stdout",
          "text": [
            "guess: s i n t ɛ t\n",
            "truth: s i n t ɛ t\n",
            "\n",
            "\n",
            "\n",
            "input: rizs\n"
          ]
        },
        {
          "output_type": "stream",
          "name": "stderr",
          "text": [
            "0.00:  50%|█████     | 8/16 [00:02<00:02,  2.78it/s]"
          ]
        },
        {
          "output_type": "stream",
          "name": "stdout",
          "text": [
            "guess: r i ʒ\n",
            "truth: r i ʒ\n",
            "\n",
            "\n",
            "\n",
            "input: tételek\n"
          ]
        },
        {
          "output_type": "stream",
          "name": "stderr",
          "text": [
            "0.00:  56%|█████▋    | 9/16 [00:03<00:02,  2.79it/s]"
          ]
        },
        {
          "output_type": "stream",
          "name": "stdout",
          "text": [
            "guess: t eː t ɛ l ɛ k\n",
            "truth: t eː t ɛ l ɛ k\n",
            "\n",
            "\n",
            "\n",
            "input: szakszervezetek\n"
          ]
        },
        {
          "output_type": "stream",
          "name": "stderr",
          "text": [
            "0.15:  62%|██████▎   | 10/16 [00:03<00:02,  2.80it/s]"
          ]
        },
        {
          "output_type": "stream",
          "name": "stdout",
          "text": [
            "guess: s ɒ k ɛ r v ɛ z ɛ t ɛ k\n",
            "truth: s ɒ k s ɛ r v ɛ z ɛ t ɛ k\n",
            "\n",
            "\n",
            "\n",
            "input: szerelvények\n"
          ]
        },
        {
          "output_type": "stream",
          "name": "stderr",
          "text": [
            "0.02:  69%|██████▉   | 11/16 [00:03<00:01,  2.82it/s]"
          ]
        },
        {
          "output_type": "stream",
          "name": "stdout",
          "text": [
            "guess: s ɛ r ɛ l v eː ɲ ɛ k\n",
            "truth: s ɛ r ɛ l v eː ɲ ɛ k\n",
            "\n",
            "\n",
            "\n",
            "input: felülkerekedik\n"
          ]
        },
        {
          "output_type": "stream",
          "name": "stderr",
          "text": [
            "0.00:  75%|███████▌  | 12/16 [00:04<00:01,  2.84it/s]"
          ]
        },
        {
          "output_type": "stream",
          "name": "stdout",
          "text": [
            "guess: f ɛ l y l k ɛ r ɛ k ɛ d i k\n",
            "truth: f ɛ l y l k ɛ r ɛ k ɛ d i k\n",
            "\n",
            "\n",
            "\n",
            "input: nyelvért\n"
          ]
        },
        {
          "output_type": "stream",
          "name": "stderr",
          "text": [
            "0.00:  81%|████████▏ | 13/16 [00:04<00:01,  2.84it/s]"
          ]
        },
        {
          "output_type": "stream",
          "name": "stdout",
          "text": [
            "guess: ɲ ɛ l v eː r t\n",
            "truth: ɲ ɛ l v eː r t\n",
            "\n",
            "\n",
            "\n",
            "input: máskor\n"
          ]
        },
        {
          "output_type": "stream",
          "name": "stderr",
          "text": [
            "0.04:  88%|████████▊ | 14/16 [00:05<00:00,  2.85it/s]"
          ]
        },
        {
          "output_type": "stream",
          "name": "stdout",
          "text": [
            "guess: m aː ʃ k o r\n",
            "truth: m aː ʃ k o r\n",
            "\n",
            "\n",
            "\n",
            "input: összegek\n"
          ]
        },
        {
          "output_type": "stream",
          "name": "stderr",
          "text": [
            "0.00:  94%|█████████▍| 15/16 [00:05<00:00,  2.83it/s]"
          ]
        },
        {
          "output_type": "stream",
          "name": "stdout",
          "text": [
            "guess: ø sː ɛ ɡ ɛ k\n",
            "truth: ø sː ɛ ɡ ɛ k\n",
            "\n",
            "\n",
            "\n",
            "input: közgyűlés\n"
          ]
        },
        {
          "output_type": "stream",
          "name": "stderr",
          "text": [
            "0.00: 100%|██████████| 16/16 [00:05<00:00,  2.83it/s]\n"
          ]
        },
        {
          "output_type": "stream",
          "name": "stdout",
          "text": [
            "guess: k ø z yː l eː ʃ\n",
            "truth: k ø z ɟ yː l eː ʃ\n",
            "\n",
            "Epoch 18: train loss = 0.012616, test loss = 0.039960\n"
          ]
        },
        {
          "output_type": "stream",
          "name": "stderr",
          "text": [
            "0.00:   3%|▎         | 4/125 [00:00<00:14,  8.21it/s]"
          ]
        },
        {
          "output_type": "stream",
          "name": "stdout",
          "text": [
            "\n",
            "\n",
            "input: eszközök\n",
            "guess: ɛ s ø z ø k\n",
            "truth: ɛ s k ø z ø k\n",
            "\n",
            "input: holott\n",
            "guess: h o l o tː\n",
            "truth: h o l o tː\n",
            "\n"
          ]
        },
        {
          "output_type": "stream",
          "name": "stderr",
          "text": [
            "0.01:  20%|██        | 25/125 [00:01<00:06, 15.14it/s]"
          ]
        },
        {
          "output_type": "stream",
          "name": "stdout",
          "text": [
            "\n",
            "\n",
            "input: hercegnőnek\n",
            "guess: h ɛ r t͡s ɛ ɡ n øː n ɛ k\n",
            "truth: h ɛ r t͡s ɛ ɡ n øː n ɛ k\n",
            "\n",
            "input: támogatási\n",
            "guess: t aː m o ɡ ɒ t aː ʃ i\n",
            "truth: t aː m o ɡ ɒ t aː ʃ i\n",
            "\n"
          ]
        },
        {
          "output_type": "stream",
          "name": "stderr",
          "text": [
            "0.03:  37%|███▋      | 46/125 [00:02<00:04, 16.48it/s]"
          ]
        },
        {
          "output_type": "stream",
          "name": "stdout",
          "text": [
            "\n",
            "\n",
            "input: logikus\n",
            "guess: l o ɡ i k u ʃ\n",
            "truth: l o ɡ i k u ʃ\n",
            "\n",
            "input: kiváltság\n",
            "guess: k i v aː l aː ɡ\n",
            "truth: k i v aː l t͡ʃ aː ɡ\n",
            "\n"
          ]
        },
        {
          "output_type": "stream",
          "name": "stderr",
          "text": [
            "0.01:  51%|█████     | 64/125 [00:03<00:03, 15.93it/s]"
          ]
        },
        {
          "output_type": "stream",
          "name": "stdout",
          "text": [
            "\n",
            "\n",
            "input: bevétel\n",
            "guess: b ɛ v eː t ɛ l\n",
            "truth: b ɛ v eː t ɛ l\n",
            "\n",
            "input: miként\n",
            "guess: m i k eː n t\n",
            "truth: m i k eː n t\n",
            "\n"
          ]
        },
        {
          "output_type": "stream",
          "name": "stderr",
          "text": [
            "0.01:  68%|██████▊   | 85/125 [00:04<00:02, 16.30it/s]"
          ]
        },
        {
          "output_type": "stream",
          "name": "stdout",
          "text": [
            "\n",
            "\n",
            "input: turista\n",
            "guess: t u r i ʃ t ɒ\n",
            "truth: t u r i ʃ t ɒ\n",
            "\n",
            "input: adósok\n",
            "guess: ɒ d oː ʃ o k\n",
            "truth: ɒ d oː ʃ o k\n",
            "\n"
          ]
        },
        {
          "output_type": "stream",
          "name": "stderr",
          "text": [
            "0.01:  85%|████████▍ | 106/125 [00:06<00:01, 16.02it/s]"
          ]
        },
        {
          "output_type": "stream",
          "name": "stdout",
          "text": [
            "\n",
            "\n",
            "input: egymással\n",
            "guess: ɛ ɟ aː ʃː ɒ l\n",
            "truth: ɛ ɟ m aː ʃː ɒ l\n",
            "\n",
            "input: rámutat\n",
            "guess: r aː m u t ɒ t\n",
            "truth: r aː m u t ɒ t\n",
            "\n"
          ]
        },
        {
          "output_type": "stream",
          "name": "stderr",
          "text": [
            "0.01:  99%|█████████▉| 124/125 [00:07<00:00, 15.53it/s]"
          ]
        },
        {
          "output_type": "stream",
          "name": "stdout",
          "text": [
            "\n",
            "\n",
            "input: másokkal\n",
            "guess: m aː ʃ o kː ɒ l\n",
            "truth: m aː ʃ o kː ɒ l\n",
            "\n",
            "input: írója\n",
            "guess: iː r oː j ɒ\n",
            "truth: iː r oː j ɒ\n",
            "\n"
          ]
        },
        {
          "output_type": "stream",
          "name": "stderr",
          "text": [
            "0.01: 100%|██████████| 125/125 [00:07<00:00, 17.57it/s]\n",
            "0.01:   0%|          | 0/16 [00:00<?, ?it/s]"
          ]
        },
        {
          "output_type": "stream",
          "name": "stdout",
          "text": [
            "\n",
            "\n",
            "input: postai\n"
          ]
        },
        {
          "output_type": "stream",
          "name": "stderr",
          "text": [
            "0.02:   6%|▋         | 1/16 [00:00<00:06,  2.30it/s]"
          ]
        },
        {
          "output_type": "stream",
          "name": "stdout",
          "text": [
            "guess: p o ʃ t ɒ j i\n",
            "truth: p o ʃ t ɒ j i\n",
            "\n",
            "\n",
            "\n",
            "input: ladik\n"
          ]
        },
        {
          "output_type": "stream",
          "name": "stderr",
          "text": [
            "0.02:  12%|█▎        | 2/16 [00:00<00:05,  2.58it/s]"
          ]
        },
        {
          "output_type": "stream",
          "name": "stdout",
          "text": [
            "guess: l ɒ d i k\n",
            "truth: l ɒ d i k\n",
            "\n",
            "\n",
            "\n",
            "input: külföldi\n"
          ]
        },
        {
          "output_type": "stream",
          "name": "stderr",
          "text": [
            "0.14:  19%|█▉        | 3/16 [00:01<00:05,  2.52it/s]"
          ]
        },
        {
          "output_type": "stream",
          "name": "stdout",
          "text": [
            "guess: k y l ø l i\n",
            "truth: k y l f ø l d i\n",
            "\n",
            "\n",
            "\n",
            "input: oktató\n"
          ]
        },
        {
          "output_type": "stream",
          "name": "stderr",
          "text": [
            "0.17:  25%|██▌       | 4/16 [00:01<00:04,  2.68it/s]"
          ]
        },
        {
          "output_type": "stream",
          "name": "stdout",
          "text": [
            "guess: o k t ɒ t oː\n",
            "truth: o k t ɒ t oː\n",
            "\n",
            "\n",
            "\n",
            "input: kívánja\n"
          ]
        },
        {
          "output_type": "stream",
          "name": "stderr",
          "text": [
            "0.02:  31%|███▏      | 5/16 [00:01<00:04,  2.75it/s]"
          ]
        },
        {
          "output_type": "stream",
          "name": "stdout",
          "text": [
            "guess: k iː v aː ɲː ɒ\n",
            "truth: k iː v aː ɲː ɒ\n",
            "\n",
            "\n",
            "\n",
            "input: teremteni\n"
          ]
        },
        {
          "output_type": "stream",
          "name": "stderr",
          "text": [
            "0.03:  38%|███▊      | 6/16 [00:02<00:03,  2.70it/s]"
          ]
        },
        {
          "output_type": "stream",
          "name": "stdout",
          "text": [
            "guess: t ɛ r ɛ m t ɛ n i\n",
            "truth: t ɛ r ɛ m t ɛ n i\n",
            "\n",
            "\n",
            "\n",
            "input: nagykanizsa\n"
          ]
        },
        {
          "output_type": "stream",
          "name": "stderr",
          "text": [
            "0.12:  44%|████▍     | 7/16 [00:02<00:03,  2.71it/s]"
          ]
        },
        {
          "output_type": "stream",
          "name": "stdout",
          "text": [
            "guess: n ɒ c ɒ n i ʒ ɒ\n",
            "truth: n ɒ c k ɒ n i ʒ ɒ\n",
            "\n",
            "\n",
            "\n",
            "input: amelyre\n"
          ]
        },
        {
          "output_type": "stream",
          "name": "stderr",
          "text": [
            "0.06:  50%|█████     | 8/16 [00:03<00:02,  2.71it/s]"
          ]
        },
        {
          "output_type": "stream",
          "name": "stdout",
          "text": [
            "guess: ɒ m ɛ j r ɛ\n",
            "truth: ɒ m ɛ j r ɛ\n",
            "\n",
            "\n",
            "\n",
            "input: súlyosabb\n"
          ]
        },
        {
          "output_type": "stream",
          "name": "stderr",
          "text": [
            "0.00:  56%|█████▋    | 9/16 [00:03<00:02,  2.75it/s]"
          ]
        },
        {
          "output_type": "stream",
          "name": "stdout",
          "text": [
            "guess: ʃ uː j o ʃ ɒ bː\n",
            "truth: ʃ uː j o ʃ ɒ bː\n",
            "\n",
            "\n",
            "\n",
            "input: hangulatot\n"
          ]
        },
        {
          "output_type": "stream",
          "name": "stderr",
          "text": [
            "0.02:  62%|██████▎   | 10/16 [00:03<00:02,  2.73it/s]"
          ]
        },
        {
          "output_type": "stream",
          "name": "stdout",
          "text": [
            "guess: h ɒ ŋ ɡ u l ɒ t o t\n",
            "truth: h ɒ ŋ ɡ u l ɒ t o t\n",
            "\n",
            "\n",
            "\n",
            "input: kértünk\n"
          ]
        },
        {
          "output_type": "stream",
          "name": "stderr",
          "text": [
            "0.01:  69%|██████▉   | 11/16 [00:04<00:01,  2.75it/s]"
          ]
        },
        {
          "output_type": "stream",
          "name": "stdout",
          "text": [
            "guess: k eː r t y ŋ k\n",
            "truth: k eː r t y ŋ k\n",
            "\n",
            "\n",
            "\n",
            "input: büntetése\n"
          ]
        },
        {
          "output_type": "stream",
          "name": "stderr",
          "text": [
            "0.00:  75%|███████▌  | 12/16 [00:04<00:01,  2.73it/s]"
          ]
        },
        {
          "output_type": "stream",
          "name": "stdout",
          "text": [
            "guess: b y n t ɛ t eː ʃ ɛ\n",
            "truth: b y n t ɛ t eː ʃ ɛ\n",
            "\n",
            "\n",
            "\n",
            "input: adódik\n"
          ]
        },
        {
          "output_type": "stream",
          "name": "stderr",
          "text": [
            "0.01:  81%|████████▏ | 13/16 [00:04<00:01,  2.84it/s]"
          ]
        },
        {
          "output_type": "stream",
          "name": "stdout",
          "text": [
            "guess: ɒ d oː d i k\n",
            "truth: ɒ d oː d i k\n",
            "\n",
            "\n",
            "\n",
            "input: próba\n"
          ]
        },
        {
          "output_type": "stream",
          "name": "stderr",
          "text": [
            "0.00:  88%|████████▊ | 14/16 [00:05<00:00,  2.75it/s]"
          ]
        },
        {
          "output_type": "stream",
          "name": "stdout",
          "text": [
            "guess: p r oː b ɒ\n",
            "truth: p r oː b ɒ\n",
            "\n",
            "\n",
            "\n",
            "input: dolgok\n"
          ]
        },
        {
          "output_type": "stream",
          "name": "stderr",
          "text": [
            "0.01:  94%|█████████▍| 15/16 [00:05<00:00,  2.82it/s]"
          ]
        },
        {
          "output_type": "stream",
          "name": "stdout",
          "text": [
            "guess: d o l o k\n",
            "truth: d o l ɡ o k\n",
            "\n",
            "\n",
            "\n",
            "input: jóban\n"
          ]
        },
        {
          "output_type": "stream",
          "name": "stderr",
          "text": [
            "0.01: 100%|██████████| 16/16 [00:05<00:00,  2.77it/s]"
          ]
        },
        {
          "output_type": "stream",
          "name": "stdout",
          "text": [
            "guess: j oː b ɒ n\n",
            "truth: j oː b ɒ n\n",
            "\n",
            "Epoch 19: train loss = 0.011076, test loss = 0.040175\n"
          ]
        },
        {
          "output_type": "stream",
          "name": "stderr",
          "text": [
            "\n"
          ]
        }
      ]
    },
    {
      "cell_type": "code",
      "metadata": {
        "id": "qRahAWPoubyu",
        "colab": {
          "base_uri": "https://localhost:8080/"
        },
        "outputId": "890f5195-207f-485a-95bc-199f877d1077"
      },
      "source": [
        "print(train_losses)\n",
        "print(test_losses)"
      ],
      "execution_count": 39,
      "outputs": [
        {
          "output_type": "stream",
          "name": "stdout",
          "text": [
            "[3.7965379161834716, 2.1489966821670534, 0.5881670632362366, 0.23717922800779342, 0.13997820371389388, 0.09943667326867581, 0.07771902143955231, 0.061377854824066165, 0.05012591248750687, 0.04223234912753105, 0.036214521542191506, 0.030954163778573275, 0.026210884910076858, 0.023867902413010598, 0.020569807728752495, 0.018399599589407446, 0.01579626458324492, 0.01360920101776719, 0.012616449125111104, 0.011075866144150496]\n",
            "[3.0408279628753663, 1.050041361808777, 0.3059434094429016, 0.1581715569496155, 0.10778751868009567, 0.0812743023633957, 0.06967144238948822, 0.057519958436489105, 0.05249801413714886, 0.048249118618667125, 0.04558555785566568, 0.04222058665752411, 0.04033534550666809, 0.04333874249458313, 0.04080447668209672, 0.040461853824555874, 0.03995159102976322, 0.039922577600926164, 0.039960281191393734, 0.04017509805411101]\n"
          ]
        }
      ]
    },
    {
      "cell_type": "markdown",
      "metadata": {
        "id": "rLQKw4kmFj3S"
      },
      "source": [
        "Let's test the model on a new sentence:"
      ]
    },
    {
      "cell_type": "code",
      "metadata": {
        "colab": {
          "base_uri": "https://localhost:8080/"
        },
        "id": "zhH5lYdyEazJ",
        "outputId": "bfbc6736-71c6-44fc-8e99-38daf0c7d385"
      },
      "source": [
        "test_output = \"ɒ d m i n i s t r aː t o r n ɒ k\"\n",
        "test_input = \"adminisztrátornak\"\n",
        "print(\"input: \" + test_input)\n",
        "x = torch.tensor(encode_src(test_input)).unsqueeze(0).to(model.device)\n",
        "y = torch.tensor(encode_tgt(test_output)).unsqueeze(0).to(model.device)\n",
        "T = torch.tensor([x.shape[1]]).to(model.device)\n",
        "U = torch.tensor([y.shape[1]]).to(model.device)\n",
        "guess = model.greedy_search(x,T)[0]\n",
        "print(\"truth: \" + test_output)\n",
        "print(\"guess: \" + decode_tgt(guess))\n",
        "print(\"\")\n",
        "y_guess = torch.tensor(guess).unsqueeze(0).to(model.device)\n",
        "U_guess = torch.tensor(len(guess)).unsqueeze(0).to(model.device)\n",
        "\n",
        "print(\"NLL of truth: \" + str(model.compute_loss(x, y, T, U)))\n",
        "print(\"NLL of guess: \" + str(model.compute_loss(x, y_guess, T, U_guess)))"
      ],
      "execution_count": 40,
      "outputs": [
        {
          "output_type": "stream",
          "name": "stdout",
          "text": [
            "input: adminisztrátornak\n",
            "truth: ɒ d m i n i s t r aː t o r n ɒ k\n",
            "guess: ɒ d i n i s t r aː t o r n ɒ k\n",
            "\n",
            "NLL of truth: tensor(0.0012, device='cuda:0', grad_fn=<TransducerBackward>)\n",
            "NLL of guess: tensor(0.4555, device='cuda:0', grad_fn=<TransducerBackward>)\n"
          ]
        }
      ]
    },
    {
      "cell_type": "markdown",
      "metadata": {
        "id": "ET__-ItZD8eA"
      },
      "source": [
        "Observe that the negative log-likelihood of the guess is actually worse than that of the true label sequence (AKA, a \"[search error](https://www.aclweb.org/anthology/D19-1331.pdf)\"). This suggests that we could get better results using a beam search instead of the greedy search."
      ]
    }
  ]
}